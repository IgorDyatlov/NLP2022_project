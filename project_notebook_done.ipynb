{
  "nbformat": 4,
  "nbformat_minor": 0,
  "metadata": {
    "colab": {
      "provenance": []
    },
    "kernelspec": {
      "name": "python3",
      "display_name": "Python 3"
    },
    "language_info": {
      "name": "python"
    },
    "widgets": {
      "application/vnd.jupyter.widget-state+json": {
        "f468c17a9bed4af2aa44f7b2e8a83855": {
          "model_module": "@jupyter-widgets/controls",
          "model_name": "HBoxModel",
          "model_module_version": "1.5.0",
          "state": {
            "_dom_classes": [],
            "_model_module": "@jupyter-widgets/controls",
            "_model_module_version": "1.5.0",
            "_model_name": "HBoxModel",
            "_view_count": null,
            "_view_module": "@jupyter-widgets/controls",
            "_view_module_version": "1.5.0",
            "_view_name": "HBoxView",
            "box_style": "",
            "children": [
              "IPY_MODEL_8c05807ed23c4d7390d83e48bb7c9d78",
              "IPY_MODEL_609c40045a434755b3f8f4b15c56e8d1",
              "IPY_MODEL_277d7edbae07465ba3389c525e62a314"
            ],
            "layout": "IPY_MODEL_1e64c69f1dc6499086b06a2bdbe83613"
          }
        },
        "8c05807ed23c4d7390d83e48bb7c9d78": {
          "model_module": "@jupyter-widgets/controls",
          "model_name": "HTMLModel",
          "model_module_version": "1.5.0",
          "state": {
            "_dom_classes": [],
            "_model_module": "@jupyter-widgets/controls",
            "_model_module_version": "1.5.0",
            "_model_name": "HTMLModel",
            "_view_count": null,
            "_view_module": "@jupyter-widgets/controls",
            "_view_module_version": "1.5.0",
            "_view_name": "HTMLView",
            "description": "",
            "description_tooltip": null,
            "layout": "IPY_MODEL_6124dc5e77fb4897b8600a92eb04e44c",
            "placeholder": "​",
            "style": "IPY_MODEL_eb9a6fb87f81497abb9c265c5eabccd8",
            "value": "Downloading https://raw.githubusercontent.com/stanfordnlp/stanza-resources/main/resources_1.4.1.json: "
          }
        },
        "609c40045a434755b3f8f4b15c56e8d1": {
          "model_module": "@jupyter-widgets/controls",
          "model_name": "FloatProgressModel",
          "model_module_version": "1.5.0",
          "state": {
            "_dom_classes": [],
            "_model_module": "@jupyter-widgets/controls",
            "_model_module_version": "1.5.0",
            "_model_name": "FloatProgressModel",
            "_view_count": null,
            "_view_module": "@jupyter-widgets/controls",
            "_view_module_version": "1.5.0",
            "_view_name": "ProgressView",
            "bar_style": "success",
            "description": "",
            "description_tooltip": null,
            "layout": "IPY_MODEL_72ad96434649487c9ee3cecb2e82974e",
            "max": 28918,
            "min": 0,
            "orientation": "horizontal",
            "style": "IPY_MODEL_f2d97f9d583645f3aab445d4c4154229",
            "value": 28918
          }
        },
        "277d7edbae07465ba3389c525e62a314": {
          "model_module": "@jupyter-widgets/controls",
          "model_name": "HTMLModel",
          "model_module_version": "1.5.0",
          "state": {
            "_dom_classes": [],
            "_model_module": "@jupyter-widgets/controls",
            "_model_module_version": "1.5.0",
            "_model_name": "HTMLModel",
            "_view_count": null,
            "_view_module": "@jupyter-widgets/controls",
            "_view_module_version": "1.5.0",
            "_view_name": "HTMLView",
            "description": "",
            "description_tooltip": null,
            "layout": "IPY_MODEL_325481726dcc4dd79d8b424bea24feb6",
            "placeholder": "​",
            "style": "IPY_MODEL_8bb5a897302848b494e640eb36265eba",
            "value": " 193k/? [00:00&lt;00:00, 5.20MB/s]"
          }
        },
        "1e64c69f1dc6499086b06a2bdbe83613": {
          "model_module": "@jupyter-widgets/base",
          "model_name": "LayoutModel",
          "model_module_version": "1.2.0",
          "state": {
            "_model_module": "@jupyter-widgets/base",
            "_model_module_version": "1.2.0",
            "_model_name": "LayoutModel",
            "_view_count": null,
            "_view_module": "@jupyter-widgets/base",
            "_view_module_version": "1.2.0",
            "_view_name": "LayoutView",
            "align_content": null,
            "align_items": null,
            "align_self": null,
            "border": null,
            "bottom": null,
            "display": null,
            "flex": null,
            "flex_flow": null,
            "grid_area": null,
            "grid_auto_columns": null,
            "grid_auto_flow": null,
            "grid_auto_rows": null,
            "grid_column": null,
            "grid_gap": null,
            "grid_row": null,
            "grid_template_areas": null,
            "grid_template_columns": null,
            "grid_template_rows": null,
            "height": null,
            "justify_content": null,
            "justify_items": null,
            "left": null,
            "margin": null,
            "max_height": null,
            "max_width": null,
            "min_height": null,
            "min_width": null,
            "object_fit": null,
            "object_position": null,
            "order": null,
            "overflow": null,
            "overflow_x": null,
            "overflow_y": null,
            "padding": null,
            "right": null,
            "top": null,
            "visibility": null,
            "width": null
          }
        },
        "6124dc5e77fb4897b8600a92eb04e44c": {
          "model_module": "@jupyter-widgets/base",
          "model_name": "LayoutModel",
          "model_module_version": "1.2.0",
          "state": {
            "_model_module": "@jupyter-widgets/base",
            "_model_module_version": "1.2.0",
            "_model_name": "LayoutModel",
            "_view_count": null,
            "_view_module": "@jupyter-widgets/base",
            "_view_module_version": "1.2.0",
            "_view_name": "LayoutView",
            "align_content": null,
            "align_items": null,
            "align_self": null,
            "border": null,
            "bottom": null,
            "display": null,
            "flex": null,
            "flex_flow": null,
            "grid_area": null,
            "grid_auto_columns": null,
            "grid_auto_flow": null,
            "grid_auto_rows": null,
            "grid_column": null,
            "grid_gap": null,
            "grid_row": null,
            "grid_template_areas": null,
            "grid_template_columns": null,
            "grid_template_rows": null,
            "height": null,
            "justify_content": null,
            "justify_items": null,
            "left": null,
            "margin": null,
            "max_height": null,
            "max_width": null,
            "min_height": null,
            "min_width": null,
            "object_fit": null,
            "object_position": null,
            "order": null,
            "overflow": null,
            "overflow_x": null,
            "overflow_y": null,
            "padding": null,
            "right": null,
            "top": null,
            "visibility": null,
            "width": null
          }
        },
        "eb9a6fb87f81497abb9c265c5eabccd8": {
          "model_module": "@jupyter-widgets/controls",
          "model_name": "DescriptionStyleModel",
          "model_module_version": "1.5.0",
          "state": {
            "_model_module": "@jupyter-widgets/controls",
            "_model_module_version": "1.5.0",
            "_model_name": "DescriptionStyleModel",
            "_view_count": null,
            "_view_module": "@jupyter-widgets/base",
            "_view_module_version": "1.2.0",
            "_view_name": "StyleView",
            "description_width": ""
          }
        },
        "72ad96434649487c9ee3cecb2e82974e": {
          "model_module": "@jupyter-widgets/base",
          "model_name": "LayoutModel",
          "model_module_version": "1.2.0",
          "state": {
            "_model_module": "@jupyter-widgets/base",
            "_model_module_version": "1.2.0",
            "_model_name": "LayoutModel",
            "_view_count": null,
            "_view_module": "@jupyter-widgets/base",
            "_view_module_version": "1.2.0",
            "_view_name": "LayoutView",
            "align_content": null,
            "align_items": null,
            "align_self": null,
            "border": null,
            "bottom": null,
            "display": null,
            "flex": null,
            "flex_flow": null,
            "grid_area": null,
            "grid_auto_columns": null,
            "grid_auto_flow": null,
            "grid_auto_rows": null,
            "grid_column": null,
            "grid_gap": null,
            "grid_row": null,
            "grid_template_areas": null,
            "grid_template_columns": null,
            "grid_template_rows": null,
            "height": null,
            "justify_content": null,
            "justify_items": null,
            "left": null,
            "margin": null,
            "max_height": null,
            "max_width": null,
            "min_height": null,
            "min_width": null,
            "object_fit": null,
            "object_position": null,
            "order": null,
            "overflow": null,
            "overflow_x": null,
            "overflow_y": null,
            "padding": null,
            "right": null,
            "top": null,
            "visibility": null,
            "width": null
          }
        },
        "f2d97f9d583645f3aab445d4c4154229": {
          "model_module": "@jupyter-widgets/controls",
          "model_name": "ProgressStyleModel",
          "model_module_version": "1.5.0",
          "state": {
            "_model_module": "@jupyter-widgets/controls",
            "_model_module_version": "1.5.0",
            "_model_name": "ProgressStyleModel",
            "_view_count": null,
            "_view_module": "@jupyter-widgets/base",
            "_view_module_version": "1.2.0",
            "_view_name": "StyleView",
            "bar_color": null,
            "description_width": ""
          }
        },
        "325481726dcc4dd79d8b424bea24feb6": {
          "model_module": "@jupyter-widgets/base",
          "model_name": "LayoutModel",
          "model_module_version": "1.2.0",
          "state": {
            "_model_module": "@jupyter-widgets/base",
            "_model_module_version": "1.2.0",
            "_model_name": "LayoutModel",
            "_view_count": null,
            "_view_module": "@jupyter-widgets/base",
            "_view_module_version": "1.2.0",
            "_view_name": "LayoutView",
            "align_content": null,
            "align_items": null,
            "align_self": null,
            "border": null,
            "bottom": null,
            "display": null,
            "flex": null,
            "flex_flow": null,
            "grid_area": null,
            "grid_auto_columns": null,
            "grid_auto_flow": null,
            "grid_auto_rows": null,
            "grid_column": null,
            "grid_gap": null,
            "grid_row": null,
            "grid_template_areas": null,
            "grid_template_columns": null,
            "grid_template_rows": null,
            "height": null,
            "justify_content": null,
            "justify_items": null,
            "left": null,
            "margin": null,
            "max_height": null,
            "max_width": null,
            "min_height": null,
            "min_width": null,
            "object_fit": null,
            "object_position": null,
            "order": null,
            "overflow": null,
            "overflow_x": null,
            "overflow_y": null,
            "padding": null,
            "right": null,
            "top": null,
            "visibility": null,
            "width": null
          }
        },
        "8bb5a897302848b494e640eb36265eba": {
          "model_module": "@jupyter-widgets/controls",
          "model_name": "DescriptionStyleModel",
          "model_module_version": "1.5.0",
          "state": {
            "_model_module": "@jupyter-widgets/controls",
            "_model_module_version": "1.5.0",
            "_model_name": "DescriptionStyleModel",
            "_view_count": null,
            "_view_module": "@jupyter-widgets/base",
            "_view_module_version": "1.2.0",
            "_view_name": "StyleView",
            "description_width": ""
          }
        },
        "93d78f6e2e4b41159cebc5dba1abca87": {
          "model_module": "@jupyter-widgets/controls",
          "model_name": "HBoxModel",
          "model_module_version": "1.5.0",
          "state": {
            "_dom_classes": [],
            "_model_module": "@jupyter-widgets/controls",
            "_model_module_version": "1.5.0",
            "_model_name": "HBoxModel",
            "_view_count": null,
            "_view_module": "@jupyter-widgets/controls",
            "_view_module_version": "1.5.0",
            "_view_name": "HBoxView",
            "box_style": "",
            "children": [
              "IPY_MODEL_91c8fc82552246789be242d0c929c65e",
              "IPY_MODEL_1415a441e1d84fecb120c9c20153cc08",
              "IPY_MODEL_d252a11e002148d596c8c11c0ab0ba83"
            ],
            "layout": "IPY_MODEL_64c895c91e5b46729d317b851667ad53"
          }
        },
        "91c8fc82552246789be242d0c929c65e": {
          "model_module": "@jupyter-widgets/controls",
          "model_name": "HTMLModel",
          "model_module_version": "1.5.0",
          "state": {
            "_dom_classes": [],
            "_model_module": "@jupyter-widgets/controls",
            "_model_module_version": "1.5.0",
            "_model_name": "HTMLModel",
            "_view_count": null,
            "_view_module": "@jupyter-widgets/controls",
            "_view_module_version": "1.5.0",
            "_view_name": "HTMLView",
            "description": "",
            "description_tooltip": null,
            "layout": "IPY_MODEL_8805528604fe40d89e042e01733d4968",
            "placeholder": "​",
            "style": "IPY_MODEL_44d94a86a6844a788d370e090db8dba6",
            "value": "Downloading https://huggingface.co/stanfordnlp/stanza-ru/resolve/v1.4.1/models/default.zip: 100%"
          }
        },
        "1415a441e1d84fecb120c9c20153cc08": {
          "model_module": "@jupyter-widgets/controls",
          "model_name": "FloatProgressModel",
          "model_module_version": "1.5.0",
          "state": {
            "_dom_classes": [],
            "_model_module": "@jupyter-widgets/controls",
            "_model_module_version": "1.5.0",
            "_model_name": "FloatProgressModel",
            "_view_count": null,
            "_view_module": "@jupyter-widgets/controls",
            "_view_module_version": "1.5.0",
            "_view_name": "ProgressView",
            "bar_style": "success",
            "description": "",
            "description_tooltip": null,
            "layout": "IPY_MODEL_b04c7d6697044995980ebaef15cb218d",
            "max": 597217093,
            "min": 0,
            "orientation": "horizontal",
            "style": "IPY_MODEL_d006645b69e74bccaf912a53fd48a2a3",
            "value": 597217093
          }
        },
        "d252a11e002148d596c8c11c0ab0ba83": {
          "model_module": "@jupyter-widgets/controls",
          "model_name": "HTMLModel",
          "model_module_version": "1.5.0",
          "state": {
            "_dom_classes": [],
            "_model_module": "@jupyter-widgets/controls",
            "_model_module_version": "1.5.0",
            "_model_name": "HTMLModel",
            "_view_count": null,
            "_view_module": "@jupyter-widgets/controls",
            "_view_module_version": "1.5.0",
            "_view_name": "HTMLView",
            "description": "",
            "description_tooltip": null,
            "layout": "IPY_MODEL_9102cf5c40d14407bd4713f02241b678",
            "placeholder": "​",
            "style": "IPY_MODEL_9da597f92a194a8cb264fa42083b8d9b",
            "value": " 597M/597M [00:11&lt;00:00, 69.4MB/s]"
          }
        },
        "64c895c91e5b46729d317b851667ad53": {
          "model_module": "@jupyter-widgets/base",
          "model_name": "LayoutModel",
          "model_module_version": "1.2.0",
          "state": {
            "_model_module": "@jupyter-widgets/base",
            "_model_module_version": "1.2.0",
            "_model_name": "LayoutModel",
            "_view_count": null,
            "_view_module": "@jupyter-widgets/base",
            "_view_module_version": "1.2.0",
            "_view_name": "LayoutView",
            "align_content": null,
            "align_items": null,
            "align_self": null,
            "border": null,
            "bottom": null,
            "display": null,
            "flex": null,
            "flex_flow": null,
            "grid_area": null,
            "grid_auto_columns": null,
            "grid_auto_flow": null,
            "grid_auto_rows": null,
            "grid_column": null,
            "grid_gap": null,
            "grid_row": null,
            "grid_template_areas": null,
            "grid_template_columns": null,
            "grid_template_rows": null,
            "height": null,
            "justify_content": null,
            "justify_items": null,
            "left": null,
            "margin": null,
            "max_height": null,
            "max_width": null,
            "min_height": null,
            "min_width": null,
            "object_fit": null,
            "object_position": null,
            "order": null,
            "overflow": null,
            "overflow_x": null,
            "overflow_y": null,
            "padding": null,
            "right": null,
            "top": null,
            "visibility": null,
            "width": null
          }
        },
        "8805528604fe40d89e042e01733d4968": {
          "model_module": "@jupyter-widgets/base",
          "model_name": "LayoutModel",
          "model_module_version": "1.2.0",
          "state": {
            "_model_module": "@jupyter-widgets/base",
            "_model_module_version": "1.2.0",
            "_model_name": "LayoutModel",
            "_view_count": null,
            "_view_module": "@jupyter-widgets/base",
            "_view_module_version": "1.2.0",
            "_view_name": "LayoutView",
            "align_content": null,
            "align_items": null,
            "align_self": null,
            "border": null,
            "bottom": null,
            "display": null,
            "flex": null,
            "flex_flow": null,
            "grid_area": null,
            "grid_auto_columns": null,
            "grid_auto_flow": null,
            "grid_auto_rows": null,
            "grid_column": null,
            "grid_gap": null,
            "grid_row": null,
            "grid_template_areas": null,
            "grid_template_columns": null,
            "grid_template_rows": null,
            "height": null,
            "justify_content": null,
            "justify_items": null,
            "left": null,
            "margin": null,
            "max_height": null,
            "max_width": null,
            "min_height": null,
            "min_width": null,
            "object_fit": null,
            "object_position": null,
            "order": null,
            "overflow": null,
            "overflow_x": null,
            "overflow_y": null,
            "padding": null,
            "right": null,
            "top": null,
            "visibility": null,
            "width": null
          }
        },
        "44d94a86a6844a788d370e090db8dba6": {
          "model_module": "@jupyter-widgets/controls",
          "model_name": "DescriptionStyleModel",
          "model_module_version": "1.5.0",
          "state": {
            "_model_module": "@jupyter-widgets/controls",
            "_model_module_version": "1.5.0",
            "_model_name": "DescriptionStyleModel",
            "_view_count": null,
            "_view_module": "@jupyter-widgets/base",
            "_view_module_version": "1.2.0",
            "_view_name": "StyleView",
            "description_width": ""
          }
        },
        "b04c7d6697044995980ebaef15cb218d": {
          "model_module": "@jupyter-widgets/base",
          "model_name": "LayoutModel",
          "model_module_version": "1.2.0",
          "state": {
            "_model_module": "@jupyter-widgets/base",
            "_model_module_version": "1.2.0",
            "_model_name": "LayoutModel",
            "_view_count": null,
            "_view_module": "@jupyter-widgets/base",
            "_view_module_version": "1.2.0",
            "_view_name": "LayoutView",
            "align_content": null,
            "align_items": null,
            "align_self": null,
            "border": null,
            "bottom": null,
            "display": null,
            "flex": null,
            "flex_flow": null,
            "grid_area": null,
            "grid_auto_columns": null,
            "grid_auto_flow": null,
            "grid_auto_rows": null,
            "grid_column": null,
            "grid_gap": null,
            "grid_row": null,
            "grid_template_areas": null,
            "grid_template_columns": null,
            "grid_template_rows": null,
            "height": null,
            "justify_content": null,
            "justify_items": null,
            "left": null,
            "margin": null,
            "max_height": null,
            "max_width": null,
            "min_height": null,
            "min_width": null,
            "object_fit": null,
            "object_position": null,
            "order": null,
            "overflow": null,
            "overflow_x": null,
            "overflow_y": null,
            "padding": null,
            "right": null,
            "top": null,
            "visibility": null,
            "width": null
          }
        },
        "d006645b69e74bccaf912a53fd48a2a3": {
          "model_module": "@jupyter-widgets/controls",
          "model_name": "ProgressStyleModel",
          "model_module_version": "1.5.0",
          "state": {
            "_model_module": "@jupyter-widgets/controls",
            "_model_module_version": "1.5.0",
            "_model_name": "ProgressStyleModel",
            "_view_count": null,
            "_view_module": "@jupyter-widgets/base",
            "_view_module_version": "1.2.0",
            "_view_name": "StyleView",
            "bar_color": null,
            "description_width": ""
          }
        },
        "9102cf5c40d14407bd4713f02241b678": {
          "model_module": "@jupyter-widgets/base",
          "model_name": "LayoutModel",
          "model_module_version": "1.2.0",
          "state": {
            "_model_module": "@jupyter-widgets/base",
            "_model_module_version": "1.2.0",
            "_model_name": "LayoutModel",
            "_view_count": null,
            "_view_module": "@jupyter-widgets/base",
            "_view_module_version": "1.2.0",
            "_view_name": "LayoutView",
            "align_content": null,
            "align_items": null,
            "align_self": null,
            "border": null,
            "bottom": null,
            "display": null,
            "flex": null,
            "flex_flow": null,
            "grid_area": null,
            "grid_auto_columns": null,
            "grid_auto_flow": null,
            "grid_auto_rows": null,
            "grid_column": null,
            "grid_gap": null,
            "grid_row": null,
            "grid_template_areas": null,
            "grid_template_columns": null,
            "grid_template_rows": null,
            "height": null,
            "justify_content": null,
            "justify_items": null,
            "left": null,
            "margin": null,
            "max_height": null,
            "max_width": null,
            "min_height": null,
            "min_width": null,
            "object_fit": null,
            "object_position": null,
            "order": null,
            "overflow": null,
            "overflow_x": null,
            "overflow_y": null,
            "padding": null,
            "right": null,
            "top": null,
            "visibility": null,
            "width": null
          }
        },
        "9da597f92a194a8cb264fa42083b8d9b": {
          "model_module": "@jupyter-widgets/controls",
          "model_name": "DescriptionStyleModel",
          "model_module_version": "1.5.0",
          "state": {
            "_model_module": "@jupyter-widgets/controls",
            "_model_module_version": "1.5.0",
            "_model_name": "DescriptionStyleModel",
            "_view_count": null,
            "_view_module": "@jupyter-widgets/base",
            "_view_module_version": "1.2.0",
            "_view_name": "StyleView",
            "description_width": ""
          }
        },
        "17e7d3f35cd749cd8ae7838cbccd2420": {
          "model_module": "@jupyter-widgets/controls",
          "model_name": "HBoxModel",
          "model_module_version": "1.5.0",
          "state": {
            "_dom_classes": [],
            "_model_module": "@jupyter-widgets/controls",
            "_model_module_version": "1.5.0",
            "_model_name": "HBoxModel",
            "_view_count": null,
            "_view_module": "@jupyter-widgets/controls",
            "_view_module_version": "1.5.0",
            "_view_name": "HBoxView",
            "box_style": "",
            "children": [
              "IPY_MODEL_12a1822622f1479f868c4c81cceee714",
              "IPY_MODEL_8e2af0852faa47e4a2a65b05822152c0",
              "IPY_MODEL_125696debc9240b68127e3e56e265911"
            ],
            "layout": "IPY_MODEL_87c41e7985304764ac6db289bcdffaf6"
          }
        },
        "12a1822622f1479f868c4c81cceee714": {
          "model_module": "@jupyter-widgets/controls",
          "model_name": "HTMLModel",
          "model_module_version": "1.5.0",
          "state": {
            "_dom_classes": [],
            "_model_module": "@jupyter-widgets/controls",
            "_model_module_version": "1.5.0",
            "_model_name": "HTMLModel",
            "_view_count": null,
            "_view_module": "@jupyter-widgets/controls",
            "_view_module_version": "1.5.0",
            "_view_name": "HTMLView",
            "description": "",
            "description_tooltip": null,
            "layout": "IPY_MODEL_b641db57f41147f6a2deaa1e1429e002",
            "placeholder": "​",
            "style": "IPY_MODEL_a350517738ce425dbc94f5a6f96780cc",
            "value": "Downloading https://raw.githubusercontent.com/stanfordnlp/stanza-resources/main/resources_1.4.1.json: "
          }
        },
        "8e2af0852faa47e4a2a65b05822152c0": {
          "model_module": "@jupyter-widgets/controls",
          "model_name": "FloatProgressModel",
          "model_module_version": "1.5.0",
          "state": {
            "_dom_classes": [],
            "_model_module": "@jupyter-widgets/controls",
            "_model_module_version": "1.5.0",
            "_model_name": "FloatProgressModel",
            "_view_count": null,
            "_view_module": "@jupyter-widgets/controls",
            "_view_module_version": "1.5.0",
            "_view_name": "ProgressView",
            "bar_style": "success",
            "description": "",
            "description_tooltip": null,
            "layout": "IPY_MODEL_743d256d401f4e9a9fc21f012d10e559",
            "max": 28918,
            "min": 0,
            "orientation": "horizontal",
            "style": "IPY_MODEL_e9c7d41ed2104825988105301424e48a",
            "value": 28918
          }
        },
        "125696debc9240b68127e3e56e265911": {
          "model_module": "@jupyter-widgets/controls",
          "model_name": "HTMLModel",
          "model_module_version": "1.5.0",
          "state": {
            "_dom_classes": [],
            "_model_module": "@jupyter-widgets/controls",
            "_model_module_version": "1.5.0",
            "_model_name": "HTMLModel",
            "_view_count": null,
            "_view_module": "@jupyter-widgets/controls",
            "_view_module_version": "1.5.0",
            "_view_name": "HTMLView",
            "description": "",
            "description_tooltip": null,
            "layout": "IPY_MODEL_302ba8d1e9e84e46862a83fea8573dca",
            "placeholder": "​",
            "style": "IPY_MODEL_9f8ebab2905844abb57ea55aea4d585b",
            "value": " 193k/? [00:00&lt;00:00, 7.30MB/s]"
          }
        },
        "87c41e7985304764ac6db289bcdffaf6": {
          "model_module": "@jupyter-widgets/base",
          "model_name": "LayoutModel",
          "model_module_version": "1.2.0",
          "state": {
            "_model_module": "@jupyter-widgets/base",
            "_model_module_version": "1.2.0",
            "_model_name": "LayoutModel",
            "_view_count": null,
            "_view_module": "@jupyter-widgets/base",
            "_view_module_version": "1.2.0",
            "_view_name": "LayoutView",
            "align_content": null,
            "align_items": null,
            "align_self": null,
            "border": null,
            "bottom": null,
            "display": null,
            "flex": null,
            "flex_flow": null,
            "grid_area": null,
            "grid_auto_columns": null,
            "grid_auto_flow": null,
            "grid_auto_rows": null,
            "grid_column": null,
            "grid_gap": null,
            "grid_row": null,
            "grid_template_areas": null,
            "grid_template_columns": null,
            "grid_template_rows": null,
            "height": null,
            "justify_content": null,
            "justify_items": null,
            "left": null,
            "margin": null,
            "max_height": null,
            "max_width": null,
            "min_height": null,
            "min_width": null,
            "object_fit": null,
            "object_position": null,
            "order": null,
            "overflow": null,
            "overflow_x": null,
            "overflow_y": null,
            "padding": null,
            "right": null,
            "top": null,
            "visibility": null,
            "width": null
          }
        },
        "b641db57f41147f6a2deaa1e1429e002": {
          "model_module": "@jupyter-widgets/base",
          "model_name": "LayoutModel",
          "model_module_version": "1.2.0",
          "state": {
            "_model_module": "@jupyter-widgets/base",
            "_model_module_version": "1.2.0",
            "_model_name": "LayoutModel",
            "_view_count": null,
            "_view_module": "@jupyter-widgets/base",
            "_view_module_version": "1.2.0",
            "_view_name": "LayoutView",
            "align_content": null,
            "align_items": null,
            "align_self": null,
            "border": null,
            "bottom": null,
            "display": null,
            "flex": null,
            "flex_flow": null,
            "grid_area": null,
            "grid_auto_columns": null,
            "grid_auto_flow": null,
            "grid_auto_rows": null,
            "grid_column": null,
            "grid_gap": null,
            "grid_row": null,
            "grid_template_areas": null,
            "grid_template_columns": null,
            "grid_template_rows": null,
            "height": null,
            "justify_content": null,
            "justify_items": null,
            "left": null,
            "margin": null,
            "max_height": null,
            "max_width": null,
            "min_height": null,
            "min_width": null,
            "object_fit": null,
            "object_position": null,
            "order": null,
            "overflow": null,
            "overflow_x": null,
            "overflow_y": null,
            "padding": null,
            "right": null,
            "top": null,
            "visibility": null,
            "width": null
          }
        },
        "a350517738ce425dbc94f5a6f96780cc": {
          "model_module": "@jupyter-widgets/controls",
          "model_name": "DescriptionStyleModel",
          "model_module_version": "1.5.0",
          "state": {
            "_model_module": "@jupyter-widgets/controls",
            "_model_module_version": "1.5.0",
            "_model_name": "DescriptionStyleModel",
            "_view_count": null,
            "_view_module": "@jupyter-widgets/base",
            "_view_module_version": "1.2.0",
            "_view_name": "StyleView",
            "description_width": ""
          }
        },
        "743d256d401f4e9a9fc21f012d10e559": {
          "model_module": "@jupyter-widgets/base",
          "model_name": "LayoutModel",
          "model_module_version": "1.2.0",
          "state": {
            "_model_module": "@jupyter-widgets/base",
            "_model_module_version": "1.2.0",
            "_model_name": "LayoutModel",
            "_view_count": null,
            "_view_module": "@jupyter-widgets/base",
            "_view_module_version": "1.2.0",
            "_view_name": "LayoutView",
            "align_content": null,
            "align_items": null,
            "align_self": null,
            "border": null,
            "bottom": null,
            "display": null,
            "flex": null,
            "flex_flow": null,
            "grid_area": null,
            "grid_auto_columns": null,
            "grid_auto_flow": null,
            "grid_auto_rows": null,
            "grid_column": null,
            "grid_gap": null,
            "grid_row": null,
            "grid_template_areas": null,
            "grid_template_columns": null,
            "grid_template_rows": null,
            "height": null,
            "justify_content": null,
            "justify_items": null,
            "left": null,
            "margin": null,
            "max_height": null,
            "max_width": null,
            "min_height": null,
            "min_width": null,
            "object_fit": null,
            "object_position": null,
            "order": null,
            "overflow": null,
            "overflow_x": null,
            "overflow_y": null,
            "padding": null,
            "right": null,
            "top": null,
            "visibility": null,
            "width": null
          }
        },
        "e9c7d41ed2104825988105301424e48a": {
          "model_module": "@jupyter-widgets/controls",
          "model_name": "ProgressStyleModel",
          "model_module_version": "1.5.0",
          "state": {
            "_model_module": "@jupyter-widgets/controls",
            "_model_module_version": "1.5.0",
            "_model_name": "ProgressStyleModel",
            "_view_count": null,
            "_view_module": "@jupyter-widgets/base",
            "_view_module_version": "1.2.0",
            "_view_name": "StyleView",
            "bar_color": null,
            "description_width": ""
          }
        },
        "302ba8d1e9e84e46862a83fea8573dca": {
          "model_module": "@jupyter-widgets/base",
          "model_name": "LayoutModel",
          "model_module_version": "1.2.0",
          "state": {
            "_model_module": "@jupyter-widgets/base",
            "_model_module_version": "1.2.0",
            "_model_name": "LayoutModel",
            "_view_count": null,
            "_view_module": "@jupyter-widgets/base",
            "_view_module_version": "1.2.0",
            "_view_name": "LayoutView",
            "align_content": null,
            "align_items": null,
            "align_self": null,
            "border": null,
            "bottom": null,
            "display": null,
            "flex": null,
            "flex_flow": null,
            "grid_area": null,
            "grid_auto_columns": null,
            "grid_auto_flow": null,
            "grid_auto_rows": null,
            "grid_column": null,
            "grid_gap": null,
            "grid_row": null,
            "grid_template_areas": null,
            "grid_template_columns": null,
            "grid_template_rows": null,
            "height": null,
            "justify_content": null,
            "justify_items": null,
            "left": null,
            "margin": null,
            "max_height": null,
            "max_width": null,
            "min_height": null,
            "min_width": null,
            "object_fit": null,
            "object_position": null,
            "order": null,
            "overflow": null,
            "overflow_x": null,
            "overflow_y": null,
            "padding": null,
            "right": null,
            "top": null,
            "visibility": null,
            "width": null
          }
        },
        "9f8ebab2905844abb57ea55aea4d585b": {
          "model_module": "@jupyter-widgets/controls",
          "model_name": "DescriptionStyleModel",
          "model_module_version": "1.5.0",
          "state": {
            "_model_module": "@jupyter-widgets/controls",
            "_model_module_version": "1.5.0",
            "_model_name": "DescriptionStyleModel",
            "_view_count": null,
            "_view_module": "@jupyter-widgets/base",
            "_view_module_version": "1.2.0",
            "_view_name": "StyleView",
            "description_width": ""
          }
        },
        "418569cfdff847ffaa33114ddd65fbc4": {
          "model_module": "@jupyter-widgets/controls",
          "model_name": "HBoxModel",
          "model_module_version": "1.5.0",
          "state": {
            "_dom_classes": [],
            "_model_module": "@jupyter-widgets/controls",
            "_model_module_version": "1.5.0",
            "_model_name": "HBoxModel",
            "_view_count": null,
            "_view_module": "@jupyter-widgets/controls",
            "_view_module_version": "1.5.0",
            "_view_name": "HBoxView",
            "box_style": "",
            "children": [
              "IPY_MODEL_3acae1841ff64fe6ae036e2259fd8fed",
              "IPY_MODEL_ecef51cf841740c2803255dd6dce4378",
              "IPY_MODEL_a070d993ff7045c3aeb04ef3559427d1"
            ],
            "layout": "IPY_MODEL_611fbc9ca3fb456eb6ff03985cbef822"
          }
        },
        "3acae1841ff64fe6ae036e2259fd8fed": {
          "model_module": "@jupyter-widgets/controls",
          "model_name": "HTMLModel",
          "model_module_version": "1.5.0",
          "state": {
            "_dom_classes": [],
            "_model_module": "@jupyter-widgets/controls",
            "_model_module_version": "1.5.0",
            "_model_name": "HTMLModel",
            "_view_count": null,
            "_view_module": "@jupyter-widgets/controls",
            "_view_module_version": "1.5.0",
            "_view_name": "HTMLView",
            "description": "",
            "description_tooltip": null,
            "layout": "IPY_MODEL_9784a59ce9f245eba725f6d3e29aaf0d",
            "placeholder": "​",
            "style": "IPY_MODEL_aca2329bc9164c6f95990619c51d4569",
            "value": "100%"
          }
        },
        "ecef51cf841740c2803255dd6dce4378": {
          "model_module": "@jupyter-widgets/controls",
          "model_name": "FloatProgressModel",
          "model_module_version": "1.5.0",
          "state": {
            "_dom_classes": [],
            "_model_module": "@jupyter-widgets/controls",
            "_model_module_version": "1.5.0",
            "_model_name": "FloatProgressModel",
            "_view_count": null,
            "_view_module": "@jupyter-widgets/controls",
            "_view_module_version": "1.5.0",
            "_view_name": "ProgressView",
            "bar_style": "success",
            "description": "",
            "description_tooltip": null,
            "layout": "IPY_MODEL_30b1ace0ac044f758f05fba9b95978a0",
            "max": 284,
            "min": 0,
            "orientation": "horizontal",
            "style": "IPY_MODEL_9734f2f5b75c4e16b49f4ca7eb997ca5",
            "value": 284
          }
        },
        "a070d993ff7045c3aeb04ef3559427d1": {
          "model_module": "@jupyter-widgets/controls",
          "model_name": "HTMLModel",
          "model_module_version": "1.5.0",
          "state": {
            "_dom_classes": [],
            "_model_module": "@jupyter-widgets/controls",
            "_model_module_version": "1.5.0",
            "_model_name": "HTMLModel",
            "_view_count": null,
            "_view_module": "@jupyter-widgets/controls",
            "_view_module_version": "1.5.0",
            "_view_name": "HTMLView",
            "description": "",
            "description_tooltip": null,
            "layout": "IPY_MODEL_c4730d5509aa4a6eb9aedce025651419",
            "placeholder": "​",
            "style": "IPY_MODEL_f4a6b9e9067942948f481ba701dcd26c",
            "value": " 284/284 [00:30&lt;00:00, 17.46it/s]"
          }
        },
        "611fbc9ca3fb456eb6ff03985cbef822": {
          "model_module": "@jupyter-widgets/base",
          "model_name": "LayoutModel",
          "model_module_version": "1.2.0",
          "state": {
            "_model_module": "@jupyter-widgets/base",
            "_model_module_version": "1.2.0",
            "_model_name": "LayoutModel",
            "_view_count": null,
            "_view_module": "@jupyter-widgets/base",
            "_view_module_version": "1.2.0",
            "_view_name": "LayoutView",
            "align_content": null,
            "align_items": null,
            "align_self": null,
            "border": null,
            "bottom": null,
            "display": null,
            "flex": null,
            "flex_flow": null,
            "grid_area": null,
            "grid_auto_columns": null,
            "grid_auto_flow": null,
            "grid_auto_rows": null,
            "grid_column": null,
            "grid_gap": null,
            "grid_row": null,
            "grid_template_areas": null,
            "grid_template_columns": null,
            "grid_template_rows": null,
            "height": null,
            "justify_content": null,
            "justify_items": null,
            "left": null,
            "margin": null,
            "max_height": null,
            "max_width": null,
            "min_height": null,
            "min_width": null,
            "object_fit": null,
            "object_position": null,
            "order": null,
            "overflow": null,
            "overflow_x": null,
            "overflow_y": null,
            "padding": null,
            "right": null,
            "top": null,
            "visibility": null,
            "width": null
          }
        },
        "9784a59ce9f245eba725f6d3e29aaf0d": {
          "model_module": "@jupyter-widgets/base",
          "model_name": "LayoutModel",
          "model_module_version": "1.2.0",
          "state": {
            "_model_module": "@jupyter-widgets/base",
            "_model_module_version": "1.2.0",
            "_model_name": "LayoutModel",
            "_view_count": null,
            "_view_module": "@jupyter-widgets/base",
            "_view_module_version": "1.2.0",
            "_view_name": "LayoutView",
            "align_content": null,
            "align_items": null,
            "align_self": null,
            "border": null,
            "bottom": null,
            "display": null,
            "flex": null,
            "flex_flow": null,
            "grid_area": null,
            "grid_auto_columns": null,
            "grid_auto_flow": null,
            "grid_auto_rows": null,
            "grid_column": null,
            "grid_gap": null,
            "grid_row": null,
            "grid_template_areas": null,
            "grid_template_columns": null,
            "grid_template_rows": null,
            "height": null,
            "justify_content": null,
            "justify_items": null,
            "left": null,
            "margin": null,
            "max_height": null,
            "max_width": null,
            "min_height": null,
            "min_width": null,
            "object_fit": null,
            "object_position": null,
            "order": null,
            "overflow": null,
            "overflow_x": null,
            "overflow_y": null,
            "padding": null,
            "right": null,
            "top": null,
            "visibility": null,
            "width": null
          }
        },
        "aca2329bc9164c6f95990619c51d4569": {
          "model_module": "@jupyter-widgets/controls",
          "model_name": "DescriptionStyleModel",
          "model_module_version": "1.5.0",
          "state": {
            "_model_module": "@jupyter-widgets/controls",
            "_model_module_version": "1.5.0",
            "_model_name": "DescriptionStyleModel",
            "_view_count": null,
            "_view_module": "@jupyter-widgets/base",
            "_view_module_version": "1.2.0",
            "_view_name": "StyleView",
            "description_width": ""
          }
        },
        "30b1ace0ac044f758f05fba9b95978a0": {
          "model_module": "@jupyter-widgets/base",
          "model_name": "LayoutModel",
          "model_module_version": "1.2.0",
          "state": {
            "_model_module": "@jupyter-widgets/base",
            "_model_module_version": "1.2.0",
            "_model_name": "LayoutModel",
            "_view_count": null,
            "_view_module": "@jupyter-widgets/base",
            "_view_module_version": "1.2.0",
            "_view_name": "LayoutView",
            "align_content": null,
            "align_items": null,
            "align_self": null,
            "border": null,
            "bottom": null,
            "display": null,
            "flex": null,
            "flex_flow": null,
            "grid_area": null,
            "grid_auto_columns": null,
            "grid_auto_flow": null,
            "grid_auto_rows": null,
            "grid_column": null,
            "grid_gap": null,
            "grid_row": null,
            "grid_template_areas": null,
            "grid_template_columns": null,
            "grid_template_rows": null,
            "height": null,
            "justify_content": null,
            "justify_items": null,
            "left": null,
            "margin": null,
            "max_height": null,
            "max_width": null,
            "min_height": null,
            "min_width": null,
            "object_fit": null,
            "object_position": null,
            "order": null,
            "overflow": null,
            "overflow_x": null,
            "overflow_y": null,
            "padding": null,
            "right": null,
            "top": null,
            "visibility": null,
            "width": null
          }
        },
        "9734f2f5b75c4e16b49f4ca7eb997ca5": {
          "model_module": "@jupyter-widgets/controls",
          "model_name": "ProgressStyleModel",
          "model_module_version": "1.5.0",
          "state": {
            "_model_module": "@jupyter-widgets/controls",
            "_model_module_version": "1.5.0",
            "_model_name": "ProgressStyleModel",
            "_view_count": null,
            "_view_module": "@jupyter-widgets/base",
            "_view_module_version": "1.2.0",
            "_view_name": "StyleView",
            "bar_color": null,
            "description_width": ""
          }
        },
        "c4730d5509aa4a6eb9aedce025651419": {
          "model_module": "@jupyter-widgets/base",
          "model_name": "LayoutModel",
          "model_module_version": "1.2.0",
          "state": {
            "_model_module": "@jupyter-widgets/base",
            "_model_module_version": "1.2.0",
            "_model_name": "LayoutModel",
            "_view_count": null,
            "_view_module": "@jupyter-widgets/base",
            "_view_module_version": "1.2.0",
            "_view_name": "LayoutView",
            "align_content": null,
            "align_items": null,
            "align_self": null,
            "border": null,
            "bottom": null,
            "display": null,
            "flex": null,
            "flex_flow": null,
            "grid_area": null,
            "grid_auto_columns": null,
            "grid_auto_flow": null,
            "grid_auto_rows": null,
            "grid_column": null,
            "grid_gap": null,
            "grid_row": null,
            "grid_template_areas": null,
            "grid_template_columns": null,
            "grid_template_rows": null,
            "height": null,
            "justify_content": null,
            "justify_items": null,
            "left": null,
            "margin": null,
            "max_height": null,
            "max_width": null,
            "min_height": null,
            "min_width": null,
            "object_fit": null,
            "object_position": null,
            "order": null,
            "overflow": null,
            "overflow_x": null,
            "overflow_y": null,
            "padding": null,
            "right": null,
            "top": null,
            "visibility": null,
            "width": null
          }
        },
        "f4a6b9e9067942948f481ba701dcd26c": {
          "model_module": "@jupyter-widgets/controls",
          "model_name": "DescriptionStyleModel",
          "model_module_version": "1.5.0",
          "state": {
            "_model_module": "@jupyter-widgets/controls",
            "_model_module_version": "1.5.0",
            "_model_name": "DescriptionStyleModel",
            "_view_count": null,
            "_view_module": "@jupyter-widgets/base",
            "_view_module_version": "1.2.0",
            "_view_name": "StyleView",
            "description_width": ""
          }
        },
        "83815cc9ec1b41ed86452c19c779dc93": {
          "model_module": "@jupyter-widgets/controls",
          "model_name": "HBoxModel",
          "model_module_version": "1.5.0",
          "state": {
            "_dom_classes": [],
            "_model_module": "@jupyter-widgets/controls",
            "_model_module_version": "1.5.0",
            "_model_name": "HBoxModel",
            "_view_count": null,
            "_view_module": "@jupyter-widgets/controls",
            "_view_module_version": "1.5.0",
            "_view_name": "HBoxView",
            "box_style": "",
            "children": [
              "IPY_MODEL_440ee9efdf0d499fa8644778c93e2f15",
              "IPY_MODEL_b6a578f06bc34104a9c21844b96664ea",
              "IPY_MODEL_3467b2497c854eedb315fdec8993746e"
            ],
            "layout": "IPY_MODEL_1d98909db6334483b3d00ea731224657"
          }
        },
        "440ee9efdf0d499fa8644778c93e2f15": {
          "model_module": "@jupyter-widgets/controls",
          "model_name": "HTMLModel",
          "model_module_version": "1.5.0",
          "state": {
            "_dom_classes": [],
            "_model_module": "@jupyter-widgets/controls",
            "_model_module_version": "1.5.0",
            "_model_name": "HTMLModel",
            "_view_count": null,
            "_view_module": "@jupyter-widgets/controls",
            "_view_module_version": "1.5.0",
            "_view_name": "HTMLView",
            "description": "",
            "description_tooltip": null,
            "layout": "IPY_MODEL_1e6ecebd256d4037b9657f49220c0eba",
            "placeholder": "​",
            "style": "IPY_MODEL_5b725cd39ca24ce483d2d7c8930c656b",
            "value": "100%"
          }
        },
        "b6a578f06bc34104a9c21844b96664ea": {
          "model_module": "@jupyter-widgets/controls",
          "model_name": "FloatProgressModel",
          "model_module_version": "1.5.0",
          "state": {
            "_dom_classes": [],
            "_model_module": "@jupyter-widgets/controls",
            "_model_module_version": "1.5.0",
            "_model_name": "FloatProgressModel",
            "_view_count": null,
            "_view_module": "@jupyter-widgets/controls",
            "_view_module_version": "1.5.0",
            "_view_name": "ProgressView",
            "bar_style": "success",
            "description": "",
            "description_tooltip": null,
            "layout": "IPY_MODEL_f49ebb36c7464671b90e720fe6643ddc",
            "max": 3618,
            "min": 0,
            "orientation": "horizontal",
            "style": "IPY_MODEL_41a45904d0e9424a97a97dd3731c656d",
            "value": 3618
          }
        },
        "3467b2497c854eedb315fdec8993746e": {
          "model_module": "@jupyter-widgets/controls",
          "model_name": "HTMLModel",
          "model_module_version": "1.5.0",
          "state": {
            "_dom_classes": [],
            "_model_module": "@jupyter-widgets/controls",
            "_model_module_version": "1.5.0",
            "_model_name": "HTMLModel",
            "_view_count": null,
            "_view_module": "@jupyter-widgets/controls",
            "_view_module_version": "1.5.0",
            "_view_name": "HTMLView",
            "description": "",
            "description_tooltip": null,
            "layout": "IPY_MODEL_c2d8c6b375684d0098542eda7f225365",
            "placeholder": "​",
            "style": "IPY_MODEL_c6b4a5693bb647a9b20a0ccfea8817ac",
            "value": " 3618/3618 [00:39&lt;00:00, 152.84it/s]"
          }
        },
        "1d98909db6334483b3d00ea731224657": {
          "model_module": "@jupyter-widgets/base",
          "model_name": "LayoutModel",
          "model_module_version": "1.2.0",
          "state": {
            "_model_module": "@jupyter-widgets/base",
            "_model_module_version": "1.2.0",
            "_model_name": "LayoutModel",
            "_view_count": null,
            "_view_module": "@jupyter-widgets/base",
            "_view_module_version": "1.2.0",
            "_view_name": "LayoutView",
            "align_content": null,
            "align_items": null,
            "align_self": null,
            "border": null,
            "bottom": null,
            "display": null,
            "flex": null,
            "flex_flow": null,
            "grid_area": null,
            "grid_auto_columns": null,
            "grid_auto_flow": null,
            "grid_auto_rows": null,
            "grid_column": null,
            "grid_gap": null,
            "grid_row": null,
            "grid_template_areas": null,
            "grid_template_columns": null,
            "grid_template_rows": null,
            "height": null,
            "justify_content": null,
            "justify_items": null,
            "left": null,
            "margin": null,
            "max_height": null,
            "max_width": null,
            "min_height": null,
            "min_width": null,
            "object_fit": null,
            "object_position": null,
            "order": null,
            "overflow": null,
            "overflow_x": null,
            "overflow_y": null,
            "padding": null,
            "right": null,
            "top": null,
            "visibility": null,
            "width": null
          }
        },
        "1e6ecebd256d4037b9657f49220c0eba": {
          "model_module": "@jupyter-widgets/base",
          "model_name": "LayoutModel",
          "model_module_version": "1.2.0",
          "state": {
            "_model_module": "@jupyter-widgets/base",
            "_model_module_version": "1.2.0",
            "_model_name": "LayoutModel",
            "_view_count": null,
            "_view_module": "@jupyter-widgets/base",
            "_view_module_version": "1.2.0",
            "_view_name": "LayoutView",
            "align_content": null,
            "align_items": null,
            "align_self": null,
            "border": null,
            "bottom": null,
            "display": null,
            "flex": null,
            "flex_flow": null,
            "grid_area": null,
            "grid_auto_columns": null,
            "grid_auto_flow": null,
            "grid_auto_rows": null,
            "grid_column": null,
            "grid_gap": null,
            "grid_row": null,
            "grid_template_areas": null,
            "grid_template_columns": null,
            "grid_template_rows": null,
            "height": null,
            "justify_content": null,
            "justify_items": null,
            "left": null,
            "margin": null,
            "max_height": null,
            "max_width": null,
            "min_height": null,
            "min_width": null,
            "object_fit": null,
            "object_position": null,
            "order": null,
            "overflow": null,
            "overflow_x": null,
            "overflow_y": null,
            "padding": null,
            "right": null,
            "top": null,
            "visibility": null,
            "width": null
          }
        },
        "5b725cd39ca24ce483d2d7c8930c656b": {
          "model_module": "@jupyter-widgets/controls",
          "model_name": "DescriptionStyleModel",
          "model_module_version": "1.5.0",
          "state": {
            "_model_module": "@jupyter-widgets/controls",
            "_model_module_version": "1.5.0",
            "_model_name": "DescriptionStyleModel",
            "_view_count": null,
            "_view_module": "@jupyter-widgets/base",
            "_view_module_version": "1.2.0",
            "_view_name": "StyleView",
            "description_width": ""
          }
        },
        "f49ebb36c7464671b90e720fe6643ddc": {
          "model_module": "@jupyter-widgets/base",
          "model_name": "LayoutModel",
          "model_module_version": "1.2.0",
          "state": {
            "_model_module": "@jupyter-widgets/base",
            "_model_module_version": "1.2.0",
            "_model_name": "LayoutModel",
            "_view_count": null,
            "_view_module": "@jupyter-widgets/base",
            "_view_module_version": "1.2.0",
            "_view_name": "LayoutView",
            "align_content": null,
            "align_items": null,
            "align_self": null,
            "border": null,
            "bottom": null,
            "display": null,
            "flex": null,
            "flex_flow": null,
            "grid_area": null,
            "grid_auto_columns": null,
            "grid_auto_flow": null,
            "grid_auto_rows": null,
            "grid_column": null,
            "grid_gap": null,
            "grid_row": null,
            "grid_template_areas": null,
            "grid_template_columns": null,
            "grid_template_rows": null,
            "height": null,
            "justify_content": null,
            "justify_items": null,
            "left": null,
            "margin": null,
            "max_height": null,
            "max_width": null,
            "min_height": null,
            "min_width": null,
            "object_fit": null,
            "object_position": null,
            "order": null,
            "overflow": null,
            "overflow_x": null,
            "overflow_y": null,
            "padding": null,
            "right": null,
            "top": null,
            "visibility": null,
            "width": null
          }
        },
        "41a45904d0e9424a97a97dd3731c656d": {
          "model_module": "@jupyter-widgets/controls",
          "model_name": "ProgressStyleModel",
          "model_module_version": "1.5.0",
          "state": {
            "_model_module": "@jupyter-widgets/controls",
            "_model_module_version": "1.5.0",
            "_model_name": "ProgressStyleModel",
            "_view_count": null,
            "_view_module": "@jupyter-widgets/base",
            "_view_module_version": "1.2.0",
            "_view_name": "StyleView",
            "bar_color": null,
            "description_width": ""
          }
        },
        "c2d8c6b375684d0098542eda7f225365": {
          "model_module": "@jupyter-widgets/base",
          "model_name": "LayoutModel",
          "model_module_version": "1.2.0",
          "state": {
            "_model_module": "@jupyter-widgets/base",
            "_model_module_version": "1.2.0",
            "_model_name": "LayoutModel",
            "_view_count": null,
            "_view_module": "@jupyter-widgets/base",
            "_view_module_version": "1.2.0",
            "_view_name": "LayoutView",
            "align_content": null,
            "align_items": null,
            "align_self": null,
            "border": null,
            "bottom": null,
            "display": null,
            "flex": null,
            "flex_flow": null,
            "grid_area": null,
            "grid_auto_columns": null,
            "grid_auto_flow": null,
            "grid_auto_rows": null,
            "grid_column": null,
            "grid_gap": null,
            "grid_row": null,
            "grid_template_areas": null,
            "grid_template_columns": null,
            "grid_template_rows": null,
            "height": null,
            "justify_content": null,
            "justify_items": null,
            "left": null,
            "margin": null,
            "max_height": null,
            "max_width": null,
            "min_height": null,
            "min_width": null,
            "object_fit": null,
            "object_position": null,
            "order": null,
            "overflow": null,
            "overflow_x": null,
            "overflow_y": null,
            "padding": null,
            "right": null,
            "top": null,
            "visibility": null,
            "width": null
          }
        },
        "c6b4a5693bb647a9b20a0ccfea8817ac": {
          "model_module": "@jupyter-widgets/controls",
          "model_name": "DescriptionStyleModel",
          "model_module_version": "1.5.0",
          "state": {
            "_model_module": "@jupyter-widgets/controls",
            "_model_module_version": "1.5.0",
            "_model_name": "DescriptionStyleModel",
            "_view_count": null,
            "_view_module": "@jupyter-widgets/base",
            "_view_module_version": "1.2.0",
            "_view_name": "StyleView",
            "description_width": ""
          }
        },
        "29c7574f10b447879f7761e9749b2bc0": {
          "model_module": "@jupyter-widgets/controls",
          "model_name": "HBoxModel",
          "model_module_version": "1.5.0",
          "state": {
            "_dom_classes": [],
            "_model_module": "@jupyter-widgets/controls",
            "_model_module_version": "1.5.0",
            "_model_name": "HBoxModel",
            "_view_count": null,
            "_view_module": "@jupyter-widgets/controls",
            "_view_module_version": "1.5.0",
            "_view_name": "HBoxView",
            "box_style": "",
            "children": [
              "IPY_MODEL_b487b17b0e5b4bffba5bd48059cd990e",
              "IPY_MODEL_27b012aff6a94100882749e5b692cc0a",
              "IPY_MODEL_dee1293a0a3b454284389b9705027627"
            ],
            "layout": "IPY_MODEL_af714a3b6c34499594bb2715084d3db9"
          }
        },
        "b487b17b0e5b4bffba5bd48059cd990e": {
          "model_module": "@jupyter-widgets/controls",
          "model_name": "HTMLModel",
          "model_module_version": "1.5.0",
          "state": {
            "_dom_classes": [],
            "_model_module": "@jupyter-widgets/controls",
            "_model_module_version": "1.5.0",
            "_model_name": "HTMLModel",
            "_view_count": null,
            "_view_module": "@jupyter-widgets/controls",
            "_view_module_version": "1.5.0",
            "_view_name": "HTMLView",
            "description": "",
            "description_tooltip": null,
            "layout": "IPY_MODEL_a8c9aca1830649f387d573ee9c303ac9",
            "placeholder": "​",
            "style": "IPY_MODEL_0638ebe399184c129d32b48418eb2076",
            "value": "Downloading: 100%"
          }
        },
        "27b012aff6a94100882749e5b692cc0a": {
          "model_module": "@jupyter-widgets/controls",
          "model_name": "FloatProgressModel",
          "model_module_version": "1.5.0",
          "state": {
            "_dom_classes": [],
            "_model_module": "@jupyter-widgets/controls",
            "_model_module_version": "1.5.0",
            "_model_name": "FloatProgressModel",
            "_view_count": null,
            "_view_module": "@jupyter-widgets/controls",
            "_view_module_version": "1.5.0",
            "_view_name": "ProgressView",
            "bar_style": "success",
            "description": "",
            "description_tooltip": null,
            "layout": "IPY_MODEL_1ceedccdfac94336a38d5d2305723a32",
            "max": 49,
            "min": 0,
            "orientation": "horizontal",
            "style": "IPY_MODEL_3b25d01edace4a01a0e7331ce89c009e",
            "value": 49
          }
        },
        "dee1293a0a3b454284389b9705027627": {
          "model_module": "@jupyter-widgets/controls",
          "model_name": "HTMLModel",
          "model_module_version": "1.5.0",
          "state": {
            "_dom_classes": [],
            "_model_module": "@jupyter-widgets/controls",
            "_model_module_version": "1.5.0",
            "_model_name": "HTMLModel",
            "_view_count": null,
            "_view_module": "@jupyter-widgets/controls",
            "_view_module_version": "1.5.0",
            "_view_name": "HTMLView",
            "description": "",
            "description_tooltip": null,
            "layout": "IPY_MODEL_db850461861641ae82329e5179194976",
            "placeholder": "​",
            "style": "IPY_MODEL_711950ee014944489ff14427af0ca2c7",
            "value": " 49.0/49.0 [00:00&lt;00:00, 2.89kB/s]"
          }
        },
        "af714a3b6c34499594bb2715084d3db9": {
          "model_module": "@jupyter-widgets/base",
          "model_name": "LayoutModel",
          "model_module_version": "1.2.0",
          "state": {
            "_model_module": "@jupyter-widgets/base",
            "_model_module_version": "1.2.0",
            "_model_name": "LayoutModel",
            "_view_count": null,
            "_view_module": "@jupyter-widgets/base",
            "_view_module_version": "1.2.0",
            "_view_name": "LayoutView",
            "align_content": null,
            "align_items": null,
            "align_self": null,
            "border": null,
            "bottom": null,
            "display": null,
            "flex": null,
            "flex_flow": null,
            "grid_area": null,
            "grid_auto_columns": null,
            "grid_auto_flow": null,
            "grid_auto_rows": null,
            "grid_column": null,
            "grid_gap": null,
            "grid_row": null,
            "grid_template_areas": null,
            "grid_template_columns": null,
            "grid_template_rows": null,
            "height": null,
            "justify_content": null,
            "justify_items": null,
            "left": null,
            "margin": null,
            "max_height": null,
            "max_width": null,
            "min_height": null,
            "min_width": null,
            "object_fit": null,
            "object_position": null,
            "order": null,
            "overflow": null,
            "overflow_x": null,
            "overflow_y": null,
            "padding": null,
            "right": null,
            "top": null,
            "visibility": null,
            "width": null
          }
        },
        "a8c9aca1830649f387d573ee9c303ac9": {
          "model_module": "@jupyter-widgets/base",
          "model_name": "LayoutModel",
          "model_module_version": "1.2.0",
          "state": {
            "_model_module": "@jupyter-widgets/base",
            "_model_module_version": "1.2.0",
            "_model_name": "LayoutModel",
            "_view_count": null,
            "_view_module": "@jupyter-widgets/base",
            "_view_module_version": "1.2.0",
            "_view_name": "LayoutView",
            "align_content": null,
            "align_items": null,
            "align_self": null,
            "border": null,
            "bottom": null,
            "display": null,
            "flex": null,
            "flex_flow": null,
            "grid_area": null,
            "grid_auto_columns": null,
            "grid_auto_flow": null,
            "grid_auto_rows": null,
            "grid_column": null,
            "grid_gap": null,
            "grid_row": null,
            "grid_template_areas": null,
            "grid_template_columns": null,
            "grid_template_rows": null,
            "height": null,
            "justify_content": null,
            "justify_items": null,
            "left": null,
            "margin": null,
            "max_height": null,
            "max_width": null,
            "min_height": null,
            "min_width": null,
            "object_fit": null,
            "object_position": null,
            "order": null,
            "overflow": null,
            "overflow_x": null,
            "overflow_y": null,
            "padding": null,
            "right": null,
            "top": null,
            "visibility": null,
            "width": null
          }
        },
        "0638ebe399184c129d32b48418eb2076": {
          "model_module": "@jupyter-widgets/controls",
          "model_name": "DescriptionStyleModel",
          "model_module_version": "1.5.0",
          "state": {
            "_model_module": "@jupyter-widgets/controls",
            "_model_module_version": "1.5.0",
            "_model_name": "DescriptionStyleModel",
            "_view_count": null,
            "_view_module": "@jupyter-widgets/base",
            "_view_module_version": "1.2.0",
            "_view_name": "StyleView",
            "description_width": ""
          }
        },
        "1ceedccdfac94336a38d5d2305723a32": {
          "model_module": "@jupyter-widgets/base",
          "model_name": "LayoutModel",
          "model_module_version": "1.2.0",
          "state": {
            "_model_module": "@jupyter-widgets/base",
            "_model_module_version": "1.2.0",
            "_model_name": "LayoutModel",
            "_view_count": null,
            "_view_module": "@jupyter-widgets/base",
            "_view_module_version": "1.2.0",
            "_view_name": "LayoutView",
            "align_content": null,
            "align_items": null,
            "align_self": null,
            "border": null,
            "bottom": null,
            "display": null,
            "flex": null,
            "flex_flow": null,
            "grid_area": null,
            "grid_auto_columns": null,
            "grid_auto_flow": null,
            "grid_auto_rows": null,
            "grid_column": null,
            "grid_gap": null,
            "grid_row": null,
            "grid_template_areas": null,
            "grid_template_columns": null,
            "grid_template_rows": null,
            "height": null,
            "justify_content": null,
            "justify_items": null,
            "left": null,
            "margin": null,
            "max_height": null,
            "max_width": null,
            "min_height": null,
            "min_width": null,
            "object_fit": null,
            "object_position": null,
            "order": null,
            "overflow": null,
            "overflow_x": null,
            "overflow_y": null,
            "padding": null,
            "right": null,
            "top": null,
            "visibility": null,
            "width": null
          }
        },
        "3b25d01edace4a01a0e7331ce89c009e": {
          "model_module": "@jupyter-widgets/controls",
          "model_name": "ProgressStyleModel",
          "model_module_version": "1.5.0",
          "state": {
            "_model_module": "@jupyter-widgets/controls",
            "_model_module_version": "1.5.0",
            "_model_name": "ProgressStyleModel",
            "_view_count": null,
            "_view_module": "@jupyter-widgets/base",
            "_view_module_version": "1.2.0",
            "_view_name": "StyleView",
            "bar_color": null,
            "description_width": ""
          }
        },
        "db850461861641ae82329e5179194976": {
          "model_module": "@jupyter-widgets/base",
          "model_name": "LayoutModel",
          "model_module_version": "1.2.0",
          "state": {
            "_model_module": "@jupyter-widgets/base",
            "_model_module_version": "1.2.0",
            "_model_name": "LayoutModel",
            "_view_count": null,
            "_view_module": "@jupyter-widgets/base",
            "_view_module_version": "1.2.0",
            "_view_name": "LayoutView",
            "align_content": null,
            "align_items": null,
            "align_self": null,
            "border": null,
            "bottom": null,
            "display": null,
            "flex": null,
            "flex_flow": null,
            "grid_area": null,
            "grid_auto_columns": null,
            "grid_auto_flow": null,
            "grid_auto_rows": null,
            "grid_column": null,
            "grid_gap": null,
            "grid_row": null,
            "grid_template_areas": null,
            "grid_template_columns": null,
            "grid_template_rows": null,
            "height": null,
            "justify_content": null,
            "justify_items": null,
            "left": null,
            "margin": null,
            "max_height": null,
            "max_width": null,
            "min_height": null,
            "min_width": null,
            "object_fit": null,
            "object_position": null,
            "order": null,
            "overflow": null,
            "overflow_x": null,
            "overflow_y": null,
            "padding": null,
            "right": null,
            "top": null,
            "visibility": null,
            "width": null
          }
        },
        "711950ee014944489ff14427af0ca2c7": {
          "model_module": "@jupyter-widgets/controls",
          "model_name": "DescriptionStyleModel",
          "model_module_version": "1.5.0",
          "state": {
            "_model_module": "@jupyter-widgets/controls",
            "_model_module_version": "1.5.0",
            "_model_name": "DescriptionStyleModel",
            "_view_count": null,
            "_view_module": "@jupyter-widgets/base",
            "_view_module_version": "1.2.0",
            "_view_name": "StyleView",
            "description_width": ""
          }
        },
        "02fdd35541f945bba25519176ff26921": {
          "model_module": "@jupyter-widgets/controls",
          "model_name": "HBoxModel",
          "model_module_version": "1.5.0",
          "state": {
            "_dom_classes": [],
            "_model_module": "@jupyter-widgets/controls",
            "_model_module_version": "1.5.0",
            "_model_name": "HBoxModel",
            "_view_count": null,
            "_view_module": "@jupyter-widgets/controls",
            "_view_module_version": "1.5.0",
            "_view_name": "HBoxView",
            "box_style": "",
            "children": [
              "IPY_MODEL_4e7bab7e2e0d49b7a3e72733fd897b2e",
              "IPY_MODEL_203c23ce33134743a3b324cc9bf9a47d",
              "IPY_MODEL_15ff12feb5a545f8a062c478842dc48b"
            ],
            "layout": "IPY_MODEL_24178d77b1de46f5903b7e99f061f20f"
          }
        },
        "4e7bab7e2e0d49b7a3e72733fd897b2e": {
          "model_module": "@jupyter-widgets/controls",
          "model_name": "HTMLModel",
          "model_module_version": "1.5.0",
          "state": {
            "_dom_classes": [],
            "_model_module": "@jupyter-widgets/controls",
            "_model_module_version": "1.5.0",
            "_model_name": "HTMLModel",
            "_view_count": null,
            "_view_module": "@jupyter-widgets/controls",
            "_view_module_version": "1.5.0",
            "_view_name": "HTMLView",
            "description": "",
            "description_tooltip": null,
            "layout": "IPY_MODEL_9dc9c300c14d4c92a9c8abd9316448b5",
            "placeholder": "​",
            "style": "IPY_MODEL_224a3fd5a8364cb2836178264aa85dff",
            "value": "Downloading: 100%"
          }
        },
        "203c23ce33134743a3b324cc9bf9a47d": {
          "model_module": "@jupyter-widgets/controls",
          "model_name": "FloatProgressModel",
          "model_module_version": "1.5.0",
          "state": {
            "_dom_classes": [],
            "_model_module": "@jupyter-widgets/controls",
            "_model_module_version": "1.5.0",
            "_model_name": "FloatProgressModel",
            "_view_count": null,
            "_view_module": "@jupyter-widgets/controls",
            "_view_module_version": "1.5.0",
            "_view_name": "ProgressView",
            "bar_style": "success",
            "description": "",
            "description_tooltip": null,
            "layout": "IPY_MODEL_ab584d720c33482cb795ac3ddb14845f",
            "max": 806,
            "min": 0,
            "orientation": "horizontal",
            "style": "IPY_MODEL_93d26c711708412d87236a051195b4fd",
            "value": 806
          }
        },
        "15ff12feb5a545f8a062c478842dc48b": {
          "model_module": "@jupyter-widgets/controls",
          "model_name": "HTMLModel",
          "model_module_version": "1.5.0",
          "state": {
            "_dom_classes": [],
            "_model_module": "@jupyter-widgets/controls",
            "_model_module_version": "1.5.0",
            "_model_name": "HTMLModel",
            "_view_count": null,
            "_view_module": "@jupyter-widgets/controls",
            "_view_module_version": "1.5.0",
            "_view_name": "HTMLView",
            "description": "",
            "description_tooltip": null,
            "layout": "IPY_MODEL_44bb28c6f6894d2ab6913416864dc159",
            "placeholder": "​",
            "style": "IPY_MODEL_8bce6074c176452ba1a7447f0abc66e5",
            "value": " 806/806 [00:00&lt;00:00, 46.6kB/s]"
          }
        },
        "24178d77b1de46f5903b7e99f061f20f": {
          "model_module": "@jupyter-widgets/base",
          "model_name": "LayoutModel",
          "model_module_version": "1.2.0",
          "state": {
            "_model_module": "@jupyter-widgets/base",
            "_model_module_version": "1.2.0",
            "_model_name": "LayoutModel",
            "_view_count": null,
            "_view_module": "@jupyter-widgets/base",
            "_view_module_version": "1.2.0",
            "_view_name": "LayoutView",
            "align_content": null,
            "align_items": null,
            "align_self": null,
            "border": null,
            "bottom": null,
            "display": null,
            "flex": null,
            "flex_flow": null,
            "grid_area": null,
            "grid_auto_columns": null,
            "grid_auto_flow": null,
            "grid_auto_rows": null,
            "grid_column": null,
            "grid_gap": null,
            "grid_row": null,
            "grid_template_areas": null,
            "grid_template_columns": null,
            "grid_template_rows": null,
            "height": null,
            "justify_content": null,
            "justify_items": null,
            "left": null,
            "margin": null,
            "max_height": null,
            "max_width": null,
            "min_height": null,
            "min_width": null,
            "object_fit": null,
            "object_position": null,
            "order": null,
            "overflow": null,
            "overflow_x": null,
            "overflow_y": null,
            "padding": null,
            "right": null,
            "top": null,
            "visibility": null,
            "width": null
          }
        },
        "9dc9c300c14d4c92a9c8abd9316448b5": {
          "model_module": "@jupyter-widgets/base",
          "model_name": "LayoutModel",
          "model_module_version": "1.2.0",
          "state": {
            "_model_module": "@jupyter-widgets/base",
            "_model_module_version": "1.2.0",
            "_model_name": "LayoutModel",
            "_view_count": null,
            "_view_module": "@jupyter-widgets/base",
            "_view_module_version": "1.2.0",
            "_view_name": "LayoutView",
            "align_content": null,
            "align_items": null,
            "align_self": null,
            "border": null,
            "bottom": null,
            "display": null,
            "flex": null,
            "flex_flow": null,
            "grid_area": null,
            "grid_auto_columns": null,
            "grid_auto_flow": null,
            "grid_auto_rows": null,
            "grid_column": null,
            "grid_gap": null,
            "grid_row": null,
            "grid_template_areas": null,
            "grid_template_columns": null,
            "grid_template_rows": null,
            "height": null,
            "justify_content": null,
            "justify_items": null,
            "left": null,
            "margin": null,
            "max_height": null,
            "max_width": null,
            "min_height": null,
            "min_width": null,
            "object_fit": null,
            "object_position": null,
            "order": null,
            "overflow": null,
            "overflow_x": null,
            "overflow_y": null,
            "padding": null,
            "right": null,
            "top": null,
            "visibility": null,
            "width": null
          }
        },
        "224a3fd5a8364cb2836178264aa85dff": {
          "model_module": "@jupyter-widgets/controls",
          "model_name": "DescriptionStyleModel",
          "model_module_version": "1.5.0",
          "state": {
            "_model_module": "@jupyter-widgets/controls",
            "_model_module_version": "1.5.0",
            "_model_name": "DescriptionStyleModel",
            "_view_count": null,
            "_view_module": "@jupyter-widgets/base",
            "_view_module_version": "1.2.0",
            "_view_name": "StyleView",
            "description_width": ""
          }
        },
        "ab584d720c33482cb795ac3ddb14845f": {
          "model_module": "@jupyter-widgets/base",
          "model_name": "LayoutModel",
          "model_module_version": "1.2.0",
          "state": {
            "_model_module": "@jupyter-widgets/base",
            "_model_module_version": "1.2.0",
            "_model_name": "LayoutModel",
            "_view_count": null,
            "_view_module": "@jupyter-widgets/base",
            "_view_module_version": "1.2.0",
            "_view_name": "LayoutView",
            "align_content": null,
            "align_items": null,
            "align_self": null,
            "border": null,
            "bottom": null,
            "display": null,
            "flex": null,
            "flex_flow": null,
            "grid_area": null,
            "grid_auto_columns": null,
            "grid_auto_flow": null,
            "grid_auto_rows": null,
            "grid_column": null,
            "grid_gap": null,
            "grid_row": null,
            "grid_template_areas": null,
            "grid_template_columns": null,
            "grid_template_rows": null,
            "height": null,
            "justify_content": null,
            "justify_items": null,
            "left": null,
            "margin": null,
            "max_height": null,
            "max_width": null,
            "min_height": null,
            "min_width": null,
            "object_fit": null,
            "object_position": null,
            "order": null,
            "overflow": null,
            "overflow_x": null,
            "overflow_y": null,
            "padding": null,
            "right": null,
            "top": null,
            "visibility": null,
            "width": null
          }
        },
        "93d26c711708412d87236a051195b4fd": {
          "model_module": "@jupyter-widgets/controls",
          "model_name": "ProgressStyleModel",
          "model_module_version": "1.5.0",
          "state": {
            "_model_module": "@jupyter-widgets/controls",
            "_model_module_version": "1.5.0",
            "_model_name": "ProgressStyleModel",
            "_view_count": null,
            "_view_module": "@jupyter-widgets/base",
            "_view_module_version": "1.2.0",
            "_view_name": "StyleView",
            "bar_color": null,
            "description_width": ""
          }
        },
        "44bb28c6f6894d2ab6913416864dc159": {
          "model_module": "@jupyter-widgets/base",
          "model_name": "LayoutModel",
          "model_module_version": "1.2.0",
          "state": {
            "_model_module": "@jupyter-widgets/base",
            "_model_module_version": "1.2.0",
            "_model_name": "LayoutModel",
            "_view_count": null,
            "_view_module": "@jupyter-widgets/base",
            "_view_module_version": "1.2.0",
            "_view_name": "LayoutView",
            "align_content": null,
            "align_items": null,
            "align_self": null,
            "border": null,
            "bottom": null,
            "display": null,
            "flex": null,
            "flex_flow": null,
            "grid_area": null,
            "grid_auto_columns": null,
            "grid_auto_flow": null,
            "grid_auto_rows": null,
            "grid_column": null,
            "grid_gap": null,
            "grid_row": null,
            "grid_template_areas": null,
            "grid_template_columns": null,
            "grid_template_rows": null,
            "height": null,
            "justify_content": null,
            "justify_items": null,
            "left": null,
            "margin": null,
            "max_height": null,
            "max_width": null,
            "min_height": null,
            "min_width": null,
            "object_fit": null,
            "object_position": null,
            "order": null,
            "overflow": null,
            "overflow_x": null,
            "overflow_y": null,
            "padding": null,
            "right": null,
            "top": null,
            "visibility": null,
            "width": null
          }
        },
        "8bce6074c176452ba1a7447f0abc66e5": {
          "model_module": "@jupyter-widgets/controls",
          "model_name": "DescriptionStyleModel",
          "model_module_version": "1.5.0",
          "state": {
            "_model_module": "@jupyter-widgets/controls",
            "_model_module_version": "1.5.0",
            "_model_name": "DescriptionStyleModel",
            "_view_count": null,
            "_view_module": "@jupyter-widgets/base",
            "_view_module_version": "1.2.0",
            "_view_name": "StyleView",
            "description_width": ""
          }
        },
        "1c2b48658d6442d18702e84fcb8e6712": {
          "model_module": "@jupyter-widgets/controls",
          "model_name": "HBoxModel",
          "model_module_version": "1.5.0",
          "state": {
            "_dom_classes": [],
            "_model_module": "@jupyter-widgets/controls",
            "_model_module_version": "1.5.0",
            "_model_name": "HBoxModel",
            "_view_count": null,
            "_view_module": "@jupyter-widgets/controls",
            "_view_module_version": "1.5.0",
            "_view_name": "HBoxView",
            "box_style": "",
            "children": [
              "IPY_MODEL_2bd61f978f184832a1210db3446e40a2",
              "IPY_MODEL_04dc6193330745269ab7b6346ce759fe",
              "IPY_MODEL_ebdaad68fd8542b2b7e86a7b73526efb"
            ],
            "layout": "IPY_MODEL_2cf0edb5054448b6a356b3880afe3f1b"
          }
        },
        "2bd61f978f184832a1210db3446e40a2": {
          "model_module": "@jupyter-widgets/controls",
          "model_name": "HTMLModel",
          "model_module_version": "1.5.0",
          "state": {
            "_dom_classes": [],
            "_model_module": "@jupyter-widgets/controls",
            "_model_module_version": "1.5.0",
            "_model_name": "HTMLModel",
            "_view_count": null,
            "_view_module": "@jupyter-widgets/controls",
            "_view_module_version": "1.5.0",
            "_view_name": "HTMLView",
            "description": "",
            "description_tooltip": null,
            "layout": "IPY_MODEL_1f7d143718d34dc8a003b09fec25485c",
            "placeholder": "​",
            "style": "IPY_MODEL_22e24224a60943a186ed116959cf63ea",
            "value": "Downloading: 100%"
          }
        },
        "04dc6193330745269ab7b6346ce759fe": {
          "model_module": "@jupyter-widgets/controls",
          "model_name": "FloatProgressModel",
          "model_module_version": "1.5.0",
          "state": {
            "_dom_classes": [],
            "_model_module": "@jupyter-widgets/controls",
            "_model_module_version": "1.5.0",
            "_model_name": "FloatProgressModel",
            "_view_count": null,
            "_view_module": "@jupyter-widgets/controls",
            "_view_module_version": "1.5.0",
            "_view_name": "ProgressView",
            "bar_style": "success",
            "description": "",
            "description_tooltip": null,
            "layout": "IPY_MODEL_bae0d02f294d497f96cd5ad1285f27bd",
            "max": 521414,
            "min": 0,
            "orientation": "horizontal",
            "style": "IPY_MODEL_feb3275980a744efac0ae0954b450a3a",
            "value": 521414
          }
        },
        "ebdaad68fd8542b2b7e86a7b73526efb": {
          "model_module": "@jupyter-widgets/controls",
          "model_name": "HTMLModel",
          "model_module_version": "1.5.0",
          "state": {
            "_dom_classes": [],
            "_model_module": "@jupyter-widgets/controls",
            "_model_module_version": "1.5.0",
            "_model_name": "HTMLModel",
            "_view_count": null,
            "_view_module": "@jupyter-widgets/controls",
            "_view_module_version": "1.5.0",
            "_view_name": "HTMLView",
            "description": "",
            "description_tooltip": null,
            "layout": "IPY_MODEL_2e94339d882d494d9225a732f195e516",
            "placeholder": "​",
            "style": "IPY_MODEL_33354a5ee1ae45b89421819c3932a50f",
            "value": " 521k/521k [00:00&lt;00:00, 8.36MB/s]"
          }
        },
        "2cf0edb5054448b6a356b3880afe3f1b": {
          "model_module": "@jupyter-widgets/base",
          "model_name": "LayoutModel",
          "model_module_version": "1.2.0",
          "state": {
            "_model_module": "@jupyter-widgets/base",
            "_model_module_version": "1.2.0",
            "_model_name": "LayoutModel",
            "_view_count": null,
            "_view_module": "@jupyter-widgets/base",
            "_view_module_version": "1.2.0",
            "_view_name": "LayoutView",
            "align_content": null,
            "align_items": null,
            "align_self": null,
            "border": null,
            "bottom": null,
            "display": null,
            "flex": null,
            "flex_flow": null,
            "grid_area": null,
            "grid_auto_columns": null,
            "grid_auto_flow": null,
            "grid_auto_rows": null,
            "grid_column": null,
            "grid_gap": null,
            "grid_row": null,
            "grid_template_areas": null,
            "grid_template_columns": null,
            "grid_template_rows": null,
            "height": null,
            "justify_content": null,
            "justify_items": null,
            "left": null,
            "margin": null,
            "max_height": null,
            "max_width": null,
            "min_height": null,
            "min_width": null,
            "object_fit": null,
            "object_position": null,
            "order": null,
            "overflow": null,
            "overflow_x": null,
            "overflow_y": null,
            "padding": null,
            "right": null,
            "top": null,
            "visibility": null,
            "width": null
          }
        },
        "1f7d143718d34dc8a003b09fec25485c": {
          "model_module": "@jupyter-widgets/base",
          "model_name": "LayoutModel",
          "model_module_version": "1.2.0",
          "state": {
            "_model_module": "@jupyter-widgets/base",
            "_model_module_version": "1.2.0",
            "_model_name": "LayoutModel",
            "_view_count": null,
            "_view_module": "@jupyter-widgets/base",
            "_view_module_version": "1.2.0",
            "_view_name": "LayoutView",
            "align_content": null,
            "align_items": null,
            "align_self": null,
            "border": null,
            "bottom": null,
            "display": null,
            "flex": null,
            "flex_flow": null,
            "grid_area": null,
            "grid_auto_columns": null,
            "grid_auto_flow": null,
            "grid_auto_rows": null,
            "grid_column": null,
            "grid_gap": null,
            "grid_row": null,
            "grid_template_areas": null,
            "grid_template_columns": null,
            "grid_template_rows": null,
            "height": null,
            "justify_content": null,
            "justify_items": null,
            "left": null,
            "margin": null,
            "max_height": null,
            "max_width": null,
            "min_height": null,
            "min_width": null,
            "object_fit": null,
            "object_position": null,
            "order": null,
            "overflow": null,
            "overflow_x": null,
            "overflow_y": null,
            "padding": null,
            "right": null,
            "top": null,
            "visibility": null,
            "width": null
          }
        },
        "22e24224a60943a186ed116959cf63ea": {
          "model_module": "@jupyter-widgets/controls",
          "model_name": "DescriptionStyleModel",
          "model_module_version": "1.5.0",
          "state": {
            "_model_module": "@jupyter-widgets/controls",
            "_model_module_version": "1.5.0",
            "_model_name": "DescriptionStyleModel",
            "_view_count": null,
            "_view_module": "@jupyter-widgets/base",
            "_view_module_version": "1.2.0",
            "_view_name": "StyleView",
            "description_width": ""
          }
        },
        "bae0d02f294d497f96cd5ad1285f27bd": {
          "model_module": "@jupyter-widgets/base",
          "model_name": "LayoutModel",
          "model_module_version": "1.2.0",
          "state": {
            "_model_module": "@jupyter-widgets/base",
            "_model_module_version": "1.2.0",
            "_model_name": "LayoutModel",
            "_view_count": null,
            "_view_module": "@jupyter-widgets/base",
            "_view_module_version": "1.2.0",
            "_view_name": "LayoutView",
            "align_content": null,
            "align_items": null,
            "align_self": null,
            "border": null,
            "bottom": null,
            "display": null,
            "flex": null,
            "flex_flow": null,
            "grid_area": null,
            "grid_auto_columns": null,
            "grid_auto_flow": null,
            "grid_auto_rows": null,
            "grid_column": null,
            "grid_gap": null,
            "grid_row": null,
            "grid_template_areas": null,
            "grid_template_columns": null,
            "grid_template_rows": null,
            "height": null,
            "justify_content": null,
            "justify_items": null,
            "left": null,
            "margin": null,
            "max_height": null,
            "max_width": null,
            "min_height": null,
            "min_width": null,
            "object_fit": null,
            "object_position": null,
            "order": null,
            "overflow": null,
            "overflow_x": null,
            "overflow_y": null,
            "padding": null,
            "right": null,
            "top": null,
            "visibility": null,
            "width": null
          }
        },
        "feb3275980a744efac0ae0954b450a3a": {
          "model_module": "@jupyter-widgets/controls",
          "model_name": "ProgressStyleModel",
          "model_module_version": "1.5.0",
          "state": {
            "_model_module": "@jupyter-widgets/controls",
            "_model_module_version": "1.5.0",
            "_model_name": "ProgressStyleModel",
            "_view_count": null,
            "_view_module": "@jupyter-widgets/base",
            "_view_module_version": "1.2.0",
            "_view_name": "StyleView",
            "bar_color": null,
            "description_width": ""
          }
        },
        "2e94339d882d494d9225a732f195e516": {
          "model_module": "@jupyter-widgets/base",
          "model_name": "LayoutModel",
          "model_module_version": "1.2.0",
          "state": {
            "_model_module": "@jupyter-widgets/base",
            "_model_module_version": "1.2.0",
            "_model_name": "LayoutModel",
            "_view_count": null,
            "_view_module": "@jupyter-widgets/base",
            "_view_module_version": "1.2.0",
            "_view_name": "LayoutView",
            "align_content": null,
            "align_items": null,
            "align_self": null,
            "border": null,
            "bottom": null,
            "display": null,
            "flex": null,
            "flex_flow": null,
            "grid_area": null,
            "grid_auto_columns": null,
            "grid_auto_flow": null,
            "grid_auto_rows": null,
            "grid_column": null,
            "grid_gap": null,
            "grid_row": null,
            "grid_template_areas": null,
            "grid_template_columns": null,
            "grid_template_rows": null,
            "height": null,
            "justify_content": null,
            "justify_items": null,
            "left": null,
            "margin": null,
            "max_height": null,
            "max_width": null,
            "min_height": null,
            "min_width": null,
            "object_fit": null,
            "object_position": null,
            "order": null,
            "overflow": null,
            "overflow_x": null,
            "overflow_y": null,
            "padding": null,
            "right": null,
            "top": null,
            "visibility": null,
            "width": null
          }
        },
        "33354a5ee1ae45b89421819c3932a50f": {
          "model_module": "@jupyter-widgets/controls",
          "model_name": "DescriptionStyleModel",
          "model_module_version": "1.5.0",
          "state": {
            "_model_module": "@jupyter-widgets/controls",
            "_model_module_version": "1.5.0",
            "_model_name": "DescriptionStyleModel",
            "_view_count": null,
            "_view_module": "@jupyter-widgets/base",
            "_view_module_version": "1.2.0",
            "_view_name": "StyleView",
            "description_width": ""
          }
        },
        "53f7373e3e754b15b8892dc557ecb16d": {
          "model_module": "@jupyter-widgets/controls",
          "model_name": "HBoxModel",
          "model_module_version": "1.5.0",
          "state": {
            "_dom_classes": [],
            "_model_module": "@jupyter-widgets/controls",
            "_model_module_version": "1.5.0",
            "_model_name": "HBoxModel",
            "_view_count": null,
            "_view_module": "@jupyter-widgets/controls",
            "_view_module_version": "1.5.0",
            "_view_name": "HBoxView",
            "box_style": "",
            "children": [
              "IPY_MODEL_4b9fd9be3b054778bb68ebe4570ce60c",
              "IPY_MODEL_faa86cb7f0c1432ab5df4c845904ffc0",
              "IPY_MODEL_a78604620d814725be191290fbdf15d7"
            ],
            "layout": "IPY_MODEL_506744bea92e47bdad03c6609fdf314c"
          }
        },
        "4b9fd9be3b054778bb68ebe4570ce60c": {
          "model_module": "@jupyter-widgets/controls",
          "model_name": "HTMLModel",
          "model_module_version": "1.5.0",
          "state": {
            "_dom_classes": [],
            "_model_module": "@jupyter-widgets/controls",
            "_model_module_version": "1.5.0",
            "_model_name": "HTMLModel",
            "_view_count": null,
            "_view_module": "@jupyter-widgets/controls",
            "_view_module_version": "1.5.0",
            "_view_name": "HTMLView",
            "description": "",
            "description_tooltip": null,
            "layout": "IPY_MODEL_d1c3d3684f054d68b82b2f92c25800da",
            "placeholder": "​",
            "style": "IPY_MODEL_2f34372a77ee4923858d5aa22ba2feba",
            "value": "Downloading: 100%"
          }
        },
        "faa86cb7f0c1432ab5df4c845904ffc0": {
          "model_module": "@jupyter-widgets/controls",
          "model_name": "FloatProgressModel",
          "model_module_version": "1.5.0",
          "state": {
            "_dom_classes": [],
            "_model_module": "@jupyter-widgets/controls",
            "_model_module_version": "1.5.0",
            "_model_name": "FloatProgressModel",
            "_view_count": null,
            "_view_module": "@jupyter-widgets/controls",
            "_view_module_version": "1.5.0",
            "_view_name": "ProgressView",
            "bar_style": "success",
            "description": "",
            "description_tooltip": null,
            "layout": "IPY_MODEL_d44f8c81d81148dbbc7869515ce1cf37",
            "max": 112,
            "min": 0,
            "orientation": "horizontal",
            "style": "IPY_MODEL_c52d032598bd4642b4674ddd1f0bb569",
            "value": 112
          }
        },
        "a78604620d814725be191290fbdf15d7": {
          "model_module": "@jupyter-widgets/controls",
          "model_name": "HTMLModel",
          "model_module_version": "1.5.0",
          "state": {
            "_dom_classes": [],
            "_model_module": "@jupyter-widgets/controls",
            "_model_module_version": "1.5.0",
            "_model_name": "HTMLModel",
            "_view_count": null,
            "_view_module": "@jupyter-widgets/controls",
            "_view_module_version": "1.5.0",
            "_view_name": "HTMLView",
            "description": "",
            "description_tooltip": null,
            "layout": "IPY_MODEL_4a4a15b713814d1daa3f0564f07361b8",
            "placeholder": "​",
            "style": "IPY_MODEL_60cd138f421c4689981eb95a476562a6",
            "value": " 112/112 [00:00&lt;00:00, 3.51kB/s]"
          }
        },
        "506744bea92e47bdad03c6609fdf314c": {
          "model_module": "@jupyter-widgets/base",
          "model_name": "LayoutModel",
          "model_module_version": "1.2.0",
          "state": {
            "_model_module": "@jupyter-widgets/base",
            "_model_module_version": "1.2.0",
            "_model_name": "LayoutModel",
            "_view_count": null,
            "_view_module": "@jupyter-widgets/base",
            "_view_module_version": "1.2.0",
            "_view_name": "LayoutView",
            "align_content": null,
            "align_items": null,
            "align_self": null,
            "border": null,
            "bottom": null,
            "display": null,
            "flex": null,
            "flex_flow": null,
            "grid_area": null,
            "grid_auto_columns": null,
            "grid_auto_flow": null,
            "grid_auto_rows": null,
            "grid_column": null,
            "grid_gap": null,
            "grid_row": null,
            "grid_template_areas": null,
            "grid_template_columns": null,
            "grid_template_rows": null,
            "height": null,
            "justify_content": null,
            "justify_items": null,
            "left": null,
            "margin": null,
            "max_height": null,
            "max_width": null,
            "min_height": null,
            "min_width": null,
            "object_fit": null,
            "object_position": null,
            "order": null,
            "overflow": null,
            "overflow_x": null,
            "overflow_y": null,
            "padding": null,
            "right": null,
            "top": null,
            "visibility": null,
            "width": null
          }
        },
        "d1c3d3684f054d68b82b2f92c25800da": {
          "model_module": "@jupyter-widgets/base",
          "model_name": "LayoutModel",
          "model_module_version": "1.2.0",
          "state": {
            "_model_module": "@jupyter-widgets/base",
            "_model_module_version": "1.2.0",
            "_model_name": "LayoutModel",
            "_view_count": null,
            "_view_module": "@jupyter-widgets/base",
            "_view_module_version": "1.2.0",
            "_view_name": "LayoutView",
            "align_content": null,
            "align_items": null,
            "align_self": null,
            "border": null,
            "bottom": null,
            "display": null,
            "flex": null,
            "flex_flow": null,
            "grid_area": null,
            "grid_auto_columns": null,
            "grid_auto_flow": null,
            "grid_auto_rows": null,
            "grid_column": null,
            "grid_gap": null,
            "grid_row": null,
            "grid_template_areas": null,
            "grid_template_columns": null,
            "grid_template_rows": null,
            "height": null,
            "justify_content": null,
            "justify_items": null,
            "left": null,
            "margin": null,
            "max_height": null,
            "max_width": null,
            "min_height": null,
            "min_width": null,
            "object_fit": null,
            "object_position": null,
            "order": null,
            "overflow": null,
            "overflow_x": null,
            "overflow_y": null,
            "padding": null,
            "right": null,
            "top": null,
            "visibility": null,
            "width": null
          }
        },
        "2f34372a77ee4923858d5aa22ba2feba": {
          "model_module": "@jupyter-widgets/controls",
          "model_name": "DescriptionStyleModel",
          "model_module_version": "1.5.0",
          "state": {
            "_model_module": "@jupyter-widgets/controls",
            "_model_module_version": "1.5.0",
            "_model_name": "DescriptionStyleModel",
            "_view_count": null,
            "_view_module": "@jupyter-widgets/base",
            "_view_module_version": "1.2.0",
            "_view_name": "StyleView",
            "description_width": ""
          }
        },
        "d44f8c81d81148dbbc7869515ce1cf37": {
          "model_module": "@jupyter-widgets/base",
          "model_name": "LayoutModel",
          "model_module_version": "1.2.0",
          "state": {
            "_model_module": "@jupyter-widgets/base",
            "_model_module_version": "1.2.0",
            "_model_name": "LayoutModel",
            "_view_count": null,
            "_view_module": "@jupyter-widgets/base",
            "_view_module_version": "1.2.0",
            "_view_name": "LayoutView",
            "align_content": null,
            "align_items": null,
            "align_self": null,
            "border": null,
            "bottom": null,
            "display": null,
            "flex": null,
            "flex_flow": null,
            "grid_area": null,
            "grid_auto_columns": null,
            "grid_auto_flow": null,
            "grid_auto_rows": null,
            "grid_column": null,
            "grid_gap": null,
            "grid_row": null,
            "grid_template_areas": null,
            "grid_template_columns": null,
            "grid_template_rows": null,
            "height": null,
            "justify_content": null,
            "justify_items": null,
            "left": null,
            "margin": null,
            "max_height": null,
            "max_width": null,
            "min_height": null,
            "min_width": null,
            "object_fit": null,
            "object_position": null,
            "order": null,
            "overflow": null,
            "overflow_x": null,
            "overflow_y": null,
            "padding": null,
            "right": null,
            "top": null,
            "visibility": null,
            "width": null
          }
        },
        "c52d032598bd4642b4674ddd1f0bb569": {
          "model_module": "@jupyter-widgets/controls",
          "model_name": "ProgressStyleModel",
          "model_module_version": "1.5.0",
          "state": {
            "_model_module": "@jupyter-widgets/controls",
            "_model_module_version": "1.5.0",
            "_model_name": "ProgressStyleModel",
            "_view_count": null,
            "_view_module": "@jupyter-widgets/base",
            "_view_module_version": "1.2.0",
            "_view_name": "StyleView",
            "bar_color": null,
            "description_width": ""
          }
        },
        "4a4a15b713814d1daa3f0564f07361b8": {
          "model_module": "@jupyter-widgets/base",
          "model_name": "LayoutModel",
          "model_module_version": "1.2.0",
          "state": {
            "_model_module": "@jupyter-widgets/base",
            "_model_module_version": "1.2.0",
            "_model_name": "LayoutModel",
            "_view_count": null,
            "_view_module": "@jupyter-widgets/base",
            "_view_module_version": "1.2.0",
            "_view_name": "LayoutView",
            "align_content": null,
            "align_items": null,
            "align_self": null,
            "border": null,
            "bottom": null,
            "display": null,
            "flex": null,
            "flex_flow": null,
            "grid_area": null,
            "grid_auto_columns": null,
            "grid_auto_flow": null,
            "grid_auto_rows": null,
            "grid_column": null,
            "grid_gap": null,
            "grid_row": null,
            "grid_template_areas": null,
            "grid_template_columns": null,
            "grid_template_rows": null,
            "height": null,
            "justify_content": null,
            "justify_items": null,
            "left": null,
            "margin": null,
            "max_height": null,
            "max_width": null,
            "min_height": null,
            "min_width": null,
            "object_fit": null,
            "object_position": null,
            "order": null,
            "overflow": null,
            "overflow_x": null,
            "overflow_y": null,
            "padding": null,
            "right": null,
            "top": null,
            "visibility": null,
            "width": null
          }
        },
        "60cd138f421c4689981eb95a476562a6": {
          "model_module": "@jupyter-widgets/controls",
          "model_name": "DescriptionStyleModel",
          "model_module_version": "1.5.0",
          "state": {
            "_model_module": "@jupyter-widgets/controls",
            "_model_module_version": "1.5.0",
            "_model_name": "DescriptionStyleModel",
            "_view_count": null,
            "_view_module": "@jupyter-widgets/base",
            "_view_module_version": "1.2.0",
            "_view_name": "StyleView",
            "description_width": ""
          }
        },
        "f80ee77db05b4ef3ad5a8fb1df6bb6d7": {
          "model_module": "@jupyter-widgets/controls",
          "model_name": "HBoxModel",
          "model_module_version": "1.5.0",
          "state": {
            "_dom_classes": [],
            "_model_module": "@jupyter-widgets/controls",
            "_model_module_version": "1.5.0",
            "_model_name": "HBoxModel",
            "_view_count": null,
            "_view_module": "@jupyter-widgets/controls",
            "_view_module_version": "1.5.0",
            "_view_name": "HBoxView",
            "box_style": "",
            "children": [
              "IPY_MODEL_ad259199a7bd4977963503818682d3c4",
              "IPY_MODEL_880369f53dc6437196881da58d68cd7d",
              "IPY_MODEL_69b5b20106254334bf8239166711972a"
            ],
            "layout": "IPY_MODEL_b8acd67fc89a43cfa87573b5ba98ecd6"
          }
        },
        "ad259199a7bd4977963503818682d3c4": {
          "model_module": "@jupyter-widgets/controls",
          "model_name": "HTMLModel",
          "model_module_version": "1.5.0",
          "state": {
            "_dom_classes": [],
            "_model_module": "@jupyter-widgets/controls",
            "_model_module_version": "1.5.0",
            "_model_name": "HTMLModel",
            "_view_count": null,
            "_view_module": "@jupyter-widgets/controls",
            "_view_module_version": "1.5.0",
            "_view_name": "HTMLView",
            "description": "",
            "description_tooltip": null,
            "layout": "IPY_MODEL_136854d05afe4c9ead857420b70a8df6",
            "placeholder": "​",
            "style": "IPY_MODEL_8f0792d9f4be47b5b1e78e258d391f58",
            "value": "Downloading: 100%"
          }
        },
        "880369f53dc6437196881da58d68cd7d": {
          "model_module": "@jupyter-widgets/controls",
          "model_name": "FloatProgressModel",
          "model_module_version": "1.5.0",
          "state": {
            "_dom_classes": [],
            "_model_module": "@jupyter-widgets/controls",
            "_model_module_version": "1.5.0",
            "_model_name": "FloatProgressModel",
            "_view_count": null,
            "_view_module": "@jupyter-widgets/controls",
            "_view_module_version": "1.5.0",
            "_view_name": "ProgressView",
            "bar_style": "success",
            "description": "",
            "description_tooltip": null,
            "layout": "IPY_MODEL_3cc970e5b7d14266b61398cb02845e10",
            "max": 516063655,
            "min": 0,
            "orientation": "horizontal",
            "style": "IPY_MODEL_732cace240684f4c9fb6cc07cf2018b5",
            "value": 516063655
          }
        },
        "69b5b20106254334bf8239166711972a": {
          "model_module": "@jupyter-widgets/controls",
          "model_name": "HTMLModel",
          "model_module_version": "1.5.0",
          "state": {
            "_dom_classes": [],
            "_model_module": "@jupyter-widgets/controls",
            "_model_module_version": "1.5.0",
            "_model_name": "HTMLModel",
            "_view_count": null,
            "_view_module": "@jupyter-widgets/controls",
            "_view_module_version": "1.5.0",
            "_view_name": "HTMLView",
            "description": "",
            "description_tooltip": null,
            "layout": "IPY_MODEL_4b9774b140f74864ad88fbf76f1ad703",
            "placeholder": "​",
            "style": "IPY_MODEL_fea0ade4cb7c42ada4d4e90fc2d3dd84",
            "value": " 516M/516M [00:14&lt;00:00, 27.9MB/s]"
          }
        },
        "b8acd67fc89a43cfa87573b5ba98ecd6": {
          "model_module": "@jupyter-widgets/base",
          "model_name": "LayoutModel",
          "model_module_version": "1.2.0",
          "state": {
            "_model_module": "@jupyter-widgets/base",
            "_model_module_version": "1.2.0",
            "_model_name": "LayoutModel",
            "_view_count": null,
            "_view_module": "@jupyter-widgets/base",
            "_view_module_version": "1.2.0",
            "_view_name": "LayoutView",
            "align_content": null,
            "align_items": null,
            "align_self": null,
            "border": null,
            "bottom": null,
            "display": null,
            "flex": null,
            "flex_flow": null,
            "grid_area": null,
            "grid_auto_columns": null,
            "grid_auto_flow": null,
            "grid_auto_rows": null,
            "grid_column": null,
            "grid_gap": null,
            "grid_row": null,
            "grid_template_areas": null,
            "grid_template_columns": null,
            "grid_template_rows": null,
            "height": null,
            "justify_content": null,
            "justify_items": null,
            "left": null,
            "margin": null,
            "max_height": null,
            "max_width": null,
            "min_height": null,
            "min_width": null,
            "object_fit": null,
            "object_position": null,
            "order": null,
            "overflow": null,
            "overflow_x": null,
            "overflow_y": null,
            "padding": null,
            "right": null,
            "top": null,
            "visibility": null,
            "width": null
          }
        },
        "136854d05afe4c9ead857420b70a8df6": {
          "model_module": "@jupyter-widgets/base",
          "model_name": "LayoutModel",
          "model_module_version": "1.2.0",
          "state": {
            "_model_module": "@jupyter-widgets/base",
            "_model_module_version": "1.2.0",
            "_model_name": "LayoutModel",
            "_view_count": null,
            "_view_module": "@jupyter-widgets/base",
            "_view_module_version": "1.2.0",
            "_view_name": "LayoutView",
            "align_content": null,
            "align_items": null,
            "align_self": null,
            "border": null,
            "bottom": null,
            "display": null,
            "flex": null,
            "flex_flow": null,
            "grid_area": null,
            "grid_auto_columns": null,
            "grid_auto_flow": null,
            "grid_auto_rows": null,
            "grid_column": null,
            "grid_gap": null,
            "grid_row": null,
            "grid_template_areas": null,
            "grid_template_columns": null,
            "grid_template_rows": null,
            "height": null,
            "justify_content": null,
            "justify_items": null,
            "left": null,
            "margin": null,
            "max_height": null,
            "max_width": null,
            "min_height": null,
            "min_width": null,
            "object_fit": null,
            "object_position": null,
            "order": null,
            "overflow": null,
            "overflow_x": null,
            "overflow_y": null,
            "padding": null,
            "right": null,
            "top": null,
            "visibility": null,
            "width": null
          }
        },
        "8f0792d9f4be47b5b1e78e258d391f58": {
          "model_module": "@jupyter-widgets/controls",
          "model_name": "DescriptionStyleModel",
          "model_module_version": "1.5.0",
          "state": {
            "_model_module": "@jupyter-widgets/controls",
            "_model_module_version": "1.5.0",
            "_model_name": "DescriptionStyleModel",
            "_view_count": null,
            "_view_module": "@jupyter-widgets/base",
            "_view_module_version": "1.2.0",
            "_view_name": "StyleView",
            "description_width": ""
          }
        },
        "3cc970e5b7d14266b61398cb02845e10": {
          "model_module": "@jupyter-widgets/base",
          "model_name": "LayoutModel",
          "model_module_version": "1.2.0",
          "state": {
            "_model_module": "@jupyter-widgets/base",
            "_model_module_version": "1.2.0",
            "_model_name": "LayoutModel",
            "_view_count": null,
            "_view_module": "@jupyter-widgets/base",
            "_view_module_version": "1.2.0",
            "_view_name": "LayoutView",
            "align_content": null,
            "align_items": null,
            "align_self": null,
            "border": null,
            "bottom": null,
            "display": null,
            "flex": null,
            "flex_flow": null,
            "grid_area": null,
            "grid_auto_columns": null,
            "grid_auto_flow": null,
            "grid_auto_rows": null,
            "grid_column": null,
            "grid_gap": null,
            "grid_row": null,
            "grid_template_areas": null,
            "grid_template_columns": null,
            "grid_template_rows": null,
            "height": null,
            "justify_content": null,
            "justify_items": null,
            "left": null,
            "margin": null,
            "max_height": null,
            "max_width": null,
            "min_height": null,
            "min_width": null,
            "object_fit": null,
            "object_position": null,
            "order": null,
            "overflow": null,
            "overflow_x": null,
            "overflow_y": null,
            "padding": null,
            "right": null,
            "top": null,
            "visibility": null,
            "width": null
          }
        },
        "732cace240684f4c9fb6cc07cf2018b5": {
          "model_module": "@jupyter-widgets/controls",
          "model_name": "ProgressStyleModel",
          "model_module_version": "1.5.0",
          "state": {
            "_model_module": "@jupyter-widgets/controls",
            "_model_module_version": "1.5.0",
            "_model_name": "ProgressStyleModel",
            "_view_count": null,
            "_view_module": "@jupyter-widgets/base",
            "_view_module_version": "1.2.0",
            "_view_name": "StyleView",
            "bar_color": null,
            "description_width": ""
          }
        },
        "4b9774b140f74864ad88fbf76f1ad703": {
          "model_module": "@jupyter-widgets/base",
          "model_name": "LayoutModel",
          "model_module_version": "1.2.0",
          "state": {
            "_model_module": "@jupyter-widgets/base",
            "_model_module_version": "1.2.0",
            "_model_name": "LayoutModel",
            "_view_count": null,
            "_view_module": "@jupyter-widgets/base",
            "_view_module_version": "1.2.0",
            "_view_name": "LayoutView",
            "align_content": null,
            "align_items": null,
            "align_self": null,
            "border": null,
            "bottom": null,
            "display": null,
            "flex": null,
            "flex_flow": null,
            "grid_area": null,
            "grid_auto_columns": null,
            "grid_auto_flow": null,
            "grid_auto_rows": null,
            "grid_column": null,
            "grid_gap": null,
            "grid_row": null,
            "grid_template_areas": null,
            "grid_template_columns": null,
            "grid_template_rows": null,
            "height": null,
            "justify_content": null,
            "justify_items": null,
            "left": null,
            "margin": null,
            "max_height": null,
            "max_width": null,
            "min_height": null,
            "min_width": null,
            "object_fit": null,
            "object_position": null,
            "order": null,
            "overflow": null,
            "overflow_x": null,
            "overflow_y": null,
            "padding": null,
            "right": null,
            "top": null,
            "visibility": null,
            "width": null
          }
        },
        "fea0ade4cb7c42ada4d4e90fc2d3dd84": {
          "model_module": "@jupyter-widgets/controls",
          "model_name": "DescriptionStyleModel",
          "model_module_version": "1.5.0",
          "state": {
            "_model_module": "@jupyter-widgets/controls",
            "_model_module_version": "1.5.0",
            "_model_name": "DescriptionStyleModel",
            "_view_count": null,
            "_view_module": "@jupyter-widgets/base",
            "_view_module_version": "1.2.0",
            "_view_name": "StyleView",
            "description_width": ""
          }
        },
        "734f03f0ba184a08be6d2ab4d0139d2c": {
          "model_module": "@jupyter-widgets/controls",
          "model_name": "HBoxModel",
          "model_module_version": "1.5.0",
          "state": {
            "_dom_classes": [],
            "_model_module": "@jupyter-widgets/controls",
            "_model_module_version": "1.5.0",
            "_model_name": "HBoxModel",
            "_view_count": null,
            "_view_module": "@jupyter-widgets/controls",
            "_view_module_version": "1.5.0",
            "_view_name": "HBoxView",
            "box_style": "",
            "children": [
              "IPY_MODEL_f325edaa2c504b85999b76478774b89c",
              "IPY_MODEL_afe681af0f0a47c099709e4927db99e2",
              "IPY_MODEL_9f06d471e8114ba19b3a6871109cd1fa"
            ],
            "layout": "IPY_MODEL_9a97674fcc36474683db73c45416527b"
          }
        },
        "f325edaa2c504b85999b76478774b89c": {
          "model_module": "@jupyter-widgets/controls",
          "model_name": "HTMLModel",
          "model_module_version": "1.5.0",
          "state": {
            "_dom_classes": [],
            "_model_module": "@jupyter-widgets/controls",
            "_model_module_version": "1.5.0",
            "_model_name": "HTMLModel",
            "_view_count": null,
            "_view_module": "@jupyter-widgets/controls",
            "_view_module_version": "1.5.0",
            "_view_name": "HTMLView",
            "description": "",
            "description_tooltip": null,
            "layout": "IPY_MODEL_01076e614e824572abd0a8610921a545",
            "placeholder": "​",
            "style": "IPY_MODEL_92021c0bd1754b30bc7b04db11d482bf",
            "value": "100%"
          }
        },
        "afe681af0f0a47c099709e4927db99e2": {
          "model_module": "@jupyter-widgets/controls",
          "model_name": "FloatProgressModel",
          "model_module_version": "1.5.0",
          "state": {
            "_dom_classes": [],
            "_model_module": "@jupyter-widgets/controls",
            "_model_module_version": "1.5.0",
            "_model_name": "FloatProgressModel",
            "_view_count": null,
            "_view_module": "@jupyter-widgets/controls",
            "_view_module_version": "1.5.0",
            "_view_name": "ProgressView",
            "bar_style": "success",
            "description": "",
            "description_tooltip": null,
            "layout": "IPY_MODEL_51b44503e9784e5d89f41c2d88e51f90",
            "max": 963,
            "min": 0,
            "orientation": "horizontal",
            "style": "IPY_MODEL_2a1232fd0eab4566b1810d7b697d5b38",
            "value": 963
          }
        },
        "9f06d471e8114ba19b3a6871109cd1fa": {
          "model_module": "@jupyter-widgets/controls",
          "model_name": "HTMLModel",
          "model_module_version": "1.5.0",
          "state": {
            "_dom_classes": [],
            "_model_module": "@jupyter-widgets/controls",
            "_model_module_version": "1.5.0",
            "_model_name": "HTMLModel",
            "_view_count": null,
            "_view_module": "@jupyter-widgets/controls",
            "_view_module_version": "1.5.0",
            "_view_name": "HTMLView",
            "description": "",
            "description_tooltip": null,
            "layout": "IPY_MODEL_6b8de1612a3e44ad90525d739419ae0b",
            "placeholder": "​",
            "style": "IPY_MODEL_e1eda0753ee84183b4add9806b20133f",
            "value": " 963/963 [00:13&lt;00:00, 72.05it/s]"
          }
        },
        "9a97674fcc36474683db73c45416527b": {
          "model_module": "@jupyter-widgets/base",
          "model_name": "LayoutModel",
          "model_module_version": "1.2.0",
          "state": {
            "_model_module": "@jupyter-widgets/base",
            "_model_module_version": "1.2.0",
            "_model_name": "LayoutModel",
            "_view_count": null,
            "_view_module": "@jupyter-widgets/base",
            "_view_module_version": "1.2.0",
            "_view_name": "LayoutView",
            "align_content": null,
            "align_items": null,
            "align_self": null,
            "border": null,
            "bottom": null,
            "display": null,
            "flex": null,
            "flex_flow": null,
            "grid_area": null,
            "grid_auto_columns": null,
            "grid_auto_flow": null,
            "grid_auto_rows": null,
            "grid_column": null,
            "grid_gap": null,
            "grid_row": null,
            "grid_template_areas": null,
            "grid_template_columns": null,
            "grid_template_rows": null,
            "height": null,
            "justify_content": null,
            "justify_items": null,
            "left": null,
            "margin": null,
            "max_height": null,
            "max_width": null,
            "min_height": null,
            "min_width": null,
            "object_fit": null,
            "object_position": null,
            "order": null,
            "overflow": null,
            "overflow_x": null,
            "overflow_y": null,
            "padding": null,
            "right": null,
            "top": null,
            "visibility": null,
            "width": null
          }
        },
        "01076e614e824572abd0a8610921a545": {
          "model_module": "@jupyter-widgets/base",
          "model_name": "LayoutModel",
          "model_module_version": "1.2.0",
          "state": {
            "_model_module": "@jupyter-widgets/base",
            "_model_module_version": "1.2.0",
            "_model_name": "LayoutModel",
            "_view_count": null,
            "_view_module": "@jupyter-widgets/base",
            "_view_module_version": "1.2.0",
            "_view_name": "LayoutView",
            "align_content": null,
            "align_items": null,
            "align_self": null,
            "border": null,
            "bottom": null,
            "display": null,
            "flex": null,
            "flex_flow": null,
            "grid_area": null,
            "grid_auto_columns": null,
            "grid_auto_flow": null,
            "grid_auto_rows": null,
            "grid_column": null,
            "grid_gap": null,
            "grid_row": null,
            "grid_template_areas": null,
            "grid_template_columns": null,
            "grid_template_rows": null,
            "height": null,
            "justify_content": null,
            "justify_items": null,
            "left": null,
            "margin": null,
            "max_height": null,
            "max_width": null,
            "min_height": null,
            "min_width": null,
            "object_fit": null,
            "object_position": null,
            "order": null,
            "overflow": null,
            "overflow_x": null,
            "overflow_y": null,
            "padding": null,
            "right": null,
            "top": null,
            "visibility": null,
            "width": null
          }
        },
        "92021c0bd1754b30bc7b04db11d482bf": {
          "model_module": "@jupyter-widgets/controls",
          "model_name": "DescriptionStyleModel",
          "model_module_version": "1.5.0",
          "state": {
            "_model_module": "@jupyter-widgets/controls",
            "_model_module_version": "1.5.0",
            "_model_name": "DescriptionStyleModel",
            "_view_count": null,
            "_view_module": "@jupyter-widgets/base",
            "_view_module_version": "1.2.0",
            "_view_name": "StyleView",
            "description_width": ""
          }
        },
        "51b44503e9784e5d89f41c2d88e51f90": {
          "model_module": "@jupyter-widgets/base",
          "model_name": "LayoutModel",
          "model_module_version": "1.2.0",
          "state": {
            "_model_module": "@jupyter-widgets/base",
            "_model_module_version": "1.2.0",
            "_model_name": "LayoutModel",
            "_view_count": null,
            "_view_module": "@jupyter-widgets/base",
            "_view_module_version": "1.2.0",
            "_view_name": "LayoutView",
            "align_content": null,
            "align_items": null,
            "align_self": null,
            "border": null,
            "bottom": null,
            "display": null,
            "flex": null,
            "flex_flow": null,
            "grid_area": null,
            "grid_auto_columns": null,
            "grid_auto_flow": null,
            "grid_auto_rows": null,
            "grid_column": null,
            "grid_gap": null,
            "grid_row": null,
            "grid_template_areas": null,
            "grid_template_columns": null,
            "grid_template_rows": null,
            "height": null,
            "justify_content": null,
            "justify_items": null,
            "left": null,
            "margin": null,
            "max_height": null,
            "max_width": null,
            "min_height": null,
            "min_width": null,
            "object_fit": null,
            "object_position": null,
            "order": null,
            "overflow": null,
            "overflow_x": null,
            "overflow_y": null,
            "padding": null,
            "right": null,
            "top": null,
            "visibility": null,
            "width": null
          }
        },
        "2a1232fd0eab4566b1810d7b697d5b38": {
          "model_module": "@jupyter-widgets/controls",
          "model_name": "ProgressStyleModel",
          "model_module_version": "1.5.0",
          "state": {
            "_model_module": "@jupyter-widgets/controls",
            "_model_module_version": "1.5.0",
            "_model_name": "ProgressStyleModel",
            "_view_count": null,
            "_view_module": "@jupyter-widgets/base",
            "_view_module_version": "1.2.0",
            "_view_name": "StyleView",
            "bar_color": null,
            "description_width": ""
          }
        },
        "6b8de1612a3e44ad90525d739419ae0b": {
          "model_module": "@jupyter-widgets/base",
          "model_name": "LayoutModel",
          "model_module_version": "1.2.0",
          "state": {
            "_model_module": "@jupyter-widgets/base",
            "_model_module_version": "1.2.0",
            "_model_name": "LayoutModel",
            "_view_count": null,
            "_view_module": "@jupyter-widgets/base",
            "_view_module_version": "1.2.0",
            "_view_name": "LayoutView",
            "align_content": null,
            "align_items": null,
            "align_self": null,
            "border": null,
            "bottom": null,
            "display": null,
            "flex": null,
            "flex_flow": null,
            "grid_area": null,
            "grid_auto_columns": null,
            "grid_auto_flow": null,
            "grid_auto_rows": null,
            "grid_column": null,
            "grid_gap": null,
            "grid_row": null,
            "grid_template_areas": null,
            "grid_template_columns": null,
            "grid_template_rows": null,
            "height": null,
            "justify_content": null,
            "justify_items": null,
            "left": null,
            "margin": null,
            "max_height": null,
            "max_width": null,
            "min_height": null,
            "min_width": null,
            "object_fit": null,
            "object_position": null,
            "order": null,
            "overflow": null,
            "overflow_x": null,
            "overflow_y": null,
            "padding": null,
            "right": null,
            "top": null,
            "visibility": null,
            "width": null
          }
        },
        "e1eda0753ee84183b4add9806b20133f": {
          "model_module": "@jupyter-widgets/controls",
          "model_name": "DescriptionStyleModel",
          "model_module_version": "1.5.0",
          "state": {
            "_model_module": "@jupyter-widgets/controls",
            "_model_module_version": "1.5.0",
            "_model_name": "DescriptionStyleModel",
            "_view_count": null,
            "_view_module": "@jupyter-widgets/base",
            "_view_module_version": "1.2.0",
            "_view_name": "StyleView",
            "description_width": ""
          }
        }
      }
    }
  },
  "cells": [
    {
      "cell_type": "markdown",
      "source": [
        "# Импорт"
      ],
      "metadata": {
        "id": "yDMJPTHFGUWk"
      }
    },
    {
      "cell_type": "code",
      "source": [
        "!pip install stanza\n",
        "!pip install pymorphy2\n",
        "!pip install transformers\n",
        "!pip install datasets\n",
        "!pip install git+https://github.com/MeMartijn/updated-sklearn-crfsuite.git#egg=sklearn_crfsuite\n",
        "!pip install -U 'scikit-learn<0.24'"
      ],
      "metadata": {
        "colab": {
          "base_uri": "https://localhost:8080/"
        },
        "id": "MNxFBnEgKadm",
        "outputId": "0aea92c9-579a-4995-ca25-8ed0044433d7"
      },
      "execution_count": null,
      "outputs": [
        {
          "output_type": "stream",
          "name": "stdout",
          "text": [
            "Looking in indexes: https://pypi.org/simple, https://us-python.pkg.dev/colab-wheels/public/simple/\n",
            "Collecting stanza\n",
            "  Downloading stanza-1.4.2-py3-none-any.whl (691 kB)\n",
            "\u001b[K     |████████████████████████████████| 691 kB 29.7 MB/s \n",
            "\u001b[?25hRequirement already satisfied: tqdm in /usr/local/lib/python3.8/dist-packages (from stanza) (4.64.1)\n",
            "Requirement already satisfied: numpy in /usr/local/lib/python3.8/dist-packages (from stanza) (1.21.6)\n",
            "Collecting emoji\n",
            "  Downloading emoji-2.2.0.tar.gz (240 kB)\n",
            "\u001b[K     |████████████████████████████████| 240 kB 65.0 MB/s \n",
            "\u001b[?25hRequirement already satisfied: requests in /usr/local/lib/python3.8/dist-packages (from stanza) (2.23.0)\n",
            "Requirement already satisfied: torch>=1.3.0 in /usr/local/lib/python3.8/dist-packages (from stanza) (1.13.0+cu116)\n",
            "Requirement already satisfied: protobuf in /usr/local/lib/python3.8/dist-packages (from stanza) (3.19.6)\n",
            "Requirement already satisfied: six in /usr/local/lib/python3.8/dist-packages (from stanza) (1.15.0)\n",
            "Requirement already satisfied: typing-extensions in /usr/local/lib/python3.8/dist-packages (from torch>=1.3.0->stanza) (4.4.0)\n",
            "Requirement already satisfied: chardet<4,>=3.0.2 in /usr/local/lib/python3.8/dist-packages (from requests->stanza) (3.0.4)\n",
            "Requirement already satisfied: certifi>=2017.4.17 in /usr/local/lib/python3.8/dist-packages (from requests->stanza) (2022.12.7)\n",
            "Requirement already satisfied: urllib3!=1.25.0,!=1.25.1,<1.26,>=1.21.1 in /usr/local/lib/python3.8/dist-packages (from requests->stanza) (1.24.3)\n",
            "Requirement already satisfied: idna<3,>=2.5 in /usr/local/lib/python3.8/dist-packages (from requests->stanza) (2.10)\n",
            "Building wheels for collected packages: emoji\n",
            "  Building wheel for emoji (setup.py) ... \u001b[?25l\u001b[?25hdone\n",
            "  Created wheel for emoji: filename=emoji-2.2.0-py3-none-any.whl size=234926 sha256=50bb5b3c16369b2581d2c83987d937e2de1b90dc8c5250dc0d8fcd68f5abf33f\n",
            "  Stored in directory: /root/.cache/pip/wheels/86/62/9e/a6b27a681abcde69970dbc0326ff51955f3beac72f15696984\n",
            "Successfully built emoji\n",
            "Installing collected packages: emoji, stanza\n",
            "Successfully installed emoji-2.2.0 stanza-1.4.2\n",
            "Looking in indexes: https://pypi.org/simple, https://us-python.pkg.dev/colab-wheels/public/simple/\n",
            "Collecting pymorphy2\n",
            "  Downloading pymorphy2-0.9.1-py3-none-any.whl (55 kB)\n",
            "\u001b[K     |████████████████████████████████| 55 kB 3.4 MB/s \n",
            "\u001b[?25hCollecting dawg-python>=0.7.1\n",
            "  Downloading DAWG_Python-0.7.2-py2.py3-none-any.whl (11 kB)\n",
            "Collecting docopt>=0.6\n",
            "  Downloading docopt-0.6.2.tar.gz (25 kB)\n",
            "Collecting pymorphy2-dicts-ru<3.0,>=2.4\n",
            "  Downloading pymorphy2_dicts_ru-2.4.417127.4579844-py2.py3-none-any.whl (8.2 MB)\n",
            "\u001b[K     |████████████████████████████████| 8.2 MB 22.9 MB/s \n",
            "\u001b[?25hBuilding wheels for collected packages: docopt\n",
            "  Building wheel for docopt (setup.py) ... \u001b[?25l\u001b[?25hdone\n",
            "  Created wheel for docopt: filename=docopt-0.6.2-py2.py3-none-any.whl size=13723 sha256=cad098a241506f7cfa1bd0a6f86e6b2bb1f9f035363bae68482b323636f255bd\n",
            "  Stored in directory: /root/.cache/pip/wheels/56/ea/58/ead137b087d9e326852a851351d1debf4ada529b6ac0ec4e8c\n",
            "Successfully built docopt\n",
            "Installing collected packages: pymorphy2-dicts-ru, docopt, dawg-python, pymorphy2\n",
            "Successfully installed dawg-python-0.7.2 docopt-0.6.2 pymorphy2-0.9.1 pymorphy2-dicts-ru-2.4.417127.4579844\n",
            "Looking in indexes: https://pypi.org/simple, https://us-python.pkg.dev/colab-wheels/public/simple/\n",
            "Collecting transformers\n",
            "  Downloading transformers-4.25.1-py3-none-any.whl (5.8 MB)\n",
            "\u001b[K     |████████████████████████████████| 5.8 MB 10.2 MB/s \n",
            "\u001b[?25hRequirement already satisfied: packaging>=20.0 in /usr/local/lib/python3.8/dist-packages (from transformers) (21.3)\n",
            "Requirement already satisfied: numpy>=1.17 in /usr/local/lib/python3.8/dist-packages (from transformers) (1.21.6)\n",
            "Requirement already satisfied: pyyaml>=5.1 in /usr/local/lib/python3.8/dist-packages (from transformers) (6.0)\n",
            "Requirement already satisfied: regex!=2019.12.17 in /usr/local/lib/python3.8/dist-packages (from transformers) (2022.6.2)\n",
            "Requirement already satisfied: filelock in /usr/local/lib/python3.8/dist-packages (from transformers) (3.8.2)\n",
            "Collecting tokenizers!=0.11.3,<0.14,>=0.11.1\n",
            "  Downloading tokenizers-0.13.2-cp38-cp38-manylinux_2_17_x86_64.manylinux2014_x86_64.whl (7.6 MB)\n",
            "\u001b[K     |████████████████████████████████| 7.6 MB 53.8 MB/s \n",
            "\u001b[?25hRequirement already satisfied: tqdm>=4.27 in /usr/local/lib/python3.8/dist-packages (from transformers) (4.64.1)\n",
            "Requirement already satisfied: requests in /usr/local/lib/python3.8/dist-packages (from transformers) (2.23.0)\n",
            "Collecting huggingface-hub<1.0,>=0.10.0\n",
            "  Downloading huggingface_hub-0.11.1-py3-none-any.whl (182 kB)\n",
            "\u001b[K     |████████████████████████████████| 182 kB 111.8 MB/s \n",
            "\u001b[?25hRequirement already satisfied: typing-extensions>=3.7.4.3 in /usr/local/lib/python3.8/dist-packages (from huggingface-hub<1.0,>=0.10.0->transformers) (4.4.0)\n",
            "Requirement already satisfied: pyparsing!=3.0.5,>=2.0.2 in /usr/local/lib/python3.8/dist-packages (from packaging>=20.0->transformers) (3.0.9)\n",
            "Requirement already satisfied: idna<3,>=2.5 in /usr/local/lib/python3.8/dist-packages (from requests->transformers) (2.10)\n",
            "Requirement already satisfied: urllib3!=1.25.0,!=1.25.1,<1.26,>=1.21.1 in /usr/local/lib/python3.8/dist-packages (from requests->transformers) (1.24.3)\n",
            "Requirement already satisfied: certifi>=2017.4.17 in /usr/local/lib/python3.8/dist-packages (from requests->transformers) (2022.12.7)\n",
            "Requirement already satisfied: chardet<4,>=3.0.2 in /usr/local/lib/python3.8/dist-packages (from requests->transformers) (3.0.4)\n",
            "Installing collected packages: tokenizers, huggingface-hub, transformers\n",
            "Successfully installed huggingface-hub-0.11.1 tokenizers-0.13.2 transformers-4.25.1\n",
            "Looking in indexes: https://pypi.org/simple, https://us-python.pkg.dev/colab-wheels/public/simple/\n",
            "Collecting datasets\n",
            "  Downloading datasets-2.8.0-py3-none-any.whl (452 kB)\n",
            "\u001b[K     |████████████████████████████████| 452 kB 12.2 MB/s \n",
            "\u001b[?25hRequirement already satisfied: dill<0.3.7 in /usr/local/lib/python3.8/dist-packages (from datasets) (0.3.6)\n",
            "Requirement already satisfied: tqdm>=4.62.1 in /usr/local/lib/python3.8/dist-packages (from datasets) (4.64.1)\n",
            "Requirement already satisfied: packaging in /usr/local/lib/python3.8/dist-packages (from datasets) (21.3)\n",
            "Requirement already satisfied: pyyaml>=5.1 in /usr/local/lib/python3.8/dist-packages (from datasets) (6.0)\n",
            "Collecting xxhash\n",
            "  Downloading xxhash-3.1.0-cp38-cp38-manylinux_2_17_x86_64.manylinux2014_x86_64.whl (212 kB)\n",
            "\u001b[K     |████████████████████████████████| 212 kB 28.0 MB/s \n",
            "\u001b[?25hRequirement already satisfied: requests>=2.19.0 in /usr/local/lib/python3.8/dist-packages (from datasets) (2.23.0)\n",
            "Requirement already satisfied: numpy>=1.17 in /usr/local/lib/python3.8/dist-packages (from datasets) (1.21.6)\n",
            "Requirement already satisfied: fsspec[http]>=2021.11.1 in /usr/local/lib/python3.8/dist-packages (from datasets) (2022.11.0)\n",
            "Requirement already satisfied: huggingface-hub<1.0.0,>=0.2.0 in /usr/local/lib/python3.8/dist-packages (from datasets) (0.11.1)\n",
            "Collecting multiprocess\n",
            "  Downloading multiprocess-0.70.14-py38-none-any.whl (132 kB)\n",
            "\u001b[K     |████████████████████████████████| 132 kB 65.1 MB/s \n",
            "\u001b[?25hRequirement already satisfied: pandas in /usr/local/lib/python3.8/dist-packages (from datasets) (1.3.5)\n",
            "Requirement already satisfied: aiohttp in /usr/local/lib/python3.8/dist-packages (from datasets) (3.8.3)\n",
            "Requirement already satisfied: pyarrow>=6.0.0 in /usr/local/lib/python3.8/dist-packages (from datasets) (9.0.0)\n",
            "Collecting responses<0.19\n",
            "  Downloading responses-0.18.0-py3-none-any.whl (38 kB)\n",
            "Requirement already satisfied: aiosignal>=1.1.2 in /usr/local/lib/python3.8/dist-packages (from aiohttp->datasets) (1.3.1)\n",
            "Requirement already satisfied: frozenlist>=1.1.1 in /usr/local/lib/python3.8/dist-packages (from aiohttp->datasets) (1.3.3)\n",
            "Requirement already satisfied: yarl<2.0,>=1.0 in /usr/local/lib/python3.8/dist-packages (from aiohttp->datasets) (1.8.2)\n",
            "Requirement already satisfied: attrs>=17.3.0 in /usr/local/lib/python3.8/dist-packages (from aiohttp->datasets) (22.1.0)\n",
            "Requirement already satisfied: charset-normalizer<3.0,>=2.0 in /usr/local/lib/python3.8/dist-packages (from aiohttp->datasets) (2.1.1)\n",
            "Requirement already satisfied: multidict<7.0,>=4.5 in /usr/local/lib/python3.8/dist-packages (from aiohttp->datasets) (6.0.3)\n",
            "Requirement already satisfied: async-timeout<5.0,>=4.0.0a3 in /usr/local/lib/python3.8/dist-packages (from aiohttp->datasets) (4.0.2)\n",
            "Requirement already satisfied: filelock in /usr/local/lib/python3.8/dist-packages (from huggingface-hub<1.0.0,>=0.2.0->datasets) (3.8.2)\n",
            "Requirement already satisfied: typing-extensions>=3.7.4.3 in /usr/local/lib/python3.8/dist-packages (from huggingface-hub<1.0.0,>=0.2.0->datasets) (4.4.0)\n",
            "Requirement already satisfied: pyparsing!=3.0.5,>=2.0.2 in /usr/local/lib/python3.8/dist-packages (from packaging->datasets) (3.0.9)\n",
            "Requirement already satisfied: chardet<4,>=3.0.2 in /usr/local/lib/python3.8/dist-packages (from requests>=2.19.0->datasets) (3.0.4)\n",
            "Requirement already satisfied: certifi>=2017.4.17 in /usr/local/lib/python3.8/dist-packages (from requests>=2.19.0->datasets) (2022.12.7)\n",
            "Requirement already satisfied: urllib3!=1.25.0,!=1.25.1,<1.26,>=1.21.1 in /usr/local/lib/python3.8/dist-packages (from requests>=2.19.0->datasets) (1.24.3)\n",
            "Requirement already satisfied: idna<3,>=2.5 in /usr/local/lib/python3.8/dist-packages (from requests>=2.19.0->datasets) (2.10)\n",
            "Collecting urllib3!=1.25.0,!=1.25.1,<1.26,>=1.21.1\n",
            "  Downloading urllib3-1.25.11-py2.py3-none-any.whl (127 kB)\n",
            "\u001b[K     |████████████████████████████████| 127 kB 74.2 MB/s \n",
            "\u001b[?25hRequirement already satisfied: pytz>=2017.3 in /usr/local/lib/python3.8/dist-packages (from pandas->datasets) (2022.6)\n",
            "Requirement already satisfied: python-dateutil>=2.7.3 in /usr/local/lib/python3.8/dist-packages (from pandas->datasets) (2.8.2)\n",
            "Requirement already satisfied: six>=1.5 in /usr/local/lib/python3.8/dist-packages (from python-dateutil>=2.7.3->pandas->datasets) (1.15.0)\n",
            "Installing collected packages: urllib3, xxhash, responses, multiprocess, datasets\n",
            "  Attempting uninstall: urllib3\n",
            "    Found existing installation: urllib3 1.24.3\n",
            "    Uninstalling urllib3-1.24.3:\n",
            "      Successfully uninstalled urllib3-1.24.3\n",
            "Successfully installed datasets-2.8.0 multiprocess-0.70.14 responses-0.18.0 urllib3-1.25.11 xxhash-3.1.0\n",
            "Looking in indexes: https://pypi.org/simple, https://us-python.pkg.dev/colab-wheels/public/simple/\n",
            "Collecting sklearn_crfsuite\n",
            "  Cloning https://github.com/MeMartijn/updated-sklearn-crfsuite.git to /tmp/pip-install-5v4eav2k/sklearn-crfsuite_87a1760bb3dc429198cf96eae3e59951\n",
            "  Running command git clone -q https://github.com/MeMartijn/updated-sklearn-crfsuite.git /tmp/pip-install-5v4eav2k/sklearn-crfsuite_87a1760bb3dc429198cf96eae3e59951\n",
            "Requirement already satisfied: tqdm>=2.0 in /usr/local/lib/python3.8/dist-packages (from sklearn_crfsuite) (4.64.1)\n",
            "Requirement already satisfied: six in /usr/local/lib/python3.8/dist-packages (from sklearn_crfsuite) (1.15.0)\n",
            "Requirement already satisfied: tabulate in /usr/local/lib/python3.8/dist-packages (from sklearn_crfsuite) (0.8.10)\n",
            "Collecting python-crfsuite>=0.8.3\n",
            "  Downloading python_crfsuite-0.9.8-cp38-cp38-manylinux_2_17_x86_64.manylinux2014_x86_64.whl (1.0 MB)\n",
            "\u001b[K     |████████████████████████████████| 1.0 MB 31.0 MB/s \n",
            "\u001b[?25hBuilding wheels for collected packages: sklearn-crfsuite\n",
            "  Building wheel for sklearn-crfsuite (setup.py) ... \u001b[?25l\u001b[?25hdone\n",
            "  Created wheel for sklearn-crfsuite: filename=sklearn_crfsuite-0.3.6-py2.py3-none-any.whl size=10889 sha256=063156a569404294056a4693bef331f1e64328867d459ca995b71c58566fbd62\n",
            "  Stored in directory: /tmp/pip-ephem-wheel-cache-qzetgmmt/wheels/fb/c8/8a/95b4eccd3a273adbfb0a08d7f0e96d45d9f4aee82015d293c2\n",
            "Successfully built sklearn-crfsuite\n",
            "Installing collected packages: python-crfsuite, sklearn-crfsuite\n",
            "Successfully installed python-crfsuite-0.9.8 sklearn-crfsuite-0.3.6\n",
            "Looking in indexes: https://pypi.org/simple, https://us-python.pkg.dev/colab-wheels/public/simple/\n",
            "Collecting scikit-learn<0.24\n",
            "  Downloading scikit_learn-0.23.2-cp38-cp38-manylinux1_x86_64.whl (6.8 MB)\n",
            "\u001b[K     |████████████████████████████████| 6.8 MB 32.0 MB/s \n",
            "\u001b[?25hRequirement already satisfied: joblib>=0.11 in /usr/local/lib/python3.8/dist-packages (from scikit-learn<0.24) (1.2.0)\n",
            "Requirement already satisfied: numpy>=1.13.3 in /usr/local/lib/python3.8/dist-packages (from scikit-learn<0.24) (1.21.6)\n",
            "Requirement already satisfied: threadpoolctl>=2.0.0 in /usr/local/lib/python3.8/dist-packages (from scikit-learn<0.24) (3.1.0)\n",
            "Requirement already satisfied: scipy>=0.19.1 in /usr/local/lib/python3.8/dist-packages (from scikit-learn<0.24) (1.7.3)\n",
            "Installing collected packages: scikit-learn\n",
            "  Attempting uninstall: scikit-learn\n",
            "    Found existing installation: scikit-learn 1.0.2\n",
            "    Uninstalling scikit-learn-1.0.2:\n",
            "      Successfully uninstalled scikit-learn-1.0.2\n",
            "\u001b[31mERROR: pip's dependency resolver does not currently take into account all the packages that are installed. This behaviour is the source of the following dependency conflicts.\n",
            "yellowbrick 1.5 requires scikit-learn>=1.0.0, but you have scikit-learn 0.23.2 which is incompatible.\n",
            "imbalanced-learn 0.8.1 requires scikit-learn>=0.24, but you have scikit-learn 0.23.2 which is incompatible.\u001b[0m\n",
            "Successfully installed scikit-learn-0.23.2\n"
          ]
        }
      ]
    },
    {
      "cell_type": "code",
      "source": [
        "import pandas as pd\n",
        "from pymorphy2 import MorphAnalyzer\n",
        "from tqdm import tqdm\n",
        "import stanza\n",
        "import re\n",
        "from sklearn.model_selection import train_test_split\n",
        "import torch\n",
        "from sklearn.preprocessing import LabelEncoder\n",
        "import sklearn_crfsuite\n",
        "from sklearn_crfsuite import metrics as crf_metrics\n",
        "from datasets import Dataset\n",
        "from torch.utils.data import DataLoader\n",
        "from torch.optim import Adagrad, AdamW\n",
        "le = LabelEncoder()\n",
        "stanza.download('ru')"
      ],
      "metadata": {
        "id": "fYwtmH3PGT1i",
        "colab": {
          "base_uri": "https://localhost:8080/",
          "height": 174,
          "referenced_widgets": [
            "f468c17a9bed4af2aa44f7b2e8a83855",
            "8c05807ed23c4d7390d83e48bb7c9d78",
            "609c40045a434755b3f8f4b15c56e8d1",
            "277d7edbae07465ba3389c525e62a314",
            "1e64c69f1dc6499086b06a2bdbe83613",
            "6124dc5e77fb4897b8600a92eb04e44c",
            "eb9a6fb87f81497abb9c265c5eabccd8",
            "72ad96434649487c9ee3cecb2e82974e",
            "f2d97f9d583645f3aab445d4c4154229",
            "325481726dcc4dd79d8b424bea24feb6",
            "8bb5a897302848b494e640eb36265eba",
            "93d78f6e2e4b41159cebc5dba1abca87",
            "91c8fc82552246789be242d0c929c65e",
            "1415a441e1d84fecb120c9c20153cc08",
            "d252a11e002148d596c8c11c0ab0ba83",
            "64c895c91e5b46729d317b851667ad53",
            "8805528604fe40d89e042e01733d4968",
            "44d94a86a6844a788d370e090db8dba6",
            "b04c7d6697044995980ebaef15cb218d",
            "d006645b69e74bccaf912a53fd48a2a3",
            "9102cf5c40d14407bd4713f02241b678",
            "9da597f92a194a8cb264fa42083b8d9b"
          ]
        },
        "outputId": "ad95375c-0b04-418e-8ca9-fff5aaa78966"
      },
      "execution_count": null,
      "outputs": [
        {
          "output_type": "display_data",
          "data": {
            "text/plain": [
              "Downloading https://raw.githubusercontent.com/stanfordnlp/stanza-resources/main/resources_1.4.1.json:   0%|   …"
            ],
            "application/vnd.jupyter.widget-view+json": {
              "version_major": 2,
              "version_minor": 0,
              "model_id": "f468c17a9bed4af2aa44f7b2e8a83855"
            }
          },
          "metadata": {}
        },
        {
          "output_type": "stream",
          "name": "stderr",
          "text": [
            "INFO:stanza:Downloading default packages for language: ru (Russian) ...\n"
          ]
        },
        {
          "output_type": "display_data",
          "data": {
            "text/plain": [
              "Downloading https://huggingface.co/stanfordnlp/stanza-ru/resolve/v1.4.1/models/default.zip:   0%|          | 0…"
            ],
            "application/vnd.jupyter.widget-view+json": {
              "version_major": 2,
              "version_minor": 0,
              "model_id": "93d78f6e2e4b41159cebc5dba1abca87"
            }
          },
          "metadata": {}
        },
        {
          "output_type": "stream",
          "name": "stderr",
          "text": [
            "INFO:stanza:Finished downloading models and saved to /root/stanza_resources.\n"
          ]
        }
      ]
    },
    {
      "cell_type": "markdown",
      "source": [
        "# Задание 1 (Выделение эксплицитных аспектов)"
      ],
      "metadata": {
        "id": "tE1fOHmyGFhO"
      }
    },
    {
      "cell_type": "markdown",
      "source": [
        "### Если не хочется брать некоторые файлы из гитхаба:"
      ],
      "metadata": {
        "id": "kAwn7OHgS6p7"
      }
    },
    {
      "cell_type": "code",
      "source": [
        "texts, ids = [], []\n",
        "with open('train_reviews.txt') as f:\n",
        "    for line in f:\n",
        "        text_id, text = line.rstrip('\\r\\n').split('\\t')\n",
        "        texts.append(text)\n",
        "        ids.append(text_id)"
      ],
      "metadata": {
        "id": "IOnxFWpEHGIK"
      },
      "execution_count": null,
      "outputs": []
    },
    {
      "cell_type": "code",
      "source": [
        "train_texts, dev_texts, train_ids, dev_ids = train_test_split(texts, ids)\n",
        "train_aspects, dev_aspects = [], []\n",
        "with open('train_aspects.txt') as f:\n",
        "    for line in f:\n",
        "        line = line.rstrip('\\r\\n')\n",
        "        text_id = line.split('\\t')[0]\n",
        "        if text_id in train_ids:\n",
        "            train_aspects.append(line)\n",
        "        if text_id in dev_ids:\n",
        "            dev_aspects.append(line)"
      ],
      "metadata": {
        "id": "F66-SjnZHJOh"
      },
      "execution_count": null,
      "outputs": []
    },
    {
      "cell_type": "code",
      "source": [
        "train_sentiment, dev_sentiment = [], []\n",
        "with open('train_cats.txt') as f:\n",
        "    for line in f:\n",
        "        line = line.rstrip('\\r\\n')\n",
        "        text_id = line.split('\\t')[0]\n",
        "        if text_id in train_ids:\n",
        "            train_sentiment.append(line)\n",
        "        if text_id in dev_ids:\n",
        "            dev_sentiment.append(line)"
      ],
      "metadata": {
        "id": "JiaXzyNzHJVb"
      },
      "execution_count": null,
      "outputs": []
    },
    {
      "cell_type": "code",
      "source": [
        "with open('train_split_aspects.txt', 'w') as f:\n",
        "    for l in train_aspects:\n",
        "        print(l, file=f)\n",
        "with open('dev_aspects.txt', 'w') as f:\n",
        "    for l in dev_aspects:\n",
        "        print(l, file=f)\n",
        "with open('train_split_reviews.txt', 'w') as f:\n",
        "    for i, l in zip(train_ids, train_texts):\n",
        "        print(i, l, sep=\"\\t\", file=f)\n",
        "with open('dev_reviews.txt', 'w') as f:\n",
        "    for i, l in zip(dev_ids, dev_texts):\n",
        "        print(i, l, sep=\"\\t\", file=f)\n",
        "with open('train_split_cats.txt', 'w') as f:\n",
        "    for l in train_sentiment:\n",
        "        print(l, file=f)\n",
        "with open('dev_cats.txt', 'w') as f:\n",
        "    for l in dev_sentiment:\n",
        "        print(l, file=f)"
      ],
      "metadata": {
        "id": "t7iIjEvbHJZG"
      },
      "execution_count": null,
      "outputs": []
    },
    {
      "cell_type": "markdown",
      "source": [
        "### Читаем файлы"
      ],
      "metadata": {
        "id": "RdLKIFYaTA5L"
      }
    },
    {
      "cell_type": "code",
      "execution_count": null,
      "metadata": {
        "id": "lbozFn2BF4gG"
      },
      "outputs": [],
      "source": [
        "train_asp = pd.read_csv(\n",
        "    'train_split_aspects.txt', \n",
        "    delimiter='\\t', \n",
        "    names=['text_id', 'category', 'mention', 'start', 'end', 'sentiment']\n",
        ")\n",
        "train_texts = pd.read_csv('train_split_reviews.txt', delimiter='\\t', names=['text_id','text'])"
      ]
    },
    {
      "cell_type": "markdown",
      "source": [
        "Для выделения BIO будем использовать stanza, как в примере"
      ],
      "metadata": {
        "id": "KErpLx67TGd5"
      }
    },
    {
      "cell_type": "code",
      "source": [
        "nlp = stanza.Pipeline('ru', processors='tokenize,pos')"
      ],
      "metadata": {
        "id": "e9xLvBe3HSZX",
        "colab": {
          "base_uri": "https://localhost:8080/",
          "height": 337,
          "referenced_widgets": [
            "17e7d3f35cd749cd8ae7838cbccd2420",
            "12a1822622f1479f868c4c81cceee714",
            "8e2af0852faa47e4a2a65b05822152c0",
            "125696debc9240b68127e3e56e265911",
            "87c41e7985304764ac6db289bcdffaf6",
            "b641db57f41147f6a2deaa1e1429e002",
            "a350517738ce425dbc94f5a6f96780cc",
            "743d256d401f4e9a9fc21f012d10e559",
            "e9c7d41ed2104825988105301424e48a",
            "302ba8d1e9e84e46862a83fea8573dca",
            "9f8ebab2905844abb57ea55aea4d585b"
          ]
        },
        "outputId": "34372474-b64f-4d59-f4d8-552fe8b9e67c"
      },
      "execution_count": null,
      "outputs": [
        {
          "output_type": "stream",
          "name": "stderr",
          "text": [
            "INFO:stanza:Checking for updates to resources.json in case models have been updated.  Note: this behavior can be turned off with download_method=None or download_method=DownloadMethod.REUSE_RESOURCES\n"
          ]
        },
        {
          "output_type": "display_data",
          "data": {
            "text/plain": [
              "Downloading https://raw.githubusercontent.com/stanfordnlp/stanza-resources/main/resources_1.4.1.json:   0%|   …"
            ],
            "application/vnd.jupyter.widget-view+json": {
              "version_major": 2,
              "version_minor": 0,
              "model_id": "17e7d3f35cd749cd8ae7838cbccd2420"
            }
          },
          "metadata": {}
        },
        {
          "output_type": "stream",
          "name": "stderr",
          "text": [
            "INFO:stanza:Loading these models for language: ru (Russian):\n",
            "=========================\n",
            "| Processor | Package   |\n",
            "-------------------------\n",
            "| tokenize  | syntagrus |\n",
            "| pos       | syntagrus |\n",
            "=========================\n",
            "\n",
            "INFO:stanza:Use device: cpu\n",
            "INFO:stanza:Loading: tokenize\n",
            "INFO:stanza:Loading: pos\n",
            "INFO:stanza:Done loading processors!\n"
          ]
        }
      ]
    },
    {
      "cell_type": "code",
      "source": [
        "morph = MorphAnalyzer()"
      ],
      "metadata": {
        "id": "IKH1VzjFLSkC"
      },
      "execution_count": null,
      "outputs": []
    },
    {
      "cell_type": "code",
      "source": [
        "reviews = {}\n",
        "with open('train_split_reviews.txt') as f:\n",
        "  for line in f:\n",
        "    line = line.rstrip('\\r\\n').split('\\t')\n",
        "    reviews[line[0]] = line[1]"
      ],
      "metadata": {
        "id": "481k6ZuurMQc"
      },
      "execution_count": null,
      "outputs": []
    },
    {
      "cell_type": "code",
      "source": [
        "aspects = dict()\n",
        "with open('train_split_aspects.txt') as f:\n",
        "    for line in f:\n",
        "        line = line.rstrip('\\r\\n').split('\\t')\n",
        "        keys = ('category', 'mention', 'start', 'end', 'sentiment')\n",
        "        if line[0] not in aspects:\n",
        "          aspects[line[0]] = []\n",
        "        aspects[line[0]].append(dict(zip(keys, line[1:])))"
      ],
      "metadata": {
        "id": "Ji76uLi9RYIu"
      },
      "execution_count": null,
      "outputs": []
    },
    {
      "cell_type": "code",
      "source": [
        "print(aspects)"
      ],
      "metadata": {
        "id": "sA5PFcOCRx42",
        "colab": {
          "base_uri": "https://localhost:8080/"
        },
        "outputId": "d099b0b8-9ee9-4f50-f436-3c32267a2f54"
      },
      "execution_count": null,
      "outputs": [
        {
          "output_type": "stream",
          "name": "stdout",
          "text": [
            "{'3976': [{'category': 'Whole', 'mention': 'ресторане', 'start': '71', 'end': '80', 'sentiment': 'neutral'}, {'category': 'Whole', 'mention': 'ресторанах', 'start': '198', 'end': '208', 'sentiment': 'neutral'}, {'category': 'Whole', 'mention': 'ресторане', 'start': '256', 'end': '265', 'sentiment': 'neutral'}, {'category': 'Service', 'mention': 'Столик бронировали', 'start': '267', 'end': '285', 'sentiment': 'neutral'}, {'category': 'Service', 'mention': 'администратор', 'start': '322', 'end': '335', 'sentiment': 'positive'}, {'category': 'Service', 'mention': 'предварительный заказ', 'start': '349', 'end': '370', 'sentiment': 'positive'}, {'category': 'Whole', 'mention': 'ресторан', 'start': '413', 'end': '421', 'sentiment': 'neutral'}, {'category': 'Whole', 'mention': 'ресторане', 'start': '476', 'end': '485', 'sentiment': 'neutral'}, {'category': 'Food', 'mention': 'горячее блюдо', 'start': '524', 'end': '537', 'sentiment': 'neutral'}, {'category': 'Food', 'mention': 'Меню', 'start': '564', 'end': '568', 'sentiment': 'positive'}, {'category': 'Service', 'mention': 'Обслуживание', 'start': '688', 'end': '700', 'sentiment': 'both'}, {'category': 'Service', 'mention': 'официанты', 'start': '739', 'end': '748', 'sentiment': 'positive'}, {'category': 'Interior', 'mention': 'Интерьер', 'start': '854', 'end': '862', 'sentiment': 'positive'}, {'category': 'Interior', 'mention': 'диваны', 'start': '880', 'end': '886', 'sentiment': 'positive'}, {'category': 'Interior', 'mention': 'музыкальная программа', 'start': '901', 'end': '922', 'sentiment': 'positive'}, {'category': 'Interior', 'mention': 'ведущий', 'start': '933', 'end': '940', 'sentiment': 'positive'}, {'category': 'Whole', 'mention': 'ресторан', 'start': '1019', 'end': '1027', 'sentiment': 'positive'}, {'category': 'Food', 'mention': 'кухня', 'start': '1038', 'end': '1043', 'sentiment': 'positive'}, {'category': 'Whole', 'mention': 'Руководству', 'start': '1053', 'end': '1064', 'sentiment': 'positive'}, {'category': 'Service', 'mention': 'персоналу', 'start': '1067', 'end': '1076', 'sentiment': 'positive'}], '30808': [{'category': 'Whole', 'mention': 'ресторане', 'start': '16', 'end': '25', 'sentiment': 'neutral'}, {'category': 'Interior', 'mention': 'первом этаже', 'start': '43', 'end': '55', 'sentiment': 'neutral'}, {'category': 'Whole', 'mention': 'руководству ресторана', 'start': '124', 'end': '145', 'sentiment': 'positive'}, {'category': 'Service', 'mention': 'обслуживающему персоналу', 'start': '147', 'end': '171', 'sentiment': 'positive'}, {'category': 'Service', 'mention': 'сотрудникам', 'start': '189', 'end': '200', 'sentiment': 'positive'}, {'category': 'Food', 'mention': 'блюда', 'start': '254', 'end': '259', 'sentiment': 'positive'}, {'category': 'Interior', 'mention': 'интерьер', 'start': '310', 'end': '318', 'sentiment': 'positive'}, {'category': 'Food', 'mention': 'Стол', 'start': '337', 'end': '341', 'sentiment': 'positive'}, {'category': 'Service', 'mention': 'обслуживал', 'start': '360', 'end': '370', 'sentiment': 'positive'}, {'category': 'Service', 'mention': 'официант', 'start': '371', 'end': '379', 'sentiment': 'positive'}, {'category': 'Whole', 'mention': 'ресторана', 'start': '424', 'end': '433', 'sentiment': 'positive'}, {'category': 'Price', 'mention': 'цены', 'start': '448', 'end': '452', 'sentiment': 'positive'}], '38835': [{'category': 'Whole', 'mention': 'заведении', 'start': '51', 'end': '60', 'sentiment': 'neutral'}, {'category': 'Service', 'mention': 'сервисом', 'start': '98', 'end': '106', 'sentiment': 'positive'}, {'category': 'Service', 'mention': 'Встретила', 'start': '108', 'end': '117', 'sentiment': 'positive'}, {'category': 'Service', 'mention': 'девушка', 'start': '136', 'end': '143', 'sentiment': 'positive'}, {'category': 'Service', 'mention': 'персонал', 'start': '179', 'end': '187', 'sentiment': 'positive'}, {'category': 'Service', 'mention': 'официант', 'start': '230', 'end': '238', 'sentiment': 'positive'}, {'category': 'Food', 'mention': 'утку по-пекински', 'start': '343', 'end': '359', 'sentiment': 'neutral'}, {'category': 'Food', 'mention': 'салата', 'start': '363', 'end': '369', 'sentiment': 'neutral'}, {'category': 'Food', 'mention': 'свинину в кисло-сладком соусе', 'start': '371', 'end': '400', 'sentiment': 'neutral'}, {'category': 'Food', 'mention': 'свинину', 'start': '415', 'end': '422', 'sentiment': 'neutral'}, {'category': 'Food', 'mention': 'кальян', 'start': '424', 'end': '430', 'sentiment': 'neutral'}, {'category': 'Food', 'mention': 'вина', 'start': '440', 'end': '444', 'sentiment': 'neutral'}, {'category': 'Food', 'mention': 'десерт', 'start': '452', 'end': '458', 'sentiment': 'neutral'}, {'category': 'Food', 'mention': 'Утка', 'start': '488', 'end': '492', 'sentiment': 'negative'}, {'category': 'Food', 'mention': 'объедятся', 'start': '560', 'end': '569', 'sentiment': 'positive'}, {'category': 'Food', 'mention': 'Свинина', 'start': '633', 'end': '640', 'sentiment': 'negative'}, {'category': 'Whole', 'mention': 'ресторанах', 'start': '677', 'end': '687', 'sentiment': 'positive'}, {'category': 'Whole', 'mention': 'ресторан', 'start': '725', 'end': '733', 'sentiment': 'negative'}, {'category': 'Price', 'mention': 'цены', 'start': '749', 'end': '753', 'sentiment': 'negative'}, {'category': 'Food', 'mention': 'меню', 'start': '772', 'end': '776', 'sentiment': 'negative'}, {'category': 'Food', 'mention': 'порции', 'start': '779', 'end': '785', 'sentiment': 'negative'}, {'category': 'Whole', 'mention': 'впечатление', 'start': '836', 'end': '847', 'sentiment': 'both'}, {'category': 'Service', 'mention': 'обслуживание', 'start': '917', 'end': '929', 'sentiment': 'positive'}, {'category': 'Food', 'mention': 'еды', 'start': '953', 'end': '956', 'sentiment': 'positive'}], '1368': [{'category': 'Whole', 'mention': 'пабе', 'start': '24', 'end': '28', 'sentiment': 'positive'}, {'category': 'Whole', 'mention': 'место', 'start': '84', 'end': '89', 'sentiment': 'positive'}, {'category': 'Interior', 'mention': 'интерьер', 'start': '108', 'end': '116', 'sentiment': 'positive'}, {'category': 'Interior', 'mention': 'Атмосфера', 'start': '175', 'end': '184', 'sentiment': 'positive'}, {'category': 'Service', 'mention': 'обслуживания', 'start': '253', 'end': '265', 'sentiment': 'positive'}, {'category': 'Service', 'mention': 'официант', 'start': '395', 'end': '403', 'sentiment': 'neutral'}, {'category': 'Service', 'mention': 'принес меню', 'start': '404', 'end': '415', 'sentiment': 'neutral'}, {'category': 'Food', 'mention': 'выбор пива', 'start': '435', 'end': '445', 'sentiment': 'positive'}, {'category': 'Food', 'mention': 'алкоголя', 'start': '455', 'end': '463', 'sentiment': 'positive'}, {'category': 'Food', 'mention': 'закусок', 'start': '473', 'end': '480', 'sentiment': 'positive'}, {'category': 'Food', 'mention': 'блюд', 'start': '493', 'end': '497', 'sentiment': 'positive'}, {'category': 'Food', 'mention': 'меню', 'start': '542', 'end': '546', 'sentiment': 'positive'}, {'category': 'Whole', 'mention': 'пабе', 'start': '549', 'end': '553', 'sentiment': 'neutral'}, {'category': 'Service', 'mention': 'официантки', 'start': '658', 'end': '668', 'sentiment': 'negative'}, {'category': 'Service', 'mention': 'обслуживанием', 'start': '773', 'end': '786', 'sentiment': 'positive'}, {'category': 'Food', 'mention': 'пиво', 'start': '815', 'end': '819', 'sentiment': 'positive'}, {'category': 'Food', 'mention': 'Коктейли', 'start': '837', 'end': '845', 'sentiment': 'positive'}, {'category': 'Food', 'mention': 'гренкам', 'start': '873', 'end': '880', 'sentiment': 'positive'}, {'category': 'Food', 'mention': 'стейку', 'start': '883', 'end': '889', 'sentiment': 'positive'}, {'category': 'Food', 'mention': 'цезаре', 'start': '907', 'end': '913', 'sentiment': 'negative'}, {'category': 'Food', 'mention': 'приправ', 'start': '914', 'end': '921', 'sentiment': 'negative'}, {'category': 'Food', 'mention': 'суши', 'start': '939', 'end': '943', 'sentiment': 'negative'}, {'category': 'Food', 'mention': 'блюдо', 'start': '983', 'end': '988', 'sentiment': 'neutral'}, {'category': 'Service', 'mention': 'ждать счет', 'start': '1022', 'end': '1032', 'sentiment': 'negative'}, {'category': 'Service', 'mention': 'сдачу ждали', 'start': '1046', 'end': '1057', 'sentiment': 'negative'}, {'category': 'Price', 'mention': 'ценам', 'start': '1129', 'end': '1134', 'sentiment': 'positive'}, {'category': 'Whole', 'mention': 'заведений', 'start': '1186', 'end': '1195', 'sentiment': 'neutral'}], '7890': [{'category': 'Food', 'mention': 'меню', 'start': '93', 'end': '97', 'sentiment': 'neutral'}, {'category': 'Food', 'mention': 'салат с рыбой', 'start': '110', 'end': '123', 'sentiment': 'positive'}, {'category': 'Food', 'mention': 'холодные закуски', 'start': '157', 'end': '173', 'sentiment': 'positive'}, {'category': 'Food', 'mention': 'горЯчее', 'start': '176', 'end': '183', 'sentiment': 'positive'}, {'category': 'Food', 'mention': 'кухня', 'start': '240', 'end': '245', 'sentiment': 'positive'}, {'category': 'Interior', 'mention': 'интерьер', 'start': '266', 'end': '274', 'sentiment': 'positive'}, {'category': 'Interior', 'mention': 'музыка', 'start': '276', 'end': '282', 'sentiment': 'positive'}, {'category': 'Service', 'mention': 'Персонал', 'start': '307', 'end': '315', 'sentiment': 'positive'}, {'category': 'Service', 'mention': 'администратор', 'start': '343', 'end': '356', 'sentiment': 'positive'}, {'category': 'Service', 'mention': 'официанты', 'start': '359', 'end': '368', 'sentiment': 'positive'}, {'category': 'Service', 'mention': 'сервис', 'start': '370', 'end': '376', 'sentiment': 'positive'}], '6668': [{'category': 'Whole', 'mention': 'ресторанчик', 'start': '31', 'end': '42', 'sentiment': 'positive'}, {'category': 'Whole', 'mention': '\"Квартиру №55\"', 'start': '262', 'end': '276', 'sentiment': 'positive'}, {'category': 'Food', 'mention': 'Накормили', 'start': '393', 'end': '402', 'sentiment': 'positive'}, {'category': 'Food', 'mention': 'напоили', 'start': '405', 'end': '412', 'sentiment': 'positive'}, {'category': 'Service', 'mention': 'сервис', 'start': '487', 'end': '493', 'sentiment': 'neutral'}, {'category': 'Service', 'mention': 'обслуживание', 'start': '495', 'end': '507', 'sentiment': 'neutral'}, {'category': 'Service', 'mention': 'не \"обслуживали\"', 'start': '518', 'end': '534', 'sentiment': 'negative'}, {'category': 'Service', 'mention': 'встречали', 'start': '546', 'end': '555', 'sentiment': 'positive'}, {'category': 'Service', 'mention': 'Помогли с заказом', 'start': '577', 'end': '594', 'sentiment': 'positive'}, {'category': 'Service', 'mention': 'посоветовали', 'start': '596', 'end': '608', 'sentiment': 'positive'}, {'category': 'Food', 'mention': 'вино', 'start': '629', 'end': '633', 'sentiment': 'positive'}, {'category': 'Whole', 'mention': 'ресторане', 'start': '686', 'end': '695', 'sentiment': 'neutral'}, {'category': 'Food', 'mention': 'пили', 'start': '753', 'end': '757', 'sentiment': 'neutral'}, {'category': 'Food', 'mention': 'чай', 'start': '758', 'end': '761', 'sentiment': 'neutral'}, {'category': 'Food', 'mention': 'Салаты', 'start': '763', 'end': '769', 'sentiment': 'neutral'}, {'category': 'Food', 'mention': 'горячее', 'start': '805', 'end': '812', 'sentiment': 'neutral'}, {'category': 'Food', 'mention': 'вина', 'start': '847', 'end': '851', 'sentiment': 'neutral'}, {'category': 'Food', 'mention': 'пожарские котлеты', 'start': '878', 'end': '895', 'sentiment': 'positive'}, {'category': 'Food', 'mention': 'тушеная телятина', 'start': '898', 'end': '914', 'sentiment': 'positive'}, {'category': 'Food', 'mention': 'буженину на гриле', 'start': '924', 'end': '941', 'sentiment': 'positive'}, {'category': 'Food', 'mention': 'Салаты', 'start': '957', 'end': '963', 'sentiment': 'neutral'}, {'category': 'Food', 'mention': 'Порции', 'start': '1022', 'end': '1028', 'sentiment': 'neutral'}, {'category': 'Food', 'mention': 'десерту', 'start': '1099', 'end': '1106', 'sentiment': 'neutral'}, {'category': 'Service', 'mention': 'официант', 'start': '1113', 'end': '1121', 'sentiment': 'neutral'}, {'category': 'Food', 'mention': 'десерты', 'start': '1150', 'end': '1157', 'sentiment': 'positive'}, {'category': 'Whole', 'mention': 'квартиру', 'start': '1194', 'end': '1202', 'sentiment': 'positive'}, {'category': 'Service', 'mention': 'персоналу', 'start': '1250', 'end': '1259', 'sentiment': 'positive'}, {'category': 'Whole', 'mention': 'ресторана', 'start': '1261', 'end': '1270', 'sentiment': 'positive'}, {'category': 'Food', 'mention': 'ужин', 'start': '1299', 'end': '1303', 'sentiment': 'positive'}], '9662': [{'category': 'Whole', 'mention': 'Суп-вино', 'start': '34', 'end': '42', 'sentiment': 'neutral'}, {'category': 'Service', 'mention': 'Столик бронировали', 'start': '45', 'end': '63', 'sentiment': 'neutral'}, {'category': 'Whole', 'mention': 'ресторанах', 'start': '123', 'end': '133', 'sentiment': 'neutral'}, {'category': 'Interior', 'mention': 'Интерьер', 'start': '184', 'end': '192', 'sentiment': 'positive'}, {'category': 'Interior', 'mention': 'столики', 'start': '243', 'end': '250', 'sentiment': 'positive'}, {'category': 'Interior', 'mention': 'музыка', 'start': '259', 'end': '265', 'sentiment': 'positive'}, {'category': 'Food', 'mention': 'Меню', 'start': '293', 'end': '297', 'sentiment': 'positive'}, {'category': 'Price', 'mention': 'цене', 'start': '341', 'end': '345', 'sentiment': 'positive'}, {'category': 'Service', 'mention': 'обслуживание', 'start': '403', 'end': '415', 'sentiment': 'negative'}, {'category': 'Service', 'mention': 'обслуживал', 'start': '446', 'end': '456', 'sentiment': 'positive'}, {'category': 'Service', 'mention': 'молодой человек', 'start': '472', 'end': '487', 'sentiment': 'positive'}, {'category': 'Food', 'mention': 'Блюда', 'start': '519', 'end': '524', 'sentiment': 'neutral'}, {'category': 'Food', 'mention': 'напитки', 'start': '545', 'end': '552', 'sentiment': 'neutral'}], '18430': [{'category': 'Whole', 'mention': 'заведение', 'start': '42', 'end': '51', 'sentiment': 'neutral'}, {'category': 'Service', 'mention': 'официант', 'start': '196', 'end': '204', 'sentiment': 'positive'}, {'category': 'Whole', 'mention': 'заведение', 'start': '244', 'end': '253', 'sentiment': 'positive'}, {'category': 'Interior', 'mention': 'обстановка', 'start': '269', 'end': '279', 'sentiment': 'positive'}, {'category': 'Interior', 'mention': 'интерьер', 'start': '283', 'end': '291', 'sentiment': 'positive'}, {'category': 'Food', 'mention': 'меню', 'start': '295', 'end': '299', 'sentiment': 'positive'}, {'category': 'Service', 'mention': 'обслуживание', 'start': '330', 'end': '342', 'sentiment': 'positive'}, {'category': 'Interior', 'mention': 'атмосфера', 'start': '390', 'end': '399', 'sentiment': 'positive'}, {'category': 'Food', 'mention': 'еды', 'start': '452', 'end': '455', 'sentiment': 'positive'}, {'category': 'Food', 'mention': 'алкогольных напитков', 'start': '458', 'end': '478', 'sentiment': 'positive'}, {'category': 'Food', 'mention': 'алкоголя', 'start': '506', 'end': '514', 'sentiment': 'neutral'}, {'category': 'Food', 'mention': 'выпито', 'start': '520', 'end': '526', 'sentiment': 'neutral'}, {'category': 'Interior', 'mention': 'музыка', 'start': '583', 'end': '589', 'sentiment': 'negative'}, {'category': 'Whole', 'mention': 'заведении', 'start': '779', 'end': '788', 'sentiment': 'negative'}, {'category': 'Price', 'mention': 'депозит 5 тыс', 'start': '907', 'end': '920', 'sentiment': 'positive'}, {'category': 'Whole', 'mention': 'заведением', 'start': '1060', 'end': '1070', 'sentiment': 'positive'}, {'category': 'Service', 'mention': 'официанта', 'start': '1144', 'end': '1153', 'sentiment': 'positive'}], '14190': [{'category': 'Whole', 'mention': 'места', 'start': '58', 'end': '63', 'sentiment': 'neutral'}, {'category': 'Whole', 'mention': 'рестораны', 'start': '72', 'end': '81', 'sentiment': 'neutral'}, {'category': 'Whole', 'mention': 'ресторан', 'start': '143', 'end': '151', 'sentiment': 'neutral'}, {'category': 'Interior', 'mention': 'Интерьер', 'start': '251', 'end': '259', 'sentiment': 'positive'}, {'category': 'Food', 'mention': 'пиццу', 'start': '307', 'end': '312', 'sentiment': 'neutral'}, {'category': 'Food', 'mention': 'пицца', 'start': '479', 'end': '484', 'sentiment': 'positive'}, {'category': 'Whole', 'mention': 'ресторанах', 'start': '552', 'end': '562', 'sentiment': 'neutral'}, {'category': 'Food', 'mention': 'тирамису', 'start': '568', 'end': '576', 'sentiment': 'neutral'}, {'category': 'Food', 'mention': 'хлебную козинку', 'start': '578', 'end': '593', 'sentiment': 'neutral'}, {'category': 'Interior', 'mention': 'туалет', 'start': '608', 'end': '614', 'sentiment': 'neutral'}, {'category': 'Whole', 'mention': 'заведению', 'start': '646', 'end': '655', 'sentiment': 'neutral'}, {'category': 'Food', 'mention': 'Хлеб', 'start': '657', 'end': '661', 'sentiment': 'positive'}, {'category': 'Food', 'mention': 'тираму', 'start': '682', 'end': '688', 'sentiment': 'positive'}, {'category': 'Food', 'mention': 'десерт', 'start': '756', 'end': '762', 'sentiment': 'positive'}, {'category': 'Service', 'mention': 'Официантка', 'start': '829', 'end': '839', 'sentiment': 'positive'}, {'category': 'Food', 'mention': 'Напитки', 'start': '856', 'end': '863', 'sentiment': 'neutral'}, {'category': 'Food', 'mention': 'еду', 'start': '887', 'end': '890', 'sentiment': 'neutral'}, {'category': 'Interior', 'mention': 'атмосферу', 'start': '944', 'end': '953', 'sentiment': 'positive'}, {'category': 'Food', 'mention': 'угощения', 'start': '956', 'end': '964', 'sentiment': 'positive'}], '2107': [{'category': 'Whole', 'mention': 'заведение', 'start': '21', 'end': '30', 'sentiment': 'positive'}, {'category': 'Interior', 'mention': 'втором этаже', 'start': '81', 'end': '93', 'sentiment': 'neutral'}, {'category': 'Service', 'mention': 'официанта', 'start': '170', 'end': '179', 'sentiment': 'negative'}, {'category': 'Service', 'mention': 'пледы', 'start': '203', 'end': '208', 'sentiment': 'negative'}, {'category': 'Food', 'mention': 'Чай', 'start': '210', 'end': '213', 'sentiment': 'neutral'}, {'category': 'Service', 'mention': 'принесли', 'start': '276', 'end': '284', 'sentiment': 'negative'}, {'category': 'Food', 'mention': 'салат', 'start': '287', 'end': '292', 'sentiment': 'neutral'}, {'category': 'Service', 'mention': 'принесли', 'start': '314', 'end': '322', 'sentiment': 'negative'}, {'category': 'Food', 'mention': 'горячее', 'start': '325', 'end': '332', 'sentiment': 'neutral'}, {'category': 'Food', 'mention': 'блюдо', 'start': '446', 'end': '451', 'sentiment': 'neutral'}, {'category': 'Service', 'mention': 'заказа', 'start': '491', 'end': '497', 'sentiment': 'negative'}, {'category': 'Food', 'mention': 'овощи, приготовленные на углях', 'start': '499', 'end': '529', 'sentiment': 'negative'}, {'category': 'Food', 'mention': 'Порции', 'start': '610', 'end': '616', 'sentiment': 'negative'}], '3705': [{'category': 'Whole', 'mention': 'Макарену', 'start': '100', 'end': '108', 'sentiment': 'positive'}, {'category': 'Food', 'mention': 'Меню', 'start': '135', 'end': '139', 'sentiment': 'positive'}, {'category': 'Food', 'mention': 'блюда', 'start': '217', 'end': '222', 'sentiment': 'positive'}, {'category': 'Food', 'mention': 'Коктейли', 'start': '224', 'end': '232', 'sentiment': 'positive'}, {'category': 'Food', 'mention': 'салаты из языка и морепродуктов', 'start': '293', 'end': '324', 'sentiment': 'neutral'}, {'category': 'Food', 'mention': 'паэлью с курицей и кроликом', 'start': '327', 'end': '354', 'sentiment': 'neutral'}, {'category': 'Food', 'mention': 'порции', 'start': '382', 'end': '388', 'sentiment': 'positive'}, {'category': 'Food', 'mention': 'кальян', 'start': '417', 'end': '423', 'sentiment': 'positive'}, {'category': 'Service', 'mention': 'кальянщик', 'start': '472', 'end': '481', 'sentiment': 'positive'}, {'category': 'Interior', 'mention': 'интерьер', 'start': '549', 'end': '557', 'sentiment': 'positive'}, {'category': 'Interior', 'mention': 'Музыка', 'start': '588', 'end': '594', 'sentiment': 'positive'}, {'category': 'Interior', 'mention': 'атмосферу', 'start': '683', 'end': '692', 'sentiment': 'positive'}, {'category': 'Service', 'mention': 'Персонал', 'start': '694', 'end': '702', 'sentiment': 'positive'}, {'category': 'Service', 'mention': 'накопительную скидку', 'start': '788', 'end': '808', 'sentiment': 'positive'}, {'category': 'Whole', 'mention': 'вечер', 'start': '865', 'end': '870', 'sentiment': 'positive'}], '34956': [{'category': 'Whole', 'mention': 'ресторанчик', 'start': '99', 'end': '110', 'sentiment': 'neutral'}, {'category': 'Food', 'mention': 'кухня', 'start': '175', 'end': '180', 'sentiment': 'positive'}, {'category': 'Food', 'mention': 'котлетки из лосося с пюре', 'start': '200', 'end': '225', 'sentiment': 'neutral'}, {'category': 'Food', 'mention': 'канадский ролл', 'start': '228', 'end': '242', 'sentiment': 'neutral'}, {'category': 'Whole', 'mention': 'заведения', 'start': '289', 'end': '298', 'sentiment': 'positive'}, {'category': 'Food', 'mention': 'котлетки', 'start': '302', 'end': '310', 'sentiment': 'neutral'}, {'category': 'Food', 'mention': 'роллы', 'start': '313', 'end': '318', 'sentiment': 'neutral'}, {'category': 'Food', 'mention': 'Ролл', 'start': '429', 'end': '433', 'sentiment': 'positive'}, {'category': 'Food', 'mention': 'блюда', 'start': '492', 'end': '497', 'sentiment': 'negative'}, {'category': 'Whole', 'mention': 'сетевых заведений японской кухни', 'start': '524', 'end': '556', 'sentiment': 'negative'}, {'category': 'Food', 'mention': 'суши', 'start': '629', 'end': '633', 'sentiment': 'neutral'}, {'category': 'Service', 'mention': 'официанту', 'start': '682', 'end': '691', 'sentiment': 'neutral'}, {'category': 'Service', 'mention': 'шеф-повар', 'start': '717', 'end': '726', 'sentiment': 'neutral'}, {'category': 'Food', 'mention': 'меню', 'start': '729', 'end': '733', 'sentiment': 'neutral'}, {'category': 'Food', 'mention': 'котлетки из лосося и креветок', 'start': '793', 'end': '822', 'sentiment': 'positive'}, {'category': 'Food', 'mention': 'блюда', 'start': '883', 'end': '888', 'sentiment': 'positive'}, {'category': 'Food', 'mention': 'суп из двух рыб', 'start': '903', 'end': '918', 'sentiment': 'positive'}, {'category': 'Food', 'mention': 'стейк из лосося', 'start': '920', 'end': '935', 'sentiment': 'positive'}, {'category': 'Food', 'mention': 'бефстроганов с пюре', 'start': '938', 'end': '957', 'sentiment': 'positive'}, {'category': 'Interior', 'mention': 'Интерьер', 'start': '959', 'end': '967', 'sentiment': 'positive'}, {'category': 'Service', 'mention': 'обслуживание', 'start': '1018', 'end': '1030', 'sentiment': 'positive'}, {'category': 'Service', 'mention': 'администраторы', 'start': '1163', 'end': '1177', 'sentiment': 'neutral'}, {'category': 'Whole', 'mention': 'ресторанов', 'start': '1189', 'end': '1199', 'sentiment': 'neutral'}, {'category': 'Food', 'mention': 'котлетки', 'start': '1253', 'end': '1261', 'sentiment': 'positive'}], '3385': [{'category': 'Food', 'mention': 'закуски', 'start': '81', 'end': '88', 'sentiment': 'positive'}, {'category': 'Service', 'mention': 'Официантка', 'start': '141', 'end': '151', 'sentiment': 'positive'}, {'category': 'Service', 'mention': 'убирались', 'start': '214', 'end': '223', 'sentiment': 'positive'}, {'category': 'Food', 'mention': 'Второе', 'start': '225', 'end': '231', 'sentiment': 'neutral'}, {'category': 'Service', 'mention': 'официантка', 'start': '332', 'end': '342', 'sentiment': 'neutral'}, {'category': 'Food', 'mention': 'горячее', 'start': '408', 'end': '415', 'sentiment': 'neutral'}, {'category': 'Food', 'mention': 'закуски', 'start': '512', 'end': '519', 'sentiment': 'positive'}, {'category': 'Food', 'mention': 'блюда', 'start': '664', 'end': '669', 'sentiment': 'negative'}, {'category': 'Service', 'mention': 'администратор', 'start': '772', 'end': '785', 'sentiment': 'neutral'}, {'category': 'Service', 'mention': 'заказ', 'start': '961', 'end': '966', 'sentiment': 'positive'}, {'category': 'Food', 'mention': 'Торт', 'start': '1031', 'end': '1035', 'sentiment': 'negative'}, {'category': 'Service', 'mention': 'заказанный заранее', 'start': '1037', 'end': '1055', 'sentiment': 'neutral'}, {'category': 'Food', 'mention': 'наполеон', 'start': '1057', 'end': '1065', 'sentiment': 'negative'}, {'category': 'Interior', 'mention': 'интерьера', 'start': '1145', 'end': '1154', 'sentiment': 'positive'}, {'category': 'Interior', 'mention': 'интерьерах', 'start': '1225', 'end': '1235', 'sentiment': 'positive'}, {'category': 'Food', 'mention': 'кухню', 'start': '1274', 'end': '1279', 'sentiment': 'neutral'}], '29321': [{'category': 'Whole', 'mention': 'ресторане', 'start': '24', 'end': '33', 'sentiment': 'neutral'}, {'category': 'Whole', 'mention': 'ресторан', 'start': '90', 'end': '98', 'sentiment': 'neutral'}, {'category': 'Service', 'mention': 'проводили', 'start': '104', 'end': '113', 'sentiment': 'positive'}, {'category': 'Service', 'mention': 'заказала столик', 'start': '135', 'end': '150', 'sentiment': 'neutral'}, {'category': 'Interior', 'mention': 'Второй этаж', 'start': '152', 'end': '163', 'sentiment': 'positive'}, {'category': 'Interior', 'mention': 'интерьер', 'start': '201', 'end': '209', 'sentiment': 'positive'}, {'category': 'Food', 'mention': 'меню', 'start': '273', 'end': '277', 'sentiment': 'positive'}, {'category': 'Food', 'mention': 'рыбе', 'start': '362', 'end': '366', 'sentiment': 'positive'}, {'category': 'Food', 'mention': 'пиццу', 'start': '420', 'end': '425', 'sentiment': 'neutral'}, {'category': 'Food', 'mention': 'покушать', 'start': '426', 'end': '434', 'sentiment': 'neutral'}, {'category': 'Whole', 'mention': 'местах', 'start': '475', 'end': '481', 'sentiment': 'neutral'}, {'category': 'Food', 'mention': 'паста', 'start': '483', 'end': '488', 'sentiment': 'neutral'}, {'category': 'Food', 'mention': 'суп', 'start': '515', 'end': '518', 'sentiment': 'neutral'}, {'category': 'Price', 'mention': 'Цены на вино', 'start': '539', 'end': '551', 'sentiment': 'negative'}, {'category': 'Whole', 'mention': 'ресторана', 'start': '592', 'end': '601', 'sentiment': 'neutral'}, {'category': 'Food', 'mention': 'едой', 'start': '642', 'end': '646', 'sentiment': 'neutral'}, {'category': 'Food', 'mention': 'кухня', 'start': '686', 'end': '691', 'sentiment': 'both'}, {'category': 'Service', 'mention': 'обслуживания', 'start': '794', 'end': '806', 'sentiment': 'negative'}, {'category': 'Service', 'mention': 'тарелки убирались', 'start': '872', 'end': '889', 'sentiment': 'positive'}, {'category': 'Service', 'mention': 'девушек', 'start': '937', 'end': '944', 'sentiment': 'negative'}, {'category': 'Service', 'mention': 'обслуживания', 'start': '1172', 'end': '1184', 'sentiment': 'negative'}, {'category': 'Service', 'mention': 'приема', 'start': '1187', 'end': '1193', 'sentiment': 'negative'}, {'category': 'Service', 'mention': 'подано', 'start': '1237', 'end': '1243', 'sentiment': 'positive'}, {'category': 'Service', 'mention': 'обслуживание', 'start': '1259', 'end': '1271', 'sentiment': 'negative'}], '35867': [{'category': 'Whole', 'mention': 'ресторане \"Фаворит\"', 'start': '52', 'end': '71', 'sentiment': 'neutral'}, {'category': 'Whole', 'mention': 'места', 'start': '122', 'end': '127', 'sentiment': 'neutral'}, {'category': 'Food', 'mention': 'меню', 'start': '140', 'end': '144', 'sentiment': 'positive'}, {'category': 'Food', 'mention': 'выпечка', 'start': '173', 'end': '180', 'sentiment': 'positive'}, {'category': 'Service', 'mention': 'сервис', 'start': '194', 'end': '200', 'sentiment': 'positive'}, {'category': 'Interior', 'mention': 'интерьер', 'start': '247', 'end': '255', 'sentiment': 'positive'}, {'category': 'Interior', 'mention': 'атмосферу', 'start': '300', 'end': '309', 'sentiment': 'positive'}, {'category': 'Price', 'mention': 'цена', 'start': '322', 'end': '326', 'sentiment': 'positive'}, {'category': 'Service', 'mention': 'персоналу', 'start': '390', 'end': '399', 'sentiment': 'positive'}, {'category': 'Service', 'mention': 'менеджера', 'start': '440', 'end': '449', 'sentiment': 'positive'}, {'category': 'Food', 'mention': 'кухне', 'start': '527', 'end': '532', 'sentiment': 'neutral'}, {'category': 'Whole', 'mention': 'ресторане', 'start': '541', 'end': '550', 'sentiment': 'neutral'}, {'category': 'Food', 'mention': 'блюд', 'start': '570', 'end': '574', 'sentiment': 'neutral'}, {'category': 'Food', 'mention': 'напитков', 'start': '576', 'end': '584', 'sentiment': 'neutral'}, {'category': 'Food', 'mention': 'выпечки', 'start': '586', 'end': '593', 'sentiment': 'neutral'}, {'category': 'Interior', 'mention': 'украшением зала', 'start': '596', 'end': '611', 'sentiment': 'positive'}, {'category': 'Service', 'mention': 'организовала', 'start': '678', 'end': '690', 'sentiment': 'positive'}], '36512': [{'category': 'Whole', 'mention': 'ресторан', 'start': '50', 'end': '58', 'sentiment': 'positive'}, {'category': 'Whole', 'mention': 'место', 'start': '111', 'end': '116', 'sentiment': 'positive'}, {'category': 'Service', 'mention': 'ресторана', 'start': '215', 'end': '224', 'sentiment': 'positive'}, {'category': 'Interior', 'mention': 'атмосфера', 'start': '235', 'end': '244', 'sentiment': 'positive'}, {'category': 'Interior', 'mention': 'интерьер', 'start': '286', 'end': '294', 'sentiment': 'positive'}, {'category': 'Interior', 'mention': 'кресла', 'start': '311', 'end': '317', 'sentiment': 'positive'}, {'category': 'Interior', 'mention': 'диванчики', 'start': '320', 'end': '329', 'sentiment': 'positive'}, {'category': 'Interior', 'mention': 'музыка', 'start': '350', 'end': '356', 'sentiment': 'positive'}, {'category': 'Food', 'mention': 'меню', 'start': '367', 'end': '371', 'sentiment': 'positive'}, {'category': 'Food', 'mention': 'блюда', 'start': '388', 'end': '393', 'sentiment': 'positive'}, {'category': 'Service', 'mention': 'персонал', 'start': '420', 'end': '428', 'sentiment': 'positive'}, {'category': 'Service', 'mention': 'персоналу', 'start': '461', 'end': '470', 'sentiment': 'positive'}, {'category': 'Service', 'mention': 'отношение', 'start': '487', 'end': '496', 'sentiment': 'positive'}, {'category': 'Interior', 'mention': 'декорированные', 'start': '539', 'end': '553', 'sentiment': 'positive'}, {'category': 'Interior', 'mention': 'украшенные', 'start': '556', 'end': '566', 'sentiment': 'positive'}, {'category': 'Interior', 'mention': 'свадебный зал', 'start': '567', 'end': '580', 'sentiment': 'positive'}, {'category': 'Interior', 'mention': 'столы', 'start': '583', 'end': '588', 'sentiment': 'positive'}, {'category': 'Service', 'mention': 'шефу', 'start': '609', 'end': '613', 'sentiment': 'positive'}, {'category': 'Service', 'mention': 'поварам', 'start': '621', 'end': '628', 'sentiment': 'positive'}, {'category': 'Food', 'mention': 'блюда', 'start': '668', 'end': '673', 'sentiment': 'positive'}, {'category': 'Service', 'mention': 'управляющей рестораном', 'start': '739', 'end': '761', 'sentiment': 'positive'}, {'category': 'Food', 'mention': 'меню', 'start': '831', 'end': '835', 'sentiment': 'neutral'}, {'category': 'Interior', 'mention': 'декорировании', 'start': '839', 'end': '852', 'sentiment': 'positive'}, {'category': 'Interior', 'mention': 'свадебного зала', 'start': '853', 'end': '868', 'sentiment': 'positive'}, {'category': 'Service', 'mention': 'организовала', 'start': '880', 'end': '892', 'sentiment': 'positive'}, {'category': 'Whole', 'mention': 'ресторан', 'start': '1021', 'end': '1029', 'sentiment': 'positive'}, {'category': 'Food', 'mention': 'покушать', 'start': '1030', 'end': '1038', 'sentiment': 'neutral'}, {'category': 'Whole', 'mention': 'Ресторан', 'start': '1066', 'end': '1074', 'sentiment': 'neutral'}], '1200': [{'category': 'Whole', 'mention': 'место', 'start': '57', 'end': '62', 'sentiment': 'positive'}, {'category': 'Interior', 'mention': 'интерьер', 'start': '97', 'end': '105', 'sentiment': 'positive'}, {'category': 'Interior', 'mention': 'первый зал', 'start': '107', 'end': '117', 'sentiment': 'positive'}, {'category': 'Food', 'mention': 'еду', 'start': '128', 'end': '131', 'sentiment': 'positive'}, {'category': 'Service', 'mention': 'персонал', 'start': '141', 'end': '149', 'sentiment': 'positive'}, {'category': 'Price', 'mention': 'цены', 'start': '175', 'end': '179', 'sentiment': 'positive'}, {'category': 'Price', 'mention': 'скидка', 'start': '190', 'end': '196', 'sentiment': 'positive'}, {'category': 'Whole', 'mention': 'Ресторан', 'start': '277', 'end': '285', 'sentiment': 'neutral'}, {'category': 'Service', 'mention': 'официант', 'start': '339', 'end': '347', 'sentiment': 'positive'}, {'category': 'Whole', 'mention': 'заведение', 'start': '460', 'end': '469', 'sentiment': 'positive'}, {'category': 'Food', 'mention': 'Вино', 'start': '520', 'end': '524', 'sentiment': 'positive'}, {'category': 'Price', 'mention': 'Счет', 'start': '678', 'end': '682', 'sentiment': 'neutral'}, {'category': 'Price', 'mention': 'цены', 'start': '700', 'end': '704', 'sentiment': 'positive'}, {'category': 'Price', 'mention': 'счет', 'start': '753', 'end': '757', 'sentiment': 'positive'}, {'category': 'Food', 'mention': 'горячее', 'start': '826', 'end': '833', 'sentiment': 'neutral'}, {'category': 'Food', 'mention': 'вина', 'start': '845', 'end': '849', 'sentiment': 'neutral'}, {'category': 'Food', 'mention': 'салаты', 'start': '851', 'end': '857', 'sentiment': 'neutral'}, {'category': 'Price', 'mention': 'счет', 'start': '859', 'end': '863', 'sentiment': 'positive'}, {'category': 'Price', 'mention': 'счет', 'start': '919', 'end': '923', 'sentiment': 'negative'}, {'category': 'Service', 'mention': 'обслуживание', 'start': '959', 'end': '971', 'sentiment': 'neutral'}, {'category': 'Price', 'mention': 'итоговая сумма', 'start': '1006', 'end': '1020', 'sentiment': 'negative'}, {'category': 'Service', 'mention': 'официантке', 'start': '1054', 'end': '1064', 'sentiment': 'neutral'}, {'category': 'Price', 'mention': 'счет', 'start': '1108', 'end': '1112', 'sentiment': 'neutral'}, {'category': 'Service', 'mention': 'обслуживание', 'start': '1154', 'end': '1166', 'sentiment': 'neutral'}, {'category': 'Service', 'mention': 'чаевых', 'start': '1297', 'end': '1303', 'sentiment': 'negative'}], '15159': [{'category': 'Whole', 'mention': 'ресторане', 'start': '25', 'end': '34', 'sentiment': 'neutral'}, {'category': 'Food', 'mention': 'еда', 'start': '82', 'end': '85', 'sentiment': 'positive'}, {'category': 'Food', 'mention': 'порции', 'start': '96', 'end': '102', 'sentiment': 'positive'}, {'category': 'Price', 'mention': 'цены', 'start': '114', 'end': '118', 'sentiment': 'positive'}, {'category': 'Interior', 'mention': 'втором этаже', 'start': '130', 'end': '142', 'sentiment': 'neutral'}, {'category': 'Interior', 'mention': 'Зал', 'start': '144', 'end': '147', 'sentiment': 'positive'}, {'category': 'Service', 'mention': 'обслуживание', 'start': '161', 'end': '173', 'sentiment': 'both'}, {'category': 'Whole', 'mention': 'Впечатление осталось', 'start': '209', 'end': '229', 'sentiment': 'positive'}, {'category': 'Food', 'mention': 'еда', 'start': '368', 'end': '371', 'sentiment': 'positive'}, {'category': 'Price', 'mention': 'цены', 'start': '381', 'end': '385', 'sentiment': 'positive'}, {'category': 'Food', 'mention': 'Меню', 'start': '397', 'end': '401', 'sentiment': 'positive'}, {'category': 'Interior', 'mention': 'первом этаже', 'start': '444', 'end': '456', 'sentiment': 'neutral'}, {'category': 'Interior', 'mention': 'Интерьер', 'start': '458', 'end': '466', 'sentiment': 'positive'}], '18220': [{'category': 'Whole', 'mention': 'заведению', 'start': '40', 'end': '49', 'sentiment': 'neutral'}, {'category': 'Food', 'mention': 'выпить', 'start': '130', 'end': '136', 'sentiment': 'neutral'}, {'category': 'Food', 'mention': 'перекусить', 'start': '149', 'end': '159', 'sentiment': 'neutral'}, {'category': 'Food', 'mention': 'поужинать', 'start': '218', 'end': '227', 'sentiment': 'neutral'}, {'category': 'Whole', 'mention': 'впечатления', 'start': '244', 'end': '255', 'sentiment': 'positive'}, {'category': 'Service', 'mention': 'Встретили', 'start': '341', 'end': '350', 'sentiment': 'positive'}, {'category': 'Interior', 'mention': 'свечи', 'start': '507', 'end': '512', 'sentiment': 'positive'}, {'category': 'Whole', 'mention': 'заведение', 'start': '627', 'end': '636', 'sentiment': 'positive'}, {'category': 'Whole', 'mention': 'кафе', 'start': '668', 'end': '672', 'sentiment': 'positive'}, {'category': 'Interior', 'mention': 'музыка', 'start': '711', 'end': '717', 'sentiment': 'positive'}, {'category': 'Service', 'mention': 'персонал', 'start': '738', 'end': '746', 'sentiment': 'positive'}, {'category': 'Food', 'mention': 'кухню', 'start': '801', 'end': '806', 'sentiment': 'positive'}, {'category': 'Food', 'mention': '\"Капрезе\"', 'start': '846', 'end': '855', 'sentiment': 'both'}, {'category': 'Food', 'mention': 'медальоны', 'start': '857', 'end': '866', 'sentiment': 'both'}, {'category': 'Food', 'mention': '\" Цезарь\"', 'start': '867', 'end': '876', 'sentiment': 'both'}, {'category': 'Food', 'mention': 'ролл', 'start': '888', 'end': '892', 'sentiment': 'neutral'}, {'category': 'Interior', 'mention': 'атмосфера', 'start': '972', 'end': '981', 'sentiment': 'positive'}, {'category': 'Whole', 'mention': 'заведение', 'start': '1131', 'end': '1140', 'sentiment': 'positive'}, {'category': 'Service', 'mention': 'обслуживание', 'start': '1197', 'end': '1209', 'sentiment': 'positive'}], '36359': [{'category': 'Whole', 'mention': '\"дали\"', 'start': '48', 'end': '54', 'sentiment': 'both'}, {'category': 'Food', 'mention': 'Кухня', 'start': '127', 'end': '132', 'sentiment': 'negative'}, {'category': 'Service', 'mention': 'персонал', 'start': '159', 'end': '167', 'sentiment': 'negative'}, {'category': 'Service', 'mention': 'обслуживание', 'start': '187', 'end': '199', 'sentiment': 'negative'}, {'category': 'Interior', 'mention': 'дизайн', 'start': '242', 'end': '248', 'sentiment': 'positive'}, {'category': 'Whole', 'mention': 'кафе', 'start': '249', 'end': '253', 'sentiment': 'positive'}, {'category': 'Whole', 'mention': 'Кафе', 'start': '326', 'end': '330', 'sentiment': 'neutral'}, {'category': 'Interior', 'mention': 'дизайну', 'start': '372', 'end': '379', 'sentiment': 'neutral'}, {'category': 'Food', 'mention': 'салат', 'start': '420', 'end': '425', 'sentiment': 'positive'}, {'category': 'Food', 'mention': 'съесть', 'start': '454', 'end': '460', 'sentiment': 'neutral'}, {'category': 'Service', 'mention': 'обслуживание', 'start': '579', 'end': '591', 'sentiment': 'positive'}, {'category': 'Interior', 'mention': 'атмосферу', 'start': '623', 'end': '632', 'sentiment': 'positive'}], '1105': [{'category': 'Whole', 'mention': 'ресторанов', 'start': '21', 'end': '31', 'sentiment': 'positive'}, {'category': 'Service', 'mention': 'дисконтную карту', 'start': '113', 'end': '129', 'sentiment': 'positive'}, {'category': 'Food', 'mention': 'борщ с копченостями', 'start': '219', 'end': '238', 'sentiment': 'positive'}, {'category': 'Food', 'mention': 'роллы на гриле', 'start': '240', 'end': '254', 'sentiment': 'positive'}, {'category': 'Food', 'mention': 'филадельфия', 'start': '267', 'end': '278', 'sentiment': 'positive'}, {'category': 'Food', 'mention': 'рибай', 'start': '372', 'end': '377', 'sentiment': 'positive'}, {'category': 'Whole', 'mention': 'стейк-хаусах', 'start': '439', 'end': '451', 'sentiment': 'negative'}, {'category': 'Food', 'mention': 'салат цезарь с креветками', 'start': '461', 'end': '486', 'sentiment': 'positive'}, {'category': 'Food', 'mention': 'Порции', 'start': '503', 'end': '509', 'sentiment': 'positive'}, {'category': 'Interior', 'mention': 'тарелки', 'start': '528', 'end': '535', 'sentiment': 'positive'}, {'category': 'Service', 'mention': 'обслуживание', 'start': '545', 'end': '557', 'sentiment': 'positive'}, {'category': 'Service', 'mention': 'обслуживание', 'start': '562', 'end': '574', 'sentiment': 'positive'}, {'category': 'Service', 'mention': 'официанты', 'start': '590', 'end': '599', 'sentiment': 'positive'}, {'category': 'Service', 'mention': 'Шеф-повар', 'start': '675', 'end': '684', 'sentiment': 'positive'}, {'category': 'Food', 'mention': 'бизнес-ланч', 'start': '714', 'end': '725', 'sentiment': 'positive'}, {'category': 'Food', 'mention': 'десертам', 'start': '738', 'end': '746', 'sentiment': 'neutral'}, {'category': 'Interior', 'mention': 'Интерьер', 'start': '784', 'end': '792', 'sentiment': 'positive'}, {'category': 'Whole', 'mention': 'кафе', 'start': '886', 'end': '890', 'sentiment': 'negative'}, {'category': 'Whole', 'mention': 'заведении', 'start': '923', 'end': '932', 'sentiment': 'positive'}, {'category': 'Whole', 'mention': 'заведения', 'start': '1005', 'end': '1014', 'sentiment': 'neutral'}, {'category': 'Whole', 'mention': 'заведению', 'start': '1082', 'end': '1091', 'sentiment': 'neutral'}], '32856': [{'category': 'Whole', 'mention': 'ресторан Марчеллис', 'start': '32', 'end': '50', 'sentiment': 'neutral'}, {'category': 'Food', 'mention': 'кухня', 'start': '85', 'end': '90', 'sentiment': 'positive'}, {'category': 'Service', 'mention': 'обслуживание', 'start': '93', 'end': '105', 'sentiment': 'positive'}, {'category': 'Food', 'mention': 'покушать', 'start': '204', 'end': '212', 'sentiment': 'neutral'}, {'category': 'Service', 'mention': 'заказывали', 'start': '256', 'end': '266', 'sentiment': 'neutral'}, {'category': 'Service', 'mention': 'Девушка-администратор', 'start': '376', 'end': '397', 'sentiment': 'positive'}, {'category': 'Interior', 'mention': 'диванах', 'start': '508', 'end': '515', 'sentiment': 'positive'}, {'category': 'Service', 'mention': 'приняла заказ', 'start': '531', 'end': '544', 'sentiment': 'positive'}, {'category': 'Interior', 'mention': 'Обстановка в ресторане', 'start': '546', 'end': '568', 'sentiment': 'positive'}, {'category': 'Service', 'mention': 'персонал', 'start': '653', 'end': '661', 'sentiment': 'positive'}, {'category': 'Service', 'mention': 'ребята', 'start': '683', 'end': '689', 'sentiment': 'positive'}, {'category': 'Food', 'mention': 'кухне', 'start': '694', 'end': '699', 'sentiment': 'positive'}, {'category': 'Food', 'mention': 'палтус со шпинатом', 'start': '718', 'end': '736', 'sentiment': 'positive'}, {'category': 'Food', 'mention': 'палтуса', 'start': '753', 'end': '760', 'sentiment': 'positive'}, {'category': 'Food', 'mention': 'салат из запеченых овощей', 'start': '794', 'end': '819', 'sentiment': 'positive'}, {'category': 'Food', 'mention': 'десерты', 'start': '903', 'end': '910', 'sentiment': 'neutral'}, {'category': 'Food', 'mention': 'ужин', 'start': '922', 'end': '926', 'sentiment': 'positive'}, {'category': 'Food', 'mention': 'панакота', 'start': '1040', 'end': '1048', 'sentiment': 'positive'}, {'category': 'Whole', 'mention': 'заведении', 'start': '1081', 'end': '1090', 'sentiment': 'positive'}, {'category': 'Whole', 'mention': 'Марчеллисе', 'start': '1132', 'end': '1142', 'sentiment': 'positive'}, {'category': 'Service', 'mention': 'отношения к детям', 'start': '1220', 'end': '1237', 'sentiment': 'positive'}, {'category': 'Whole', 'mention': 'ресторане', 'start': '1245', 'end': '1254', 'sentiment': 'positive'}], '32367': [{'category': 'Food', 'mention': 'китайскую кухню', 'start': '83', 'end': '98', 'sentiment': 'positive'}, {'category': 'Whole', 'mention': 'китайским ресторанчикам', 'start': '134', 'end': '157', 'sentiment': 'neutral'}, {'category': 'Food', 'mention': 'деликатесов', 'start': '213', 'end': '224', 'sentiment': 'neutral'}, {'category': 'Food', 'mention': 'блюда', 'start': '236', 'end': '241', 'sentiment': 'negative'}, {'category': 'Whole', 'mention': 'Дачу', 'start': '334', 'end': '338', 'sentiment': 'neutral'}, {'category': 'Food', 'mention': 'еда', 'start': '371', 'end': '374', 'sentiment': 'positive'}, {'category': 'Interior', 'mention': 'зал', 'start': '397', 'end': '400', 'sentiment': 'positive'}, {'category': 'Service', 'mention': 'официант', 'start': '433', 'end': '441', 'sentiment': 'positive'}, {'category': 'Service', 'mention': 'Заказ', 'start': '563', 'end': '568', 'sentiment': 'positive'}, {'category': 'Whole', 'mention': 'вечер прошел', 'start': '611', 'end': '623', 'sentiment': 'positive'}], '6155': [{'category': 'Whole', 'mention': 'заведение', 'start': '9', 'end': '18', 'sentiment': 'positive'}, {'category': 'Whole', 'mention': 'место', 'start': '32', 'end': '37', 'sentiment': 'positive'}, {'category': 'Service', 'mention': 'ребята', 'start': '83', 'end': '89', 'sentiment': 'positive'}, {'category': 'Food', 'mention': 'поужинать', 'start': '268', 'end': '277', 'sentiment': 'neutral'}, {'category': 'Food', 'mention': 'меню', 'start': '282', 'end': '286', 'sentiment': 'neutral'}, {'category': 'Food', 'mention': 'мисо суп', 'start': '327', 'end': '335', 'sentiment': 'positive'}, {'category': 'Food', 'mention': 'порция', 'start': '356', 'end': '362', 'sentiment': 'positive'}, {'category': 'Food', 'mention': 'Суши', 'start': '381', 'end': '385', 'sentiment': 'positive'}, {'category': 'Food', 'mention': 'рыбы', 'start': '403', 'end': '407', 'sentiment': 'positive'}, {'category': 'Food', 'mention': 'роллы', 'start': '409', 'end': '414', 'sentiment': 'positive'}, {'category': 'Food', 'mention': 'Салаты', 'start': '440', 'end': '446', 'sentiment': 'positive'}, {'category': 'Food', 'mention': 'порции', 'start': '467', 'end': '473', 'sentiment': 'positive'}, {'category': 'Food', 'mention': 'горячего', 'start': '491', 'end': '499', 'sentiment': 'neutral'}, {'category': 'Food', 'mention': 'утиную грудку гриль с фруктами', 'start': '512', 'end': '542', 'sentiment': 'positive'}, {'category': 'Food', 'mention': 'стейк из тунца', 'start': '545', 'end': '559', 'sentiment': 'positive'}, {'category': 'Food', 'mention': 'лосося со шпинатом', 'start': '574', 'end': '592', 'sentiment': 'positive'}, {'category': 'Food', 'mention': 'блюдо', 'start': '603', 'end': '608', 'sentiment': 'positive'}, {'category': 'Food', 'mention': 'Медальоны из телятины с овощами', 'start': '623', 'end': '654', 'sentiment': 'positive'}, {'category': 'Whole', 'mention': 'рестораны', 'start': '697', 'end': '706', 'sentiment': 'neutral'}, {'category': 'Food', 'mention': 'поесть', 'start': '721', 'end': '727', 'sentiment': 'positive'}, {'category': 'Whole', 'mention': 'место', 'start': '749', 'end': '754', 'sentiment': 'positive'}, {'category': 'Whole', 'mention': 'место', 'start': '811', 'end': '816', 'sentiment': 'positive'}, {'category': 'Service', 'mention': 'персоналу', 'start': '828', 'end': '837', 'sentiment': 'positive'}], '37975': [{'category': 'Whole', 'mention': 'ресторане', 'start': '27', 'end': '36', 'sentiment': 'neutral'}, {'category': 'Whole', 'mention': 'Ресторан', 'start': '138', 'end': '146', 'sentiment': 'positive'}, {'category': 'Interior', 'mention': 'интерьер', 'start': '219', 'end': '227', 'sentiment': 'positive'}, {'category': 'Interior', 'mention': 'атмосфера', 'start': '239', 'end': '248', 'sentiment': 'positive'}, {'category': 'Interior', 'mention': 'музыкой', 'start': '274', 'end': '281', 'sentiment': 'positive'}, {'category': 'Service', 'mention': 'персонал', 'start': '308', 'end': '316', 'sentiment': 'positive'}, {'category': 'Food', 'mention': 'сладости', 'start': '426', 'end': '434', 'sentiment': 'neutral'}, {'category': 'Food', 'mention': 'фрукты', 'start': '437', 'end': '443', 'sentiment': 'neutral'}, {'category': 'Food', 'mention': 'меню', 'start': '455', 'end': '459', 'sentiment': 'positive'}, {'category': 'Food', 'mention': 'блюдами', 'start': '522', 'end': '529', 'sentiment': 'neutral'}, {'category': 'Food', 'mention': 'меню', 'start': '533', 'end': '537', 'sentiment': 'neutral'}, {'category': 'Service', 'mention': 'администратору', 'start': '762', 'end': '776', 'sentiment': 'positive'}, {'category': 'Service', 'mention': 'обслуживал', 'start': '788', 'end': '798', 'sentiment': 'positive'}, {'category': 'Service', 'mention': 'подано', 'start': '820', 'end': '826', 'sentiment': 'positive'}, {'category': 'Service', 'mention': 'персоналу ресторана', 'start': '891', 'end': '910', 'sentiment': 'positive'}, {'category': 'Whole', 'mention': 'заведение', 'start': '1017', 'end': '1026', 'sentiment': 'positive'}], '23858': [{'category': 'Whole', 'mention': 'заведении', 'start': '22', 'end': '31', 'sentiment': 'neutral'}, {'category': 'Whole', 'mention': 'посещений', 'start': '90', 'end': '99', 'sentiment': 'positive'}, {'category': 'Service', 'mention': 'персонал', 'start': '143', 'end': '151', 'sentiment': 'positive'}, {'category': 'Food', 'mention': 'пива', 'start': '167', 'end': '171', 'sentiment': 'positive'}, {'category': 'Service', 'mention': 'выполнение заказа', 'start': '181', 'end': '198', 'sentiment': 'positive'}, {'category': 'Food', 'mention': 'пива', 'start': '228', 'end': '232', 'sentiment': 'positive'}, {'category': 'Price', 'mention': 'цене', 'start': '247', 'end': '251', 'sentiment': 'positive'}, {'category': 'Food', 'mention': 'вкуса', 'start': '264', 'end': '269', 'sentiment': 'positive'}, {'category': 'Service', 'mention': 'Столик заказал', 'start': '271', 'end': '285', 'sentiment': 'neutral'}, {'category': 'Service', 'mention': 'заказать', 'start': '383', 'end': '391', 'sentiment': 'neutral'}, {'category': 'Food', 'mention': 'пива', 'start': '395', 'end': '399', 'sentiment': 'neutral'}, {'category': 'Food', 'mention': 'пива', 'start': '472', 'end': '476', 'sentiment': 'negative'}, {'category': 'Food', 'mention': 'пиво', 'start': '614', 'end': '618', 'sentiment': 'neutral'}, {'category': 'Service', 'mention': 'официантку', 'start': '636', 'end': '646', 'sentiment': 'negative'}, {'category': 'Service', 'mention': 'заказать', 'start': '713', 'end': '721', 'sentiment': 'neutral'}, {'category': 'Food', 'mention': 'пива', 'start': '722', 'end': '726', 'sentiment': 'neutral'}, {'category': 'Service', 'mention': 'официатка', 'start': '782', 'end': '791', 'sentiment': 'neutral'}, {'category': 'Whole', 'mention': 'заведение', 'start': '868', 'end': '877', 'sentiment': 'negative'}, {'category': 'Whole', 'mention': 'места', 'start': '929', 'end': '934', 'sentiment': 'positive'}, {'category': 'Service', 'mention': 'обслуживающий персонал', 'start': '970', 'end': '992', 'sentiment': 'positive'}, {'category': 'Whole', 'mention': 'Глобуса', 'start': '1073', 'end': '1080', 'sentiment': 'negative'}], '10625': [{'category': 'Whole', 'mention': 'кафе Dolce Italy', 'start': '36', 'end': '52', 'sentiment': 'neutral'}, {'category': 'Food', 'mention': 'кофе', 'start': '61', 'end': '65', 'sentiment': 'neutral'}, {'category': 'Food', 'mention': 'пирожными', 'start': '68', 'end': '77', 'sentiment': 'neutral'}, {'category': 'Whole', 'mention': 'кафе', 'start': '109', 'end': '113', 'sentiment': 'neutral'}, {'category': 'Whole', 'mention': 'ресторане', 'start': '203', 'end': '212', 'sentiment': 'neutral'}, {'category': 'Food', 'mention': 'пирожные', 'start': '216', 'end': '224', 'sentiment': 'neutral'}, {'category': 'Whole', 'mention': 'рестораном Italy', 'start': '284', 'end': '300', 'sentiment': 'positive'}, {'category': 'Interior', 'mention': 'вентиляция', 'start': '416', 'end': '426', 'sentiment': 'positive'}, {'category': 'Interior', 'mention': 'Интерьер', 'start': '479', 'end': '487', 'sentiment': 'positive'}, {'category': 'Service', 'mention': 'сервиса', 'start': '634', 'end': '641', 'sentiment': 'negative'}, {'category': 'Service', 'mention': 'официантка', 'start': '646', 'end': '656', 'sentiment': 'negative'}, {'category': 'Food', 'mention': 'салату цезарь', 'start': '772', 'end': '785', 'sentiment': 'neutral'}, {'category': 'Food', 'mention': 'соус без анчоусов', 'start': '796', 'end': '813', 'sentiment': 'neutral'}, {'category': 'Service', 'mention': 'повар', 'start': '823', 'end': '828', 'sentiment': 'negative'}, {'category': 'Food', 'mention': 'майонез', 'start': '867', 'end': '874', 'sentiment': 'negative'}, {'category': 'Food', 'mention': 'соус', 'start': '880', 'end': '884', 'sentiment': 'negative'}, {'category': 'Whole', 'mention': 'место', 'start': '1015', 'end': '1020', 'sentiment': 'positive'}, {'category': 'Food', 'mention': 'итальянских блюд', 'start': '1057', 'end': '1073', 'sentiment': 'neutral'}, {'category': 'Whole', 'mention': 'ресторан', 'start': '1134', 'end': '1142', 'sentiment': 'positive'}], '25861': [{'category': 'Interior', 'mention': '2ом этаже', 'start': '3', 'end': '12', 'sentiment': 'neutral'}, {'category': 'Interior', 'mention': 'интерьер', 'start': '37', 'end': '45', 'sentiment': 'positive'}, {'category': 'Interior', 'mention': '1ом этаже', 'start': '112', 'end': '121', 'sentiment': 'negative'}, {'category': 'Food', 'mention': 'Порции', 'start': '123', 'end': '129', 'sentiment': 'negative'}, {'category': 'Food', 'mention': 'паста', 'start': '144', 'end': '149', 'sentiment': 'positive'}, {'category': 'Service', 'mention': 'Обслуживание', 'start': '169', 'end': '181', 'sentiment': 'negative'}, {'category': 'Service', 'mention': 'готовят', 'start': '199', 'end': '206', 'sentiment': 'negative'}, {'category': 'Service', 'mention': 'приносят', 'start': '212', 'end': '220', 'sentiment': 'negative'}, {'category': 'Whole', 'mention': 'ресторан', 'start': '265', 'end': '273', 'sentiment': 'neutral'}, {'category': 'Whole', 'mention': 'Моджо', 'start': '328', 'end': '333', 'sentiment': 'positive'}, {'category': 'Whole', 'mention': 'местом', 'start': '343', 'end': '349', 'sentiment': 'positive'}], '27816': [{'category': 'Whole', 'mention': 'ресторан', 'start': '46', 'end': '54', 'sentiment': 'positive'}, {'category': 'Food', 'mention': 'меню', 'start': '77', 'end': '81', 'sentiment': 'positive'}, {'category': 'Food', 'mention': 'кухня', 'start': '91', 'end': '96', 'sentiment': 'positive'}, {'category': 'Price', 'mention': 'цены', 'start': '119', 'end': '123', 'sentiment': 'positive'}, {'category': 'Food', 'mention': 'шашлык', 'start': '133', 'end': '139', 'sentiment': 'positive'}, {'category': 'Food', 'mention': 'ассортимент блюд', 'start': '149', 'end': '165', 'sentiment': 'positive'}, {'category': 'Interior', 'mention': 'Атмосфера', 'start': '226', 'end': '235', 'sentiment': 'positive'}, {'category': 'Interior', 'mention': 'обстановка', 'start': '275', 'end': '285', 'sentiment': 'positive'}, {'category': 'Service', 'mention': 'персонал', 'start': '300', 'end': '308', 'sentiment': 'positive'}, {'category': 'Interior', 'mention': 'развлекательная программа', 'start': '321', 'end': '346', 'sentiment': 'positive'}, {'category': 'Interior', 'mention': 'живая музыка', 'start': '349', 'end': '361', 'sentiment': 'positive'}, {'category': 'Food', 'mention': 'кальян', 'start': '593', 'end': '599', 'sentiment': 'positive'}, {'category': 'Price', 'mention': 'ценам', 'start': '614', 'end': '619', 'sentiment': 'positive'}], '18518': [{'category': 'Whole', 'mention': 'ресторане', 'start': '15', 'end': '24', 'sentiment': 'neutral'}, {'category': 'Service', 'mention': 'Обслуживанием', 'start': '33', 'end': '46', 'sentiment': 'positive'}, {'category': 'Service', 'mention': 'Официанты', 'start': '122', 'end': '131', 'sentiment': 'positive'}, {'category': 'Food', 'mention': 'Порции', 'start': '210', 'end': '216', 'sentiment': 'positive'}, {'category': 'Whole', 'mention': 'ресторан', 'start': '352', 'end': '360', 'sentiment': 'positive'}, {'category': 'Food', 'mention': 'Закуски', 'start': '402', 'end': '409', 'sentiment': 'neutral'}, {'category': 'Food', 'mention': 'салаты', 'start': '412', 'end': '418', 'sentiment': 'neutral'}, {'category': 'Food', 'mention': 'горячее', 'start': '438', 'end': '445', 'sentiment': 'neutral'}, {'category': 'Food', 'mention': 'мороженое', 'start': '497', 'end': '506', 'sentiment': 'neutral'}, {'category': 'Food', 'mention': 'мороженое', 'start': '528', 'end': '537', 'sentiment': 'positive'}], '36017': [{'category': 'Whole', 'mention': 'ресторан', 'start': '19', 'end': '27', 'sentiment': 'positive'}, {'category': 'Service', 'mention': 'встретил', 'start': '43', 'end': '51', 'sentiment': 'neutral'}, {'category': 'Service', 'mention': 'мужчина', 'start': '63', 'end': '70', 'sentiment': 'positive'}, {'category': 'Service', 'mention': 'мужчину', 'start': '186', 'end': '193', 'sentiment': 'neutral'}, {'category': 'Service', 'mention': 'хозяин', 'start': '217', 'end': '223', 'sentiment': 'neutral'}, {'category': 'Whole', 'mention': 'ресторан', 'start': '312', 'end': '320', 'sentiment': 'positive'}, {'category': 'Food', 'mention': 'блюда', 'start': '433', 'end': '438', 'sentiment': 'neutral'}, {'category': 'Food', 'mention': 'Меню ресторана', 'start': '440', 'end': '454', 'sentiment': 'neutral'}, {'category': 'Food', 'mention': 'салатами', 'start': '494', 'end': '502', 'sentiment': 'neutral'}, {'category': 'Food', 'mention': 'вторыми блюдами', 'start': '507', 'end': '522', 'sentiment': 'neutral'}, {'category': 'Food', 'mention': 'кухня', 'start': '586', 'end': '591', 'sentiment': 'positive'}, {'category': 'Food', 'mention': 'блюда', 'start': '616', 'end': '621', 'sentiment': 'positive'}, {'category': 'Food', 'mention': 'мраморную говядину', 'start': '679', 'end': '697', 'sentiment': 'positive'}, {'category': 'Whole', 'mention': 'ресторанах', 'start': '722', 'end': '732', 'sentiment': 'neutral'}, {'category': 'Food', 'mention': 'Блюдо', 'start': '769', 'end': '774', 'sentiment': 'positive'}, {'category': 'Food', 'mention': 'Порции', 'start': '805', 'end': '811', 'sentiment': 'positive'}, {'category': 'Food', 'mention': 'съесть', 'start': '863', 'end': '869', 'sentiment': 'neutral'}, {'category': 'Whole', 'mention': 'Ресторан', 'start': '884', 'end': '892', 'sentiment': 'positive'}, {'category': 'Service', 'mention': 'Обслуживание', 'start': '933', 'end': '945', 'sentiment': 'positive'}, {'category': 'Food', 'mention': 'кухня', 'start': '955', 'end': '960', 'sentiment': 'positive'}, {'category': 'Whole', 'mention': 'ресторан', 'start': '991', 'end': '999', 'sentiment': 'neutral'}, {'category': 'Price', 'mention': 'цену', 'start': '1075', 'end': '1079', 'sentiment': 'negative'}, {'category': 'Whole', 'mention': 'ресторан', 'start': '1084', 'end': '1092', 'sentiment': 'positive'}, {'category': 'Whole', 'mention': 'ресторан', 'start': '1139', 'end': '1147', 'sentiment': 'positive'}], '29395': [{'category': 'Whole', 'mention': 'Ресторан', 'start': '0', 'end': '8', 'sentiment': 'positive'}, {'category': 'Whole', 'mention': 'ресторане', 'start': '89', 'end': '98', 'sentiment': 'neutral'}, {'category': 'Food', 'mention': 'Кухня', 'start': '204', 'end': '209', 'sentiment': 'positive'}, {'category': 'Service', 'mention': 'обслуживание', 'start': '225', 'end': '237', 'sentiment': 'positive'}, {'category': 'Whole', 'mention': 'ресторанах', 'start': '302', 'end': '312', 'sentiment': 'negative'}, {'category': 'Food', 'mention': 'блюда', 'start': '343', 'end': '348', 'sentiment': 'neutral'}, {'category': 'Food', 'mention': 'шампанское', 'start': '350', 'end': '360', 'sentiment': 'neutral'}, {'category': 'Food', 'mention': 'шампанское', 'start': '403', 'end': '413', 'sentiment': 'positive'}, {'category': 'Food', 'mention': 'кушали', 'start': '510', 'end': '516', 'sentiment': 'positive'}, {'category': 'Food', 'mention': 'кушали', 'start': '518', 'end': '524', 'sentiment': 'positive'}, {'category': 'Food', 'mention': 'едой', 'start': '555', 'end': '559', 'sentiment': 'positive'}, {'category': 'Whole', 'mention': 'ресторане', 'start': '632', 'end': '641', 'sentiment': 'neutral'}, {'category': 'Interior', 'mention': 'музыка', 'start': '657', 'end': '663', 'sentiment': 'positive'}, {'category': 'Whole', 'mention': 'ресторан', 'start': '870', 'end': '878', 'sentiment': 'neutral'}, {'category': 'Whole', 'mention': '\"ТБИЛИСО\"', 'start': '932', 'end': '941', 'sentiment': 'positive'}], '27629': [{'category': 'Whole', 'mention': 'ресторан', 'start': '27', 'end': '35', 'sentiment': 'neutral'}, {'category': 'Food', 'mention': 'китайскую кухню', 'start': '54', 'end': '69', 'sentiment': 'positive'}, {'category': 'Service', 'mention': 'Официантка', 'start': '192', 'end': '202', 'sentiment': 'negative'}, {'category': 'Service', 'mention': 'слушала', 'start': '238', 'end': '245', 'sentiment': 'negative'}, {'category': 'Food', 'mention': 'блюда китайской кухни', 'start': '437', 'end': '458', 'sentiment': 'negative'}, {'category': 'Food', 'mention': 'Кухня', 'start': '518', 'end': '523', 'sentiment': 'negative'}, {'category': 'Service', 'mention': 'обслуживание', 'start': '613', 'end': '625', 'sentiment': 'negative'}, {'category': 'Interior', 'mention': 'интерьер', 'start': '669', 'end': '677', 'sentiment': 'positive'}, {'category': 'Interior', 'mention': 'мебель', 'start': '699', 'end': '705', 'sentiment': 'negative'}, {'category': 'Whole', 'mention': 'заведение', 'start': '722', 'end': '731', 'sentiment': 'negative'}], '34045': [{'category': 'Whole', 'mention': 'кафе', 'start': '34', 'end': '38', 'sentiment': 'positive'}, {'category': 'Food', 'mention': 'Кухня', 'start': '98', 'end': '103', 'sentiment': 'positive'}, {'category': 'Service', 'mention': 'Обслуживание', 'start': '197', 'end': '209', 'sentiment': 'positive'}, {'category': 'Service', 'mention': 'персонал', 'start': '229', 'end': '237', 'sentiment': 'positive'}, {'category': 'Whole', 'mention': 'кафе', 'start': '305', 'end': '309', 'sentiment': 'positive'}, {'category': 'Food', 'mention': 'кофе', 'start': '347', 'end': '351', 'sentiment': 'neutral'}, {'category': 'Interior', 'mention': 'обстановке', 'start': '364', 'end': '374', 'sentiment': 'positive'}], '6366': [{'category': 'Whole', 'mention': 'заведение', 'start': '18', 'end': '27', 'sentiment': 'positive'}, {'category': 'Interior', 'mention': 'интерьер', 'start': '29', 'end': '37', 'sentiment': 'positive'}, {'category': 'Service', 'mention': 'Обслуживание', 'start': '51', 'end': '63', 'sentiment': 'positive'}, {'category': 'Service', 'mention': 'официантка', 'start': '103', 'end': '113', 'sentiment': 'positive'}, {'category': 'Food', 'mention': 'кухни', 'start': '134', 'end': '139', 'sentiment': 'neutral'}, {'category': 'Food', 'mention': 'мороженное', 'start': '183', 'end': '193', 'sentiment': 'neutral'}, {'category': 'Food', 'mention': 'блинчиками с мясом', 'start': '229', 'end': '247', 'sentiment': 'positive'}, {'category': 'Price', 'mention': 'цены', 'start': '276', 'end': '280', 'sentiment': 'positive'}, {'category': 'Interior', 'mention': 'интерьере', 'start': '292', 'end': '301', 'sentiment': 'positive'}, {'category': 'Food', 'mention': 'качестве блюд', 'start': '304', 'end': '317', 'sentiment': 'positive'}, {'category': 'Price', 'mention': 'цены', 'start': '330', 'end': '334', 'sentiment': 'negative'}], '8411': [{'category': 'Whole', 'mention': 'Санторини', 'start': '19', 'end': '28', 'sentiment': 'neutral'}, {'category': 'Service', 'mention': 'обслуживание', 'start': '39', 'end': '51', 'sentiment': 'positive'}, {'category': 'Service', 'mention': 'официант', 'start': '134', 'end': '142', 'sentiment': 'positive'}, {'category': 'Service', 'mention': 'Обслуживание', 'start': '144', 'end': '156', 'sentiment': 'positive'}, {'category': 'Service', 'mention': 'Все убирали', 'start': '194', 'end': '205', 'sentiment': 'positive'}, {'category': 'Food', 'mention': 'еды', 'start': '250', 'end': '253', 'sentiment': 'neutral'}, {'category': 'Food', 'mention': 'съели', 'start': '262', 'end': '267', 'sentiment': 'both'}, {'category': 'Whole', 'mention': 'ресторан', 'start': '426', 'end': '434', 'sentiment': 'neutral'}, {'category': 'Food', 'mention': 'покушали', 'start': '437', 'end': '445', 'sentiment': 'neutral'}, {'category': 'Price', 'mention': 'ценник', 'start': '482', 'end': '488', 'sentiment': 'negative'}, {'category': 'Service', 'mention': 'обслуживание', 'start': '530', 'end': '542', 'sentiment': 'positive'}, {'category': 'Whole', 'mention': 'Санторини', 'start': '587', 'end': '596', 'sentiment': 'positive'}, {'category': 'Food', 'mention': 'еда', 'start': '638', 'end': '641', 'sentiment': 'positive'}, {'category': 'Service', 'mention': 'обслуживание', 'start': '661', 'end': '673', 'sentiment': 'positive'}, {'category': 'Interior', 'mention': 'места для танцев', 'start': '690', 'end': '706', 'sentiment': 'positive'}, {'category': 'Service', 'mention': 'персоналу', 'start': '769', 'end': '778', 'sentiment': 'positive'}], '18003': [{'category': 'Whole', 'mention': 'заведение', 'start': '16', 'end': '25', 'sentiment': 'neutral'}, {'category': 'Interior', 'mention': 'интерьера', 'start': '198', 'end': '207', 'sentiment': 'neutral'}, {'category': 'Whole', 'mention': 'мест', 'start': '269', 'end': '273', 'sentiment': 'positive'}, {'category': 'Service', 'mention': 'встретили', 'start': '326', 'end': '335', 'sentiment': 'positive'}, {'category': 'Service', 'mention': 'проводили к столику', 'start': '342', 'end': '361', 'sentiment': 'positive'}, {'category': 'Service', 'mention': 'официантка', 'start': '365', 'end': '375', 'sentiment': 'positive'}, {'category': 'Service', 'mention': 'приветливая', 'start': '401', 'end': '412', 'sentiment': 'positive'}, {'category': 'Service', 'mention': 'работу она выполняла', 'start': '486', 'end': '506', 'sentiment': 'positive'}, {'category': 'Food', 'mention': 'кухни', 'start': '544', 'end': '549', 'sentiment': 'neutral'}, {'category': 'Food', 'mention': 'блюд', 'start': '640', 'end': '644', 'sentiment': 'positive'}, {'category': 'Food', 'mention': 'на вкус', 'start': '696', 'end': '703', 'sentiment': 'negative'}, {'category': 'Food', 'mention': 'мясо', 'start': '825', 'end': '829', 'sentiment': 'negative'}, {'category': 'Food', 'mention': 'рыба', 'start': '843', 'end': '847', 'sentiment': 'negative'}, {'category': 'Food', 'mention': 'спиртных напитках', 'start': '879', 'end': '896', 'sentiment': 'positive'}, {'category': 'Food', 'mention': 'Винная карта', 'start': '898', 'end': '910', 'sentiment': 'positive'}, {'category': 'Food', 'mention': 'качество вин', 'start': '923', 'end': '935', 'sentiment': 'positive'}], '19677': [{'category': 'Whole', 'mention': 'кафе', 'start': '47', 'end': '51', 'sentiment': 'positive'}, {'category': 'Food', 'mention': 'кухня', 'start': '154', 'end': '159', 'sentiment': 'positive'}, {'category': 'Food', 'mention': 'порции', 'start': '169', 'end': '175', 'sentiment': 'positive'}, {'category': 'Food', 'mention': 'салаты', 'start': '188', 'end': '194', 'sentiment': 'positive'}, {'category': 'Food', 'mention': 'горячее', 'start': '197', 'end': '204', 'sentiment': 'positive'}, {'category': 'Price', 'mention': 'цену', 'start': '262', 'end': '266', 'sentiment': 'positive'}, {'category': 'Service', 'mention': 'обслуживание', 'start': '296', 'end': '308', 'sentiment': 'positive'}, {'category': 'Service', 'mention': 'администратору', 'start': '328', 'end': '342', 'sentiment': 'positive'}, {'category': 'Food', 'mention': 'торт', 'start': '416', 'end': '420', 'sentiment': 'positive'}, {'category': 'Whole', 'mention': 'кафе', 'start': '465', 'end': '469', 'sentiment': 'positive'}], '11388': [{'category': 'Whole', 'mention': 'ресторан', 'start': '41', 'end': '49', 'sentiment': 'neutral'}, {'category': 'Interior', 'mention': 'Интерьер', 'start': '79', 'end': '87', 'sentiment': 'positive'}, {'category': 'Food', 'mention': 'Кухня', 'start': '109', 'end': '114', 'sentiment': 'positive'}, {'category': 'Interior', 'mention': 'музыкальный коллектив', 'start': '228', 'end': '249', 'sentiment': 'positive'}, {'category': 'Interior', 'mention': 'музыка', 'start': '259', 'end': '265', 'sentiment': 'positive'}, {'category': 'Service', 'mention': 'обслуживанию', 'start': '270', 'end': '282', 'sentiment': 'positive'}, {'category': 'Service', 'mention': 'встретили', 'start': '305', 'end': '314', 'sentiment': 'positive'}, {'category': 'Service', 'mention': 'проводили за столик', 'start': '316', 'end': '335', 'sentiment': 'positive'}, {'category': 'Interior', 'mention': 'VIP зоне', 'start': '361', 'end': '369', 'sentiment': 'neutral'}, {'category': 'Service', 'mention': 'Официанты', 'start': '392', 'end': '401', 'sentiment': 'positive'}, {'category': 'Whole', 'mention': 'место', 'start': '484', 'end': '489', 'sentiment': 'positive'}], '28083': [{'category': 'Whole', 'mention': 'ресторан', 'start': '12', 'end': '20', 'sentiment': 'neutral'}, {'category': 'Whole', 'mention': 'паулайнере', 'start': '174', 'end': '184', 'sentiment': 'positive'}, {'category': 'Service', 'mention': 'обслуживание', 'start': '228', 'end': '240', 'sentiment': 'positive'}, {'category': 'Food', 'mention': 'кухня', 'start': '251', 'end': '256', 'sentiment': 'positive'}, {'category': 'Food', 'mention': 'пиво', 'start': '262', 'end': '266', 'sentiment': 'positive'}, {'category': 'Service', 'mention': 'заказывали', 'start': '410', 'end': '420', 'sentiment': 'neutral'}, {'category': 'Service', 'mention': 'персонал', 'start': '437', 'end': '445', 'sentiment': 'positive'}, {'category': 'Service', 'mention': 'обслуживала', 'start': '492', 'end': '503', 'sentiment': 'positive'}, {'category': 'Service', 'mention': 'девушка Мария', 'start': '515', 'end': '528', 'sentiment': 'positive'}, {'category': 'Service', 'mention': 'девушка', 'start': '592', 'end': '599', 'sentiment': 'positive'}, {'category': 'Food', 'mention': 'горячее', 'start': '832', 'end': '839', 'sentiment': 'neutral'}], '11421': [{'category': 'Whole', 'mention': 'ресторане', 'start': '12', 'end': '21', 'sentiment': 'positive'}, {'category': 'Food', 'mention': 'Ужинали', 'start': '72', 'end': '79', 'sentiment': 'neutral'}, {'category': 'Interior', 'mention': '2 этаже', 'start': '93', 'end': '100', 'sentiment': 'neutral'}, {'category': 'Service', 'mention': 'обслуживание', 'start': '111', 'end': '123', 'sentiment': 'positive'}, {'category': 'Service', 'mention': 'приносили-уносили', 'start': '129', 'end': '146', 'sentiment': 'positive'}, {'category': 'Food', 'mention': 'выбор в меню', 'start': '182', 'end': '194', 'sentiment': 'positive'}, {'category': 'Food', 'mention': 'разнообразия блюд', 'start': '246', 'end': '263', 'sentiment': 'positive'}, {'category': 'Food', 'mention': 'кухне', 'start': '290', 'end': '295', 'sentiment': 'positive'}, {'category': 'Food', 'mention': 'ужина', 'start': '340', 'end': '345', 'sentiment': 'neutral'}, {'category': 'Interior', 'mention': 'музыканты', 'start': '353', 'end': '362', 'sentiment': 'neutral'}, {'category': 'Interior', 'mention': 'музыка', 'start': '385', 'end': '391', 'sentiment': 'positive'}, {'category': 'Whole', 'mention': 'ресторан', 'start': '427', 'end': '435', 'sentiment': 'positive'}], '24214': [{'category': 'Whole', 'mention': 'ресторан', 'start': '9', 'end': '17', 'sentiment': 'neutral'}, {'category': 'Interior', 'mention': 'народу было не очень много', 'start': '114', 'end': '140', 'sentiment': 'positive'}, {'category': 'Price', 'mention': 'цены', 'start': '181', 'end': '185', 'sentiment': 'negative'}, {'category': 'Food', 'mention': 'салатов', 'start': '265', 'end': '272', 'sentiment': 'negative'}, {'category': 'Food', 'mention': 'порции', 'start': '273', 'end': '279', 'sentiment': 'negative'}, {'category': 'Food', 'mention': 'мясо', 'start': '293', 'end': '297', 'sentiment': 'negative'}], '31963': [{'category': 'Whole', 'mention': 'ресторан', 'start': '12', 'end': '20', 'sentiment': 'neutral'}, {'category': 'Interior', 'mention': 'интерьер', 'start': '45', 'end': '53', 'sentiment': 'neutral'}, {'category': 'Service', 'mention': 'охранник', 'start': '55', 'end': '63', 'sentiment': 'neutral'}, {'category': 'Service', 'mention': 'администратор', 'start': '78', 'end': '91', 'sentiment': 'positive'}, {'category': 'Service', 'mention': 'официанта', 'start': '168', 'end': '177', 'sentiment': 'neutral'}, {'category': 'Food', 'mention': 'еду', 'start': '229', 'end': '232', 'sentiment': 'neutral'}, {'category': 'Interior', 'mention': 'Обстановка в ресторане', 'start': '254', 'end': '276', 'sentiment': 'positive'}, {'category': 'Food', 'mention': 'кухню', 'start': '323', 'end': '328', 'sentiment': 'neutral'}, {'category': 'Food', 'mention': 'блюда', 'start': '359', 'end': '364', 'sentiment': 'positive'}, {'category': 'Food', 'mention': 'повара', 'start': '402', 'end': '408', 'sentiment': 'both'}, {'category': 'Whole', 'mention': 'ресторане', 'start': '518', 'end': '527', 'sentiment': 'neutral'}, {'category': 'Food', 'mention': 'горячее', 'start': '567', 'end': '574', 'sentiment': 'both'}, {'category': 'Food', 'mention': 'мясное блюдо', 'start': '649', 'end': '661', 'sentiment': 'positive'}, {'category': 'Food', 'mention': 'мясо', 'start': '732', 'end': '736', 'sentiment': 'negative'}, {'category': 'Whole', 'mention': 'заведение', 'start': '836', 'end': '845', 'sentiment': 'positive'}], '3152': [{'category': 'Whole', 'mention': 'ресторане', 'start': '33', 'end': '42', 'sentiment': 'neutral'}, {'category': 'Interior', 'mention': 'нижнем зале', 'start': '92', 'end': '103', 'sentiment': 'neutral'}, {'category': 'Interior', 'mention': 'обстановка ресторана', 'start': '122', 'end': '142', 'sentiment': 'positive'}, {'category': 'Interior', 'mention': 'интерьер', 'start': '161', 'end': '169', 'sentiment': 'positive'}, {'category': 'Food', 'mention': 'кормили', 'start': '196', 'end': '203', 'sentiment': 'positive'}, {'category': 'Food', 'mention': 'еды', 'start': '297', 'end': '300', 'sentiment': 'neutral'}, {'category': 'Food', 'mention': 'доедали', 'start': '303', 'end': '310', 'sentiment': 'positive'}, {'category': 'Food', 'mention': 'меню', 'start': '336', 'end': '340', 'sentiment': 'neutral'}, {'category': 'Food', 'mention': 'салат \"Лагуна\"', 'start': '363', 'end': '377', 'sentiment': 'positive'}, {'category': 'Food', 'mention': 'баклажаны', 'start': '379', 'end': '388', 'sentiment': 'positive'}, {'category': 'Food', 'mention': 'рулетики с грибами', 'start': '391', 'end': '409', 'sentiment': 'positive'}, {'category': 'Food', 'mention': 'горячее', 'start': '414', 'end': '421', 'sentiment': 'neutral'}, {'category': 'Food', 'mention': 'мясо', 'start': '427', 'end': '431', 'sentiment': 'neutral'}, {'category': 'Food', 'mention': 'рыба', 'start': '434', 'end': '438', 'sentiment': 'neutral'}, {'category': 'Food', 'mention': 'рыбу-стейк из форели', 'start': '459', 'end': '479', 'sentiment': 'positive'}, {'category': 'Food', 'mention': 'блюдо', 'start': '495', 'end': '500', 'sentiment': 'positive'}, {'category': 'Service', 'mention': 'обслуживание', 'start': '537', 'end': '549', 'sentiment': 'positive'}, {'category': 'Service', 'mention': 'отношение персонала', 'start': '552', 'end': '571', 'sentiment': 'positive'}, {'category': 'Service', 'mention': 'тамаду', 'start': '599', 'end': '605', 'sentiment': 'neutral'}, {'category': 'Whole', 'mention': 'рестораном', 'start': '621', 'end': '631', 'sentiment': 'neutral'}, {'category': 'Service', 'mention': 'человек', 'start': '667', 'end': '674', 'sentiment': 'positive'}, {'category': 'Service', 'mention': 'Директор', 'start': '725', 'end': '733', 'sentiment': 'positive'}, {'category': 'Service', 'mention': 'человек', 'start': '745', 'end': '752', 'sentiment': 'positive'}, {'category': 'Whole', 'mention': 'отдохнули', 'start': '868', 'end': '877', 'sentiment': 'positive'}, {'category': 'Whole', 'mention': 'ресторана', 'start': '1043', 'end': '1052', 'sentiment': 'positive'}], '10663': [{'category': 'Whole', 'mention': 'Дачи', 'start': '17', 'end': '21', 'sentiment': 'neutral'}, {'category': 'Whole', 'mention': 'ресторана', 'start': '43', 'end': '52', 'sentiment': 'neutral'}, {'category': 'Service', 'mention': 'отношение', 'start': '112', 'end': '121', 'sentiment': 'positive'}, {'category': 'Service', 'mention': 'мужчина из гардероба', 'start': '149', 'end': '169', 'sentiment': 'positive'}, {'category': 'Service', 'mention': 'администратора', 'start': '214', 'end': '228', 'sentiment': 'positive'}, {'category': 'Service', 'mention': 'девушка', 'start': '245', 'end': '252', 'sentiment': 'positive'}, {'category': 'Service', 'mention': 'рассказала', 'start': '258', 'end': '268', 'sentiment': 'positive'}, {'category': 'Service', 'mention': 'показала', 'start': '270', 'end': '278', 'sentiment': 'positive'}, {'category': 'Service', 'mention': 'Девушки официантки', 'start': '451', 'end': '469', 'sentiment': 'positive'}, {'category': 'Service', 'mention': 'здороваются', 'start': '474', 'end': '485', 'sentiment': 'positive'}, {'category': 'Interior', 'mention': 'интерьер', 'start': '499', 'end': '507', 'sentiment': 'positive'}, {'category': 'Food', 'mention': 'пообедать', 'start': '538', 'end': '547', 'sentiment': 'neutral'}, {'category': 'Service', 'mention': 'встреча', 'start': '564', 'end': '571', 'sentiment': 'positive'}, {'category': 'Food', 'mention': 'попили', 'start': '641', 'end': '647', 'sentiment': 'positive'}, {'category': 'Food', 'mention': 'чая', 'start': '657', 'end': '660', 'sentiment': 'positive'}, {'category': 'Service', 'mention': 'Девушка официантка', 'start': '674', 'end': '692', 'sentiment': 'positive'}, {'category': 'Service', 'mention': 'обслуживание', 'start': '732', 'end': '744', 'sentiment': 'positive'}, {'category': 'Food', 'mention': 'Кухня', 'start': '773', 'end': '778', 'sentiment': 'positive'}, {'category': 'Food', 'mention': 'Мясо', 'start': '794', 'end': '798', 'sentiment': 'positive'}, {'category': 'Food', 'mention': 'Порции', 'start': '843', 'end': '849', 'sentiment': 'positive'}, {'category': 'Whole', 'mention': 'ресторана', 'start': '910', 'end': '919', 'sentiment': 'positive'}, {'category': 'Whole', 'mention': 'место', 'start': '1093', 'end': '1098', 'sentiment': 'positive'}], '25709': [{'category': 'Service', 'mention': 'девушки', 'start': '168', 'end': '175', 'sentiment': 'positive'}, {'category': 'Whole', 'mention': 'заведения', 'start': '302', 'end': '311', 'sentiment': 'neutral'}, {'category': 'Interior', 'mention': 'диваны', 'start': '347', 'end': '353', 'sentiment': 'positive'}, {'category': 'Interior', 'mention': 'подушек', 'start': '365', 'end': '372', 'sentiment': 'positive'}, {'category': 'Interior', 'mention': 'музыка', 'start': '402', 'end': '408', 'sentiment': 'positive'}, {'category': 'Interior', 'mention': 'полумрак', 'start': '418', 'end': '426', 'sentiment': 'positive'}, {'category': 'Service', 'mention': 'обслуживало', 'start': '442', 'end': '453', 'sentiment': 'neutral'}, {'category': 'Service', 'mention': 'официанта', 'start': '458', 'end': '467', 'sentiment': 'neutral'}, {'category': 'Food', 'mention': 'вина', 'start': '583', 'end': '587', 'sentiment': 'neutral'}, {'category': 'Food', 'mention': 'коктейльным напитком', 'start': '597', 'end': '617', 'sentiment': 'neutral'}, {'category': 'Food', 'mention': 'Медальоны из говядины с запеченным картофелем', 'start': '666', 'end': '711', 'sentiment': 'positive'}, {'category': 'Food', 'mention': 'рыбы', 'start': '763', 'end': '767', 'sentiment': 'neutral'}, {'category': 'Food', 'mention': 'приготовленное', 'start': '799', 'end': '813', 'sentiment': 'positive'}, {'category': 'Food', 'mention': 'мясо', 'start': '814', 'end': '818', 'sentiment': 'positive'}, {'category': 'Service', 'mention': 'Заказ принесли', 'start': '820', 'end': '834', 'sentiment': 'positive'}, {'category': 'Service', 'mention': 'обслуживании', 'start': '885', 'end': '897', 'sentiment': 'positive'}, {'category': 'Whole', 'mention': 'ресторане', 'start': '964', 'end': '973', 'sentiment': 'positive'}, {'category': 'Whole', 'mention': 'заведения', 'start': '1102', 'end': '1111', 'sentiment': 'positive'}], '719': [{'category': 'Service', 'mention': 'Заказали столик', 'start': '51', 'end': '66', 'sentiment': 'neutral'}, {'category': 'Food', 'mention': 'Пиво хугарден', 'start': '186', 'end': '199', 'sentiment': 'positive'}, {'category': 'Interior', 'mention': 'бокалах', 'start': '221', 'end': '228', 'sentiment': 'positive'}, {'category': 'Food', 'mention': 'Ели', 'start': '230', 'end': '233', 'sentiment': 'positive'}, {'category': 'Food', 'mention': 'салаты', 'start': '234', 'end': '240', 'sentiment': 'positive'}, {'category': 'Food', 'mention': 'стейки', 'start': '242', 'end': '248', 'sentiment': 'positive'}, {'category': 'Food', 'mention': 'пили', 'start': '250', 'end': '254', 'sentiment': 'positive'}, {'category': 'Food', 'mention': 'водку', 'start': '255', 'end': '260', 'sentiment': 'positive'}, {'category': 'Food', 'mention': 'пиво', 'start': '262', 'end': '266', 'sentiment': 'positive'}, {'category': 'Food', 'mention': 'коктейли', 'start': '268', 'end': '276', 'sentiment': 'positive'}, {'category': 'Food', 'mention': 'соленые грибы', 'start': '323', 'end': '336', 'sentiment': 'negative'}, {'category': 'Food', 'mention': 'соленые', 'start': '390', 'end': '397', 'sentiment': 'negative'}, {'category': 'Food', 'mention': 'Селедка', 'start': '399', 'end': '406', 'sentiment': 'positive'}, {'category': 'Food', 'mention': 'мясная нарезка', 'start': '409', 'end': '423', 'sentiment': 'positive'}, {'category': 'Service', 'mention': 'Официанты', 'start': '440', 'end': '449', 'sentiment': 'positive'}, {'category': 'Whole', 'mention': 'заведение', 'start': '548', 'end': '557', 'sentiment': 'positive'}], '34607': [{'category': 'Whole', 'mention': 'ресторане', 'start': '6', 'end': '15', 'sentiment': 'neutral'}, {'category': 'Interior', 'mention': 'Обстановка', 'start': '46', 'end': '56', 'sentiment': 'positive'}, {'category': 'Interior', 'mention': 'фонтан в центре зала', 'start': '176', 'end': '196', 'sentiment': 'negative'}, {'category': 'Interior', 'mention': 'музыкой', 'start': '207', 'end': '214', 'sentiment': 'negative'}, {'category': 'Service', 'mention': 'Заказ приняли', 'start': '227', 'end': '240', 'sentiment': 'positive'}, {'category': 'Service', 'mention': 'сервис', 'start': '264', 'end': '270', 'sentiment': 'negative'}, {'category': 'Service', 'mention': 'принесли', 'start': '319', 'end': '327', 'sentiment': 'neutral'}, {'category': 'Food', 'mention': 'салат', 'start': '328', 'end': '333', 'sentiment': 'neutral'}, {'category': 'Food', 'mention': 'готовят', 'start': '339', 'end': '346', 'sentiment': 'negative'}, {'category': 'Food', 'mention': 'Рис', 'start': '379', 'end': '382', 'sentiment': 'neutral'}, {'category': 'Food', 'mention': 'чаем', 'start': '404', 'end': '408', 'sentiment': 'neutral'}, {'category': 'Whole', 'mention': 'китайский ресторан', 'start': '438', 'end': '456', 'sentiment': 'positive'}, {'category': 'Food', 'mention': 'блюда', 'start': '482', 'end': '487', 'sentiment': 'positive'}, {'category': 'Food', 'mention': 'рис', 'start': '567', 'end': '570', 'sentiment': 'negative'}, {'category': 'Food', 'mention': 'рис', 'start': '659', 'end': '662', 'sentiment': 'negative'}, {'category': 'Service', 'mention': 'официантка', 'start': '754', 'end': '764', 'sentiment': 'negative'}, {'category': 'Service', 'mention': 'обслужили', 'start': '793', 'end': '802', 'sentiment': 'positive'}, {'category': 'Whole', 'mention': 'ресторане', 'start': '881', 'end': '890', 'sentiment': 'neutral'}], '18780': [{'category': 'Food', 'mention': 'съесть', 'start': '38', 'end': '44', 'sentiment': 'neutral'}, {'category': 'Food', 'mention': 'ролл', 'start': '53', 'end': '57', 'sentiment': 'neutral'}, {'category': 'Food', 'mention': 'роллы', 'start': '128', 'end': '133', 'sentiment': 'positive'}, {'category': 'Food', 'mention': 'блюд европейской кухни', 'start': '172', 'end': '194', 'sentiment': 'positive'}, {'category': 'Food', 'mention': 'роллов', 'start': '202', 'end': '208', 'sentiment': 'positive'}, {'category': 'Whole', 'mention': 'кафе', 'start': '220', 'end': '224', 'sentiment': 'positive'}, {'category': 'Whole', 'mention': 'заведение', 'start': '328', 'end': '337', 'sentiment': 'positive'}, {'category': 'Service', 'mention': 'заказа столика', 'start': '371', 'end': '385', 'sentiment': 'neutral'}, {'category': 'Interior', 'mention': 'веранда', 'start': '493', 'end': '500', 'sentiment': 'positive'}, {'category': 'Price', 'mention': 'По ценам', 'start': '502', 'end': '510', 'sentiment': 'neutral'}, {'category': 'Food', 'mention': 'поесть', 'start': '533', 'end': '539', 'sentiment': 'neutral'}, {'category': 'Food', 'mention': 'роллы', 'start': '542', 'end': '547', 'sentiment': 'neutral'}, {'category': 'Food', 'mention': 'блюдо', 'start': '567', 'end': '572', 'sentiment': 'neutral'}, {'category': 'Food', 'mention': 'десерт', 'start': '573', 'end': '579', 'sentiment': 'neutral'}, {'category': 'Food', 'mention': 'холодные напитки', 'start': '581', 'end': '597', 'sentiment': 'neutral'}, {'category': 'Price', 'mention': '1450-1750р с человека', 'start': '612', 'end': '633', 'sentiment': 'neutral'}, {'category': 'Food', 'mention': 'еды', 'start': '646', 'end': '649', 'sentiment': 'neutral'}, {'category': 'Food', 'mention': 'съесть', 'start': '666', 'end': '672', 'sentiment': 'neutral'}, {'category': 'Whole', 'mention': 'место', 'start': '765', 'end': '770', 'sentiment': 'positive'}, {'category': 'Food', 'mention': 'еды', 'start': '803', 'end': '806', 'sentiment': 'positive'}, {'category': 'Service', 'mention': 'обслуживания', 'start': '809', 'end': '821', 'sentiment': 'positive'}], '13225': [{'category': 'Whole', 'mention': 'паб', 'start': '9', 'end': '12', 'sentiment': 'positive'}, {'category': 'Interior', 'mention': 'интерьер', 'start': '73', 'end': '81', 'sentiment': 'positive'}, {'category': 'Food', 'mention': 'пиво', 'start': '97', 'end': '101', 'sentiment': 'positive'}, {'category': 'Food', 'mention': 'кухня', 'start': '123', 'end': '128', 'sentiment': 'positive'}, {'category': 'Food', 'mention': 'блюда', 'start': '159', 'end': '164', 'sentiment': 'positive'}, {'category': 'Whole', 'mention': 'паб', 'start': '219', 'end': '222', 'sentiment': 'positive'}, {'category': 'Interior', 'mention': 'атмосфера', 'start': '334', 'end': '343', 'sentiment': 'positive'}, {'category': 'Whole', 'mention': 'заведения', 'start': '344', 'end': '353', 'sentiment': 'positive'}], '37516': [{'category': 'Whole', 'mention': 'ресторане', 'start': '51', 'end': '60', 'sentiment': 'neutral'}, {'category': 'Service', 'mention': 'забронировали стол', 'start': '112', 'end': '130', 'sentiment': 'neutral'}, {'category': 'Whole', 'mention': 'ресторан', 'start': '166', 'end': '174', 'sentiment': 'neutral'}, {'category': 'Service', 'mention': 'встретил', 'start': '183', 'end': '191', 'sentiment': 'positive'}, {'category': 'Service', 'mention': 'администратор', 'start': '192', 'end': '205', 'sentiment': 'neutral'}, {'category': 'Service', 'mention': 'девушка', 'start': '219', 'end': '226', 'sentiment': 'positive'}, {'category': 'Whole', 'mention': 'провели время', 'start': '306', 'end': '319', 'sentiment': 'positive'}, {'category': 'Food', 'mention': 'еда', 'start': '329', 'end': '332', 'sentiment': 'positive'}, {'category': 'Service', 'mention': 'обслуживание', 'start': '343', 'end': '355', 'sentiment': 'positive'}, {'category': 'Interior', 'mention': 'музыка', 'start': '366', 'end': '372', 'sentiment': 'positive'}, {'category': 'Interior', 'mention': 'обстановка', 'start': '386', 'end': '396', 'sentiment': 'positive'}], '30744': [{'category': 'Service', 'mention': 'заказывали заранее', 'start': '75', 'end': '93', 'sentiment': 'neutral'}, {'category': 'Service', 'mention': 'заказ приносили', 'start': '101', 'end': '116', 'sentiment': 'negative'}, {'category': 'Food', 'mention': 'пивом', 'start': '150', 'end': '155', 'sentiment': 'neutral'}, {'category': 'Food', 'mention': 'Гриль', 'start': '177', 'end': '182', 'sentiment': 'positive'}, {'category': 'Food', 'mention': 'пиво', 'start': '199', 'end': '203', 'sentiment': 'positive'}, {'category': 'Food', 'mention': 'вина', 'start': '226', 'end': '230', 'sentiment': 'negative'}, {'category': 'Food', 'mention': 'пива', 'start': '257', 'end': '261', 'sentiment': 'negative'}, {'category': 'Service', 'mention': 'сервиса', 'start': '311', 'end': '318', 'sentiment': 'positive'}, {'category': 'Food', 'mention': 'кухни', 'start': '323', 'end': '328', 'sentiment': 'positive'}, {'category': 'Interior', 'mention': 'атмосферы', 'start': '334', 'end': '343', 'sentiment': 'positive'}, {'category': 'Interior', 'mention': 'музыка', 'start': '381', 'end': '387', 'sentiment': 'positive'}], '37473': [{'category': 'Whole', 'mention': 'заведения', 'start': '43', 'end': '52', 'sentiment': 'neutral'}, {'category': 'Service', 'mention': 'заказать столик', 'start': '60', 'end': '75', 'sentiment': 'neutral'}, {'category': 'Whole', 'mention': 'ресторан', 'start': '239', 'end': '247', 'sentiment': 'neutral'}, {'category': 'Food', 'mention': 'пили', 'start': '360', 'end': '364', 'sentiment': 'negative'}, {'category': 'Food', 'mention': 'пиво', 'start': '365', 'end': '369', 'sentiment': 'neutral'}, {'category': 'Food', 'mention': 'пили', 'start': '384', 'end': '388', 'sentiment': 'neutral'}, {'category': 'Food', 'mention': 'красное вино', 'start': '389', 'end': '401', 'sentiment': 'positive'}, {'category': 'Food', 'mention': 'роллы', 'start': '426', 'end': '431', 'sentiment': 'neutral'}, {'category': 'Food', 'mention': 'филадельфию', 'start': '446', 'end': '457', 'sentiment': 'neutral'}, {'category': 'Food', 'mention': 'острые', 'start': '460', 'end': '466', 'sentiment': 'neutral'}, {'category': 'Food', 'mention': 'запеченные', 'start': '467', 'end': '477', 'sentiment': 'neutral'}, {'category': 'Food', 'mention': 'супы', 'start': '493', 'end': '497', 'sentiment': 'positive'}, {'category': 'Food', 'mention': 'горячее', 'start': '524', 'end': '531', 'sentiment': 'neutral'}, {'category': 'Food', 'mention': 'перечный стейк', 'start': '539', 'end': '553', 'sentiment': 'positive'}, {'category': 'Interior', 'mention': 'живой музыки', 'start': '729', 'end': '741', 'sentiment': 'positive'}, {'category': 'Whole', 'mention': 'место', 'start': '767', 'end': '772', 'sentiment': 'positive'}, {'category': 'Price', 'mention': 'деньги', 'start': '792', 'end': '798', 'sentiment': 'positive'}], '34282': [{'category': 'Whole', 'mention': 'ресторан', 'start': '31', 'end': '39', 'sentiment': 'neutral'}, {'category': 'Service', 'mention': 'обслуживание', 'start': '96', 'end': '108', 'sentiment': 'negative'}, {'category': 'Service', 'mention': 'подойдет', 'start': '156', 'end': '164', 'sentiment': 'neutral'}, {'category': 'Service', 'mention': 'принесет меню', 'start': '167', 'end': '180', 'sentiment': 'neutral'}, {'category': 'Food', 'mention': 'блюда', 'start': '301', 'end': '306', 'sentiment': 'neutral'}, {'category': 'Food', 'mention': 'цезарь', 'start': '359', 'end': '365', 'sentiment': 'neutral'}, {'category': 'Food', 'mention': 'морс', 'start': '368', 'end': '372', 'sentiment': 'neutral'}, {'category': 'Food', 'mention': 'пасту', 'start': '380', 'end': '385', 'sentiment': 'neutral'}, {'category': 'Food', 'mention': 'блины', 'start': '387', 'end': '392', 'sentiment': 'neutral'}, {'category': 'Food', 'mention': 'морс', 'start': '395', 'end': '399', 'sentiment': 'neutral'}, {'category': 'Food', 'mention': 'салат', 'start': '434', 'end': '439', 'sentiment': 'neutral'}, {'category': 'Food', 'mention': 'блины', 'start': '462', 'end': '467', 'sentiment': 'neutral'}, {'category': 'Food', 'mention': 'морс', 'start': '493', 'end': '497', 'sentiment': 'neutral'}, {'category': 'Food', 'mention': 'хлеб', 'start': '500', 'end': '504', 'sentiment': 'neutral'}, {'category': 'Food', 'mention': 'морс', 'start': '544', 'end': '548', 'sentiment': 'neutral'}, {'category': 'Food', 'mention': 'пасты', 'start': '581', 'end': '586', 'sentiment': 'neutral'}, {'category': 'Service', 'mention': 'принесут', 'start': '676', 'end': '684', 'sentiment': 'positive'}, {'category': 'Food', 'mention': 'пасту', 'start': '685', 'end': '690', 'sentiment': 'neutral'}, {'category': 'Food', 'mention': 'поесть', 'start': '720', 'end': '726', 'sentiment': 'neutral'}, {'category': 'Price', 'mention': 'Заплатили', 'start': '728', 'end': '737', 'sentiment': 'neutral'}, {'category': 'Food', 'mention': 'пасту', 'start': '748', 'end': '753', 'sentiment': 'neutral'}, {'category': 'Food', 'mention': 'попробовать', 'start': '791', 'end': '802', 'sentiment': 'positive'}, {'category': 'Food', 'mention': 'кухне', 'start': '832', 'end': '837', 'sentiment': 'positive'}, {'category': 'Service', 'mention': 'сервис', 'start': '860', 'end': '866', 'sentiment': 'negative'}, {'category': 'Whole', 'mention': 'ресторан', 'start': '894', 'end': '902', 'sentiment': 'both'}, {'category': 'Food', 'mention': 'поесть', 'start': '1031', 'end': '1037', 'sentiment': 'negative'}], '34232': [{'category': 'Interior', 'mention': 'диванчики', 'start': '144', 'end': '153', 'sentiment': 'positive'}, {'category': 'Service', 'mention': 'Официант-бармен', 'start': '191', 'end': '206', 'sentiment': 'positive'}, {'category': 'Whole', 'mention': 'заведения', 'start': '224', 'end': '233', 'sentiment': 'positive'}, {'category': 'Service', 'mention': 'Заказ приняли', 'start': '236', 'end': '249', 'sentiment': 'positive'}, {'category': 'Service', 'mention': 'принесли', 'start': '258', 'end': '266', 'sentiment': 'positive'}, {'category': 'Food', 'mention': 'Лимонад', 'start': '273', 'end': '280', 'sentiment': 'neutral'}, {'category': 'Food', 'mention': 'салат', 'start': '288', 'end': '293', 'sentiment': 'neutral'}, {'category': 'Food', 'mention': 'стейк', 'start': '301', 'end': '306', 'sentiment': 'neutral'}, {'category': 'Food', 'mention': 'кофе', 'start': '314', 'end': '318', 'sentiment': 'neutral'}, {'category': 'Food', 'mention': 'Еда', 'start': '378', 'end': '381', 'sentiment': 'positive'}, {'category': 'Food', 'mention': 'Стейк', 'start': '406', 'end': '411', 'sentiment': 'positive'}, {'category': 'Food', 'mention': 'стейком', 'start': '423', 'end': '430', 'sentiment': 'positive'}, {'category': 'Food', 'mention': 'куском жаренного мяса', 'start': '437', 'end': '458', 'sentiment': 'negative'}, {'category': 'Interior', 'mention': 'приборы', 'start': '468', 'end': '475', 'sentiment': 'positive'}, {'category': 'Interior', 'mention': 'посуда', 'start': '483', 'end': '489', 'sentiment': 'positive'}, {'category': 'Interior', 'mention': 'интерьер', 'start': '502', 'end': '510', 'sentiment': 'positive'}, {'category': 'Price', 'mention': 'Чек', 'start': '543', 'end': '546', 'sentiment': 'positive'}, {'category': 'Food', 'mention': 'Кофе', 'start': '585', 'end': '589', 'sentiment': 'positive'}, {'category': 'Whole', 'mention': 'заведение', 'start': '629', 'end': '638', 'sentiment': 'positive'}], '19265': [{'category': 'Whole', 'mention': 'заведение', 'start': '34', 'end': '43', 'sentiment': 'neutral'}, {'category': 'Whole', 'mention': 'место', 'start': '95', 'end': '100', 'sentiment': 'positive'}, {'category': 'Whole', 'mention': 'место', 'start': '121', 'end': '126', 'sentiment': 'positive'}, {'category': 'Whole', 'mention': 'место', 'start': '198', 'end': '203', 'sentiment': 'positive'}, {'category': 'Interior', 'mention': 'интерьер', 'start': '216', 'end': '224', 'sentiment': 'positive'}, {'category': 'Service', 'mention': 'Персонал', 'start': '275', 'end': '283', 'sentiment': 'positive'}, {'category': 'Food', 'mention': 'Еда', 'start': '309', 'end': '312', 'sentiment': 'positive'}, {'category': 'Food', 'mention': 'порции', 'start': '341', 'end': '347', 'sentiment': 'positive'}, {'category': 'Whole', 'mention': 'ресторана', 'start': '388', 'end': '397', 'sentiment': 'negative'}], '22975': [{'category': 'Whole', 'mention': 'ресторан', 'start': '24', 'end': '32', 'sentiment': 'neutral'}, {'category': 'Interior', 'mention': 'основной зал', 'start': '59', 'end': '71', 'sentiment': 'negative'}, {'category': 'Service', 'mention': 'няня', 'start': '143', 'end': '147', 'sentiment': 'positive'}, {'category': 'Food', 'mention': 'ужинали', 'start': '156', 'end': '163', 'sentiment': 'positive'}, {'category': 'Food', 'mention': 'детское меню', 'start': '202', 'end': '214', 'sentiment': 'positive'}, {'category': 'Interior', 'mention': 'музыка', 'start': '219', 'end': '225', 'sentiment': 'both'}, {'category': 'Service', 'mention': 'Обслуживал', 'start': '301', 'end': '311', 'sentiment': 'positive'}, {'category': 'Service', 'mention': 'молодой человек', 'start': '327', 'end': '342', 'sentiment': 'positive'}, {'category': 'Food', 'mention': 'блюда', 'start': '394', 'end': '399', 'sentiment': 'positive'}, {'category': 'Food', 'mention': 'Кухня', 'start': '401', 'end': '406', 'sentiment': 'positive'}, {'category': 'Food', 'mention': 'шашлык', 'start': '484', 'end': '490', 'sentiment': 'positive'}, {'category': 'Food', 'mention': 'выбор салатов', 'start': '504', 'end': '517', 'sentiment': 'positive'}, {'category': 'Food', 'mention': 'выбор алкоголя', 'start': '536', 'end': '550', 'sentiment': 'positive'}, {'category': 'Price', 'mention': 'цена', 'start': '557', 'end': '561', 'sentiment': 'positive'}], '35486': [{'category': 'Whole', 'mention': 'ресторана', 'start': '186', 'end': '195', 'sentiment': 'negative'}, {'category': 'Whole', 'mention': 'паба', 'start': '196', 'end': '200', 'sentiment': 'negative'}, {'category': 'Service', 'mention': 'Встретила', 'start': '224', 'end': '233', 'sentiment': 'negative'}, {'category': 'Service', 'mention': 'обслуживала', 'start': '236', 'end': '247', 'sentiment': 'negative'}, {'category': 'Service', 'mention': 'официантка', 'start': '273', 'end': '283', 'sentiment': 'negative'}, {'category': 'Food', 'mention': 'блюд из меню', 'start': '294', 'end': '306', 'sentiment': 'negative'}, {'category': 'Service', 'mention': 'официантка', 'start': '347', 'end': '357', 'sentiment': 'negative'}, {'category': 'Food', 'mention': 'сырные палочки', 'start': '431', 'end': '445', 'sentiment': 'neutral'}, {'category': 'Service', 'mention': 'офицантка', 'start': '474', 'end': '483', 'sentiment': 'neutral'}, {'category': 'Food', 'mention': 'палочки', 'start': '547', 'end': '554', 'sentiment': 'negative'}, {'category': 'Food', 'mention': 'палочек', 'start': '565', 'end': '572', 'sentiment': 'negative'}, {'category': 'Whole', 'mention': 'место', 'start': '639', 'end': '644', 'sentiment': 'positive'}, {'category': 'Food', 'mention': 'выпить', 'start': '656', 'end': '662', 'sentiment': 'neutral'}, {'category': 'Food', 'mention': 'пиво', 'start': '663', 'end': '667', 'sentiment': 'neutral'}, {'category': 'Food', 'mention': 'цезарь с креветками', 'start': '719', 'end': '738', 'sentiment': 'negative'}, {'category': 'Food', 'mention': 'курицы', 'start': '740', 'end': '746', 'sentiment': 'negative'}, {'category': 'Service', 'mention': 'официантка', 'start': '831', 'end': '841', 'sentiment': 'negative'}, {'category': 'Service', 'mention': 'персонал', 'start': '1059', 'end': '1067', 'sentiment': 'positive'}, {'category': 'Food', 'mention': 'блюда', 'start': '1077', 'end': '1082', 'sentiment': 'positive'}], '37819': [{'category': 'Whole', 'mention': 'ресторан', 'start': '21', 'end': '29', 'sentiment': 'neutral'}, {'category': 'Whole', 'mention': 'кафе \"Кон-Коронель', 'start': '93', 'end': '111', 'sentiment': 'neutral'}, {'category': 'Whole', 'mention': 'месте', 'start': '214', 'end': '219', 'sentiment': 'positive'}, {'category': 'Interior', 'mention': 'шоу программа', 'start': '282', 'end': '295', 'sentiment': 'positive'}, {'category': 'Interior', 'mention': 'ведущая', 'start': '298', 'end': '305', 'sentiment': 'positive'}, {'category': 'Interior', 'mention': 'атмосферу', 'start': '398', 'end': '407', 'sentiment': 'positive'}, {'category': 'Food', 'mention': 'кухни', 'start': '418', 'end': '423', 'sentiment': 'positive'}, {'category': 'Service', 'mention': 'обслуживания', 'start': '426', 'end': '438', 'sentiment': 'positive'}, {'category': 'Service', 'mention': 'официанты', 'start': '464', 'end': '473', 'sentiment': 'positive'}, {'category': 'Food', 'mention': 'банкетного меню', 'start': '533', 'end': '548', 'sentiment': 'positive'}, {'category': 'Service', 'mention': 'администратору Ирине', 'start': '580', 'end': '600', 'sentiment': 'positive'}, {'category': 'Whole', 'mention': 'ресторану', 'start': '745', 'end': '754', 'sentiment': 'positive'}, {'category': 'Service', 'mention': 'персоналу', 'start': '763', 'end': '772', 'sentiment': 'positive'}, {'category': 'Whole', 'mention': 'выбора места', 'start': '820', 'end': '832', 'sentiment': 'neutral'}, {'category': 'Whole', 'mention': 'Кон-Коронель', 'start': '883', 'end': '895', 'sentiment': 'positive'}], '10942': [{'category': 'Whole', 'mention': 'Санам', 'start': '19', 'end': '24', 'sentiment': 'neutral'}, {'category': 'Interior', 'mention': 'интерьер', 'start': '90', 'end': '98', 'sentiment': 'positive'}, {'category': 'Service', 'mention': 'обслуживание', 'start': '108', 'end': '120', 'sentiment': 'positive'}, {'category': 'Food', 'mention': 'Кухня', 'start': '143', 'end': '148', 'sentiment': 'positive'}, {'category': 'Food', 'mention': 'блюда', 'start': '179', 'end': '184', 'sentiment': 'positive'}, {'category': 'Food', 'mention': 'блюдо', 'start': '313', 'end': '318', 'sentiment': 'positive'}, {'category': 'Food', 'mention': 'порции', 'start': '328', 'end': '334', 'sentiment': 'positive'}, {'category': 'Food', 'mention': 'кальян', 'start': '371', 'end': '377', 'sentiment': 'positive'}, {'category': 'Food', 'mention': 'выбор коктейлей', 'start': '394', 'end': '409', 'sentiment': 'positive'}, {'category': 'Food', 'mention': 'оргазм', 'start': '458', 'end': '464', 'sentiment': 'positive'}, {'category': 'Food', 'mention': 'клубничная маргарита', 'start': '467', 'end': '487', 'sentiment': 'positive'}], '5037': [{'category': 'Interior', 'mention': 'уютное', 'start': '49', 'end': '55', 'sentiment': 'positive'}, {'category': 'Whole', 'mention': 'место', 'start': '56', 'end': '61', 'sentiment': 'positive'}, {'category': 'Service', 'mention': 'обслуживание', 'start': '82', 'end': '94', 'sentiment': 'positive'}, {'category': 'Food', 'mention': 'пиво', 'start': '113', 'end': '117', 'sentiment': 'positive'}, {'category': 'Food', 'mention': 'кухне', 'start': '167', 'end': '172', 'sentiment': 'neutral'}, {'category': 'Food', 'mention': 'кусок свинины', 'start': '269', 'end': '282', 'sentiment': 'positive'}, {'category': 'Whole', 'mention': 'место', 'start': '332', 'end': '337', 'sentiment': 'positive'}, {'category': 'Interior', 'mention': 'второй этаж', 'start': '391', 'end': '402', 'sentiment': 'positive'}, {'category': 'Food', 'mention': 'пива', 'start': '439', 'end': '443', 'sentiment': 'positive'}, {'category': 'Whole', 'mention': 'пивном ресторане', 'start': '481', 'end': '497', 'sentiment': 'neutral'}, {'category': 'Food', 'mention': 'ПИВО', 'start': '504', 'end': '508', 'sentiment': 'neutral'}, {'category': 'Food', 'mention': 'хлебные греночки с сыром', 'start': '578', 'end': '602', 'sentiment': 'positive'}, {'category': 'Food', 'mention': 'сушки с перчиком', 'start': '613', 'end': '629', 'sentiment': 'positive'}, {'category': 'Food', 'mention': 'десертик', 'start': '795', 'end': '803', 'sentiment': 'positive'}, {'category': 'Food', 'mention': 'Карпаччо из ананаса', 'start': '817', 'end': '836', 'sentiment': 'positive'}, {'category': 'Food', 'mention': 'манго в имбирном соусе', 'start': '839', 'end': '861', 'sentiment': 'positive'}, {'category': 'Service', 'mention': 'отношении к посетителям', 'start': '919', 'end': '942', 'sentiment': 'positive'}, {'category': 'Food', 'mention': 'сырные шарики', 'start': '975', 'end': '988', 'sentiment': 'neutral'}, {'category': 'Service', 'mention': 'официантка', 'start': '1012', 'end': '1022', 'sentiment': 'positive'}, {'category': 'Food', 'mention': 'закуску', 'start': '1059', 'end': '1066', 'sentiment': 'positive'}, {'category': 'Whole', 'mention': 'ЗАВЕДЕНИЯ', 'start': '1075', 'end': '1084', 'sentiment': 'positive'}, {'category': 'Food', 'mention': 'сырными шариками', 'start': '1093', 'end': '1109', 'sentiment': 'negative'}, {'category': 'Whole', 'mention': 'заведения', 'start': '1170', 'end': '1179', 'sentiment': 'positive'}], '7824': [{'category': 'Whole', 'mention': 'ресторане', 'start': '19', 'end': '28', 'sentiment': 'neutral'}, {'category': 'Whole', 'mention': 'месте', 'start': '96', 'end': '101', 'sentiment': 'positive'}, {'category': 'Food', 'mention': 'кухней', 'start': '112', 'end': '118', 'sentiment': 'positive'}, {'category': 'Service', 'mention': 'заказан столик', 'start': '124', 'end': '138', 'sentiment': 'neutral'}, {'category': 'Interior', 'mention': '2 этаже', 'start': '153', 'end': '160', 'sentiment': 'neutral'}, {'category': 'Whole', 'mention': 'заведении', 'start': '310', 'end': '319', 'sentiment': 'negative'}, {'category': 'Food', 'mention': 'салатов', 'start': '374', 'end': '381', 'sentiment': 'negative'}, {'category': 'Food', 'mention': 'салата цезарь', 'start': '391', 'end': '404', 'sentiment': 'negative'}, {'category': 'Food', 'mention': 'соус', 'start': '425', 'end': '429', 'sentiment': 'negative'}, {'category': 'Food', 'mention': 'курица', 'start': '441', 'end': '447', 'sentiment': 'negative'}, {'category': 'Food', 'mention': 'салат с авокадо', 'start': '468', 'end': '483', 'sentiment': 'both'}, {'category': 'Food', 'mention': 'горячего', 'start': '519', 'end': '527', 'sentiment': 'neutral'}, {'category': 'Food', 'mention': 'манты', 'start': '532', 'end': '537', 'sentiment': 'negative'}, {'category': 'Food', 'mention': 'десерты', 'start': '646', 'end': '653', 'sentiment': 'positive'}, {'category': 'Food', 'mention': 'Пирожные', 'start': '655', 'end': '663', 'sentiment': 'positive'}, {'category': 'Food', 'mention': 'торт из шоколада', 'start': '688', 'end': '704', 'sentiment': 'positive'}, {'category': 'Whole', 'mention': 'ресторана', 'start': '719', 'end': '728', 'sentiment': 'negative'}, {'category': 'Price', 'mention': 'оставили 10 тысяч', 'start': '758', 'end': '775', 'sentiment': 'neutral'}, {'category': 'Food', 'mention': 'еда', 'start': '777', 'end': '780', 'sentiment': 'neutral'}, {'category': 'Food', 'mention': 'алкогольному коктейлю', 'start': '804', 'end': '825', 'sentiment': 'neutral'}], '19503': [{'category': 'Whole', 'mention': 'заведение', 'start': '34', 'end': '43', 'sentiment': 'neutral'}, {'category': 'Service', 'mention': 'обслуживание', 'start': '67', 'end': '79', 'sentiment': 'positive'}, {'category': 'Service', 'mention': 'администратор Екатерина', 'start': '134', 'end': '157', 'sentiment': 'positive'}, {'category': 'Service', 'mention': 'встретила', 'start': '158', 'end': '167', 'sentiment': 'positive'}, {'category': 'Service', 'mention': 'посадила', 'start': '174', 'end': '182', 'sentiment': 'positive'}, {'category': 'Interior', 'mention': 'столик', 'start': '200', 'end': '206', 'sentiment': 'positive'}, {'category': 'Service', 'mention': 'Обслуживала', 'start': '239', 'end': '250', 'sentiment': 'positive'}, {'category': 'Service', 'mention': 'девушка-официант', 'start': '270', 'end': '286', 'sentiment': 'positive'}, {'category': 'Food', 'mention': 'фондю', 'start': '298', 'end': '303', 'sentiment': 'positive'}, {'category': 'Service', 'mention': 'обслуживали', 'start': '304', 'end': '315', 'sentiment': 'positive'}, {'category': 'Food', 'mention': 'блюда', 'start': '383', 'end': '388', 'sentiment': 'positive'}, {'category': 'Service', 'mention': 'Официант', 'start': '390', 'end': '398', 'sentiment': 'positive'}, {'category': 'Service', 'mention': 'обслуживающий персонал', 'start': '406', 'end': '428', 'sentiment': 'positive'}, {'category': 'Whole', 'mention': '\"Чердак Художника\"', 'start': '470', 'end': '488', 'sentiment': 'positive'}, {'category': 'Whole', 'mention': 'местом', 'start': '512', 'end': '518', 'sentiment': 'positive'}], '26330': [{'category': 'Whole', 'mention': 'ресторана', 'start': '44', 'end': '53', 'sentiment': 'neutral'}, {'category': 'Interior', 'mention': 'интерьера', 'start': '157', 'end': '166', 'sentiment': 'positive'}, {'category': 'Food', 'mention': 'кухни', 'start': '178', 'end': '183', 'sentiment': 'positive'}, {'category': 'Food', 'mention': 'шеф повару', 'start': '201', 'end': '211', 'sentiment': 'positive'}, {'category': 'Food', 'mention': 'выбор закусок', 'start': '222', 'end': '235', 'sentiment': 'positive'}, {'category': 'Food', 'mention': 'пиву', 'start': '238', 'end': '242', 'sentiment': 'neutral'}, {'category': 'Food', 'mention': 'перчики халапена', 'start': '266', 'end': '282', 'sentiment': 'positive'}, {'category': 'Food', 'mention': 'блюдо', 'start': '324', 'end': '329', 'sentiment': 'positive'}, {'category': 'Price', 'mention': 'цены', 'start': '341', 'end': '345', 'sentiment': 'positive'}, {'category': 'Food', 'mention': 'порции', 'start': '355', 'end': '361', 'sentiment': 'positive'}, {'category': 'Whole', 'mention': 'ресторанов', 'start': '371', 'end': '381', 'sentiment': 'positive'}, {'category': 'Food', 'mention': 'покушать', 'start': '428', 'end': '436', 'sentiment': 'positive'}, {'category': 'Service', 'mention': 'обслуживающий персонал', 'start': '456', 'end': '478', 'sentiment': 'positive'}, {'category': 'Service', 'mention': 'Девушка', 'start': '480', 'end': '487', 'sentiment': 'positive'}, {'category': 'Service', 'mention': 'обслуживала', 'start': '501', 'end': '512', 'sentiment': 'positive'}, {'category': 'Whole', 'mention': 'рестораном', 'start': '575', 'end': '585', 'sentiment': 'neutral'}, {'category': 'Food', 'mention': 'еде', 'start': '586', 'end': '589', 'sentiment': 'neutral'}, {'category': 'Service', 'mention': 'порекомендовала', 'start': '598', 'end': '613', 'sentiment': 'positive'}, {'category': 'Food', 'mention': 'закуски', 'start': '625', 'end': '632', 'sentiment': 'neutral'}, {'category': 'Food', 'mention': 'пиво', 'start': '642', 'end': '646', 'sentiment': 'positive'}, {'category': 'Service', 'mention': 'бармен', 'start': '684', 'end': '690', 'sentiment': 'positive'}, {'category': 'Food', 'mention': 'пиве', 'start': '733', 'end': '737', 'sentiment': 'neutral'}, {'category': 'Food', 'mention': 'пиво', 'start': '771', 'end': '775', 'sentiment': 'positive'}, {'category': 'Whole', 'mention': 'пивном баре', 'start': '815', 'end': '826', 'sentiment': 'positive'}, {'category': 'Whole', 'mention': 'Гроссенштрассе', 'start': '836', 'end': '850', 'sentiment': 'positive'}], '33693': [{'category': 'Whole', 'mention': 'ресторанчик', 'start': '21', 'end': '32', 'sentiment': 'positive'}, {'category': 'Service', 'mention': 'обслуживанию', 'start': '62', 'end': '74', 'sentiment': 'negative'}, {'category': 'Service', 'mention': 'официанта', 'start': '102', 'end': '111', 'sentiment': 'negative'}, {'category': 'Interior', 'mention': 'Интерьер', 'start': '120', 'end': '128', 'sentiment': 'neutral'}, {'category': 'Food', 'mention': 'блюд', 'start': '167', 'end': '171', 'sentiment': 'neutral'}, {'category': 'Food', 'mention': 'томатный суп', 'start': '183', 'end': '195', 'sentiment': 'neutral'}, {'category': 'Food', 'mention': 'ризотто с белыми грибами', 'start': '197', 'end': '221', 'sentiment': 'neutral'}, {'category': 'Food', 'mention': 'пасту с креветками', 'start': '223', 'end': '241', 'sentiment': 'neutral'}, {'category': 'Food', 'mention': 'Цезарь', 'start': '244', 'end': '250', 'sentiment': 'neutral'}, {'category': 'Food', 'mention': 'Порции', 'start': '252', 'end': '258', 'sentiment': 'positive'}, {'category': 'Food', 'mention': 'Цезарь с курицей', 'start': '302', 'end': '318', 'sentiment': 'negative'}, {'category': 'Food', 'mention': 'соус', 'start': '336', 'end': '340', 'sentiment': 'negative'}, {'category': 'Whole', 'mention': 'место', 'start': '381', 'end': '386', 'sentiment': 'positive'}, {'category': 'Food', 'mention': 'трапезы итальянской кухни', 'start': '399', 'end': '424', 'sentiment': 'positive'}, {'category': 'Price', 'mention': 'цене', 'start': '438', 'end': '442', 'sentiment': 'positive'}], '19383': [{'category': 'Food', 'mention': 'выпить', 'start': '36', 'end': '42', 'sentiment': 'neutral'}, {'category': 'Food', 'mention': 'пива', 'start': '43', 'end': '47', 'sentiment': 'neutral'}, {'category': 'Service', 'mention': 'Столик заказали', 'start': '49', 'end': '64', 'sentiment': 'neutral'}, {'category': 'Service', 'mention': 'встретили', 'start': '78', 'end': '87', 'sentiment': 'positive'}, {'category': 'Service', 'mention': 'проводили', 'start': '89', 'end': '98', 'sentiment': 'positive'}, {'category': 'Service', 'mention': 'принесли меню', 'start': '100', 'end': '113', 'sentiment': 'positive'}, {'category': 'Whole', 'mention': 'Заведение', 'start': '130', 'end': '139', 'sentiment': 'positive'}, {'category': 'Interior', 'mention': 'Интерьер', 'start': '180', 'end': '188', 'sentiment': 'neutral'}, {'category': 'Whole', 'mention': 'пабах', 'start': '211', 'end': '216', 'sentiment': 'neutral'}, {'category': 'Interior', 'mention': 'диваны', 'start': '257', 'end': '263', 'sentiment': 'positive'}, {'category': 'Food', 'mention': 'Пиво', 'start': '267', 'end': '271', 'sentiment': 'positive'}, {'category': 'Food', 'mention': 'отварные креветки', 'start': '313', 'end': '330', 'sentiment': 'neutral'}, {'category': 'Food', 'mention': 'креветки', 'start': '333', 'end': '341', 'sentiment': 'both'}, {'category': 'Food', 'mention': 'креветки', 'start': '347', 'end': '355', 'sentiment': 'neutral'}, {'category': 'Food', 'mention': 'салат \"Салмон\" с лососем', 'start': '399', 'end': '423', 'sentiment': 'both'}, {'category': 'Food', 'mention': 'соуса', 'start': '449', 'end': '454', 'sentiment': 'negative'}, {'category': 'Food', 'mention': 'кольца кальмара в кляре', 'start': '472', 'end': '495', 'sentiment': 'positive'}, {'category': 'Food', 'mention': 'пиво', 'start': '502', 'end': '506', 'sentiment': 'neutral'}, {'category': 'Food', 'mention': 'мясные чипсы из говядины', 'start': '518', 'end': '542', 'sentiment': 'positive'}, {'category': 'Food', 'mention': 'Рагу', 'start': '553', 'end': '557', 'sentiment': 'positive'}, {'category': 'Food', 'mention': 'бульон с мясом', 'start': '589', 'end': '603', 'sentiment': 'neutral'}, {'category': 'Food', 'mention': 'королевские креветки с соусом', 'start': '605', 'end': '634', 'sentiment': 'positive'}, {'category': 'Food', 'mention': 'блюдо', 'start': '651', 'end': '656', 'sentiment': 'positive'}, {'category': 'Price', 'mention': 'цены', 'start': '687', 'end': '691', 'sentiment': 'neutral'}, {'category': 'Service', 'mention': 'официантка', 'start': '709', 'end': '719', 'sentiment': 'negative'}, {'category': 'Interior', 'mention': 'столики', 'start': '751', 'end': '758', 'sentiment': 'neutral'}, {'category': 'Food', 'mention': 'напитки', 'start': '784', 'end': '791', 'sentiment': 'neutral'}, {'category': 'Food', 'mention': 'блюда', 'start': '794', 'end': '799', 'sentiment': 'neutral'}, {'category': 'Price', 'mention': 'счёт', 'start': '885', 'end': '889', 'sentiment': 'neutral'}, {'category': 'Whole', 'mention': 'заведение', 'start': '989', 'end': '998', 'sentiment': 'positive'}], '8759': [{'category': 'Whole', 'mention': 'Дугласе', 'start': '2', 'end': '9', 'sentiment': 'neutral'}, {'category': 'Interior', 'mention': 'интерьер', 'start': '120', 'end': '128', 'sentiment': 'positive'}, {'category': 'Interior', 'mention': 'барную стойку', 'start': '263', 'end': '276', 'sentiment': 'neutral'}, {'category': 'Whole', 'mention': 'заведении', 'start': '316', 'end': '325', 'sentiment': 'positive'}, {'category': 'Whole', 'mention': 'ресторана', 'start': '326', 'end': '335', 'sentiment': 'positive'}, {'category': 'Whole', 'mention': 'бара', 'start': '338', 'end': '342', 'sentiment': 'positive'}, {'category': 'Food', 'mention': 'кухни', 'start': '357', 'end': '362', 'sentiment': 'neutral'}, {'category': 'Food', 'mention': 'европейские и японские блюда', 'start': '377', 'end': '405', 'sentiment': 'positive'}, {'category': 'Food', 'mention': 'порции', 'start': '444', 'end': '450', 'sentiment': 'positive'}, {'category': 'Food', 'mention': 'Меню', 'start': '489', 'end': '493', 'sentiment': 'both'}, {'category': 'Food', 'mention': 'выбор алкоголя', 'start': '559', 'end': '573', 'sentiment': 'positive'}, {'category': 'Food', 'mention': 'коктейлей', 'start': '578', 'end': '587', 'sentiment': 'neutral'}, {'category': 'Food', 'mention': 'пива', 'start': '620', 'end': '624', 'sentiment': 'neutral'}, {'category': 'Food', 'mention': 'виски', 'start': '627', 'end': '632', 'sentiment': 'neutral'}, {'category': 'Food', 'mention': 'выпить', 'start': '651', 'end': '657', 'sentiment': 'positive'}, {'category': 'Food', 'mention': 'поесть', 'start': '660', 'end': '666', 'sentiment': 'positive'}, {'category': 'Food', 'mention': 'Напитки', 'start': '692', 'end': '699', 'sentiment': 'neutral'}, {'category': 'Food', 'mention': 'блюда', 'start': '717', 'end': '722', 'sentiment': 'neutral'}, {'category': 'Whole', 'mention': 'вечер', 'start': '803', 'end': '808', 'sentiment': 'positive'}, {'category': 'Whole', 'mention': 'заведение', 'start': '864', 'end': '873', 'sentiment': 'positive'}], '1434': [{'category': 'Whole', 'mention': 'ресторан', 'start': '72', 'end': '80', 'sentiment': 'neutral'}, {'category': 'Interior', 'mention': 'интерьер', 'start': '140', 'end': '148', 'sentiment': 'positive'}, {'category': 'Whole', 'mention': 'место', 'start': '223', 'end': '228', 'sentiment': 'positive'}, {'category': 'Service', 'mention': 'Обслуживающий персонал', 'start': '230', 'end': '252', 'sentiment': 'positive'}, {'category': 'Service', 'mention': 'официанту', 'start': '276', 'end': '285', 'sentiment': 'positive'}, {'category': 'Food', 'mention': 'азиатской такой кухней', 'start': '326', 'end': '348', 'sentiment': 'neutral'}, {'category': 'Food', 'mention': 'кокосовый суп с морепродуктами', 'start': '474', 'end': '504', 'sentiment': 'neutral'}, {'category': 'Food', 'mention': 'блюда', 'start': '602', 'end': '607', 'sentiment': 'positive'}, {'category': 'Food', 'mention': 'салат с апельсинами, рукколой и лососем', 'start': '626', 'end': '665', 'sentiment': 'neutral'}, {'category': 'Food', 'mention': 'десерт', 'start': '672', 'end': '678', 'sentiment': 'neutral'}, {'category': 'Food', 'mention': 'манговый мусс', 'start': '688', 'end': '701', 'sentiment': 'neutral'}, {'category': 'Food', 'mention': 'лимонный десерт', 'start': '704', 'end': '719', 'sentiment': 'neutral'}, {'category': 'Whole', 'mention': 'заведение', 'start': '809', 'end': '818', 'sentiment': 'positive'}], '2073': [{'category': 'Whole', 'mention': '\"ресторане\"', 'start': '30', 'end': '41', 'sentiment': 'neutral'}, {'category': 'Whole', 'mention': 'заведению', 'start': '97', 'end': '106', 'sentiment': 'neutral'}, {'category': 'Whole', 'mention': 'вечер', 'start': '116', 'end': '121', 'sentiment': 'negative'}, {'category': 'Whole', 'mention': 'месте', 'start': '203', 'end': '208', 'sentiment': 'neutral'}, {'category': 'Interior', 'mention': 'интерьер', 'start': '223', 'end': '231', 'sentiment': 'positive'}, {'category': 'Food', 'mention': 'кухня', 'start': '242', 'end': '247', 'sentiment': 'positive'}, {'category': 'Service', 'mention': 'обслуживания', 'start': '314', 'end': '326', 'sentiment': 'negative'}, {'category': 'Service', 'mention': 'официантка', 'start': '377', 'end': '387', 'sentiment': 'negative'}, {'category': 'Food', 'mention': 'вино', 'start': '537', 'end': '541', 'sentiment': 'neutral'}, {'category': 'Food', 'mention': 'оливки', 'start': '769', 'end': '775', 'sentiment': 'neutral'}, {'category': 'Interior', 'mention': 'живая музыка', 'start': '899', 'end': '911', 'sentiment': 'neutral'}, {'category': 'Whole', 'mention': 'ресторан', 'start': '1179', 'end': '1187', 'sentiment': 'negative'}], '37611': [{'category': 'Whole', 'mention': 'ресторанчик', 'start': '13', 'end': '24', 'sentiment': 'neutral'}, {'category': 'Food', 'mention': 'салат с куриной печенью', 'start': '127', 'end': '150', 'sentiment': 'positive'}, {'category': 'Food', 'mention': 'запеченные суши', 'start': '152', 'end': '167', 'sentiment': 'positive'}, {'category': 'Food', 'mention': 'тирамису', 'start': '170', 'end': '178', 'sentiment': 'positive'}, {'category': 'Food', 'mention': 'блюд', 'start': '233', 'end': '237', 'sentiment': 'positive'}, {'category': 'Interior', 'mention': 'Интерьер', 'start': '240', 'end': '248', 'sentiment': 'neutral'}, {'category': 'Service', 'mention': 'Обслуживание', 'start': '329', 'end': '341', 'sentiment': 'both'}, {'category': 'Service', 'mention': 'обслуживание', 'start': '472', 'end': '484', 'sentiment': 'positive'}, {'category': 'Whole', 'mention': 'Ресторану', 'start': '532', 'end': '541', 'sentiment': 'positive'}, {'category': 'Food', 'mention': 'кухню', 'start': '587', 'end': '592', 'sentiment': 'positive'}, {'category': 'Price', 'mention': 'цены', 'start': '620', 'end': '624', 'sentiment': 'positive'}], '12341': [{'category': 'Interior', 'mention': 'Интерьер', 'start': '19', 'end': '27', 'sentiment': 'positive'}, {'category': 'Whole', 'mention': 'кафе', 'start': '61', 'end': '65', 'sentiment': 'negative'}, {'category': 'Food', 'mention': 'кухни', 'start': '223', 'end': '228', 'sentiment': 'neutral'}, {'category': 'Food', 'mention': 'пиццу', 'start': '240', 'end': '245', 'sentiment': 'both'}, {'category': 'Food', 'mention': 'поесть', 'start': '275', 'end': '281', 'sentiment': 'neutral'}, {'category': 'Food', 'mention': 'допинга', 'start': '289', 'end': '296', 'sentiment': 'negative'}, {'category': 'Food', 'mention': 'десерт', 'start': '341', 'end': '347', 'sentiment': 'negative'}, {'category': 'Food', 'mention': 'фруктов', 'start': '362', 'end': '369', 'sentiment': 'negative'}, {'category': 'Food', 'mention': 'чай', 'start': '407', 'end': '410', 'sentiment': 'negative'}, {'category': 'Service', 'mention': 'Официант', 'start': '449', 'end': '457', 'sentiment': 'negative'}, {'category': 'Service', 'mention': 'повара', 'start': '554', 'end': '560', 'sentiment': 'negative'}, {'category': 'Whole', 'mention': 'заведения', 'start': '635', 'end': '644', 'sentiment': 'negative'}], '2692': [{'category': 'Whole', 'mention': 'ресторанов китайской кухни', 'start': '24', 'end': '50', 'sentiment': 'neutral'}, {'category': 'Whole', 'mention': 'Тан Жен', 'start': '51', 'end': '58', 'sentiment': 'positive'}, {'category': 'Whole', 'mention': 'место', 'start': '93', 'end': '98', 'sentiment': 'positive'}, {'category': 'Food', 'mention': 'вкусно', 'start': '114', 'end': '120', 'sentiment': 'positive'}, {'category': 'Food', 'mention': 'поесть', 'start': '130', 'end': '136', 'sentiment': 'positive'}, {'category': 'Interior', 'mention': 'интерьера', 'start': '176', 'end': '185', 'sentiment': 'positive'}, {'category': 'Food', 'mention': 'меню', 'start': '200', 'end': '204', 'sentiment': 'positive'}, {'category': 'Food', 'mention': 'кухню', 'start': '232', 'end': '237', 'sentiment': 'positive'}, {'category': 'Service', 'mention': 'обслуживание', 'start': '262', 'end': '274', 'sentiment': 'positive'}, {'category': 'Service', 'mention': 'ресторан', 'start': '290', 'end': '298', 'sentiment': 'positive'}, {'category': 'Food', 'mention': 'качестве еды', 'start': '435', 'end': '447', 'sentiment': 'positive'}, {'category': 'Service', 'mention': 'официанта', 'start': '544', 'end': '553', 'sentiment': 'positive'}, {'category': 'Food', 'mention': 'первое блюдо', 'start': '681', 'end': '693', 'sentiment': 'neutral'}, {'category': 'Food', 'mention': 'ВКУСНО', 'start': '740', 'end': '746', 'sentiment': 'positive'}], '36049': [{'category': 'Whole', 'mention': 'заведение', 'start': '46', 'end': '55', 'sentiment': 'neutral'}, {'category': 'Interior', 'mention': 'интерьер', 'start': '119', 'end': '127', 'sentiment': 'positive'}, {'category': 'Service', 'mention': 'обслуживание', 'start': '157', 'end': '169', 'sentiment': 'positive'}, {'category': 'Whole', 'mention': 'заведении', 'start': '228', 'end': '237', 'sentiment': 'positive'}], '17572': [{'category': 'Whole', 'mention': '\"Небо\"', 'start': '20', 'end': '26', 'sentiment': 'neutral'}, {'category': 'Service', 'mention': 'встретил', 'start': '74', 'end': '82', 'sentiment': 'negative'}, {'category': 'Service', 'mention': 'молодой человек-администратор', 'start': '94', 'end': '123', 'sentiment': 'negative'}, {'category': 'Whole', 'mention': 'ресторан', 'start': '194', 'end': '202', 'sentiment': 'positive'}, {'category': 'Service', 'mention': 'девушки', 'start': '230', 'end': '237', 'sentiment': 'positive'}, {'category': 'Whole', 'mention': 'ресторане', 'start': '304', 'end': '313', 'sentiment': 'positive'}, {'category': 'Interior', 'mention': 'диванчиках', 'start': '418', 'end': '428', 'sentiment': 'positive'}, {'category': 'Service', 'mention': 'официант', 'start': '536', 'end': '544', 'sentiment': 'positive'}, {'category': 'Food', 'mention': 'теплым мексиканским салатом', 'start': '615', 'end': '642', 'sentiment': 'positive'}, {'category': 'Food', 'mention': 'карпаччо из утиной грудки', 'start': '645', 'end': '670', 'sentiment': 'positive'}, {'category': 'Food', 'mention': 'Холодные закуска', 'start': '672', 'end': '688', 'sentiment': 'positive'}, {'category': 'Food', 'mention': 'салат', 'start': '691', 'end': '696', 'sentiment': 'positive'}, {'category': 'Food', 'mention': 'Горячее', 'start': '715', 'end': '722', 'sentiment': 'positive'}, {'category': 'Service', 'mention': 'Официант', 'start': '746', 'end': '754', 'sentiment': 'positive'}], '20784': [{'category': 'Whole', 'mention': 'место', 'start': '9', 'end': '14', 'sentiment': 'positive'}, {'category': 'Food', 'mention': 'кухней', 'start': '27', 'end': '33', 'sentiment': 'positive'}, {'category': 'Food', 'mention': 'лаваш', 'start': '165', 'end': '170', 'sentiment': 'negative'}, {'category': 'Food', 'mention': 'Салаты', 'start': '187', 'end': '193', 'sentiment': 'positive'}, {'category': 'Food', 'mention': 'Лаваш', 'start': '247', 'end': '252', 'sentiment': 'positive'}, {'category': 'Food', 'mention': 'салат', 'start': '278', 'end': '283', 'sentiment': 'neutral'}, {'category': 'Food', 'mention': 'мясо', 'start': '324', 'end': '328', 'sentiment': 'neutral'}, {'category': 'Food', 'mention': 'Шашлык', 'start': '419', 'end': '425', 'sentiment': 'positive'}, {'category': 'Service', 'mention': 'персонал', 'start': '569', 'end': '577', 'sentiment': 'negative'}, {'category': 'Whole', 'mention': 'заведениях', 'start': '713', 'end': '723', 'sentiment': 'negative'}, {'category': 'Food', 'mention': 'Порции', 'start': '737', 'end': '743', 'sentiment': 'positive'}, {'category': 'Price', 'mention': 'цены', 'start': '820', 'end': '824', 'sentiment': 'positive'}, {'category': 'Food', 'mention': 'съели', 'start': '860', 'end': '865', 'sentiment': 'neutral'}, {'category': 'Food', 'mention': 'выпили', 'start': '868', 'end': '874', 'sentiment': 'neutral'}, {'category': 'Whole', 'mention': 'заведениях', 'start': '902', 'end': '912', 'sentiment': 'negative'}, {'category': 'Whole', 'mention': 'место', 'start': '998', 'end': '1003', 'sentiment': 'positive'}, {'category': 'Whole', 'mention': 'рестораны', 'start': '1089', 'end': '1098', 'sentiment': 'neutral'}], '1751': [{'category': 'Whole', 'mention': 'Чаплин-холл', 'start': '16', 'end': '27', 'sentiment': 'neutral'}, {'category': 'Whole', 'mention': 'Заведение', 'start': '53', 'end': '62', 'sentiment': 'positive'}, {'category': 'Whole', 'mention': 'ресторан', 'start': '89', 'end': '97', 'sentiment': 'neutral'}, {'category': 'Food', 'mention': 'еду', 'start': '182', 'end': '185', 'sentiment': 'neutral'}, {'category': 'Food', 'mention': 'напитки', 'start': '188', 'end': '195', 'sentiment': 'neutral'}, {'category': 'Interior', 'mention': 'Зал', 'start': '197', 'end': '200', 'sentiment': 'positive'}, {'category': 'Interior', 'mention': 'места', 'start': '244', 'end': '249', 'sentiment': 'positive'}, {'category': 'Interior', 'mention': 'столики', 'start': '273', 'end': '280', 'sentiment': 'positive'}, {'category': 'Food', 'mention': 'Меню', 'start': '320', 'end': '324', 'sentiment': 'positive'}, {'category': 'Food', 'mention': 'меню японской кухни', 'start': '366', 'end': '385', 'sentiment': 'neutral'}, {'category': 'Food', 'mention': 'блюда', 'start': '474', 'end': '479', 'sentiment': 'neutral'}, {'category': 'Food', 'mention': 'сельдь под шубой…с крабом', 'start': '525', 'end': '550', 'sentiment': 'neutral'}, {'category': 'Food', 'mention': 'палтуса запеченного', 'start': '607', 'end': '626', 'sentiment': 'positive'}, {'category': 'Food', 'mention': 'палтуса', 'start': '729', 'end': '736', 'sentiment': 'negative'}, {'category': 'Food', 'mention': 'Салат грибной', 'start': '758', 'end': '771', 'sentiment': 'positive'}, {'category': 'Food', 'mention': 'порция', 'start': '784', 'end': '790', 'sentiment': 'positive'}, {'category': 'Food', 'mention': 'Кофе-десерт', 'start': '802', 'end': '813', 'sentiment': 'positive'}, {'category': 'Whole', 'mention': 'месте', 'start': '899', 'end': '904', 'sentiment': 'positive'}], '14568': [{'category': 'Whole', 'mention': 'кафе', 'start': '8', 'end': '12', 'sentiment': 'positive'}, {'category': 'Interior', 'mention': 'интерьер', 'start': '118', 'end': '126', 'sentiment': 'positive'}, {'category': 'Interior', 'mention': 'занавесочки', 'start': '153', 'end': '164', 'sentiment': 'positive'}, {'category': 'Food', 'mention': 'еде', 'start': '254', 'end': '257', 'sentiment': 'positive'}, {'category': 'Food', 'mention': 'судака с овощами и рисом', 'start': '312', 'end': '336', 'sentiment': 'positive'}, {'category': 'Food', 'mention': 'кофе Борджиа', 'start': '370', 'end': '382', 'sentiment': 'positive'}, {'category': 'Food', 'mention': 'восточных салатов', 'start': '432', 'end': '449', 'sentiment': 'positive'}, {'category': 'Food', 'mention': 'Американо', 'start': '529', 'end': '538', 'sentiment': 'positive'}, {'category': 'Service', 'mention': 'сервис', 'start': '605', 'end': '611', 'sentiment': 'negative'}, {'category': 'Whole', 'mention': 'месту', 'start': '728', 'end': '733', 'sentiment': 'both'}, {'category': 'Whole', 'mention': 'местечко', 'start': '788', 'end': '796', 'sentiment': 'positive'}, {'category': 'Price', 'mention': 'ценами', 'start': '819', 'end': '825', 'sentiment': 'positive'}, {'category': 'Interior', 'mention': 'обстановкой', 'start': '846', 'end': '857', 'sentiment': 'positive'}], '1032': [{'category': 'Whole', 'mention': 'ресторан', 'start': '14', 'end': '22', 'sentiment': 'neutral'}, {'category': 'Service', 'mention': 'официантов', 'start': '112', 'end': '122', 'sentiment': 'negative'}, {'category': 'Food', 'mention': 'блюдах', 'start': '131', 'end': '137', 'sentiment': 'negative'}, {'category': 'Food', 'mention': 'пиццу', 'start': '185', 'end': '190', 'sentiment': 'neutral'}, {'category': 'Food', 'mention': 'пицца', 'start': '213', 'end': '218', 'sentiment': 'negative'}, {'category': 'Service', 'mention': 'Официант', 'start': '332', 'end': '340', 'sentiment': 'negative'}, {'category': 'Service', 'mention': 'официанта', 'start': '713', 'end': '722', 'sentiment': 'neutral'}, {'category': 'Service', 'mention': 'Официант', 'start': '751', 'end': '759', 'sentiment': 'negative'}, {'category': 'Food', 'mention': 'кухню', 'start': '818', 'end': '823', 'sentiment': 'both'}, {'category': 'Food', 'mention': 'панакота', 'start': '874', 'end': '882', 'sentiment': 'positive'}, {'category': 'Food', 'mention': 'Салат Цезарь', 'start': '884', 'end': '896', 'sentiment': 'negative'}, {'category': 'Food', 'mention': 'пицца', 'start': '925', 'end': '930', 'sentiment': 'negative'}, {'category': 'Service', 'mention': 'сервис', 'start': '952', 'end': '958', 'sentiment': 'negative'}, {'category': 'Service', 'mention': 'официант', 'start': '967', 'end': '975', 'sentiment': 'negative'}, {'category': 'Service', 'mention': 'девушка', 'start': '1239', 'end': '1246', 'sentiment': 'positive'}], '13100': [{'category': 'Service', 'mention': 'заказал столик', 'start': '69', 'end': '83', 'sentiment': 'neutral'}, {'category': 'Service', 'mention': 'девушка хостесс', 'start': '186', 'end': '201', 'sentiment': 'positive'}, {'category': 'Service', 'mention': 'встретила', 'start': '202', 'end': '211', 'sentiment': 'positive'}, {'category': 'Service', 'mention': 'проводила к столику', 'start': '214', 'end': '233', 'sentiment': 'positive'}, {'category': 'Service', 'mention': 'Обслуживал', 'start': '242', 'end': '252', 'sentiment': 'neutral'}, {'category': 'Service', 'mention': 'молодой человек', 'start': '253', 'end': '268', 'sentiment': 'neutral'}, {'category': 'Food', 'mention': 'сациви', 'start': '359', 'end': '365', 'sentiment': 'positive'}, {'category': 'Food', 'mention': 'хачапури по-мегрельски', 'start': '423', 'end': '445', 'sentiment': 'positive'}, {'category': 'Food', 'mention': 'сырная пицца', 'start': '456', 'end': '468', 'sentiment': 'negative'}, {'category': 'Food', 'mention': 'блюда на мангале', 'start': '473', 'end': '489', 'sentiment': 'neutral'}, {'category': 'Food', 'mention': 'закуски', 'start': '515', 'end': '522', 'sentiment': 'neutral'}, {'category': 'Food', 'mention': 'салаты', 'start': '525', 'end': '531', 'sentiment': 'neutral'}, {'category': 'Food', 'mention': 'десерт', 'start': '564', 'end': '570', 'sentiment': 'positive'}, {'category': 'Food', 'mention': 'Наполеон', 'start': '595', 'end': '603', 'sentiment': 'positive'}, {'category': 'Food', 'mention': 'бараньи яички', 'start': '683', 'end': '696', 'sentiment': 'neutral'}, {'category': 'Food', 'mention': 'повара', 'start': '809', 'end': '815', 'sentiment': 'positive'}, {'category': 'Service', 'mention': 'Официант Антон', 'start': '824', 'end': '838', 'sentiment': 'positive'}, {'category': 'Food', 'mention': 'кухню', 'start': '928', 'end': '933', 'sentiment': 'positive'}, {'category': 'Service', 'mention': 'обслуживание', 'start': '953', 'end': '965', 'sentiment': 'negative'}, {'category': 'Interior', 'mention': 'Интерьер', 'start': '966', 'end': '974', 'sentiment': 'positive'}, {'category': 'Interior', 'mention': 'туалет', 'start': '999', 'end': '1005', 'sentiment': 'positive'}, {'category': 'Food', 'mention': 'еды', 'start': '1091', 'end': '1094', 'sentiment': 'positive'}], '1511': [{'category': 'Whole', 'mention': 'место', 'start': '87', 'end': '92', 'sentiment': 'neutral'}, {'category': 'Service', 'mention': 'девушка', 'start': '145', 'end': '152', 'sentiment': 'negative'}, {'category': 'Food', 'mention': 'паст', 'start': '597', 'end': '601', 'sentiment': 'positive'}, {'category': 'Food', 'mention': 'пицц', 'start': '603', 'end': '607', 'sentiment': 'positive'}, {'category': 'Food', 'mention': 'салатов', 'start': '616', 'end': '623', 'sentiment': 'negative'}, {'category': 'Food', 'mention': 'закусок', 'start': '626', 'end': '633', 'sentiment': 'negative'}, {'category': 'Food', 'mention': 'итальянской кухне', 'start': '655', 'end': '672', 'sentiment': 'neutral'}, {'category': 'Food', 'mention': 'вина', 'start': '736', 'end': '740', 'sentiment': 'negative'}, {'category': 'Service', 'mention': 'Официант', 'start': '742', 'end': '750', 'sentiment': 'positive'}, {'category': 'Food', 'mention': 'Напитки', 'start': '790', 'end': '797', 'sentiment': 'positive'}, {'category': 'Food', 'mention': 'Кофе капуччино', 'start': '818', 'end': '832', 'sentiment': 'positive'}, {'category': 'Food', 'mention': 'шампанское', 'start': '865', 'end': '875', 'sentiment': 'positive'}, {'category': 'Food', 'mention': 'Кухня', 'start': '887', 'end': '892', 'sentiment': 'negative'}, {'category': 'Whole', 'mention': 'ресторанами', 'start': '984', 'end': '995', 'sentiment': 'positive'}, {'category': 'Food', 'mention': 'кушали', 'start': '1004', 'end': '1010', 'sentiment': 'positive'}, {'category': 'Price', 'mention': 'цена', 'start': '1078', 'end': '1082', 'sentiment': 'positive'}], '9036': [{'category': 'Whole', 'mention': 'ресторан', 'start': '46', 'end': '54', 'sentiment': 'neutral'}, {'category': 'Service', 'mention': 'встретил', 'start': '136', 'end': '144', 'sentiment': 'positive'}, {'category': 'Service', 'mention': 'гардеробщик', 'start': '157', 'end': '168', 'sentiment': 'positive'}, {'category': 'Service', 'mention': 'девушка', 'start': '297', 'end': '304', 'sentiment': 'positive'}, {'category': 'Service', 'mention': 'официант', 'start': '356', 'end': '364', 'sentiment': 'positive'}, {'category': 'Service', 'mention': 'молодой человек', 'start': '388', 'end': '403', 'sentiment': 'positive'}, {'category': 'Service', 'mention': 'официант', 'start': '471', 'end': '479', 'sentiment': 'positive'}, {'category': 'Food', 'mention': 'салат из их меню с \"семгой горячего копчения\"', 'start': '631', 'end': '676', 'sentiment': 'positive'}, {'category': 'Food', 'mention': 'хлебная тарелка', 'start': '724', 'end': '739', 'sentiment': 'positive'}, {'category': 'Food', 'mention': 'хлеб', 'start': '814', 'end': '818', 'sentiment': 'positive'}, {'category': 'Food', 'mention': 'вкус', 'start': '853', 'end': '857', 'sentiment': 'positive'}, {'category': 'Food', 'mention': 'Горячее', 'start': '869', 'end': '876', 'sentiment': 'neutral'}, {'category': 'Food', 'mention': 'десерта', 'start': '902', 'end': '909', 'sentiment': 'positive'}, {'category': 'Food', 'mention': '\"два шоколада\"', 'start': '937', 'end': '951', 'sentiment': 'positive'}, {'category': 'Food', 'mention': 'кофе', 'start': '1015', 'end': '1019', 'sentiment': 'positive'}, {'category': 'Whole', 'mention': 'ресторан', 'start': '1058', 'end': '1066', 'sentiment': 'positive'}, {'category': 'Interior', 'mention': 'атмосфера', 'start': '1085', 'end': '1094', 'sentiment': 'positive'}, {'category': 'Food', 'mention': 'кухня', 'start': '1103', 'end': '1108', 'sentiment': 'positive'}, {'category': 'Service', 'mention': 'обслуживание', 'start': '1145', 'end': '1157', 'sentiment': 'positive'}], '3452': [{'category': 'Whole', 'mention': 'ресторане', 'start': '12', 'end': '21', 'sentiment': 'neutral'}, {'category': 'Service', 'mention': 'официант', 'start': '61', 'end': '69', 'sentiment': 'positive'}, {'category': 'Food', 'mention': 'Кухня', 'start': '97', 'end': '102', 'sentiment': 'negative'}, {'category': 'Food', 'mention': 'порции', 'start': '155', 'end': '161', 'sentiment': 'positive'}, {'category': 'Whole', 'mention': 'ресторана', 'start': '206', 'end': '215', 'sentiment': 'negative'}, {'category': 'Food', 'mention': 'бизнес-ланчи', 'start': '268', 'end': '280', 'sentiment': 'positive'}, {'category': 'Service', 'mention': 'заказать', 'start': '330', 'end': '338', 'sentiment': 'negative'}, {'category': 'Food', 'mention': 'бизнес-ланч', 'start': '339', 'end': '350', 'sentiment': 'neutral'}, {'category': 'Interior', 'mention': 'помещении', 'start': '469', 'end': '478', 'sentiment': 'negative'}, {'category': 'Food', 'mention': 'бизнес-ланч', 'start': '631', 'end': '642', 'sentiment': 'negative'}, {'category': 'Food', 'mention': 'порция', 'start': '728', 'end': '734', 'sentiment': 'negative'}, {'category': 'Whole', 'mention': 'ресторан', 'start': '877', 'end': '885', 'sentiment': 'positive'}, {'category': 'Whole', 'mention': 'ресторанчик', 'start': '984', 'end': '995', 'sentiment': 'negative'}, {'category': 'Whole', 'mention': 'заведения', 'start': '1100', 'end': '1109', 'sentiment': 'positive'}, {'category': 'Food', 'mention': 'кухней', 'start': '1124', 'end': '1130', 'sentiment': 'positive'}, {'category': 'Service', 'mention': 'сервисом', 'start': '1140', 'end': '1148', 'sentiment': 'positive'}, {'category': 'Service', 'mention': 'менеджер', 'start': '1222', 'end': '1230', 'sentiment': 'neutral'}, {'category': 'Whole', 'mention': 'ресторана', 'start': '1237', 'end': '1246', 'sentiment': 'neutral'}], '32040': [{'category': 'Whole', 'mention': 'ресторан', 'start': '8', 'end': '16', 'sentiment': 'positive'}, {'category': 'Service', 'mention': 'обслуживанием', 'start': '28', 'end': '41', 'sentiment': 'positive'}, {'category': 'Interior', 'mention': 'интерьер', 'start': '99', 'end': '107', 'sentiment': 'positive'}, {'category': 'Service', 'mention': 'девушки официанты', 'start': '153', 'end': '170', 'sentiment': 'positive'}, {'category': 'Interior', 'mention': 'музыка', 'start': '181', 'end': '187', 'sentiment': 'positive'}, {'category': 'Food', 'mention': 'Кухня', 'start': '203', 'end': '208', 'sentiment': 'positive'}, {'category': 'Food', 'mention': 'блюда', 'start': '238', 'end': '243', 'sentiment': 'negative'}, {'category': 'Interior', 'mention': 'ресторане', 'start': '343', 'end': '352', 'sentiment': 'neutral'}, {'category': 'Whole', 'mention': 'Ресторан', 'start': '403', 'end': '411', 'sentiment': 'positive'}, {'category': 'Price', 'mention': 'цене', 'start': '457', 'end': '461', 'sentiment': 'neutral'}, {'category': 'Food', 'mention': 'ужин', 'start': '463', 'end': '467', 'sentiment': 'neutral'}], '26887': [{'category': 'Whole', 'mention': 'заведение', 'start': '56', 'end': '65', 'sentiment': 'positive'}, {'category': 'Food', 'mention': 'кухня', 'start': '90', 'end': '95', 'sentiment': 'negative'}, {'category': 'Service', 'mention': 'обслуживание', 'start': '98', 'end': '110', 'sentiment': 'negative'}, {'category': 'Food', 'mention': 'суши', 'start': '126', 'end': '130', 'sentiment': 'negative'}, {'category': 'Food', 'mention': 'пирожок к первому блюду', 'start': '188', 'end': '211', 'sentiment': 'neutral'}, {'category': 'Food', 'mention': 'кулеш', 'start': '283', 'end': '288', 'sentiment': 'neutral'}, {'category': 'Food', 'mention': 'Блюдо', 'start': '290', 'end': '295', 'sentiment': 'neutral'}, {'category': 'Service', 'mention': 'официантку', 'start': '360', 'end': '370', 'sentiment': 'negative'}, {'category': 'Food', 'mention': 'суп', 'start': '406', 'end': '409', 'sentiment': 'neutral'}, {'category': 'Food', 'mention': 'суп', 'start': '551', 'end': '554', 'sentiment': 'neutral'}, {'category': 'Service', 'mention': 'управляющего', 'start': '620', 'end': '632', 'sentiment': 'negative'}, {'category': 'Service', 'mention': 'администратора', 'start': '645', 'end': '659', 'sentiment': 'negative'}, {'category': 'Service', 'mention': 'девушка', 'start': '686', 'end': '693', 'sentiment': 'negative'}, {'category': 'Service', 'mention': 'клиентов', 'start': '882', 'end': '890', 'sentiment': 'negative'}, {'category': 'Service', 'mention': 'персонала', 'start': '976', 'end': '985', 'sentiment': 'negative'}, {'category': 'Whole', 'mention': 'заведении', 'start': '1021', 'end': '1030', 'sentiment': 'negative'}], '35613': [{'category': 'Service', 'mention': 'обслуживание', 'start': '21', 'end': '33', 'sentiment': 'negative'}, {'category': 'Service', 'mention': 'заказали', 'start': '55', 'end': '63', 'sentiment': 'neutral'}, {'category': 'Service', 'mention': 'официанты', 'start': '210', 'end': '219', 'sentiment': 'negative'}, {'category': 'Service', 'mention': 'гостями', 'start': '604', 'end': '611', 'sentiment': 'negative'}, {'category': 'Service', 'mention': 'сервиса', 'start': '663', 'end': '670', 'sentiment': 'negative'}, {'category': 'Food', 'mention': 'кухни', 'start': '687', 'end': '692', 'sentiment': 'positive'}, {'category': 'Interior', 'mention': 'интерьера', 'start': '703', 'end': '712', 'sentiment': 'positive'}], '37220': [{'category': 'Food', 'mention': 'Кухня', 'start': '0', 'end': '5', 'sentiment': 'positive'}, {'category': 'Food', 'mention': 'поварам', 'start': '21', 'end': '28', 'sentiment': 'positive'}, {'category': 'Interior', 'mention': 'интерьер', 'start': '30', 'end': '38', 'sentiment': 'positive'}, {'category': 'Service', 'mention': 'девушки', 'start': '143', 'end': '150', 'sentiment': 'negative'}, {'category': 'Service', 'mention': 'официанткой', 'start': '176', 'end': '187', 'sentiment': 'negative'}, {'category': 'Service', 'mention': 'менеджер', 'start': '204', 'end': '212', 'sentiment': 'negative'}, {'category': 'Whole', 'mention': 'тан жен', 'start': '575', 'end': '582', 'sentiment': 'both'}, {'category': 'Food', 'mention': 'кухню', 'start': '589', 'end': '594', 'sentiment': 'positive'}, {'category': 'Service', 'mention': 'гостями', 'start': '711', 'end': '718', 'sentiment': 'negative'}, {'category': 'Service', 'mention': 'менеджер', 'start': '746', 'end': '754', 'sentiment': 'negative'}], '5648': [{'category': 'Service', 'mention': 'персонал', 'start': '8', 'end': '16', 'sentiment': 'negative'}, {'category': 'Service', 'mention': 'официанты', 'start': '108', 'end': '117', 'sentiment': 'negative'}, {'category': 'Service', 'mention': 'знающие меню', 'start': '125', 'end': '137', 'sentiment': 'negative'}, {'category': 'Service', 'mention': 'официанты', 'start': '204', 'end': '213', 'sentiment': 'both'}, {'category': 'Service', 'mention': 'девченки', 'start': '263', 'end': '271', 'sentiment': 'positive'}, {'category': 'Service', 'mention': 'относятся к клиентам', 'start': '308', 'end': '328', 'sentiment': 'positive'}, {'category': 'Service', 'mention': 'сервиса', 'start': '501', 'end': '508', 'sentiment': 'negative'}, {'category': 'Service', 'mention': 'Ребята', 'start': '529', 'end': '535', 'sentiment': 'negative'}], '7079': [{'category': 'Food', 'mention': 'закусок', 'start': '209', 'end': '216', 'sentiment': 'neutral'}, {'category': 'Food', 'mention': 'салями', 'start': '219', 'end': '225', 'sentiment': 'neutral'}, {'category': 'Food', 'mention': 'оливки', 'start': '228', 'end': '234', 'sentiment': 'neutral'}, {'category': 'Service', 'mention': 'официанта', 'start': '351', 'end': '360', 'sentiment': 'negative'}, {'category': 'Service', 'mention': 'официанты', 'start': '472', 'end': '481', 'sentiment': 'negative'}, {'category': 'Service', 'mention': 'официанта', 'start': '506', 'end': '515', 'sentiment': 'negative'}, {'category': 'Food', 'mention': 'салями', 'start': '591', 'end': '597', 'sentiment': 'neutral'}, {'category': 'Food', 'mention': 'салями', 'start': '660', 'end': '666', 'sentiment': 'positive'}, {'category': 'Food', 'mention': 'чай', 'start': '701', 'end': '704', 'sentiment': 'neutral'}, {'category': 'Whole', 'mention': 'ресторан', 'start': '893', 'end': '901', 'sentiment': 'negative'}], '35635': [{'category': 'Whole', 'mention': \"ресторан 'Хутор Водограй'\", 'start': '99', 'end': '124', 'sentiment': 'neutral'}, {'category': 'Food', 'mention': 'кухня', 'start': '150', 'end': '155', 'sentiment': 'positive'}, {'category': 'Service', 'mention': 'обслуживание', 'start': '159', 'end': '171', 'sentiment': 'positive'}, {'category': 'Interior', 'mention': 'атмосфера', 'start': '173', 'end': '182', 'sentiment': 'positive'}, {'category': 'Interior', 'mention': 'настроение', 'start': '185', 'end': '195', 'sentiment': 'positive'}, {'category': 'Interior', 'mention': 'украинский колорит', 'start': '229', 'end': '247', 'sentiment': 'positive'}, {'category': 'Service', 'mention': 'руководителей', 'start': '631', 'end': '644', 'sentiment': 'negative'}, {'category': 'Service', 'mention': 'официант', 'start': '773', 'end': '781', 'sentiment': 'negative'}, {'category': 'Food', 'mention': 'поели', 'start': '901', 'end': '906', 'sentiment': 'negative'}, {'category': 'Food', 'mention': 'пирожков', 'start': '959', 'end': '967', 'sentiment': 'positive'}, {'category': 'Whole', 'mention': 'рестораном', 'start': '1206', 'end': '1216', 'sentiment': 'negative'}, {'category': 'Whole', 'mention': 'ресторан', 'start': '1284', 'end': '1292', 'sentiment': 'positive'}], '11267': [{'category': 'Whole', 'mention': 'месте', 'start': '30', 'end': '35', 'sentiment': 'negative'}, {'category': 'Service', 'mention': 'Обслуживание', 'start': '37', 'end': '49', 'sentiment': 'negative'}, {'category': 'Service', 'mention': 'офицантки', 'start': '84', 'end': '93', 'sentiment': 'negative'}, {'category': 'Service', 'mention': 'выражением лица', 'start': '215', 'end': '230', 'sentiment': 'negative'}, {'category': 'Service', 'mention': 'принести', 'start': '248', 'end': '256', 'sentiment': 'negative'}, {'category': 'Food', 'mention': 'еды', 'start': '290', 'end': '293', 'sentiment': 'negative'}, {'category': 'Food', 'mention': 'блюдо', 'start': '304', 'end': '309', 'sentiment': 'negative'}, {'category': 'Whole', 'mention': 'ресторанчике', 'start': '367', 'end': '379', 'sentiment': 'negative'}, {'category': 'Food', 'mention': 'супа', 'start': '475', 'end': '479', 'sentiment': 'negative'}, {'category': 'Food', 'mention': 'скис', 'start': '550', 'end': '554', 'sentiment': 'negative'}, {'category': 'Interior', 'mention': 'Интерьер', 'start': '562', 'end': '570', 'sentiment': 'negative'}, {'category': 'Whole', 'mention': 'место', 'start': '652', 'end': '657', 'sentiment': 'negative'}, {'category': 'Whole', 'mention': 'заведений', 'start': '695', 'end': '704', 'sentiment': 'negative'}], '30148': [{'category': 'Food', 'mention': 'Паста', 'start': '271', 'end': '276', 'sentiment': 'positive'}, {'category': 'Food', 'mention': 'ризотто', 'start': '277', 'end': '284', 'sentiment': 'positive'}, {'category': 'Food', 'mention': 'пообедать', 'start': '371', 'end': '380', 'sentiment': 'neutral'}, {'category': 'Service', 'mention': 'официанта', 'start': '438', 'end': '447', 'sentiment': 'negative'}, {'category': 'Service', 'mention': 'обслуживать гостей', 'start': '670', 'end': '688', 'sentiment': 'negative'}, {'category': 'Service', 'mention': 'сервисом', 'start': '725', 'end': '733', 'sentiment': 'negative'}, {'category': 'Food', 'mention': 'Супчики', 'start': '750', 'end': '757', 'sentiment': 'positive'}, {'category': 'Food', 'mention': 'чаек', 'start': '787', 'end': '791', 'sentiment': 'positive'}, {'category': 'Food', 'mention': 'десерт', 'start': '794', 'end': '800', 'sentiment': 'positive'}], '13186': [{'category': 'Whole', 'mention': 'ресторане Волна', 'start': '30', 'end': '45', 'sentiment': 'neutral'}, {'category': 'Service', 'mention': 'девушка', 'start': '72', 'end': '79', 'sentiment': 'positive'}, {'category': 'Service', 'mention': 'предложила столики', 'start': '80', 'end': '98', 'sentiment': 'positive'}, {'category': 'Food', 'mention': 'вина', 'start': '125', 'end': '129', 'sentiment': 'neutral'}, {'category': 'Food', 'mention': 'вином', 'start': '168', 'end': '173', 'sentiment': 'neutral'}, {'category': 'Service', 'mention': 'официанты', 'start': '218', 'end': '227', 'sentiment': 'negative'}, {'category': 'Food', 'mention': 'вино', 'start': '248', 'end': '252', 'sentiment': 'negative'}, {'category': 'Food', 'mention': 'бытылочку вина', 'start': '290', 'end': '304', 'sentiment': 'neutral'}, {'category': 'Food', 'mention': 'салат из рукколы с печеным картофелем', 'start': '330', 'end': '367', 'sentiment': 'neutral'}, {'category': 'Food', 'mention': 'гребешки со спаржей', 'start': '370', 'end': '389', 'sentiment': 'neutral'}, {'category': 'Service', 'mention': 'комплимент от шеф-повара', 'start': '430', 'end': '454', 'sentiment': 'positive'}, {'category': 'Food', 'mention': 'салат', 'start': '529', 'end': '534', 'sentiment': 'both'}, {'category': 'Service', 'mention': 'ждала еще минут', 'start': '567', 'end': '582', 'sentiment': 'negative'}, {'category': 'Interior', 'mention': 'атмосфера', 'start': '629', 'end': '638', 'sentiment': 'both'}], '1515': [{'category': 'Whole', 'mention': 'ресторан МИСО', 'start': '20', 'end': '33', 'sentiment': 'positive'}, {'category': 'Food', 'mention': 'обедать', 'start': '66', 'end': '73', 'sentiment': 'positive'}, {'category': 'Food', 'mention': 'кухней', 'start': '170', 'end': '176', 'sentiment': 'positive'}, {'category': 'Service', 'mention': 'обслуживанием', 'start': '179', 'end': '192', 'sentiment': 'positive'}, {'category': 'Interior', 'mention': 'интерьер', 'start': '205', 'end': '213', 'sentiment': 'positive'}, {'category': 'Interior', 'mention': 'атмосфера', 'start': '216', 'end': '225', 'sentiment': 'positive'}, {'category': 'Food', 'mention': 'ланч', 'start': '246', 'end': '250', 'sentiment': 'negative'}, {'category': 'Food', 'mention': 'кусочек мяса', 'start': '331', 'end': '343', 'sentiment': 'negative'}, {'category': 'Whole', 'mention': 'заведение', 'start': '577', 'end': '586', 'sentiment': 'negative'}], '797': [{'category': 'Whole', 'mention': 'ресторане', 'start': '7', 'end': '16', 'sentiment': 'neutral'}, {'category': 'Food', 'mention': 'выпить', 'start': '89', 'end': '95', 'sentiment': 'neutral'}, {'category': 'Food', 'mention': 'чаю', 'start': '96', 'end': '99', 'sentiment': 'neutral'}, {'category': 'Food', 'mention': 'вина', 'start': '102', 'end': '106', 'sentiment': 'neutral'}, {'category': 'Service', 'mention': 'официантка', 'start': '143', 'end': '153', 'sentiment': 'negative'}, {'category': 'Whole', 'mention': 'ресторане', 'start': '287', 'end': '296', 'sentiment': 'positive'}, {'category': 'Service', 'mention': 'официантка', 'start': '313', 'end': '323', 'sentiment': 'negative'}, {'category': 'Service', 'mention': 'поработают', 'start': '550', 'end': '560', 'sentiment': 'negative'}, {'category': 'Service', 'mention': 'Чаевые', 'start': '645', 'end': '651', 'sentiment': 'negative'}], '22386': [{'category': 'Price', 'mention': 'Ценник', 'start': '86', 'end': '92', 'sentiment': 'negative'}, {'category': 'Food', 'mention': 'соленья', 'start': '163', 'end': '170', 'sentiment': 'positive'}, {'category': 'Food', 'mention': 'кармашки с грибами и рыбой', 'start': '172', 'end': '198', 'sentiment': 'positive'}, {'category': 'Food', 'mention': 'жареный камамбер', 'start': '200', 'end': '216', 'sentiment': 'positive'}, {'category': 'Food', 'mention': 'шашлык из свинины', 'start': '218', 'end': '235', 'sentiment': 'positive'}, {'category': 'Food', 'mention': 'свинину с моцареллой и грибами', 'start': '237', 'end': '267', 'sentiment': 'positive'}, {'category': 'Food', 'mention': 'угря', 'start': '269', 'end': '273', 'sentiment': 'positive'}, {'category': 'Service', 'mention': 'официантки', 'start': '348', 'end': '358', 'sentiment': 'negative'}, {'category': 'Service', 'mention': 'официантка', 'start': '589', 'end': '599', 'sentiment': 'negative'}], '3906': [{'category': 'Interior', 'mention': 'атмосфере', 'start': '131', 'end': '140', 'sentiment': 'positive'}, {'category': 'Interior', 'mention': 'интерьер', 'start': '143', 'end': '151', 'sentiment': 'positive'}, {'category': 'Service', 'mention': 'персонал', 'start': '153', 'end': '161', 'sentiment': 'positive'}, {'category': 'Interior', 'mention': 'музыкальное сопровождение', 'start': '163', 'end': '188', 'sentiment': 'positive'}, {'category': 'Interior', 'mention': 'свечи- цветы', 'start': '191', 'end': '203', 'sentiment': 'positive'}, {'category': 'Food', 'mention': 'кухне', 'start': '258', 'end': '263', 'sentiment': 'positive'}, {'category': 'Food', 'mention': 'подача мяса', 'start': '311', 'end': '322', 'sentiment': 'positive'}, {'category': 'Food', 'mention': 'холодных закусок', 'start': '325', 'end': '341', 'sentiment': 'positive'}, {'category': 'Food', 'mention': 'десертов', 'start': '343', 'end': '351', 'sentiment': 'positive'}, {'category': 'Service', 'mention': 'Комплимент от ресторана', 'start': '357', 'end': '380', 'sentiment': 'positive'}, {'category': 'Food', 'mention': 'вазочки с виноградом', 'start': '388', 'end': '408', 'sentiment': 'positive'}, {'category': 'Food', 'mention': 'Постное меню', 'start': '480', 'end': '492', 'sentiment': 'both'}, {'category': 'Food', 'mention': 'вкус блюд', 'start': '551', 'end': '560', 'sentiment': 'positive'}, {'category': 'Whole', 'mention': 'заведения', 'start': '583', 'end': '592', 'sentiment': 'positive'}, {'category': 'Whole', 'mention': 'место', 'start': '668', 'end': '673', 'sentiment': 'positive'}], '21574': [{'category': 'Service', 'mention': 'официантки', 'start': '120', 'end': '130', 'sentiment': 'positive'}, {'category': 'Service', 'mention': 'улыбаются', 'start': '152', 'end': '161', 'sentiment': 'positive'}, {'category': 'Service', 'mention': 'встречают', 'start': '270', 'end': '279', 'sentiment': 'positive'}, {'category': 'Service', 'mention': 'провожают', 'start': '281', 'end': '290', 'sentiment': 'positive'}, {'category': 'Service', 'mention': 'обслуживания', 'start': '467', 'end': '479', 'sentiment': 'positive'}, {'category': 'Food', 'mention': 'салат с креветками и листьями', 'start': '560', 'end': '589', 'sentiment': 'positive'}, {'category': 'Food', 'mention': 'рулетики из баклажанов', 'start': '591', 'end': '613', 'sentiment': 'positive'}, {'category': 'Food', 'mention': 'начинка', 'start': '615', 'end': '622', 'sentiment': 'positive'}, {'category': 'Food', 'mention': 'грецкие орехи', 'start': '639', 'end': '652', 'sentiment': 'positive'}, {'category': 'Food', 'mention': 'холодный рыбный рулет', 'start': '678', 'end': '699', 'sentiment': 'positive'}, {'category': 'Food', 'mention': 'корюшка, фаршированная рисом и овощами', 'start': '703', 'end': '741', 'sentiment': 'positive'}, {'category': 'Food', 'mention': 'блюдо', 'start': '770', 'end': '775', 'sentiment': 'positive'}, {'category': 'Food', 'mention': 'Свинина', 'start': '777', 'end': '784', 'sentiment': 'negative'}, {'category': 'Interior', 'mention': 'интерьер', 'start': '839', 'end': '847', 'sentiment': 'positive'}, {'category': 'Whole', 'mention': 'заведение', 'start': '968', 'end': '977', 'sentiment': 'positive'}], '27040': [{'category': 'Service', 'mention': 'обслуживание', 'start': '124', 'end': '136', 'sentiment': 'positive'}, {'category': 'Service', 'mention': 'официант', 'start': '159', 'end': '167', 'sentiment': 'positive'}, {'category': 'Service', 'mention': 'кальян', 'start': '259', 'end': '265', 'sentiment': 'positive'}, {'category': 'Food', 'mention': 'закуски-крылья', 'start': '284', 'end': '298', 'sentiment': 'positive'}, {'category': 'Food', 'mention': 'сырные шарики', 'start': '300', 'end': '313', 'sentiment': 'positive'}, {'category': 'Food', 'mention': 'фрукты', 'start': '315', 'end': '321', 'sentiment': 'positive'}], '34196': [{'category': 'Service', 'mention': 'Бронировали столик', 'start': '0', 'end': '18', 'sentiment': 'neutral'}, {'category': 'Service', 'mention': 'обслуживал', 'start': '147', 'end': '157', 'sentiment': 'neutral'}, {'category': 'Service', 'mention': 'Шеф-повар ресторана', 'start': '158', 'end': '177', 'sentiment': 'neutral'}, {'category': 'Service', 'mention': 'мужчина', 'start': '235', 'end': '242', 'sentiment': 'positive'}, {'category': 'Food', 'mention': 'блюда', 'start': '373', 'end': '378', 'sentiment': 'positive'}, {'category': 'Food', 'mention': 'блюда', 'start': '471', 'end': '476', 'sentiment': 'neutral'}, {'category': 'Food', 'mention': 'блюда', 'start': '501', 'end': '506', 'sentiment': 'neutral'}, {'category': 'Food', 'mention': 'мясной стейк', 'start': '535', 'end': '547', 'sentiment': 'negative'}, {'category': 'Service', 'mention': 'бронировании столика', 'start': '571', 'end': '591', 'sentiment': 'neutral'}, {'category': 'Service', 'mention': 'администратор', 'start': '592', 'end': '605', 'sentiment': 'neutral'}, {'category': 'Interior', 'mention': 'внешний вид зала', 'start': '755', 'end': '771', 'sentiment': 'positive'}, {'category': 'Service', 'mention': 'официантке', 'start': '812', 'end': '822', 'sentiment': 'positive'}, {'category': 'Interior', 'mention': 'посетители VIP-зала', 'start': '878', 'end': '897', 'sentiment': 'negative'}, {'category': 'Interior', 'mention': 'аквариум', 'start': '939', 'end': '947', 'sentiment': 'neutral'}], '32442': [{'category': 'Whole', 'mention': 'ресторане «Кирочный Двор»', 'start': '19', 'end': '44', 'sentiment': 'neutral'}, {'category': 'Whole', 'mention': 'сотрудникам данного заведения', 'start': '88', 'end': '117', 'sentiment': 'positive'}, {'category': 'Interior', 'mention': 'зале', 'start': '159', 'end': '163', 'sentiment': 'positive'}, {'category': 'Service', 'mention': 'места для танцев', 'start': '180', 'end': '196', 'sentiment': 'positive'}, {'category': 'Service', 'mention': 'Администраторы', 'start': '248', 'end': '262', 'sentiment': 'positive'}, {'category': 'Interior', 'mention': 'оформлением зала', 'start': '277', 'end': '293', 'sentiment': 'positive'}, {'category': 'Service', 'mention': 'ведущих', 'start': '304', 'end': '311', 'sentiment': 'positive'}, {'category': 'Food', 'mention': 'Меню', 'start': '347', 'end': '351', 'sentiment': 'neutral'}, {'category': 'Food', 'mention': 'алкоголь', 'start': '369', 'end': '377', 'sentiment': 'neutral'}, {'category': 'Food', 'mention': 'выбор блюд', 'start': '438', 'end': '448', 'sentiment': 'positive'}], '19467': [{'category': 'Whole', 'mention': 'Террасу', 'start': '24', 'end': '31', 'sentiment': 'neutral'}, {'category': 'Service', 'mention': 'Официантка', 'start': '595', 'end': '605', 'sentiment': 'positive'}, {'category': 'Service', 'mention': 'Сервис', 'start': '698', 'end': '704', 'sentiment': 'both'}, {'category': 'Food', 'mention': 'Кухня', 'start': '775', 'end': '780', 'sentiment': 'positive'}, {'category': 'Food', 'mention': 'Меню', 'start': '805', 'end': '809', 'sentiment': 'positive'}, {'category': 'Food', 'mention': 'Салаты', 'start': '838', 'end': '844', 'sentiment': 'positive'}, {'category': 'Food', 'mention': 'паста', 'start': '847', 'end': '852', 'sentiment': 'positive'}, {'category': 'Food', 'mention': 'Алкоголь', 'start': '873', 'end': '881', 'sentiment': 'positive'}, {'category': 'Price', 'mention': 'Цены', 'start': '908', 'end': '912', 'sentiment': 'positive'}, {'category': 'Whole', 'mention': 'Терраса', 'start': '933', 'end': '940', 'sentiment': 'positive'}, {'category': 'Whole', 'mention': 'мест', 'start': '1000', 'end': '1004', 'sentiment': 'positive'}], '21059': [{'category': 'Whole', 'mention': 'ресторане', 'start': '29', 'end': '38', 'sentiment': 'neutral'}, {'category': 'Whole', 'mention': 'место', 'start': '157', 'end': '162', 'sentiment': 'negative'}, {'category': 'Food', 'mention': 'Кухня', 'start': '374', 'end': '379', 'sentiment': 'positive'}, {'category': 'Interior', 'mention': 'программа', 'start': '458', 'end': '467', 'sentiment': 'positive'}, {'category': 'Interior', 'mention': 'живая музыка', 'start': '468', 'end': '480', 'sentiment': 'positive'}, {'category': 'Interior', 'mention': 'пела', 'start': '503', 'end': '507', 'sentiment': 'positive'}, {'category': 'Interior', 'mention': 'грузинские танцевальный коллектив', 'start': '511', 'end': '544', 'sentiment': 'positive'}], '33252': [{'category': 'Whole', 'mention': 'Паберти', 'start': '35', 'end': '42', 'sentiment': 'neutral'}, {'category': 'Service', 'mention': 'Заказывал', 'start': '44', 'end': '53', 'sentiment': 'neutral'}, {'category': 'Food', 'mention': 'пивоварни', 'start': '131', 'end': '140', 'sentiment': 'positive'}, {'category': 'Food', 'mention': 'Пиво', 'start': '212', 'end': '216', 'sentiment': 'positive'}, {'category': 'Food', 'mention': 'свежесваренное пиво', 'start': '306', 'end': '325', 'sentiment': 'positive'}, {'category': 'Food', 'mention': 'кухня', 'start': '426', 'end': '431', 'sentiment': 'positive'}, {'category': 'Food', 'mention': 'закуски', 'start': '483', 'end': '490', 'sentiment': 'positive'}, {'category': 'Food', 'mention': 'горячее', 'start': '494', 'end': '501', 'sentiment': 'positive'}, {'category': 'Service', 'mention': 'стол обслуживали', 'start': '576', 'end': '592', 'sentiment': 'positive'}, {'category': 'Service', 'mention': 'официантов', 'start': '609', 'end': '619', 'sentiment': 'positive'}, {'category': 'Service', 'mention': 'блюда и напитки выносились', 'start': '633', 'end': '659', 'sentiment': 'positive'}, {'category': 'Service', 'mention': 'обслуживание', 'start': '791', 'end': '803', 'sentiment': 'positive'}, {'category': 'Interior', 'mention': 'Развлекательная программа ресторана', 'start': '833', 'end': '868', 'sentiment': 'positive'}, {'category': 'Interior', 'mention': 'потанцевать', 'start': '918', 'end': '929', 'sentiment': 'positive'}, {'category': 'Service', 'mention': 'персоналу Паберти', 'start': '1069', 'end': '1086', 'sentiment': 'positive'}], '36085': [{'category': 'Whole', 'mention': 'заведении', 'start': '88', 'end': '97', 'sentiment': 'positive'}, {'category': 'Whole', 'mention': 'кафе', 'start': '187', 'end': '191', 'sentiment': 'positive'}, {'category': 'Interior', 'mention': 'интерьер', 'start': '209', 'end': '217', 'sentiment': 'positive'}, {'category': 'Food', 'mention': 'блюда', 'start': '237', 'end': '242', 'sentiment': 'positive'}, {'category': 'Service', 'mention': 'персонал', 'start': '310', 'end': '318', 'sentiment': 'positive'}, {'category': 'Whole', 'mention': 'место', 'start': '455', 'end': '460', 'sentiment': 'positive'}, {'category': 'Whole', 'mention': 'Mon Petit Cafe', 'start': '470', 'end': '484', 'sentiment': 'positive'}], '33816': [{'category': 'Interior', 'mention': 'интерьер зала', 'start': '96', 'end': '109', 'sentiment': 'positive'}, {'category': 'Interior', 'mention': 'атмосфера', 'start': '154', 'end': '163', 'sentiment': 'positive'}, {'category': 'Service', 'mention': 'обслуживание', 'start': '212', 'end': '224', 'sentiment': 'positive'}, {'category': 'Food', 'mention': 'кухни', 'start': '238', 'end': '243', 'sentiment': 'positive'}, {'category': 'Price', 'mention': 'Соотношение цена/качество', 'start': '261', 'end': '286', 'sentiment': 'positive'}, {'category': 'Interior', 'mention': 'Живая музыка', 'start': '297', 'end': '309', 'sentiment': 'positive'}, {'category': 'Interior', 'mention': 'девушка-певица', 'start': '322', 'end': '336', 'sentiment': 'positive'}, {'category': 'Interior', 'mention': 'потанцевали', 'start': '358', 'end': '369', 'sentiment': 'positive'}, {'category': 'Whole', 'mention': 'провели время', 'start': '420', 'end': '433', 'sentiment': 'positive'}], '9870': [{'category': 'Whole', 'mention': 'Амадеусе', 'start': '30', 'end': '38', 'sentiment': 'neutral'}, {'category': 'Whole', 'mention': 'ресторану', 'start': '149', 'end': '158', 'sentiment': 'positive'}, {'category': 'Interior', 'mention': 'каминный зал', 'start': '184', 'end': '196', 'sentiment': 'positive'}, {'category': 'Interior', 'mention': 'декор', 'start': '209', 'end': '214', 'sentiment': 'positive'}, {'category': 'Interior', 'mention': 'интерьер', 'start': '217', 'end': '225', 'sentiment': 'positive'}, {'category': 'Interior', 'mention': 'каминный зал', 'start': '234', 'end': '246', 'sentiment': 'positive'}, {'category': 'Service', 'mention': 'персонала ресторана', 'start': '357', 'end': '376', 'sentiment': 'positive'}, {'category': 'Service', 'mention': 'администратором', 'start': '402', 'end': '417', 'sentiment': 'positive'}, {'category': 'Service', 'mention': 'коллектив официантов', 'start': '649', 'end': '669', 'sentiment': 'positive'}, {'category': 'Service', 'mention': 'подачи блюд', 'start': '703', 'end': '714', 'sentiment': 'positive'}, {'category': 'Service', 'mention': 'персоналом', 'start': '780', 'end': '790', 'sentiment': 'positive'}, {'category': 'Food', 'mention': 'кухня', 'start': '841', 'end': '846', 'sentiment': 'positive'}, {'category': 'Food', 'mention': 'сервировка', 'start': '863', 'end': '873', 'sentiment': 'positive'}, {'category': 'Food', 'mention': 'подача блюд', 'start': '876', 'end': '887', 'sentiment': 'positive'}, {'category': 'Food', 'mention': 'вкус блюд', 'start': '894', 'end': '903', 'sentiment': 'positive'}, {'category': 'Whole', 'mention': 'ресторане', 'start': '1133', 'end': '1142', 'sentiment': 'neutral'}, {'category': 'Service', 'mention': 'администратор', 'start': '1242', 'end': '1255', 'sentiment': 'positive'}], '4308': [{'category': 'Whole', 'mention': 'ресторан', 'start': '31', 'end': '39', 'sentiment': 'negative'}, {'category': 'Whole', 'mention': 'ресторан', 'start': '174', 'end': '182', 'sentiment': 'positive'}, {'category': 'Interior', 'mention': 'Интерьер', 'start': '205', 'end': '213', 'sentiment': 'positive'}, {'category': 'Food', 'mention': 'кухня', 'start': '215', 'end': '220', 'sentiment': 'positive'}, {'category': 'Service', 'mention': 'персонал', 'start': '222', 'end': '230', 'sentiment': 'positive'}, {'category': 'Service', 'mention': 'заказ', 'start': '286', 'end': '291', 'sentiment': 'positive'}, {'category': 'Food', 'mention': 'порции', 'start': '294', 'end': '300', 'sentiment': 'positive'}, {'category': 'Interior', 'mention': 'Музыка', 'start': '339', 'end': '345', 'sentiment': 'positive'}, {'category': 'Service', 'mention': 'официантка', 'start': '358', 'end': '368', 'sentiment': 'positive'}, {'category': 'Food', 'mention': 'салата', 'start': '403', 'end': '409', 'sentiment': 'positive'}, {'category': 'Food', 'mention': 'рыбу', 'start': '411', 'end': '415', 'sentiment': 'positive'}, {'category': 'Food', 'mention': 'курицу', 'start': '417', 'end': '423', 'sentiment': 'positive'}, {'category': 'Food', 'mention': 'свинину', 'start': '425', 'end': '432', 'sentiment': 'positive'}, {'category': 'Food', 'mention': 'закусывая', 'start': '434', 'end': '443', 'sentiment': 'positive'}, {'category': 'Food', 'mention': 'ушами', 'start': '444', 'end': '449', 'sentiment': 'positive'}, {'category': 'Food', 'mention': 'чипсами', 'start': '452', 'end': '459', 'sentiment': 'positive'}, {'category': 'Food', 'mention': 'запивая', 'start': '464', 'end': '471', 'sentiment': 'positive'}, {'category': 'Food', 'mention': 'пивом', 'start': '472', 'end': '477', 'sentiment': 'positive'}, {'category': 'Food', 'mention': 'морсами', 'start': '479', 'end': '486', 'sentiment': 'positive'}, {'category': 'Food', 'mention': 'соком', 'start': '489', 'end': '494', 'sentiment': 'positive'}, {'category': 'Whole', 'mention': 'ресторан', 'start': '724', 'end': '732', 'sentiment': 'positive'}, {'category': 'Food', 'mention': 'кухня', 'start': '748', 'end': '753', 'sentiment': 'positive'}, {'category': 'Service', 'mention': 'обслуживание', 'start': '756', 'end': '768', 'sentiment': 'positive'}], '31778': [{'category': 'Whole', 'mention': 'заведение', 'start': '27', 'end': '36', 'sentiment': 'positive'}, {'category': 'Interior', 'mention': 'живая музыка', 'start': '55', 'end': '67', 'sentiment': 'positive'}, {'category': 'Interior', 'mention': 'концерте', 'start': '77', 'end': '85', 'sentiment': 'neutral'}, {'category': 'Interior', 'mention': 'Ребята', 'start': '122', 'end': '128', 'sentiment': 'positive'}, {'category': 'Interior', 'mention': 'Публика', 'start': '173', 'end': '180', 'sentiment': 'positive'}, {'category': 'Service', 'mention': 'администрацию бара', 'start': '267', 'end': '285', 'sentiment': 'positive'}, {'category': 'Service', 'mention': 'обслуживание', 'start': '426', 'end': '438', 'sentiment': 'both'}, {'category': 'Interior', 'mention': 'концерте', 'start': '498', 'end': '506', 'sentiment': 'neutral'}, {'category': 'Service', 'mention': 'официантку', 'start': '507', 'end': '517', 'sentiment': 'negative'}, {'category': 'Food', 'mention': 'пиво', 'start': '610', 'end': '614', 'sentiment': 'positive'}, {'category': 'Price', 'mention': 'цены', 'start': '706', 'end': '710', 'sentiment': 'positive'}, {'category': 'Whole', 'mention': 'заведения', 'start': '715', 'end': '724', 'sentiment': 'positive'}, {'category': 'Food', 'mention': 'пиво', 'start': '770', 'end': '774', 'sentiment': 'positive'}, {'category': 'Service', 'mention': 'администрации', 'start': '827', 'end': '840', 'sentiment': 'positive'}], '20086': [{'category': 'Whole', 'mention': 'заведение', 'start': '39', 'end': '48', 'sentiment': 'neutral'}, {'category': 'Service', 'mention': 'Столик заказали', 'start': '50', 'end': '65', 'sentiment': 'neutral'}, {'category': 'Interior', 'mention': 'комната для караоке', 'start': '141', 'end': '160', 'sentiment': 'neutral'}, {'category': 'Interior', 'mention': 'Интерьер', 'start': '211', 'end': '219', 'sentiment': 'positive'}, {'category': 'Interior', 'mention': 'мебель', 'start': '266', 'end': '272', 'sentiment': 'positive'}, {'category': 'Food', 'mention': 'Меню', 'start': '274', 'end': '278', 'sentiment': 'negative'}, {'category': 'Price', 'mention': 'цены', 'start': '297', 'end': '301', 'sentiment': 'positive'}, {'category': 'Service', 'mention': 'обслуживающего персонала', 'start': '430', 'end': '454', 'sentiment': 'positive'}, {'category': 'Service', 'mention': 'обслуживало', 'start': '499', 'end': '510', 'sentiment': 'positive'}, {'category': 'Service', 'mention': 'персонал', 'start': '579', 'end': '587', 'sentiment': 'positive'}, {'category': 'Service', 'mention': 'администрация', 'start': '635', 'end': '648', 'sentiment': 'neutral'}, {'category': 'Food', 'mention': 'салатов', 'start': '689', 'end': '696', 'sentiment': 'positive'}, {'category': 'Food', 'mention': 'десерты', 'start': '722', 'end': '729', 'sentiment': 'negative'}], '11770': [{'category': 'Whole', 'mention': 'пабе', 'start': '16', 'end': '20', 'sentiment': 'positive'}, {'category': 'Food', 'mention': 'пиво', 'start': '49', 'end': '53', 'sentiment': 'positive'}, {'category': 'Food', 'mention': 'сырные палочки', 'start': '55', 'end': '69', 'sentiment': 'positive'}, {'category': 'Service', 'mention': 'обслуживание', 'start': '79', 'end': '91', 'sentiment': 'positive'}, {'category': 'Whole', 'mention': 'ресторане', 'start': '117', 'end': '126', 'sentiment': 'neutral'}, {'category': 'Whole', 'mention': 'ресторан', 'start': '173', 'end': '181', 'sentiment': 'positive'}, {'category': 'Food', 'mention': 'блюда', 'start': '267', 'end': '272', 'sentiment': 'negative'}, {'category': 'Food', 'mention': 'ягод', 'start': '310', 'end': '314', 'sentiment': 'negative'}, {'category': 'Food', 'mention': 'фрукта', 'start': '319', 'end': '325', 'sentiment': 'negative'}, {'category': 'Food', 'mention': 'специй', 'start': '342', 'end': '348', 'sentiment': 'negative'}, {'category': 'Food', 'mention': 'мясе', 'start': '351', 'end': '355', 'sentiment': 'negative'}, {'category': 'Food', 'mention': 'доесть', 'start': '405', 'end': '411', 'sentiment': 'negative'}, {'category': 'Food', 'mention': 'мясо', 'start': '448', 'end': '452', 'sentiment': 'positive'}, {'category': 'Food', 'mention': 'стейк', 'start': '462', 'end': '467', 'sentiment': 'positive'}, {'category': 'Food', 'mention': 'стейка', 'start': '547', 'end': '553', 'sentiment': 'positive'}, {'category': 'Food', 'mention': 'приготовления', 'start': '599', 'end': '612', 'sentiment': 'positive'}, {'category': 'Food', 'mention': 'мясо полусырое', 'start': '660', 'end': '674', 'sentiment': 'positive'}, {'category': 'Food', 'mention': 'повара', 'start': '800', 'end': '806', 'sentiment': 'positive'}, {'category': 'Food', 'mention': 'стейк', 'start': '831', 'end': '836', 'sentiment': 'positive'}, {'category': 'Food', 'mention': 'блюдо тартар с сырой рыбой и сырым яйцом', 'start': '896', 'end': '936', 'sentiment': 'positive'}, {'category': 'Service', 'mention': 'Официанты', 'start': '938', 'end': '947', 'sentiment': 'positive'}, {'category': 'Service', 'mention': 'обстановкая', 'start': '976', 'end': '987', 'sentiment': 'positive'}, {'category': 'Whole', 'mention': 'ресторан', 'start': '1007', 'end': '1015', 'sentiment': 'positive'}], '29298': [{'category': 'Whole', 'mention': 'ресторан', 'start': '48', 'end': '56', 'sentiment': 'positive'}, {'category': 'Service', 'mention': 'обслуживание', 'start': '58', 'end': '70', 'sentiment': 'positive'}, {'category': 'Service', 'mention': 'официанты', 'start': '85', 'end': '94', 'sentiment': 'positive'}, {'category': 'Service', 'mention': 'администраторы', 'start': '97', 'end': '111', 'sentiment': 'positive'}, {'category': 'Interior', 'mention': 'охраны', 'start': '144', 'end': '150', 'sentiment': 'neutral'}, {'category': 'Whole', 'mention': 'ресторане', 'start': '266', 'end': '275', 'sentiment': 'neutral'}, {'category': 'Interior', 'mention': 'потанцевать', 'start': '383', 'end': '394', 'sentiment': 'positive'}, {'category': 'Whole', 'mention': 'провести время', 'start': '407', 'end': '421', 'sentiment': 'positive'}, {'category': 'Interior', 'mention': 'Публика', 'start': '423', 'end': '430', 'sentiment': 'positive'}, {'category': 'Price', 'mention': 'цены', 'start': '442', 'end': '446', 'sentiment': 'positive'}, {'category': 'Food', 'mention': 'пивоварня', 'start': '470', 'end': '479', 'sentiment': 'positive'}, {'category': 'Food', 'mention': 'пшеничное и ячменное пиво', 'start': '500', 'end': '525', 'sentiment': 'positive'}, {'category': 'Food', 'mention': 'закуски', 'start': '527', 'end': '534', 'sentiment': 'positive'}, {'category': 'Food', 'mention': 'сырная и мясная тарелка', 'start': '564', 'end': '587', 'sentiment': 'positive'}, {'category': 'Food', 'mention': 'молочные и алкогольные коктейли', 'start': '598', 'end': '629', 'sentiment': 'positive'}, {'category': 'Whole', 'mention': 'заведение', 'start': '665', 'end': '674', 'sentiment': 'positive'}, {'category': 'Service', 'mention': 'бронировать', 'start': '744', 'end': '755', 'sentiment': 'negative'}, {'category': 'Whole', 'mention': 'ресторан', 'start': '815', 'end': '823', 'sentiment': 'positive'}], '37784': [{'category': 'Whole', 'mention': 'заведение', 'start': '33', 'end': '42', 'sentiment': 'neutral'}, {'category': 'Food', 'mention': 'пиво', 'start': '93', 'end': '97', 'sentiment': 'positive'}, {'category': 'Food', 'mention': 'кухни', 'start': '122', 'end': '127', 'sentiment': 'neutral'}, {'category': 'Food', 'mention': 'ели', 'start': '128', 'end': '131', 'sentiment': 'neutral'}, {'category': 'Food', 'mention': 'гренки', 'start': '132', 'end': '138', 'sentiment': 'neutral'}, {'category': 'Food', 'mention': 'горячие блюда', 'start': '158', 'end': '171', 'sentiment': 'positive'}, {'category': 'Food', 'mention': 'мясо', 'start': '172', 'end': '176', 'sentiment': 'positive'}, {'category': 'Food', 'mention': 'порции', 'start': '196', 'end': '202', 'sentiment': 'positive'}, {'category': 'Food', 'mention': 'Салат \"Цезарь\"', 'start': '204', 'end': '218', 'sentiment': 'positive'}, {'category': 'Service', 'mention': 'Обслуживание', 'start': '316', 'end': '328', 'sentiment': 'positive'}, {'category': 'Service', 'mention': 'бронировать столы', 'start': '488', 'end': '505', 'sentiment': 'neutral'}, {'category': 'Whole', 'mention': 'место', 'start': '527', 'end': '532', 'sentiment': 'positive'}], '23369': [{'category': 'Whole', 'mention': 'ресторанчике', 'start': '32', 'end': '44', 'sentiment': 'neutral'}, {'category': 'Service', 'mention': 'Встретили', 'start': '141', 'end': '150', 'sentiment': 'positive'}, {'category': 'Interior', 'mention': 'залы', 'start': '172', 'end': '176', 'sentiment': 'neutral'}, {'category': 'Interior', 'mention': 'веранде', 'start': '206', 'end': '213', 'sentiment': 'neutral'}, {'category': 'Interior', 'mention': 'обстановка', 'start': '235', 'end': '245', 'sentiment': 'positive'}, {'category': 'Interior', 'mention': 'Интерьер', 'start': '295', 'end': '303', 'sentiment': 'both'}, {'category': 'Interior', 'mention': 'музыка', 'start': '361', 'end': '367', 'sentiment': 'positive'}, {'category': 'Service', 'mention': 'официантом', 'start': '421', 'end': '431', 'sentiment': 'positive'}, {'category': 'Service', 'mention': 'обслуживал', 'start': '471', 'end': '481', 'sentiment': 'positive'}, {'category': 'Food', 'mention': 'блюдах', 'start': '545', 'end': '551', 'sentiment': 'neutral'}, {'category': 'Food', 'mention': 'блюд', 'start': '594', 'end': '598', 'sentiment': 'neutral'}, {'category': 'Service', 'mention': 'Заказ был выполнен', 'start': '599', 'end': '617', 'sentiment': 'positive'}, {'category': 'Service', 'mention': 'Заказ', 'start': '599', 'end': '604', 'sentiment': 'positive'}, {'category': 'Service', 'mention': 'ждали', 'start': '631', 'end': '636', 'sentiment': 'positive'}, {'category': 'Food', 'mention': 'горячее', 'start': '685', 'end': '692', 'sentiment': 'positive'}, {'category': 'Food', 'mention': 'приготовлено', 'start': '726', 'end': '738', 'sentiment': 'positive'}, {'category': 'Food', 'mention': 'мясо', 'start': '739', 'end': '743', 'sentiment': 'positive'}, {'category': 'Food', 'mention': 'приготовлены', 'start': '765', 'end': '777', 'sentiment': 'positive'}, {'category': 'Food', 'mention': 'овощи', 'start': '778', 'end': '783', 'sentiment': 'positive'}, {'category': 'Food', 'mention': 'Шашлыка из лосося', 'start': '784', 'end': '801', 'sentiment': 'negative'}, {'category': 'Food', 'mention': 'порции', 'start': '804', 'end': '810', 'sentiment': 'negative'}, {'category': 'Food', 'mention': 'овощи', 'start': '858', 'end': '863', 'sentiment': 'negative'}, {'category': 'Food', 'mention': 'Салат', 'start': '881', 'end': '886', 'sentiment': 'negative'}, {'category': 'Food', 'mention': 'приправлен', 'start': '896', 'end': '906', 'sentiment': 'negative'}, {'category': 'Food', 'mention': 'соусом', 'start': '922', 'end': '928', 'sentiment': 'negative'}, {'category': 'Food', 'mention': 'Вино', 'start': '930', 'end': '934', 'sentiment': 'negative'}, {'category': 'Food', 'mention': 'пивом', 'start': '985', 'end': '990', 'sentiment': 'neutral'}, {'category': 'Food', 'mention': 'домашним морсом', 'start': '1010', 'end': '1025', 'sentiment': 'positive'}, {'category': 'Food', 'mention': 'Выбор блюд', 'start': '1027', 'end': '1037', 'sentiment': 'positive'}], '12678': [{'category': 'Whole', 'mention': 'заведение', 'start': '14', 'end': '23', 'sentiment': 'positive'}, {'category': 'Interior', 'mention': 'Интерьер', 'start': '55', 'end': '63', 'sentiment': 'positive'}, {'category': 'Food', 'mention': 'кухня', 'start': '74', 'end': '79', 'sentiment': 'positive'}, {'category': 'Food', 'mention': 'порции', 'start': '95', 'end': '101', 'sentiment': 'negative'}, {'category': 'Whole', 'mention': 'итальянских ресторанах', 'start': '129', 'end': '151', 'sentiment': 'positive'}, {'category': 'Food', 'mention': 'карпачо', 'start': '217', 'end': '224', 'sentiment': 'positive'}, {'category': 'Food', 'mention': 'десерт \"три шоколада\"', 'start': '230', 'end': '251', 'sentiment': 'positive'}, {'category': 'Service', 'mention': 'обслуживании', 'start': '310', 'end': '322', 'sentiment': 'positive'}, {'category': 'Service', 'mention': 'официанту', 'start': '342', 'end': '351', 'sentiment': 'positive'}, {'category': 'Interior', 'mention': 'Атмосфера заведения', 'start': '385', 'end': '404', 'sentiment': 'positive'}, {'category': 'Interior', 'mention': 'Итальянская музыка', 'start': '438', 'end': '456', 'sentiment': 'positive'}, {'category': 'Whole', 'mention': 'ресторану', 'start': '480', 'end': '489', 'sentiment': 'positive'}], '9289': [{'category': 'Whole', 'mention': 'ресторане', 'start': '20', 'end': '29', 'sentiment': 'positive'}, {'category': 'Service', 'mention': 'администратор', 'start': '116', 'end': '129', 'sentiment': 'positive'}, {'category': 'Interior', 'mention': 'Обстановка', 'start': '194', 'end': '204', 'sentiment': 'positive'}, {'category': 'Interior', 'mention': 'радио', 'start': '250', 'end': '255', 'sentiment': 'positive'}, {'category': 'Interior', 'mention': 'музыка', 'start': '337', 'end': '343', 'sentiment': 'positive'}, {'category': 'Food', 'mention': 'Разнообразие', 'start': '382', 'end': '394', 'sentiment': 'positive'}, {'category': 'Food', 'mention': 'блюд из мяса', 'start': '395', 'end': '407', 'sentiment': 'positive'}, {'category': 'Price', 'mention': 'цены', 'start': '428', 'end': '432', 'sentiment': 'positive'}, {'category': 'Food', 'mention': 'утку по-пекински', 'start': '460', 'end': '476', 'sentiment': 'positive'}, {'category': 'Food', 'mention': 'порции', 'start': '533', 'end': '539', 'sentiment': 'positive'}, {'category': 'Food', 'mention': 'суп', 'start': '566', 'end': '569', 'sentiment': 'positive'}, {'category': 'Food', 'mention': 'Пиво', 'start': '619', 'end': '623', 'sentiment': 'positive'}, {'category': 'Service', 'mention': 'обслуживание', 'start': '645', 'end': '657', 'sentiment': 'positive'}, {'category': 'Service', 'mention': 'девушки', 'start': '670', 'end': '677', 'sentiment': 'positive'}, {'category': 'Service', 'mention': 'администратор', 'start': '690', 'end': '703', 'sentiment': 'positive'}, {'category': 'Service', 'mention': 'расскажут', 'start': '720', 'end': '729', 'sentiment': 'positive'}, {'category': 'Food', 'mention': 'соус', 'start': '762', 'end': '766', 'sentiment': 'neutral'}, {'category': 'Service', 'mention': 'ответили', 'start': '777', 'end': '785', 'sentiment': 'positive'}, {'category': 'Interior', 'mention': 'Радио', 'start': '841', 'end': '846', 'sentiment': 'positive'}, {'category': 'Interior', 'mention': 'Интерьер', 'start': '881', 'end': '889', 'sentiment': 'positive'}, {'category': 'Interior', 'mention': 'фантанчик', 'start': '944', 'end': '953', 'sentiment': 'positive'}, {'category': 'Interior', 'mention': 'зала', 'start': '965', 'end': '969', 'sentiment': 'positive'}, {'category': 'Service', 'mention': 'администратор', 'start': '1038', 'end': '1051', 'sentiment': 'positive'}], '20021': [{'category': 'Interior', 'mention': 'барная стойка', 'start': '306', 'end': '319', 'sentiment': 'positive'}, {'category': 'Interior', 'mention': 'столик', 'start': '350', 'end': '356', 'sentiment': 'positive'}, {'category': 'Interior', 'mention': 'диваном', 'start': '383', 'end': '390', 'sentiment': 'positive'}, {'category': 'Interior', 'mention': 'подушками', 'start': '393', 'end': '402', 'sentiment': 'positive'}, {'category': 'Interior', 'mention': 'интерьер', 'start': '404', 'end': '412', 'sentiment': 'positive'}, {'category': 'Interior', 'mention': 'картины', 'start': '452', 'end': '459', 'sentiment': 'positive'}, {'category': 'Interior', 'mention': 'занавесочки', 'start': '461', 'end': '472', 'sentiment': 'positive'}, {'category': 'Food', 'mention': 'барная карта', 'start': '512', 'end': '524', 'sentiment': 'positive'}, {'category': 'Price', 'mention': 'цены на кальян', 'start': '563', 'end': '577', 'sentiment': 'negative'}, {'category': 'Food', 'mention': 'Выбор еды', 'start': '607', 'end': '616', 'sentiment': 'negative'}, {'category': 'Food', 'mention': 'тарелку фруктов', 'start': '639', 'end': '654', 'sentiment': 'positive'}, {'category': 'Food', 'mention': 'салат', 'start': '657', 'end': '662', 'sentiment': 'positive'}, {'category': 'Interior', 'mention': 'помещения', 'start': '761', 'end': '770', 'sentiment': 'negative'}, {'category': 'Food', 'mention': 'еду', 'start': '772', 'end': '775', 'sentiment': 'neutral'}, {'category': 'Food', 'mention': 'напитки', 'start': '830', 'end': '837', 'sentiment': 'neutral'}, {'category': 'Service', 'mention': 'бара', 'start': '897', 'end': '901', 'sentiment': 'positive'}, {'category': 'Service', 'mention': 'Сервис', 'start': '903', 'end': '909', 'sentiment': 'positive'}, {'category': 'Service', 'mention': 'бармена', 'start': '928', 'end': '935', 'sentiment': 'positive'}, {'category': 'Service', 'mention': 'встретит', 'start': '959', 'end': '967', 'sentiment': 'positive'}, {'category': 'Service', 'mention': 'проводит', 'start': '969', 'end': '977', 'sentiment': 'positive'}, {'category': 'Whole', 'mention': 'место', 'start': '997', 'end': '1002', 'sentiment': 'positive'}, {'category': 'Interior', 'mention': 'барную стойку', 'start': '1117', 'end': '1130', 'sentiment': 'positive'}, {'category': 'Service', 'mention': 'барменом', 'start': '1173', 'end': '1181', 'sentiment': 'positive'}], '11027': [{'category': 'Whole', 'mention': 'ресторан \"Мамалыга\"', 'start': '31', 'end': '50', 'sentiment': 'positive'}, {'category': 'Whole', 'mention': 'ресторан', 'start': '116', 'end': '124', 'sentiment': 'positive'}, {'category': 'Service', 'mention': 'девушка', 'start': '171', 'end': '178', 'sentiment': 'positive'}, {'category': 'Service', 'mention': 'провожает к столу', 'start': '184', 'end': '201', 'sentiment': 'positive'}, {'category': 'Service', 'mention': 'официант', 'start': '340', 'end': '348', 'sentiment': 'positive'}, {'category': 'Interior', 'mention': 'Интерьер', 'start': '358', 'end': '366', 'sentiment': 'positive'}, {'category': 'Interior', 'mention': 'дизайнерское решение', 'start': '419', 'end': '439', 'sentiment': 'positive'}, {'category': 'Interior', 'mention': 'атмосферу', 'start': '504', 'end': '513', 'sentiment': 'positive'}, {'category': 'Price', 'mention': 'цены', 'start': '635', 'end': '639', 'sentiment': 'positive'}, {'category': 'Service', 'mention': 'сервисом', 'start': '643', 'end': '651', 'sentiment': 'positive'}, {'category': 'Service', 'mention': 'Официанты', 'start': '668', 'end': '677', 'sentiment': 'positive'}, {'category': 'Service', 'mention': 'работают', 'start': '690', 'end': '698', 'sentiment': 'positive'}, {'category': 'Service', 'mention': 'Улыбаются', 'start': '730', 'end': '739', 'sentiment': 'positive'}, {'category': 'Service', 'mention': 'обслуживание', 'start': '774', 'end': '786', 'sentiment': 'positive'}, {'category': 'Service', 'mention': 'Готовят', 'start': '858', 'end': '865', 'sentiment': 'both'}, {'category': 'Food', 'mention': 'Готовят', 'start': '952', 'end': '959', 'sentiment': 'positive'}, {'category': 'Food', 'mention': 'шашлыки', 'start': '984', 'end': '991', 'sentiment': 'positive'}, {'category': 'Food', 'mention': 'наполеон', 'start': '994', 'end': '1002', 'sentiment': 'positive'}, {'category': 'Food', 'mention': 'поварам', 'start': '1021', 'end': '1028', 'sentiment': 'positive'}, {'category': 'Food', 'mention': 'еде', 'start': '1141', 'end': '1144', 'sentiment': 'positive'}, {'category': 'Interior', 'mention': 'атмосфере', 'start': '1156', 'end': '1165', 'sentiment': 'positive'}, {'category': 'Whole', 'mention': 'ресторан', 'start': '1249', 'end': '1257', 'sentiment': 'positive'}, {'category': 'Whole', 'mention': 'заведение', 'start': '1295', 'end': '1304', 'sentiment': 'positive'}], '3202': [{'category': 'Whole', 'mention': 'Нельсон паб', 'start': '26', 'end': '37', 'sentiment': 'positive'}, {'category': 'Food', 'mention': 'попить', 'start': '49', 'end': '55', 'sentiment': 'neutral'}, {'category': 'Food', 'mention': 'пива', 'start': '56', 'end': '60', 'sentiment': 'neutral'}, {'category': 'Service', 'mention': 'персонала', 'start': '85', 'end': '94', 'sentiment': 'positive'}, {'category': 'Service', 'mention': 'людей', 'start': '122', 'end': '127', 'sentiment': 'positive'}, {'category': 'Service', 'mention': 'обслуживала', 'start': '149', 'end': '160', 'sentiment': 'positive'}, {'category': 'Service', 'mention': 'официантка', 'start': '161', 'end': '171', 'sentiment': 'positive'}, {'category': 'Service', 'mention': 'девушка', 'start': '239', 'end': '246', 'sentiment': 'positive'}, {'category': 'Service', 'mention': 'подскажет', 'start': '254', 'end': '263', 'sentiment': 'positive'}, {'category': 'Service', 'mention': 'посоветует', 'start': '266', 'end': '276', 'sentiment': 'positive'}, {'category': 'Food', 'mention': 'Пили', 'start': '315', 'end': '319', 'sentiment': 'positive'}, {'category': 'Food', 'mention': 'пиво', 'start': '320', 'end': '324', 'sentiment': 'positive'}, {'category': 'Food', 'mention': 'пиво', 'start': '366', 'end': '370', 'sentiment': 'positive'}, {'category': 'Food', 'mention': 'пасты', 'start': '394', 'end': '399', 'sentiment': 'positive'}, {'category': 'Whole', 'mention': 'Нельсон пабе', 'start': '500', 'end': '512', 'sentiment': 'positive'}, {'category': 'Food', 'mention': 'блюда', 'start': '531', 'end': '536', 'sentiment': 'positive'}, {'category': 'Interior', 'mention': 'интерьер', 'start': '554', 'end': '562', 'sentiment': 'positive'}, {'category': 'Food', 'mention': 'Кухня', 'start': '597', 'end': '602', 'sentiment': 'positive'}, {'category': 'Service', 'mention': 'обслуживание', 'start': '611', 'end': '623', 'sentiment': 'positive'}, {'category': 'Service', 'mention': 'персонал', 'start': '660', 'end': '668', 'sentiment': 'positive'}, {'category': 'Service', 'mention': 'ребята', 'start': '675', 'end': '681', 'sentiment': 'neutral'}, {'category': 'Whole', 'mention': 'Нельсон паб', 'start': '765', 'end': '776', 'sentiment': 'positive'}], '18148': [{'category': 'Whole', 'mention': 'место', 'start': '32', 'end': '37', 'sentiment': 'positive'}, {'category': 'Service', 'mention': 'официантка', 'start': '202', 'end': '212', 'sentiment': 'positive'}, {'category': 'Service', 'mention': 'заказ принесла', 'start': '227', 'end': '241', 'sentiment': 'positive'}, {'category': 'Food', 'mention': 'Меню', 'start': '250', 'end': '254', 'sentiment': 'positive'}, {'category': 'Food', 'mention': 'выбор', 'start': '278', 'end': '283', 'sentiment': 'positive'}, {'category': 'Food', 'mention': 'десертов', 'start': '295', 'end': '303', 'sentiment': 'positive'}, {'category': 'Food', 'mention': 'выбор алкогольных коктейлей', 'start': '314', 'end': '341', 'sentiment': 'positive'}, {'category': 'Price', 'mention': 'цены', 'start': '352', 'end': '356', 'sentiment': 'negative'}, {'category': 'Interior', 'mention': 'свободных мест', 'start': '495', 'end': '509', 'sentiment': 'negative'}, {'category': 'Service', 'mention': 'официанты', 'start': '527', 'end': '536', 'sentiment': 'negative'}, {'category': 'Food', 'mention': 'десертов', 'start': '557', 'end': '565', 'sentiment': 'negative'}, {'category': 'Interior', 'mention': 'атмосфера', 'start': '625', 'end': '634', 'sentiment': 'positive'}, {'category': 'Whole', 'mention': 'места', 'start': '641', 'end': '646', 'sentiment': 'positive'}, {'category': 'Food', 'mention': 'меню', 'start': '663', 'end': '667', 'sentiment': 'positive'}, {'category': 'Food', 'mention': 'ела', 'start': '711', 'end': '714', 'sentiment': 'positive'}, {'category': 'Food', 'mention': 'пасту 4 сыра', 'start': '715', 'end': '727', 'sentiment': 'positive'}, {'category': 'Food', 'mention': 'вкусом', 'start': '752', 'end': '758', 'sentiment': 'positive'}, {'category': 'Food', 'mention': 'размером порции', 'start': '761', 'end': '776', 'sentiment': 'positive'}], '1878': [{'category': 'Whole', 'mention': 'ресторане', 'start': '19', 'end': '28', 'sentiment': 'positive'}, {'category': 'Service', 'mention': 'Встретили', 'start': '69', 'end': '78', 'sentiment': 'neutral'}, {'category': 'Service', 'mention': 'предложили', 'start': '80', 'end': '90', 'sentiment': 'positive'}, {'category': 'Interior', 'mention': 'атмосфера', 'start': '128', 'end': '137', 'sentiment': 'positive'}, {'category': 'Service', 'mention': 'официантка', 'start': '162', 'end': '172', 'sentiment': 'positive'}, {'category': 'Service', 'mention': 'обслуживание', 'start': '223', 'end': '235', 'sentiment': 'positive'}, {'category': 'Whole', 'mention': 'ресторане', 'start': '238', 'end': '247', 'sentiment': 'positive'}, {'category': 'Service', 'mention': 'помочь', 'start': '296', 'end': '302', 'sentiment': 'positive'}, {'category': 'Food', 'mention': 'блюдо', 'start': '311', 'end': '316', 'sentiment': 'neutral'}, {'category': 'Service', 'mention': 'девушка', 'start': '318', 'end': '325', 'sentiment': 'positive'}, {'category': 'Service', 'mention': 'предложила', 'start': '337', 'end': '347', 'sentiment': 'positive'}, {'category': 'Food', 'mention': 'салатиков', 'start': '357', 'end': '366', 'sentiment': 'neutral'}, {'category': 'Food', 'mention': 'горячее', 'start': '369', 'end': '376', 'sentiment': 'neutral'}, {'category': 'Food', 'mention': 'готовили', 'start': '378', 'end': '386', 'sentiment': 'positive'}, {'category': 'Food', 'mention': 'блюда', 'start': '410', 'end': '415', 'sentiment': 'positive'}, {'category': 'Whole', 'mention': 'заведение', 'start': '561', 'end': '570', 'sentiment': 'positive'}], '32859': [{'category': 'Whole', 'mention': 'ресторане Аллегро', 'start': '48', 'end': '65', 'sentiment': 'neutral'}, {'category': 'Whole', 'mention': 'ресторану', 'start': '110', 'end': '119', 'sentiment': 'positive'}, {'category': 'Service', 'mention': 'администрацию', 'start': '215', 'end': '228', 'sentiment': 'positive'}, {'category': 'Whole', 'mention': 'ресторане', 'start': '410', 'end': '419', 'sentiment': 'positive'}, {'category': 'Food', 'mention': 'судака фаршированных', 'start': '473', 'end': '493', 'sentiment': 'positive'}, {'category': 'Food', 'mention': 'индейку', 'start': '496', 'end': '503', 'sentiment': 'neutral'}, {'category': 'Food', 'mention': 'Судак', 'start': '504', 'end': '509', 'sentiment': 'positive'}, {'category': 'Food', 'mention': 'вкусный', 'start': '531', 'end': '538', 'sentiment': 'positive'}, {'category': 'Interior', 'mention': 'зал', 'start': '594', 'end': '597', 'sentiment': 'positive'}, {'category': 'Interior', 'mention': 'интерьер', 'start': '660', 'end': '668', 'sentiment': 'positive'}, {'category': 'Food', 'mention': 'шеф-повару', 'start': '688', 'end': '698', 'sentiment': 'positive'}, {'category': 'Whole', 'mention': 'ресторана', 'start': '705', 'end': '714', 'sentiment': 'positive'}, {'category': 'Service', 'mention': 'стол', 'start': '740', 'end': '744', 'sentiment': 'positive'}, {'category': 'Interior', 'mention': 'оформлено', 'start': '778', 'end': '787', 'sentiment': 'positive'}, {'category': 'Service', 'mention': 'Официанты', 'start': '789', 'end': '798', 'sentiment': 'positive'}, {'category': 'Whole', 'mention': 'вечера', 'start': '902', 'end': '908', 'sentiment': 'positive'}, {'category': 'Whole', 'mention': 'праздник', 'start': '974', 'end': '982', 'sentiment': 'positive'}], '19746': [{'category': 'Whole', 'mention': 'Караване -сарае', 'start': '11', 'end': '26', 'sentiment': 'neutral'}, {'category': 'Whole', 'mention': 'ресторане', 'start': '170', 'end': '179', 'sentiment': 'neutral'}, {'category': 'Interior', 'mention': 'Интерьер', 'start': '180', 'end': '188', 'sentiment': 'positive'}, {'category': 'Interior', 'mention': 'помещение', 'start': '199', 'end': '208', 'sentiment': 'both'}, {'category': 'Service', 'mention': 'забронировали столик', 'start': '241', 'end': '261', 'sentiment': 'neutral'}, {'category': 'Service', 'mention': 'официанта', 'start': '335', 'end': '344', 'sentiment': 'positive'}, {'category': 'Service', 'mention': 'обслуживания', 'start': '355', 'end': '367', 'sentiment': 'positive'}, {'category': 'Service', 'mention': 'пролил', 'start': '453', 'end': '459', 'sentiment': 'negative'}, {'category': 'Food', 'mention': 'Еда', 'start': '461', 'end': '464', 'sentiment': 'neutral'}, {'category': 'Food', 'mention': 'стандартных блюд', 'start': '479', 'end': '495', 'sentiment': 'neutral'}, {'category': 'Food', 'mention': 'шурвы', 'start': '497', 'end': '502', 'sentiment': 'neutral'}, {'category': 'Food', 'mention': 'лепешек', 'start': '503', 'end': '510', 'sentiment': 'neutral'}, {'category': 'Food', 'mention': 'казан кабоб', 'start': '542', 'end': '553', 'sentiment': 'neutral'}, {'category': 'Food', 'mention': 'блюда', 'start': '607', 'end': '612', 'sentiment': 'positive'}, {'category': 'Food', 'mention': 'приготовлены', 'start': '637', 'end': '649', 'sentiment': 'positive'}, {'category': 'Food', 'mention': 'продуктов', 'start': '673', 'end': '682', 'sentiment': 'positive'}, {'category': 'Food', 'mention': 'поесть', 'start': '745', 'end': '751', 'sentiment': 'positive'}, {'category': 'Service', 'mention': 'расплачивались по счету', 'start': '762', 'end': '785', 'sentiment': 'negative'}, {'category': 'Service', 'mention': 'официант', 'start': '787', 'end': '795', 'sentiment': 'negative'}, {'category': 'Service', 'mention': 'посчитал', 'start': '844', 'end': '852', 'sentiment': 'negative'}, {'category': 'Food', 'mention': 'блюда', 'start': '971', 'end': '976', 'sentiment': 'neutral'}, {'category': 'Service', 'mention': 'отворачивался', 'start': '996', 'end': '1009', 'sentiment': 'negative'}, {'category': 'Service', 'mention': 'уходил', 'start': '1012', 'end': '1018', 'sentiment': 'negative'}], '20862': [{'category': 'Whole', 'mention': 'Аппетите', 'start': '18', 'end': '26', 'sentiment': 'neutral'}, {'category': 'Service', 'mention': 'встречей', 'start': '58', 'end': '66', 'sentiment': 'positive'}, {'category': 'Service', 'mention': 'сервисом', 'start': '70', 'end': '78', 'sentiment': 'positive'}, {'category': 'Food', 'mention': 'кухней', 'start': '82', 'end': '88', 'sentiment': 'positive'}, {'category': 'Price', 'mention': 'цен', 'start': '124', 'end': '127', 'sentiment': 'positive'}, {'category': 'Whole', 'mention': 'ресторана', 'start': '191', 'end': '200', 'sentiment': 'positive'}, {'category': 'Service', 'mention': 'встретили', 'start': '291', 'end': '300', 'sentiment': 'positive'}, {'category': 'Service', 'mention': 'проводили', 'start': '302', 'end': '311', 'sentiment': 'positive'}, {'category': 'Service', 'mention': 'посадили', 'start': '313', 'end': '321', 'sentiment': 'positive'}, {'category': 'Service', 'mention': 'принесли меню', 'start': '323', 'end': '336', 'sentiment': 'positive'}, {'category': 'Service', 'mention': 'официантка', 'start': '343', 'end': '353', 'sentiment': 'negative'}, {'category': 'Service', 'mention': 'подошла', 'start': '439', 'end': '446', 'sentiment': 'both'}, {'category': 'Food', 'mention': 'пасту', 'start': '457', 'end': '462', 'sentiment': 'neutral'}, {'category': 'Food', 'mention': 'свежевыжатый сок', 'start': '464', 'end': '480', 'sentiment': 'neutral'}, {'category': 'Food', 'mention': 'напитки', 'start': '482', 'end': '489', 'sentiment': 'neutral'}, {'category': 'Food', 'mention': 'напитки', 'start': '515', 'end': '522', 'sentiment': 'neutral'}, {'category': 'Food', 'mention': 'пасты', 'start': '569', 'end': '574', 'sentiment': 'neutral'}, {'category': 'Service', 'mention': 'поданы', 'start': '599', 'end': '605', 'sentiment': 'negative'}, {'category': 'Food', 'mention': 'порцию', 'start': '638', 'end': '644', 'sentiment': 'neutral'}, {'category': 'Food', 'mention': 'Цезарь-салат', 'start': '708', 'end': '720', 'sentiment': 'neutral'}, {'category': 'Food', 'mention': 'американо', 'start': '723', 'end': '732', 'sentiment': 'neutral'}, {'category': 'Service', 'mention': 'ждали', 'start': '736', 'end': '741', 'sentiment': 'negative'}, {'category': 'Service', 'mention': 'чаевых', 'start': '781', 'end': '787', 'sentiment': 'negative'}, {'category': 'Service', 'mention': 'человек', 'start': '836', 'end': '843', 'sentiment': 'both'}], '36407': [{'category': 'Whole', 'mention': 'ресторане', 'start': '53', 'end': '62', 'sentiment': 'neutral'}, {'category': 'Whole', 'mention': 'место', 'start': '98', 'end': '103', 'sentiment': 'neutral'}, {'category': 'Food', 'mention': 'поесть', 'start': '186', 'end': '192', 'sentiment': 'positive'}, {'category': 'Food', 'mention': 'выпить', 'start': '194', 'end': '200', 'sentiment': 'positive'}, {'category': 'Interior', 'mention': 'детская комната', 'start': '364', 'end': '379', 'sentiment': 'positive'}, {'category': 'Service', 'mention': 'няня', 'start': '395', 'end': '399', 'sentiment': 'positive'}, {'category': 'Service', 'mention': 'Сотрудники', 'start': '474', 'end': '484', 'sentiment': 'positive'}, {'category': 'Whole', 'mention': 'Ресторан', 'start': '816', 'end': '824', 'sentiment': 'positive'}, {'category': 'Food', 'mention': 'Еда', 'start': '885', 'end': '888', 'sentiment': 'positive'}, {'category': 'Food', 'mention': 'пицца', 'start': '916', 'end': '921', 'sentiment': 'positive'}, {'category': 'Food', 'mention': 'пасту с морепродуктами', 'start': '938', 'end': '960', 'sentiment': 'positive'}, {'category': 'Food', 'mention': 'свинина с грибами', 'start': '979', 'end': '996', 'sentiment': 'positive'}, {'category': 'Food', 'mention': 'лазанья с лососем', 'start': '1022', 'end': '1039', 'sentiment': 'positive'}, {'category': 'Whole', 'mention': 'Праздник', 'start': '1176', 'end': '1184', 'sentiment': 'positive'}, {'category': 'Whole', 'mention': 'место', 'start': '1222', 'end': '1227', 'sentiment': 'positive'}], '11532': [{'category': 'Food', 'mention': 'пообедать', 'start': '43', 'end': '52', 'sentiment': 'neutral'}, {'category': 'Whole', 'mention': 'ресторане', 'start': '55', 'end': '64', 'sentiment': 'positive'}, {'category': 'Whole', 'mention': 'Море', 'start': '95', 'end': '99', 'sentiment': 'neutral'}, {'category': 'Interior', 'mention': 'Интерьер', 'start': '165', 'end': '173', 'sentiment': 'positive'}, {'category': 'Interior', 'mention': 'аквариум', 'start': '237', 'end': '245', 'sentiment': 'positive'}, {'category': 'Service', 'mention': 'официанты', 'start': '297', 'end': '306', 'sentiment': 'positive'}, {'category': 'Interior', 'mention': 'Окна в пол', 'start': '320', 'end': '330', 'sentiment': 'positive'}, {'category': 'Interior', 'mention': 'вид на залив', 'start': '333', 'end': '345', 'sentiment': 'positive'}, {'category': 'Price', 'mention': 'Цены', 'start': '365', 'end': '369', 'sentiment': 'positive'}, {'category': 'Whole', 'mention': 'заведению', 'start': '385', 'end': '394', 'sentiment': 'neutral'}, {'category': 'Food', 'mention': 'Кофе', 'start': '396', 'end': '400', 'sentiment': 'positive'}, {'category': 'Food', 'mention': 'чай с мятой', 'start': '402', 'end': '413', 'sentiment': 'positive'}, {'category': 'Food', 'mention': 'цезарь с тунцом', 'start': '431', 'end': '446', 'sentiment': 'positive'}, {'category': 'Food', 'mention': 'тунец', 'start': '462', 'end': '467', 'sentiment': 'positive'}, {'category': 'Food', 'mention': 'суп-пюре картофельный', 'start': '470', 'end': '491', 'sentiment': 'positive'}, {'category': 'Food', 'mention': 'ягодный сорбет', 'start': '547', 'end': '561', 'sentiment': 'neutral'}, {'category': 'Food', 'mention': 'пасту с морепродуктами', 'start': '565', 'end': '587', 'sentiment': 'positive'}, {'category': 'Food', 'mention': 'десерт', 'start': '620', 'end': '626', 'sentiment': 'positive'}, {'category': 'Food', 'mention': 'мороженое', 'start': '627', 'end': '636', 'sentiment': 'positive'}, {'category': 'Food', 'mention': 'мороженого', 'start': '682', 'end': '692', 'sentiment': 'positive'}, {'category': 'Service', 'mention': 'Обслуживают', 'start': '708', 'end': '719', 'sentiment': 'positive'}, {'category': 'Price', 'mention': 'счет', 'start': '764', 'end': '768', 'sentiment': 'positive'}, {'category': 'Price', 'mention': 'счет', 'start': '824', 'end': '828', 'sentiment': 'positive'}, {'category': 'Service', 'mention': 'официанты', 'start': '890', 'end': '899', 'sentiment': 'negative'}, {'category': 'Food', 'mention': 'Хлебная корзинка', 'start': '925', 'end': '941', 'sentiment': 'positive'}], '32926': [{'category': 'Whole', 'mention': 'ресторане Гламур', 'start': '32', 'end': '48', 'sentiment': 'neutral'}, {'category': 'Whole', 'mention': 'ресторана', 'start': '93', 'end': '102', 'sentiment': 'positive'}, {'category': 'Service', 'mention': 'администратора', 'start': '183', 'end': '197', 'sentiment': 'positive'}, {'category': 'Service', 'mention': 'отношение к своему делу', 'start': '231', 'end': '254', 'sentiment': 'positive'}, {'category': 'Service', 'mention': 'выслушала', 'start': '287', 'end': '296', 'sentiment': 'positive'}, {'category': 'Service', 'mention': 'советы', 'start': '331', 'end': '337', 'sentiment': 'positive'}, {'category': 'Service', 'mention': 'заказать', 'start': '387', 'end': '395', 'sentiment': 'positive'}, {'category': 'Whole', 'mention': 'ресторане', 'start': '398', 'end': '407', 'sentiment': 'positive'}, {'category': 'Food', 'mention': 'шоколадный фонтан', 'start': '441', 'end': '458', 'sentiment': 'neutral'}, {'category': 'Interior', 'mention': 'цветочный композиции', 'start': '461', 'end': '481', 'sentiment': 'neutral'}, {'category': 'Food', 'mention': 'Шоколадный фонтан', 'start': '483', 'end': '500', 'sentiment': 'positive'}, {'category': 'Interior', 'mention': 'зал', 'start': '546', 'end': '549', 'sentiment': 'positive'}, {'category': 'Interior', 'mention': 'интерьер', 'start': '612', 'end': '620', 'sentiment': 'positive'}, {'category': 'Food', 'mention': 'шеф-повару', 'start': '640', 'end': '650', 'sentiment': 'positive'}, {'category': 'Whole', 'mention': 'ресторана', 'start': '657', 'end': '666', 'sentiment': 'positive'}, {'category': 'Food', 'mention': 'стол', 'start': '692', 'end': '696', 'sentiment': 'positive'}, {'category': 'Interior', 'mention': 'оформлено', 'start': '730', 'end': '739', 'sentiment': 'positive'}, {'category': 'Service', 'mention': 'Официанты', 'start': '741', 'end': '750', 'sentiment': 'positive'}, {'category': 'Food', 'mention': 'тортик', 'start': '864', 'end': '870', 'sentiment': 'positive'}, {'category': 'Whole', 'mention': 'вечера', 'start': '1002', 'end': '1008', 'sentiment': 'positive'}, {'category': 'Whole', 'mention': 'праздник', 'start': '1074', 'end': '1082', 'sentiment': 'positive'}], '25960': [{'category': 'Whole', 'mention': 'местечку', 'start': '75', 'end': '83', 'sentiment': 'positive'}, {'category': 'Service', 'mention': 'Обслуживание', 'start': '144', 'end': '156', 'sentiment': 'positive'}, {'category': 'Food', 'mention': 'качество блюд', 'start': '173', 'end': '186', 'sentiment': 'positive'}, {'category': 'Service', 'mention': 'Сервис', 'start': '291', 'end': '297', 'sentiment': 'negative'}, {'category': 'Food', 'mention': 'меню', 'start': '416', 'end': '420', 'sentiment': 'negative'}, {'category': 'Food', 'mention': 'качество еды', 'start': '455', 'end': '467', 'sentiment': 'positive'}, {'category': 'Price', 'mention': 'цены', 'start': '501', 'end': '505', 'sentiment': 'negative'}, {'category': 'Whole', 'mention': 'место', 'start': '562', 'end': '567', 'sentiment': 'negative'}], '33622': [{'category': 'Whole', 'mention': 'ресторане', 'start': '62', 'end': '71', 'sentiment': 'neutral'}, {'category': 'Whole', 'mention': 'банкете', 'start': '126', 'end': '133', 'sentiment': 'positive'}, {'category': 'Interior', 'mention': 'Зал', 'start': '175', 'end': '178', 'sentiment': 'positive'}, {'category': 'Interior', 'mention': 'музыка', 'start': '385', 'end': '391', 'sentiment': 'positive'}, {'category': 'Food', 'mention': 'Еда', 'start': '440', 'end': '443', 'sentiment': 'positive'}, {'category': 'Food', 'mention': 'стейк из говядины со шпинатом', 'start': '478', 'end': '507', 'sentiment': 'positive'}, {'category': 'Food', 'mention': 'салат из морепродуктов', 'start': '520', 'end': '542', 'sentiment': 'positive'}, {'category': 'Food', 'mention': 'рыбу', 'start': '577', 'end': '581', 'sentiment': 'positive'}, {'category': 'Food', 'mention': 'соусом', 'start': '593', 'end': '599', 'sentiment': 'positive'}, {'category': 'Food', 'mention': 'запеченной картошкой', 'start': '608', 'end': '628', 'sentiment': 'positive'}, {'category': 'Food', 'mention': 'стол', 'start': '637', 'end': '641', 'sentiment': 'positive'}, {'category': 'Interior', 'mention': 'тарелки', 'start': '684', 'end': '691', 'sentiment': 'positive'}, {'category': 'Price', 'mention': 'цены', 'start': '763', 'end': '767', 'sentiment': 'positive'}], '34889': [{'category': 'Service', 'mention': 'ресторанчик', 'start': '118', 'end': '129', 'sentiment': 'neutral'}, {'category': 'Food', 'mention': 'пообедать', 'start': '130', 'end': '139', 'sentiment': 'neutral'}, {'category': 'Whole', 'mention': 'ресторан Кухню', 'start': '167', 'end': '181', 'sentiment': 'neutral'}, {'category': 'Interior', 'mention': 'кондиционера', 'start': '254', 'end': '266', 'sentiment': 'positive'}, {'category': 'Interior', 'mention': 'музыку', 'start': '286', 'end': '292', 'sentiment': 'positive'}, {'category': 'Service', 'mention': 'Девушки администраторы', 'start': '332', 'end': '354', 'sentiment': 'positive'}, {'category': 'Service', 'mention': 'вежливые', 'start': '355', 'end': '363', 'sentiment': 'positive'}, {'category': 'Interior', 'mention': 'атмосфера', 'start': '383', 'end': '392', 'sentiment': 'positive'}, {'category': 'Interior', 'mention': 'интерьер', 'start': '414', 'end': '422', 'sentiment': 'positive'}, {'category': 'Interior', 'mention': 'столики', 'start': '432', 'end': '439', 'sentiment': 'positive'}, {'category': 'Food', 'mention': 'блюд', 'start': '479', 'end': '483', 'sentiment': 'positive'}, {'category': 'Service', 'mention': 'официанты', 'start': '485', 'end': '494', 'sentiment': 'positive'}, {'category': 'Service', 'mention': 'посоветуют', 'start': '530', 'end': '540', 'sentiment': 'positive'}, {'category': 'Food', 'mention': 'Пообедали', 'start': '595', 'end': '604', 'sentiment': 'positive'}, {'category': 'Food', 'mention': 'десерты', 'start': '680', 'end': '687', 'sentiment': 'positive'}, {'category': 'Whole', 'mention': 'место', 'start': '866', 'end': '871', 'sentiment': 'positive'}, {'category': 'Interior', 'mention': 'атомосфере', 'start': '913', 'end': '923', 'sentiment': 'positive'}, {'category': 'Food', 'mention': 'блюд', 'start': '988', 'end': '992', 'sentiment': 'positive'}, {'category': 'Whole', 'mention': 'месте', 'start': '1028', 'end': '1033', 'sentiment': 'negative'}, {'category': 'Whole', 'mention': 'местах', 'start': '1113', 'end': '1119', 'sentiment': 'negative'}, {'category': 'Whole', 'mention': 'место', 'start': '1199', 'end': '1204', 'sentiment': 'positive'}], '10985': [{'category': 'Whole', 'mention': 'ресторанчик', 'start': '44', 'end': '55', 'sentiment': 'neutral'}, {'category': 'Whole', 'mention': 'Жен-Жен', 'start': '80', 'end': '87', 'sentiment': 'positive'}, {'category': 'Interior', 'mention': 'танцпол', 'start': '169', 'end': '176', 'sentiment': 'neutral'}, {'category': 'Interior', 'mention': '\"китайским интерьером\"', 'start': '263', 'end': '285', 'sentiment': 'positive'}, {'category': 'Interior', 'mention': 'диванчики', 'start': '288', 'end': '297', 'sentiment': 'negative'}, {'category': 'Interior', 'mention': 'скатерти на столах', 'start': '312', 'end': '330', 'sentiment': 'negative'}, {'category': 'Interior', 'mention': 'светильники/люстры', 'start': '366', 'end': '384', 'sentiment': 'neutral'}, {'category': 'Interior', 'mention': 'интерьера', 'start': '402', 'end': '411', 'sentiment': 'negative'}, {'category': 'Whole', 'mention': 'Заведение', 'start': '443', 'end': '452', 'sentiment': 'negative'}, {'category': 'Whole', 'mention': 'место', 'start': '489', 'end': '494', 'sentiment': 'neutral'}, {'category': 'Food', 'mention': 'еду', 'start': '538', 'end': '541', 'sentiment': 'neutral'}, {'category': 'Food', 'mention': 'состав блюд', 'start': '602', 'end': '613', 'sentiment': 'negative'}, {'category': 'Food', 'mention': 'китайской кухней', 'start': '665', 'end': '681', 'sentiment': 'neutral'}, {'category': 'Food', 'mention': 'говядину', 'start': '701', 'end': '709', 'sentiment': 'positive'}, {'category': 'Food', 'mention': 'свинину', 'start': '711', 'end': '718', 'sentiment': 'positive'}, {'category': 'Food', 'mention': 'рис', 'start': '720', 'end': '723', 'sentiment': 'positive'}, {'category': 'Food', 'mention': 'закусок', 'start': '730', 'end': '737', 'sentiment': 'positive'}, {'category': 'Food', 'mention': 'порции', 'start': '739', 'end': '745', 'sentiment': 'positive'}, {'category': 'Food', 'mention': 'еда', 'start': '766', 'end': '769', 'sentiment': 'positive'}, {'category': 'Interior', 'mention': 'посуда', 'start': '811', 'end': '817', 'sentiment': 'negative'}, {'category': 'Interior', 'mention': 'сервировка', 'start': '820', 'end': '830', 'sentiment': 'negative'}, {'category': 'Service', 'mention': 'сервиса', 'start': '872', 'end': '879', 'sentiment': 'both'}, {'category': 'Service', 'mention': 'официантка', 'start': '882', 'end': '892', 'sentiment': 'negative'}, {'category': 'Food', 'mention': 'блюда', 'start': '952', 'end': '957', 'sentiment': 'neutral'}, {'category': 'Price', 'mention': 'счет', 'start': '977', 'end': '981', 'sentiment': 'neutral'}, {'category': 'Food', 'mention': 'покушать', 'start': '1064', 'end': '1072', 'sentiment': 'positive'}], '9721': [{'category': 'Whole', 'mention': 'ресторане', 'start': '29', 'end': '38', 'sentiment': 'neutral'}, {'category': 'Service', 'mention': 'ресторан', 'start': '105', 'end': '113', 'sentiment': 'positive'}, {'category': 'Interior', 'mention': 'интерьер', 'start': '146', 'end': '154', 'sentiment': 'positive'}, {'category': 'Whole', 'mention': 'ресторанах', 'start': '175', 'end': '185', 'sentiment': 'negative'}, {'category': 'Whole', 'mention': 'ресторан', 'start': '261', 'end': '269', 'sentiment': 'positive'}, {'category': 'Service', 'mention': 'персонал', 'start': '295', 'end': '303', 'sentiment': 'positive'}, {'category': 'Service', 'mention': 'Официанты', 'start': '305', 'end': '314', 'sentiment': 'positive'}, {'category': 'Food', 'mention': 'блюд', 'start': '356', 'end': '360', 'sentiment': 'neutral'}, {'category': 'Food', 'mention': 'еде', 'start': '383', 'end': '386', 'sentiment': 'neutral'}, {'category': 'Food', 'mention': 'попробовать', 'start': '401', 'end': '412', 'sentiment': 'positive'}, {'category': 'Food', 'mention': 'меню', 'start': '423', 'end': '427', 'sentiment': 'positive'}, {'category': 'Food', 'mention': 'крем-суп из лосося', 'start': '487', 'end': '505', 'sentiment': 'positive'}, {'category': 'Food', 'mention': 'равиолли с грибами', 'start': '508', 'end': '526', 'sentiment': 'positive'}, {'category': 'Whole', 'mention': 'ресторане Roll & Roll', 'start': '564', 'end': '585', 'sentiment': 'positive'}, {'category': 'Food', 'mention': 'блюда', 'start': '626', 'end': '631', 'sentiment': 'positive'}, {'category': 'Whole', 'mention': 'ресторане', 'start': '690', 'end': '699', 'sentiment': 'positive'}, {'category': 'Food', 'mention': 'выбор алкоголя', 'start': '720', 'end': '734', 'sentiment': 'positive'}, {'category': 'Price', 'mention': 'ценам', 'start': '747', 'end': '752', 'sentiment': 'positive'}, {'category': 'Food', 'mention': 'разливного пива', 'start': '767', 'end': '782', 'sentiment': 'positive'}, {'category': 'Food', 'mention': 'винная карта', 'start': '794', 'end': '806', 'sentiment': 'positive'}, {'category': 'Food', 'mention': 'попробовать', 'start': '822', 'end': '833', 'sentiment': 'positive'}, {'category': 'Food', 'mention': 'коктейли', 'start': '848', 'end': '856', 'sentiment': 'positive'}, {'category': 'Food', 'mention': 'приготовленные', 'start': '858', 'end': '872', 'sentiment': 'positive'}, {'category': 'Whole', 'mention': 'Ресторан Roll & Roll', 'start': '883', 'end': '903', 'sentiment': 'positive'}], '24275': [{'category': 'Whole', 'mention': 'заведение', 'start': '53', 'end': '62', 'sentiment': 'positive'}, {'category': 'Whole', 'mention': 'ресторане', 'start': '112', 'end': '121', 'sentiment': 'neutral'}, {'category': 'Service', 'mention': 'персонал', 'start': '146', 'end': '154', 'sentiment': 'positive'}, {'category': 'Service', 'mention': 'скорости', 'start': '188', 'end': '196', 'sentiment': 'positive'}, {'category': 'Service', 'mention': 'внимании', 'start': '199', 'end': '207', 'sentiment': 'positive'}, {'category': 'Service', 'mention': 'обслуживании', 'start': '212', 'end': '224', 'sentiment': 'positive'}, {'category': 'Service', 'mention': 'персоналу', 'start': '251', 'end': '260', 'sentiment': 'positive'}, {'category': 'Food', 'mention': 'Кухня', 'start': '314', 'end': '319', 'sentiment': 'positive'}, {'category': 'Food', 'mention': 'итальянские блюда', 'start': '356', 'end': '373', 'sentiment': 'positive'}, {'category': 'Whole', 'mention': 'ресторан', 'start': '502', 'end': '510', 'sentiment': 'positive'}, {'category': 'Food', 'mention': 'карпаччо из говядины', 'start': '553', 'end': '573', 'sentiment': 'positive'}, {'category': 'Food', 'mention': 'оформлено', 'start': '579', 'end': '588', 'sentiment': 'positive'}, {'category': 'Interior', 'mention': 'детскую комнату', 'start': '647', 'end': '662', 'sentiment': 'positive'}, {'category': 'Whole', 'mention': 'посещение', 'start': '784', 'end': '793', 'sentiment': 'positive'}, {'category': 'Whole', 'mention': 'место', 'start': '845', 'end': '850', 'sentiment': 'positive'}, {'category': 'Food', 'mention': 'поесть', 'start': '868', 'end': '874', 'sentiment': 'positive'}, {'category': 'Interior', 'mention': 'обстановке', 'start': '884', 'end': '894', 'sentiment': 'positive'}, {'category': 'Food', 'mention': 'пиццу', 'start': '983', 'end': '988', 'sentiment': 'positive'}], '6564': [{'category': 'Whole', 'mention': 'место', 'start': '13', 'end': '18', 'sentiment': 'positive'}, {'category': 'Whole', 'mention': 'Тревелс', 'start': '65', 'end': '72', 'sentiment': 'positive'}, {'category': 'Service', 'mention': 'Менеджер', 'start': '98', 'end': '106', 'sentiment': 'positive'}, {'category': 'Interior', 'mention': 'оформлено', 'start': '222', 'end': '231', 'sentiment': 'positive'}, {'category': 'Food', 'mention': 'шеф-повару', 'start': '258', 'end': '268', 'sentiment': 'positive'}, {'category': 'Food', 'mention': 'вина', 'start': '292', 'end': '296', 'sentiment': 'positive'}, {'category': 'Food', 'mention': 'красное сухое', 'start': '304', 'end': '317', 'sentiment': 'positive'}, {'category': 'Food', 'mention': 'полусухое', 'start': '320', 'end': '329', 'sentiment': 'positive'}, {'category': 'Service', 'mention': 'Официант', 'start': '330', 'end': '338', 'sentiment': 'positive'}, {'category': 'Service', 'mention': 'обслуживал', 'start': '359', 'end': '369', 'sentiment': 'positive'}, {'category': 'Interior', 'mention': 'отдельный зал', 'start': '476', 'end': '489', 'sentiment': 'positive'}, {'category': 'Interior', 'mention': 'интерьер', 'start': '507', 'end': '515', 'sentiment': 'positive'}, {'category': 'Interior', 'mention': 'облицовка стен', 'start': '525', 'end': '539', 'sentiment': 'positive'}, {'category': 'Interior', 'mention': 'освещение', 'start': '564', 'end': '573', 'sentiment': 'positive'}, {'category': 'Whole', 'mention': 'провели время', 'start': '606', 'end': '619', 'sentiment': 'positive'}, {'category': 'Interior', 'mention': 'живая музыка', 'start': '631', 'end': '643', 'sentiment': 'positive'}, {'category': 'Service', 'mention': 'персоналу', 'start': '659', 'end': '668', 'sentiment': 'positive'}], '13623': [{'category': 'Whole', 'mention': 'Апрель', 'start': '155', 'end': '161', 'sentiment': 'neutral'}, {'category': 'Service', 'mention': 'встретила', 'start': '267', 'end': '276', 'sentiment': 'positive'}, {'category': 'Service', 'mention': 'девушка', 'start': '277', 'end': '284', 'sentiment': 'positive'}, {'category': 'Service', 'mention': 'проводила до столика', 'start': '286', 'end': '306', 'sentiment': 'positive'}, {'category': 'Service', 'mention': 'принесла меню', 'start': '309', 'end': '322', 'sentiment': 'positive'}, {'category': 'Service', 'mention': 'официант', 'start': '356', 'end': '364', 'sentiment': 'positive'}, {'category': 'Service', 'mention': 'принес специи', 'start': '384', 'end': '397', 'sentiment': 'positive'}, {'category': 'Service', 'mention': 'разложил приборы', 'start': '400', 'end': '416', 'sentiment': 'positive'}, {'category': 'Food', 'mention': 'напитки', 'start': '418', 'end': '425', 'sentiment': 'neutral'}, {'category': 'Interior', 'mention': 'детская комната', 'start': '487', 'end': '502', 'sentiment': 'positive'}, {'category': 'Service', 'mention': 'официант', 'start': '504', 'end': '512', 'sentiment': 'positive'}, {'category': 'Interior', 'mention': 'телевизор', 'start': '595', 'end': '604', 'sentiment': 'positive'}, {'category': 'Interior', 'mention': 'компьютер', 'start': '606', 'end': '615', 'sentiment': 'positive'}, {'category': 'Interior', 'mention': 'доска с мелками', 'start': '617', 'end': '632', 'sentiment': 'positive'}, {'category': 'Interior', 'mention': 'стол для рисования', 'start': '635', 'end': '653', 'sentiment': 'positive'}, {'category': 'Food', 'mention': 'салаты', 'start': '694', 'end': '700', 'sentiment': 'both'}, {'category': 'Food', 'mention': 'тунцом', 'start': '741', 'end': '747', 'sentiment': 'positive'}, {'category': 'Food', 'mention': 'цезарь с креветками', 'start': '771', 'end': '790', 'sentiment': 'neutral'}, {'category': 'Food', 'mention': 'Горячее', 'start': '832', 'end': '839', 'sentiment': 'both'}, {'category': 'Food', 'mention': 'стейк с соусом из белых грибов', 'start': '847', 'end': '877', 'sentiment': 'positive'}, {'category': 'Food', 'mention': 'прожарки', 'start': '886', 'end': '894', 'sentiment': 'positive'}, {'category': 'Food', 'mention': 'стейк из мраморной говядины', 'start': '926', 'end': '953', 'sentiment': 'both'}, {'category': 'Food', 'mention': 'соусом', 'start': '999', 'end': '1005', 'sentiment': 'positive'}, {'category': 'Food', 'mention': 'Десерт', 'start': '1021', 'end': '1027', 'sentiment': 'positive'}, {'category': 'Food', 'mention': 'латте', 'start': '1030', 'end': '1035', 'sentiment': 'positive'}, {'category': 'Food', 'mention': 'еда', 'start': '1055', 'end': '1058', 'sentiment': 'positive'}, {'category': 'Food', 'mention': 'размер порций', 'start': '1083', 'end': '1096', 'sentiment': 'positive'}, {'category': 'Service', 'mention': 'Обслуживание', 'start': '1108', 'end': '1120', 'sentiment': 'positive'}, {'category': 'Service', 'mention': 'официант', 'start': '1156', 'end': '1164', 'sentiment': 'positive'}, {'category': 'Food', 'mention': 'десерта', 'start': '1197', 'end': '1204', 'sentiment': 'positive'}, {'category': 'Price', 'mention': 'Счет', 'start': '1206', 'end': '1210', 'sentiment': 'neutral'}], '16714': [{'category': 'Service', 'mention': 'заказывали столик', 'start': '27', 'end': '44', 'sentiment': 'neutral'}, {'category': 'Food', 'mention': 'кухню', 'start': '118', 'end': '123', 'sentiment': 'neutral'}, {'category': 'Food', 'mention': 'шашлык по азейрбаджански (из баранины)', 'start': '136', 'end': '174', 'sentiment': 'neutral'}, {'category': 'Food', 'mention': 'хачипури Имеритенское', 'start': '176', 'end': '197', 'sentiment': 'neutral'}, {'category': 'Food', 'mention': 'салат Байрам', 'start': '199', 'end': '211', 'sentiment': 'neutral'}, {'category': 'Food', 'mention': 'овощи на гриле', 'start': '214', 'end': '228', 'sentiment': 'neutral'}, {'category': 'Food', 'mention': 'Хачипури', 'start': '230', 'end': '238', 'sentiment': 'negative'}, {'category': 'Food', 'mention': 'сыра', 'start': '282', 'end': '286', 'sentiment': 'negative'}, {'category': 'Food', 'mention': 'Салат', 'start': '315', 'end': '320', 'sentiment': 'positive'}, {'category': 'Food', 'mention': 'баранина', 'start': '339', 'end': '347', 'sentiment': 'positive'}, {'category': 'Food', 'mention': 'овощи', 'start': '350', 'end': '355', 'sentiment': 'positive'}, {'category': 'Service', 'mention': 'Сервис', 'start': '373', 'end': '379', 'sentiment': 'positive'}, {'category': 'Service', 'mention': 'Официант', 'start': '412', 'end': '420', 'sentiment': 'positive'}, {'category': 'Interior', 'mention': 'Интерьер', 'start': '472', 'end': '480', 'sentiment': 'neutral'}, {'category': 'Food', 'mention': 'обеда', 'start': '559', 'end': '564', 'sentiment': 'positive'}, {'category': 'Service', 'mention': 'администратору', 'start': '658', 'end': '672', 'sentiment': 'positive'}, {'category': 'Service', 'mention': 'девушки', 'start': '725', 'end': '732', 'sentiment': 'positive'}, {'category': 'Service', 'mention': 'сервис', 'start': '782', 'end': '788', 'sentiment': 'positive'}], '26152': [{'category': 'Whole', 'mention': 'ресторан', 'start': '89', 'end': '97', 'sentiment': 'neutral'}, {'category': 'Whole', 'mention': 'Саперави', 'start': '250', 'end': '258', 'sentiment': 'neutral'}, {'category': 'Interior', 'mention': 'Интерьер', 'start': '260', 'end': '268', 'sentiment': 'positive'}, {'category': 'Whole', 'mention': 'ресторан', 'start': '282', 'end': '290', 'sentiment': 'positive'}, {'category': 'Interior', 'mention': 'атмосферой', 'start': '310', 'end': '320', 'sentiment': 'positive'}, {'category': 'Whole', 'mention': 'впечатление', 'start': '357', 'end': '368', 'sentiment': 'positive'}, {'category': 'Interior', 'mention': 'стены', 'start': '401', 'end': '406', 'sentiment': 'positive'}, {'category': 'Interior', 'mention': 'мебель', 'start': '418', 'end': '424', 'sentiment': 'positive'}, {'category': 'Interior', 'mention': 'интерьер', 'start': '438', 'end': '446', 'sentiment': 'positive'}, {'category': 'Service', 'mention': 'Сервис', 'start': '488', 'end': '494', 'sentiment': 'positive'}, {'category': 'Service', 'mention': 'встретили', 'start': '496', 'end': '505', 'sentiment': 'positive'}, {'category': 'Service', 'mention': 'проводили', 'start': '542', 'end': '551', 'sentiment': 'positive'}, {'category': 'Service', 'mention': 'Обслуживали', 'start': '576', 'end': '587', 'sentiment': 'positive'}, {'category': 'Service', 'mention': 'рекомендуя', 'start': '610', 'end': '620', 'sentiment': 'positive'}, {'category': 'Food', 'mention': 'блюдо', 'start': '633', 'end': '638', 'sentiment': 'neutral'}, {'category': 'Service', 'mention': 'Персонал', 'start': '699', 'end': '707', 'sentiment': 'positive'}, {'category': 'Food', 'mention': 'Кухня', 'start': '760', 'end': '765', 'sentiment': 'positive'}, {'category': 'Food', 'mention': 'хачапури по-аджарски', 'start': '767', 'end': '787', 'sentiment': 'positive'}, {'category': 'Food', 'mention': 'сыра', 'start': '796', 'end': '800', 'sentiment': 'positive'}, {'category': 'Food', 'mention': 'тесто', 'start': '809', 'end': '814', 'sentiment': 'positive'}, {'category': 'Food', 'mention': 'Салат с лососем', 'start': '827', 'end': '842', 'sentiment': 'positive'}, {'category': 'Food', 'mention': 'большая порция', 'start': '845', 'end': '859', 'sentiment': 'positive'}, {'category': 'Food', 'mention': 'порция', 'start': '853', 'end': '859', 'sentiment': 'positive'}, {'category': 'Food', 'mention': 'заправка', 'start': '871', 'end': '879', 'sentiment': 'positive'}, {'category': 'Food', 'mention': 'Салат от шеф-повара с курицей', 'start': '901', 'end': '930', 'sentiment': 'positive'}, {'category': 'Food', 'mention': 'Тирамису', 'start': '972', 'end': '980', 'sentiment': 'positive'}, {'category': 'Food', 'mention': 'крем', 'start': '1016', 'end': '1020', 'sentiment': 'positive'}, {'category': 'Food', 'mention': 'пропитка', 'start': '1030', 'end': '1038', 'sentiment': 'positive'}, {'category': 'Price', 'mention': 'соотношении цены и качества', 'start': '1042', 'end': '1069', 'sentiment': 'positive'}, {'category': 'Whole', 'mention': 'рестораны', 'start': '1129', 'end': '1138', 'sentiment': 'positive'}, {'category': 'Food', 'mention': 'кухней', 'start': '1154', 'end': '1160', 'sentiment': 'positive'}, {'category': 'Service', 'mention': 'обслуживанием', 'start': '1171', 'end': '1184', 'sentiment': 'positive'}], '785': [{'category': 'Whole', 'mention': 'Ресторан', 'start': '69', 'end': '77', 'sentiment': 'positive'}, {'category': 'Interior', 'mention': 'интерьер', 'start': '90', 'end': '98', 'sentiment': 'positive'}, {'category': 'Interior', 'mention': 'места', 'start': '115', 'end': '120', 'sentiment': 'positive'}, {'category': 'Interior', 'mention': 'украсили', 'start': '122', 'end': '130', 'sentiment': 'positive'}, {'category': 'Interior', 'mention': 'красиво', 'start': '131', 'end': '138', 'sentiment': 'positive'}, {'category': 'Food', 'mention': 'меню', 'start': '153', 'end': '157', 'sentiment': 'negative'}, {'category': 'Food', 'mention': 'Меню', 'start': '176', 'end': '180', 'sentiment': 'positive'}, {'category': 'Food', 'mention': 'блюд', 'start': '339', 'end': '343', 'sentiment': 'negative'}, {'category': 'Food', 'mention': 'торта', 'start': '358', 'end': '363', 'sentiment': 'positive'}, {'category': 'Service', 'mention': 'помогла', 'start': '392', 'end': '399', 'sentiment': 'positive'}, {'category': 'Service', 'mention': 'администратор', 'start': '416', 'end': '429', 'sentiment': 'positive'}, {'category': 'Service', 'mention': 'помогла', 'start': '484', 'end': '491', 'sentiment': 'positive'}], '33538': [{'category': 'Whole', 'mention': 'ресторану', 'start': '17', 'end': '26', 'sentiment': 'positive'}, {'category': 'Food', 'mention': 'ужин', 'start': '49', 'end': '53', 'sentiment': 'positive'}, {'category': 'Interior', 'mention': 'интерьер ресторана', 'start': '75', 'end': '93', 'sentiment': 'positive'}, {'category': 'Interior', 'mention': 'скульптур', 'start': '158', 'end': '167', 'sentiment': 'positive'}, {'category': 'Interior', 'mention': 'лампы', 'start': '179', 'end': '184', 'sentiment': 'positive'}, {'category': 'Interior', 'mention': 'диваны', 'start': '200', 'end': '206', 'sentiment': 'positive'}, {'category': 'Service', 'mention': 'официанты', 'start': '228', 'end': '237', 'sentiment': 'positive'}, {'category': 'Interior', 'mention': 'музыка', 'start': '249', 'end': '255', 'sentiment': 'positive'}, {'category': 'Food', 'mention': 'еда', 'start': '345', 'end': '348', 'sentiment': 'positive'}, {'category': 'Food', 'mention': 'стейки', 'start': '380', 'end': '386', 'sentiment': 'positive'}, {'category': 'Food', 'mention': 'десерт', 'start': '414', 'end': '420', 'sentiment': 'positive'}, {'category': 'Food', 'mention': 'Альмонд', 'start': '435', 'end': '442', 'sentiment': 'positive'}, {'category': 'Whole', 'mention': 'Империю', 'start': '528', 'end': '535', 'sentiment': 'positive'}, {'category': 'Whole', 'mention': 'ресторан', 'start': '551', 'end': '559', 'sentiment': 'positive'}, {'category': 'Interior', 'mention': 'залы', 'start': '616', 'end': '620', 'sentiment': 'positive'}, {'category': 'Interior', 'mention': 'танцпол', 'start': '629', 'end': '636', 'sentiment': 'positive'}, {'category': 'Interior', 'mention': 'живая музыка', 'start': '637', 'end': '649', 'sentiment': 'positive'}, {'category': 'Whole', 'mention': 'место', 'start': '687', 'end': '692', 'sentiment': 'positive'}, {'category': 'Interior', 'mention': 'обстановкой', 'start': '716', 'end': '727', 'sentiment': 'positive'}, {'category': 'Whole', 'mention': 'вечер', 'start': '759', 'end': '764', 'sentiment': 'positive'}], '13252': [{'category': 'Food', 'mention': 'обедать', 'start': '84', 'end': '91', 'sentiment': 'neutral'}, {'category': 'Whole', 'mention': 'ресторанчик', 'start': '99', 'end': '110', 'sentiment': 'neutral'}, {'category': 'Price', 'mention': 'скидка', 'start': '158', 'end': '164', 'sentiment': 'positive'}, {'category': 'Food', 'mention': 'блюда', 'start': '172', 'end': '177', 'sentiment': 'neutral'}, {'category': 'Interior', 'mention': 'Гардероб', 'start': '191', 'end': '199', 'sentiment': 'both'}, {'category': 'Interior', 'mention': 'второй зал', 'start': '314', 'end': '324', 'sentiment': 'positive'}, {'category': 'Interior', 'mention': 'Интерьер', 'start': '350', 'end': '358', 'sentiment': 'positive'}, {'category': 'Interior', 'mention': 'освещение', 'start': '391', 'end': '400', 'sentiment': 'positive'}, {'category': 'Interior', 'mention': 'музыка', 'start': '420', 'end': '426', 'sentiment': 'positive'}, {'category': 'Food', 'mention': 'блюдах', 'start': '471', 'end': '477', 'sentiment': 'neutral'}, {'category': 'Food', 'mention': 'ассортимент', 'start': '481', 'end': '492', 'sentiment': 'positive'}, {'category': 'Whole', 'mention': 'ресторан', 'start': '559', 'end': '567', 'sentiment': 'neutral'}, {'category': 'Food', 'mention': 'блюда восточной кухни', 'start': '593', 'end': '614', 'sentiment': 'positive'}, {'category': 'Food', 'mention': 'шашлыки', 'start': '620', 'end': '627', 'sentiment': 'positive'}, {'category': 'Food', 'mention': 'телятины', 'start': '653', 'end': '661', 'sentiment': 'positive'}, {'category': 'Food', 'mention': 'говядины', 'start': '667', 'end': '675', 'sentiment': 'positive'}, {'category': 'Food', 'mention': 'свинины', 'start': '681', 'end': '688', 'sentiment': 'positive'}, {'category': 'Food', 'mention': 'блюдо садж', 'start': '723', 'end': '733', 'sentiment': 'positive'}, {'category': 'Food', 'mention': 'мясо', 'start': '736', 'end': '740', 'sentiment': 'positive'}, {'category': 'Food', 'mention': 'говядина', 'start': '742', 'end': '750', 'sentiment': 'positive'}, {'category': 'Food', 'mention': 'телятина', 'start': '752', 'end': '760', 'sentiment': 'positive'}, {'category': 'Food', 'mention': 'грибами', 'start': '773', 'end': '780', 'sentiment': 'positive'}, {'category': 'Food', 'mention': 'овощами', 'start': '783', 'end': '790', 'sentiment': 'positive'}, {'category': 'Food', 'mention': 'чай по восточному с инжирным вареньем', 'start': '856', 'end': '893', 'sentiment': 'positive'}, {'category': 'Service', 'mention': 'Обслуживания', 'start': '926', 'end': '938', 'sentiment': 'positive'}, {'category': 'Service', 'mention': 'официанты', 'start': '1024', 'end': '1033', 'sentiment': 'positive'}, {'category': 'Service', 'mention': 'подсказать', 'start': '1058', 'end': '1068', 'sentiment': 'positive'}, {'category': 'Service', 'mention': 'посоветовать', 'start': '1071', 'end': '1083', 'sentiment': 'positive'}, {'category': 'Whole', 'mention': 'ресторан', 'start': '1111', 'end': '1119', 'sentiment': 'positive'}, {'category': 'Price', 'mention': 'соотношение цены и качества', 'start': '1196', 'end': '1223', 'sentiment': 'positive'}], '1749': [{'category': 'Whole', 'mention': 'место', 'start': '8', 'end': '13', 'sentiment': 'positive'}, {'category': 'Service', 'mention': 'официант', 'start': '149', 'end': '157', 'sentiment': 'positive'}, {'category': 'Food', 'mention': 'Меню', 'start': '178', 'end': '182', 'sentiment': 'positive'}, {'category': 'Food', 'mention': 'выбор десертов', 'start': '240', 'end': '254', 'sentiment': 'positive'}, {'category': 'Food', 'mention': 'тирамису', 'start': '269', 'end': '277', 'sentiment': 'positive'}, {'category': 'Food', 'mention': 'торт', 'start': '346', 'end': '350', 'sentiment': 'positive'}, {'category': 'Food', 'mention': 'вторые блюда', 'start': '412', 'end': '424', 'sentiment': 'neutral'}, {'category': 'Service', 'mention': 'ждали', 'start': '425', 'end': '430', 'sentiment': 'negative'}, {'category': 'Food', 'mention': 'стейк рибай', 'start': '508', 'end': '519', 'sentiment': 'positive'}, {'category': 'Food', 'mention': 'свиную рульку', 'start': '592', 'end': '605', 'sentiment': 'negative'}, {'category': 'Price', 'mention': 'цены', 'start': '646', 'end': '650', 'sentiment': 'positive'}, {'category': 'Service', 'mention': 'Обслуживание', 'start': '698', 'end': '710', 'sentiment': 'negative'}, {'category': 'Service', 'mention': 'официанты', 'start': '766', 'end': '775', 'sentiment': 'positive'}, {'category': 'Whole', 'mention': 'паб', 'start': '886', 'end': '889', 'sentiment': 'positive'}, {'category': 'Whole', 'mention': 'место', 'start': '949', 'end': '954', 'sentiment': 'positive'}], '17999': [{'category': 'Whole', 'mention': 'ресторан', 'start': '20', 'end': '28', 'sentiment': 'neutral'}, {'category': 'Whole', 'mention': 'Патио на Невском', 'start': '77', 'end': '93', 'sentiment': 'positive'}, {'category': 'Whole', 'mention': 'Планета Суши', 'start': '100', 'end': '112', 'sentiment': 'positive'}, {'category': 'Service', 'mention': 'встретили', 'start': '231', 'end': '240', 'sentiment': 'positive'}, {'category': 'Service', 'mention': 'посадили', 'start': '249', 'end': '257', 'sentiment': 'positive'}, {'category': 'Interior', 'mention': 'столик', 'start': '268', 'end': '274', 'sentiment': 'positive'}, {'category': 'Service', 'mention': 'Официант', 'start': '287', 'end': '295', 'sentiment': 'positive'}, {'category': 'Service', 'mention': 'принёс меню', 'start': '296', 'end': '307', 'sentiment': 'positive'}, {'category': 'Service', 'mention': 'заказ приняли', 'start': '407', 'end': '420', 'sentiment': 'positive'}, {'category': 'Service', 'mention': 'принесли', 'start': '448', 'end': '456', 'sentiment': 'negative'}, {'category': 'Food', 'mention': 'мартини со льдом', 'start': '477', 'end': '493', 'sentiment': 'negative'}, {'category': 'Service', 'mention': 'официанты', 'start': '629', 'end': '638', 'sentiment': 'negative'}, {'category': 'Service', 'mention': 'счёт', 'start': '746', 'end': '750', 'sentiment': 'negative'}, {'category': 'Price', 'mention': 'сдачу', 'start': '798', 'end': '803', 'sentiment': 'negative'}, {'category': 'Whole', 'mention': 'ресторан', 'start': '918', 'end': '926', 'sentiment': 'positive'}, {'category': 'Whole', 'mention': 'место', 'start': '964', 'end': '969', 'sentiment': 'positive'}, {'category': 'Food', 'mention': 'кухня', 'start': '972', 'end': '977', 'sentiment': 'positive'}, {'category': 'Service', 'mention': 'обслуживание', 'start': '1002', 'end': '1014', 'sentiment': 'negative'}], '19817': [{'category': 'Food', 'mention': 'поужинать', 'start': '30', 'end': '39', 'sentiment': 'positive'}, {'category': 'Interior', 'mention': 'атмосфера', 'start': '87', 'end': '96', 'sentiment': 'positive'}, {'category': 'Interior', 'mention': 'музыка', 'start': '112', 'end': '118', 'sentiment': 'positive'}, {'category': 'Interior', 'mention': 'столик', 'start': '159', 'end': '165', 'sentiment': 'positive'}, {'category': 'Whole', 'mention': 'заведении', 'start': '252', 'end': '261', 'sentiment': 'positive'}, {'category': 'Food', 'mention': 'Кухня', 'start': '306', 'end': '311', 'sentiment': 'positive'}, {'category': 'Food', 'mention': 'японскую кухню', 'start': '344', 'end': '358', 'sentiment': 'neutral'}, {'category': 'Price', 'mention': 'ценам', 'start': '414', 'end': '419', 'sentiment': 'positive'}, {'category': 'Food', 'mention': 'Рыба', 'start': '421', 'end': '425', 'sentiment': 'positive'}, {'category': 'Food', 'mention': 'ассортимента роллов', 'start': '481', 'end': '500', 'sentiment': 'both'}, {'category': 'Food', 'mention': 'Супы', 'start': '535', 'end': '539', 'sentiment': 'positive'}, {'category': 'Food', 'mention': 'свежевыжатые соки', 'start': '577', 'end': '594', 'sentiment': 'positive'}, {'category': 'Food', 'mention': 'европейское меню', 'start': '623', 'end': '639', 'sentiment': 'positive'}, {'category': 'Food', 'mention': 'Драники с беконом', 'start': '657', 'end': '674', 'sentiment': 'positive'}, {'category': 'Food', 'mention': 'порция', 'start': '691', 'end': '697', 'sentiment': 'positive'}, {'category': 'Service', 'mention': 'обслуживанием', 'start': '727', 'end': '740', 'sentiment': 'positive'}, {'category': 'Service', 'mention': 'официантку', 'start': '783', 'end': '793', 'sentiment': 'negative'}, {'category': 'Service', 'mention': 'ждать', 'start': '978', 'end': '983', 'sentiment': 'negative'}, {'category': 'Price', 'mention': 'скидочную карту', 'start': '1009', 'end': '1024', 'sentiment': 'positive'}, {'category': 'Price', 'mention': 'Скидки', 'start': '1026', 'end': '1032', 'sentiment': 'positive'}, {'category': 'Service', 'mention': 'обслуживанием', 'start': '1113', 'end': '1126', 'sentiment': 'positive'}, {'category': 'Whole', 'mention': 'место', 'start': '1183', 'end': '1188', 'sentiment': 'positive'}, {'category': 'Food', 'mention': 'суши', 'start': '1221', 'end': '1225', 'sentiment': 'positive'}, {'category': 'Food', 'mention': 'роллы', 'start': '1228', 'end': '1233', 'sentiment': 'positive'}, {'category': 'Whole', 'mention': 'местах', 'start': '1274', 'end': '1280', 'sentiment': 'negative'}], '36948': [{'category': 'Whole', 'mention': 'ресторане', 'start': '12', 'end': '21', 'sentiment': 'neutral'}, {'category': 'Food', 'mention': 'вино', 'start': '74', 'end': '78', 'sentiment': 'positive'}, {'category': 'Food', 'mention': 'еда', 'start': '88', 'end': '91', 'sentiment': 'positive'}, {'category': 'Food', 'mention': 'подачей', 'start': '103', 'end': '110', 'sentiment': 'positive'}, {'category': 'Interior', 'mention': 'атмосфера', 'start': '122', 'end': '131', 'sentiment': 'positive'}, {'category': 'Service', 'mention': 'обслуживание', 'start': '148', 'end': '160', 'sentiment': 'positive'}, {'category': 'Food', 'mention': 'кухню', 'start': '209', 'end': '214', 'sentiment': 'both'}, {'category': 'Food', 'mention': 'меню', 'start': '261', 'end': '265', 'sentiment': 'positive'}, {'category': 'Food', 'mention': 'блюдам', 'start': '278', 'end': '284', 'sentiment': 'positive'}, {'category': 'Interior', 'mention': 'интерьер', 'start': '293', 'end': '301', 'sentiment': 'both'}, {'category': 'Interior', 'mention': 'стульях', 'start': '327', 'end': '334', 'sentiment': 'negative'}, {'category': 'Interior', 'mention': 'места у окна', 'start': '377', 'end': '389', 'sentiment': 'positive'}, {'category': 'Service', 'mention': 'сервис', 'start': '423', 'end': '429', 'sentiment': 'positive'}, {'category': 'Service', 'mention': 'персонал', 'start': '479', 'end': '487', 'sentiment': 'positive'}, {'category': 'Service', 'mention': 'обслуживанию', 'start': '531', 'end': '543', 'sentiment': 'positive'}], '34402': [{'category': 'Whole', 'mention': 'место', 'start': '21', 'end': '26', 'sentiment': 'positive'}, {'category': 'Whole', 'mention': 'ресторанчик', 'start': '191', 'end': '202', 'sentiment': 'positive'}, {'category': 'Food', 'mention': 'французской кухни', 'start': '211', 'end': '228', 'sentiment': 'positive'}, {'category': 'Interior', 'mention': 'атмосфера', 'start': '367', 'end': '376', 'sentiment': 'positive'}, {'category': 'Whole', 'mention': 'места', 'start': '383', 'end': '388', 'sentiment': 'positive'}, {'category': 'Food', 'mention': 'кухня', 'start': '399', 'end': '404', 'sentiment': 'positive'}, {'category': 'Food', 'mention': 'меню', 'start': '432', 'end': '436', 'sentiment': 'positive'}, {'category': 'Interior', 'mention': 'комната', 'start': '438', 'end': '445', 'sentiment': 'positive'}, {'category': 'Interior', 'mention': 'программу', 'start': '485', 'end': '494', 'sentiment': 'positive'}, {'category': 'Service', 'mention': 'Аниматоры', 'start': '496', 'end': '505', 'sentiment': 'positive'}, {'category': 'Food', 'mention': 'выбор вина', 'start': '627', 'end': '637', 'sentiment': 'positive'}, {'category': 'Price', 'mention': 'Ценник', 'start': '687', 'end': '693', 'sentiment': 'negative'}], '3236': [{'category': 'Food', 'mention': 'меню', 'start': '46', 'end': '50', 'sentiment': 'negative'}, {'category': 'Food', 'mention': 'пиццы', 'start': '71', 'end': '76', 'sentiment': 'negative'}, {'category': 'Food', 'mention': 'пасты', 'start': '79', 'end': '84', 'sentiment': 'negative'}, {'category': 'Food', 'mention': 'меню', 'start': '103', 'end': '107', 'sentiment': 'negative'}, {'category': 'Food', 'mention': 'блюда', 'start': '130', 'end': '135', 'sentiment': 'positive'}, {'category': 'Food', 'mention': 'пиццами', 'start': '293', 'end': '300', 'sentiment': 'negative'}, {'category': 'Food', 'mention': 'пастами', 'start': '302', 'end': '309', 'sentiment': 'negative'}, {'category': 'Food', 'mention': 'салатами', 'start': '335', 'end': '343', 'sentiment': 'negative'}, {'category': 'Food', 'mention': 'овощей с моцареллой', 'start': '368', 'end': '387', 'sentiment': 'negative'}, {'category': 'Whole', 'mention': 'ресторан', 'start': '454', 'end': '462', 'sentiment': 'negative'}, {'category': 'Food', 'mention': 'выбор блюд', 'start': '489', 'end': '499', 'sentiment': 'negative'}, {'category': 'Whole', 'mention': 'заведение', 'start': '532', 'end': '541', 'sentiment': 'positive'}, {'category': 'Food', 'mention': 'поесть', 'start': '565', 'end': '571', 'sentiment': 'positive'}, {'category': 'Whole', 'mention': 'место', 'start': '582', 'end': '587', 'sentiment': 'positive'}, {'category': 'Food', 'mention': 'итальянская кухня', 'start': '599', 'end': '616', 'sentiment': 'positive'}, {'category': 'Whole', 'mention': 'заведение', 'start': '639', 'end': '648', 'sentiment': 'positive'}, {'category': 'Whole', 'mention': 'хозяин', 'start': '666', 'end': '672', 'sentiment': 'positive'}, {'category': 'Whole', 'mention': 'кафе', 'start': '693', 'end': '697', 'sentiment': 'positive'}, {'category': 'Whole', 'mention': 'ресторан', 'start': '700', 'end': '708', 'sentiment': 'positive'}, {'category': 'Food', 'mention': 'кухню', 'start': '838', 'end': '843', 'sentiment': 'negative'}, {'category': 'Food', 'mention': 'мясными блюдами', 'start': '844', 'end': '859', 'sentiment': 'positive'}, {'category': 'Food', 'mention': 'гарнирами', 'start': '861', 'end': '870', 'sentiment': 'positive'}, {'category': 'Food', 'mention': 'салатами', 'start': '884', 'end': '892', 'sentiment': 'positive'}, {'category': 'Food', 'mention': 'супами', 'start': '895', 'end': '901', 'sentiment': 'positive'}], '9230': [{'category': 'Interior', 'mention': 'пустое помещение', 'start': '209', 'end': '225', 'sentiment': 'both'}, {'category': 'Interior', 'mention': 'декором', 'start': '264', 'end': '271', 'sentiment': 'positive'}, {'category': 'Interior', 'mention': 'столик', 'start': '322', 'end': '328', 'sentiment': 'positive'}, {'category': 'Service', 'mention': 'появилась', 'start': '349', 'end': '358', 'sentiment': 'positive'}, {'category': 'Service', 'mention': 'официантка', 'start': '359', 'end': '369', 'sentiment': 'positive'}, {'category': 'Service', 'mention': 'принесла меню', 'start': '379', 'end': '392', 'sentiment': 'positive'}, {'category': 'Service', 'mention': 'ответила на мои вопросы', 'start': '395', 'end': '418', 'sentiment': 'positive'}, {'category': 'Food', 'mention': 'устриц', 'start': '428', 'end': '434', 'sentiment': 'neutral'}, {'category': 'Service', 'mention': 'обслуживание', 'start': '452', 'end': '464', 'sentiment': 'positive'}, {'category': 'Food', 'mention': 'горячее', 'start': '528', 'end': '535', 'sentiment': 'neutral'}, {'category': 'Food', 'mention': 'устриц', 'start': '586', 'end': '592', 'sentiment': 'neutral'}, {'category': 'Food', 'mention': 'свежих', 'start': '598', 'end': '604', 'sentiment': 'neutral'}, {'category': 'Food', 'mention': 'запеченых', 'start': '620', 'end': '629', 'sentiment': 'neutral'}, {'category': 'Food', 'mention': 'устрицы', 'start': '663', 'end': '670', 'sentiment': 'both'}, {'category': 'Food', 'mention': 'горячего', 'start': '725', 'end': '733', 'sentiment': 'positive'}, {'category': 'Food', 'mention': 'филе норвежского лосося с овощами и креветками', 'start': '738', 'end': '784', 'sentiment': 'positive'}, {'category': 'Food', 'mention': 'блюдо', 'start': '796', 'end': '801', 'sentiment': 'positive'}, {'category': 'Food', 'mention': 'пасту', 'start': '867', 'end': '872', 'sentiment': 'neutral'}, {'category': 'Food', 'mention': 'чая с десертами', 'start': '896', 'end': '911', 'sentiment': 'neutral'}, {'category': 'Food', 'mention': 'десертов', 'start': '925', 'end': '933', 'sentiment': 'negative'}, {'category': 'Food', 'mention': 'клубничного супа', 'start': '971', 'end': '987', 'sentiment': 'neutral'}, {'category': 'Food', 'mention': 'мороженого', 'start': '990', 'end': '1000', 'sentiment': 'neutral'}, {'category': 'Whole', 'mention': 'заведение', 'start': '1064', 'end': '1073', 'sentiment': 'both'}], '28112': [{'category': 'Whole', 'mention': 'Ресторан', 'start': '0', 'end': '8', 'sentiment': 'neutral'}, {'category': 'Food', 'mention': 'кухня', 'start': '31', 'end': '36', 'sentiment': 'neutral'}, {'category': 'Service', 'mention': 'обслуживание', 'start': '43', 'end': '55', 'sentiment': 'neutral'}, {'category': 'Interior', 'mention': 'интерьер', 'start': '69', 'end': '77', 'sentiment': 'neutral'}, {'category': 'Whole', 'mention': 'заведений', 'start': '236', 'end': '245', 'sentiment': 'neutral'}, {'category': 'Food', 'mention': 'кухня', 'start': '286', 'end': '291', 'sentiment': 'positive'}, {'category': 'Food', 'mention': 'Порции', 'start': '345', 'end': '351', 'sentiment': 'positive'}, {'category': 'Food', 'mention': 'Качество мяса', 'start': '375', 'end': '388', 'sentiment': 'positive'}, {'category': 'Food', 'mention': 'еде', 'start': '444', 'end': '447', 'sentiment': 'positive'}, {'category': 'Interior', 'mention': 'Интерьер', 'start': '448', 'end': '456', 'sentiment': 'both'}, {'category': 'Interior', 'mention': 'большие окна', 'start': '560', 'end': '572', 'sentiment': 'negative'}, {'category': 'Interior', 'mention': 'проемы окон', 'start': '636', 'end': '647', 'sentiment': 'negative'}, {'category': 'Service', 'mention': 'Обслуживанию', 'start': '671', 'end': '683', 'sentiment': 'both'}, {'category': 'Service', 'mention': 'официанты', 'start': '734', 'end': '743', 'sentiment': 'negative'}, {'category': 'Service', 'mention': 'скатерть', 'start': '843', 'end': '851', 'sentiment': 'positive'}, {'category': 'Service', 'mention': 'поесть', 'start': '942', 'end': '948', 'sentiment': 'positive'}, {'category': 'Interior', 'mention': 'музыка', 'start': '969', 'end': '975', 'sentiment': 'positive'}], '34710': [{'category': 'Service', 'mention': 'обслуживание', 'start': '30', 'end': '42', 'sentiment': 'positive'}, {'category': 'Service', 'mention': 'обслужили', 'start': '86', 'end': '95', 'sentiment': 'positive'}, {'category': 'Service', 'mention': 'несли', 'start': '129', 'end': '134', 'sentiment': 'negative'}, {'category': 'Food', 'mention': 'напитки', 'start': '135', 'end': '142', 'sentiment': 'neutral'}, {'category': 'Service', 'mention': 'салат', 'start': '162', 'end': '167', 'sentiment': 'neutral'}, {'category': 'Price', 'mention': 'счет', 'start': '174', 'end': '178', 'sentiment': 'negative'}, {'category': 'Service', 'mention': 'отношение официантов', 'start': '234', 'end': '254', 'sentiment': 'negative'}, {'category': 'Service', 'mention': 'официантка', 'start': '285', 'end': '295', 'sentiment': 'negative'}, {'category': 'Service', 'mention': 'дали', 'start': '362', 'end': '366', 'sentiment': 'negative'}, {'category': 'Service', 'mention': 'меню', 'start': '387', 'end': '391', 'sentiment': 'negative'}, {'category': 'Service', 'mention': 'официантка', 'start': '442', 'end': '452', 'sentiment': 'negative'}, {'category': 'Service', 'mention': 'приняла заказ', 'start': '539', 'end': '552', 'sentiment': 'neutral'}, {'category': 'Food', 'mention': 'супа', 'start': '573', 'end': '577', 'sentiment': 'negative'}, {'category': 'Service', 'mention': 'принесла', 'start': '578', 'end': '586', 'sentiment': 'negative'}, {'category': 'Food', 'mention': 'Напитки', 'start': '618', 'end': '625', 'sentiment': 'neutral'}, {'category': 'Service', 'mention': 'принесла', 'start': '626', 'end': '634', 'sentiment': 'negative'}, {'category': 'Food', 'mention': 'десерта', 'start': '648', 'end': '655', 'sentiment': 'neutral'}, {'category': 'Food', 'mention': 'напитки', 'start': '680', 'end': '687', 'sentiment': 'neutral'}, {'category': 'Food', 'mention': 'кухня', 'start': '718', 'end': '723', 'sentiment': 'positive'}, {'category': 'Food', 'mention': 'кеталонский крем', 'start': '734', 'end': '750', 'sentiment': 'positive'}, {'category': 'Service', 'mention': 'официантов', 'start': '776', 'end': '786', 'sentiment': 'negative'}, {'category': 'Whole', 'mention': 'впечатление', 'start': '809', 'end': '820', 'sentiment': 'negative'}], '7417': [{'category': 'Interior', 'mention': 'некурящем зале', 'start': '35', 'end': '49', 'sentiment': 'positive'}, {'category': 'Interior', 'mention': 'диванчике', 'start': '53', 'end': '62', 'sentiment': 'positive'}, {'category': 'Interior', 'mention': 'интерьер', 'start': '82', 'end': '90', 'sentiment': 'positive'}, {'category': 'Food', 'mention': 'Кухня', 'start': '108', 'end': '113', 'sentiment': 'positive'}, {'category': 'Food', 'mention': 'салат с угрем', 'start': '143', 'end': '156', 'sentiment': 'positive'}, {'category': 'Food', 'mention': 'спагетти с фрикадельками', 'start': '184', 'end': '208', 'sentiment': 'positive'}, {'category': 'Food', 'mention': 'супчики', 'start': '224', 'end': '231', 'sentiment': 'positive'}, {'category': 'Food', 'mention': 'салаты', 'start': '260', 'end': '266', 'sentiment': 'positive'}, {'category': 'Food', 'mention': 'курицей', 'start': '281', 'end': '288', 'sentiment': 'positive'}, {'category': 'Food', 'mention': 'цезарь с креветками', 'start': '291', 'end': '310', 'sentiment': 'positive'}, {'category': 'Whole', 'mention': 'крупных ресторанах', 'start': '351', 'end': '369', 'sentiment': 'negative'}, {'category': 'Price', 'mention': 'цены', 'start': '382', 'end': '386', 'sentiment': 'positive'}, {'category': 'Service', 'mention': 'Персонал', 'start': '400', 'end': '408', 'sentiment': 'positive'}, {'category': 'Service', 'mention': 'приносили', 'start': '425', 'end': '434', 'sentiment': 'positive'}, {'category': 'Service', 'mention': 'убирали', 'start': '453', 'end': '460', 'sentiment': 'positive'}], '27169': [{'category': 'Whole', 'mention': 'ресторане \"Эскалибур\"', 'start': '72', 'end': '93', 'sentiment': 'neutral'}, {'category': 'Service', 'mention': 'Заказала столик', 'start': '112', 'end': '127', 'sentiment': 'neutral'}, {'category': 'Whole', 'mention': 'место', 'start': '211', 'end': '216', 'sentiment': 'positive'}, {'category': 'Interior', 'mention': 'Интерьер', 'start': '239', 'end': '247', 'sentiment': 'positive'}, {'category': 'Interior', 'mention': 'обстановка', 'start': '270', 'end': '280', 'sentiment': 'positive'}, {'category': 'Service', 'mention': 'обслуживание', 'start': '282', 'end': '294', 'sentiment': 'positive'}, {'category': 'Price', 'mention': 'Цены', 'start': '319', 'end': '323', 'sentiment': 'positive'}, {'category': 'Food', 'mention': 'блюда', 'start': '336', 'end': '341', 'sentiment': 'positive'}, {'category': 'Food', 'mention': 'оформлены', 'start': '364', 'end': '373', 'sentiment': 'positive'}, {'category': 'Food', 'mention': 'порции', 'start': '411', 'end': '417', 'sentiment': 'positive'}, {'category': 'Food', 'mention': 'продукты', 'start': '453', 'end': '461', 'sentiment': 'positive'}, {'category': 'Food', 'mention': 'блюде', 'start': '479', 'end': '484', 'sentiment': 'positive'}, {'category': 'Service', 'mention': 'персонал', 'start': '547', 'end': '555', 'sentiment': 'positive'}, {'category': 'Service', 'mention': 'администраторы', 'start': '557', 'end': '571', 'sentiment': 'positive'}, {'category': 'Service', 'mention': 'официант', 'start': '587', 'end': '595', 'sentiment': 'positive'}, {'category': 'Service', 'mention': 'обслуживание', 'start': '684', 'end': '696', 'sentiment': 'positive'}, {'category': 'Whole', 'mention': 'праздника', 'start': '757', 'end': '766', 'sentiment': 'positive'}, {'category': 'Interior', 'mention': 'интерьера', 'start': '988', 'end': '997', 'sentiment': 'positive'}, {'category': 'Interior', 'mention': 'Цвет', 'start': '1032', 'end': '1036', 'sentiment': 'positive'}, {'category': 'Interior', 'mention': 'свет', 'start': '1038', 'end': '1042', 'sentiment': 'positive'}, {'category': 'Interior', 'mention': 'оформление стен', 'start': '1044', 'end': '1059', 'sentiment': 'positive'}], '17475': [{'category': 'Whole', 'mention': 'ресторане', 'start': '18', 'end': '27', 'sentiment': 'neutral'}, {'category': 'Whole', 'mention': 'месте', 'start': '95', 'end': '100', 'sentiment': 'neutral'}, {'category': 'Interior', 'mention': 'гардероб', 'start': '131', 'end': '139', 'sentiment': 'positive'}, {'category': 'Whole', 'mention': 'гардеробщик', 'start': '151', 'end': '162', 'sentiment': 'positive'}, {'category': 'Interior', 'mention': 'вид в зал', 'start': '181', 'end': '190', 'sentiment': 'positive'}, {'category': 'Interior', 'mention': 'мебель', 'start': '199', 'end': '205', 'sentiment': 'positive'}, {'category': 'Interior', 'mention': 'интерьер', 'start': '217', 'end': '225', 'sentiment': 'positive'}, {'category': 'Service', 'mention': 'Встретили', 'start': '259', 'end': '268', 'sentiment': 'positive'}, {'category': 'Service', 'mention': 'администратора', 'start': '303', 'end': '317', 'sentiment': 'negative'}, {'category': 'Service', 'mention': 'проводили к столу', 'start': '337', 'end': '354', 'sentiment': 'positive'}, {'category': 'Service', 'mention': 'Официант', 'start': '355', 'end': '363', 'sentiment': 'negative'}, {'category': 'Food', 'mention': 'Кухня', 'start': '500', 'end': '505', 'sentiment': 'positive'}, {'category': 'Food', 'mention': 'кушали', 'start': '506', 'end': '512', 'sentiment': 'positive'}, {'category': 'Food', 'mention': 'японскую кухню', 'start': '513', 'end': '527', 'sentiment': 'positive'}, {'category': 'Food', 'mention': 'еда', 'start': '536', 'end': '539', 'sentiment': 'positive'}, {'category': 'Food', 'mention': 'порции', 'start': '554', 'end': '560', 'sentiment': 'positive'}, {'category': 'Food', 'mention': 'подача', 'start': '561', 'end': '567', 'sentiment': 'neutral'}, {'category': 'Food', 'mention': 'салат цезарь', 'start': '582', 'end': '594', 'sentiment': 'positive'}, {'category': 'Price', 'mention': 'скидку', 'start': '620', 'end': '626', 'sentiment': 'negative'}, {'category': 'Service', 'mention': 'Проводили', 'start': '703', 'end': '712', 'sentiment': 'positive'}, {'category': 'Service', 'mention': 'персоналом', 'start': '718', 'end': '728', 'sentiment': 'positive'}], '9776': [{'category': 'Whole', 'mention': 'ресторан', 'start': '50', 'end': '58', 'sentiment': 'neutral'}, {'category': 'Interior', 'mention': 'интерьер', 'start': '59', 'end': '67', 'sentiment': 'positive'}, {'category': 'Service', 'mention': 'шеф-повар', 'start': '98', 'end': '107', 'sentiment': 'positive'}, {'category': 'Whole', 'mention': 'ресторана', 'start': '133', 'end': '142', 'sentiment': 'positive'}, {'category': 'Service', 'mention': 'официанты', 'start': '165', 'end': '174', 'sentiment': 'positive'}, {'category': 'Service', 'mention': 'сервис', 'start': '183', 'end': '189', 'sentiment': 'positive'}, {'category': 'Price', 'mention': 'цены', 'start': '221', 'end': '225', 'sentiment': 'negative'}, {'category': 'Food', 'mention': 'алкоголя', 'start': '263', 'end': '271', 'sentiment': 'neutral'}, {'category': 'Food', 'mention': 'еду', 'start': '280', 'end': '283', 'sentiment': 'neutral'}, {'category': 'Whole', 'mention': 'ресторане', 'start': '374', 'end': '383', 'sentiment': 'positive'}, {'category': 'Food', 'mention': 'каракатица', 'start': '429', 'end': '439', 'sentiment': 'positive'}, {'category': 'Food', 'mention': 'осьминог', 'start': '446', 'end': '454', 'sentiment': 'negative'}, {'category': 'Food', 'mention': 'жевать', 'start': '467', 'end': '473', 'sentiment': 'negative'}, {'category': 'Food', 'mention': 'блюда из осьминога', 'start': '515', 'end': '533', 'sentiment': 'positive'}, {'category': 'Food', 'mention': 'осьминога', 'start': '629', 'end': '638', 'sentiment': 'positive'}, {'category': 'Whole', 'mention': 'итальянском ресторане', 'start': '648', 'end': '669', 'sentiment': 'positive'}, {'category': 'Whole', 'mention': 'Делфим Бар', 'start': '670', 'end': '680', 'sentiment': 'positive'}, {'category': 'Whole', 'mention': 'Франческо', 'start': '696', 'end': '705', 'sentiment': 'positive'}, {'category': 'Whole', 'mention': 'место', 'start': '706', 'end': '711', 'sentiment': 'positive'}, {'category': 'Price', 'mention': 'цены', 'start': '758', 'end': '762', 'sentiment': 'negative'}], '5155': [{'category': 'Whole', 'mention': 'заведения', 'start': '14', 'end': '23', 'sentiment': 'positive'}, {'category': 'Food', 'mention': 'кухня', 'start': '47', 'end': '52', 'sentiment': 'positive'}, {'category': 'Service', 'mention': 'обслуживание', 'start': '66', 'end': '78', 'sentiment': 'positive'}, {'category': 'Food', 'mention': 'баклажаны', 'start': '88', 'end': '97', 'sentiment': 'positive'}, {'category': 'Whole', 'mention': 'заведении', 'start': '111', 'end': '120', 'sentiment': 'neutral'}, {'category': 'Food', 'mention': 'блюда', 'start': '147', 'end': '152', 'sentiment': 'positive'}, {'category': 'Food', 'mention': 'запеченных баклажан', 'start': '204', 'end': '223', 'sentiment': 'positive'}, {'category': 'Food', 'mention': 'сырной корочкой и базиликом', 'start': '251', 'end': '278', 'sentiment': 'positive'}, {'category': 'Food', 'mention': 'суп из морепрдуктов', 'start': '294', 'end': '313', 'sentiment': 'positive'}, {'category': 'Whole', 'mention': 'посидели', 'start': '377', 'end': '385', 'sentiment': 'positive'}, {'category': 'Interior', 'mention': 'залов', 'start': '430', 'end': '435', 'sentiment': 'positive'}, {'category': 'Food', 'mention': 'поели', 'start': '463', 'end': '468', 'sentiment': 'positive'}, {'category': 'Food', 'mention': 'выпили', 'start': '471', 'end': '477', 'sentiment': 'positive'}, {'category': 'Food', 'mention': 'глинтвейн', 'start': '494', 'end': '503', 'sentiment': 'positive'}], '11355': [{'category': 'Whole', 'mention': 'Твинс', 'start': '31', 'end': '36', 'sentiment': 'positive'}, {'category': 'Service', 'mention': 'Официант', 'start': '81', 'end': '89', 'sentiment': 'positive'}, {'category': 'Service', 'mention': 'встретил', 'start': '134', 'end': '142', 'sentiment': 'positive'}, {'category': 'Service', 'mention': 'посадил', 'start': '144', 'end': '151', 'sentiment': 'positive'}, {'category': 'Service', 'mention': 'подал меню', 'start': '162', 'end': '172', 'sentiment': 'positive'}, {'category': 'Service', 'mention': 'поиинтересовался', 'start': '174', 'end': '190', 'sentiment': 'positive'}, {'category': 'Food', 'mention': 'кухню', 'start': '299', 'end': '304', 'sentiment': 'neutral'}, {'category': 'Food', 'mention': 'Америка маки', 'start': '362', 'end': '374', 'sentiment': 'neutral'}, {'category': 'Food', 'mention': 'чукка салат', 'start': '376', 'end': '387', 'sentiment': 'neutral'}, {'category': 'Food', 'mention': 'клубничный чай', 'start': '390', 'end': '404', 'sentiment': 'neutral'}, {'category': 'Food', 'mention': 'Америка', 'start': '416', 'end': '423', 'sentiment': 'both'}, {'category': 'Food', 'mention': 'рыбы', 'start': '450', 'end': '454', 'sentiment': 'negative'}, {'category': 'Food', 'mention': 'чукка салат', 'start': '456', 'end': '467', 'sentiment': 'positive'}, {'category': 'Food', 'mention': 'чай', 'start': '476', 'end': '479', 'sentiment': 'negative'}, {'category': 'Whole', 'mention': 'Вечером', 'start': '497', 'end': '504', 'sentiment': 'positive'}, {'category': 'Food', 'mention': 'коктейли', 'start': '577', 'end': '585', 'sentiment': 'neutral'}], '33798': [{'category': 'Whole', 'mention': 'ресторана', 'start': '23', 'end': '32', 'sentiment': 'neutral'}, {'category': 'Food', 'mention': 'поесть', 'start': '114', 'end': '120', 'sentiment': 'positive'}, {'category': 'Whole', 'mention': 'провести вечер', 'start': '131', 'end': '145', 'sentiment': 'positive'}, {'category': 'Food', 'mention': 'меню', 'start': '167', 'end': '171', 'sentiment': 'positive'}, {'category': 'Food', 'mention': 'японская и итальянская кухни', 'start': '229', 'end': '257', 'sentiment': 'positive'}, {'category': 'Food', 'mention': 'Паста', 'start': '278', 'end': '283', 'sentiment': 'positive'}, {'category': 'Food', 'mention': 'суши', 'start': '286', 'end': '290', 'sentiment': 'positive'}, {'category': 'Food', 'mention': 'блюда на гриле', 'start': '325', 'end': '339', 'sentiment': 'positive'}, {'category': 'Food', 'mention': 'еде', 'start': '352', 'end': '355', 'sentiment': 'positive'}, {'category': 'Interior', 'mention': 'интерьер', 'start': '378', 'end': '386', 'sentiment': 'positive'}, {'category': 'Service', 'mention': 'Официанты', 'start': '409', 'end': '418', 'sentiment': 'positive'}, {'category': 'Whole', 'mention': 'ресторан', 'start': '479', 'end': '487', 'sentiment': 'positive'}], '31071': [{'category': 'Whole', 'mention': 'заведение', 'start': '11', 'end': '20', 'sentiment': 'positive'}, {'category': 'Interior', 'mention': 'зал', 'start': '83', 'end': '86', 'sentiment': 'negative'}, {'category': 'Interior', 'mention': 'столы', 'start': '247', 'end': '252', 'sentiment': 'negative'}, {'category': 'Service', 'mention': 'обслуживание', 'start': '339', 'end': '351', 'sentiment': 'negative'}, {'category': 'Service', 'mention': 'официанты', 'start': '420', 'end': '429', 'sentiment': 'negative'}, {'category': 'Service', 'mention': 'официантка', 'start': '531', 'end': '541', 'sentiment': 'negative'}, {'category': 'Food', 'mention': 'блюда', 'start': '560', 'end': '565', 'sentiment': 'neutral'}, {'category': 'Price', 'mention': 'счет', 'start': '588', 'end': '592', 'sentiment': 'neutral'}, {'category': 'Service', 'mention': 'девушка из гардероба', 'start': '630', 'end': '650', 'sentiment': 'negative'}, {'category': 'Interior', 'mention': 'Интерьер', 'start': '726', 'end': '734', 'sentiment': 'positive'}, {'category': 'Food', 'mention': 'Кухня', 'start': '778', 'end': '783', 'sentiment': 'positive'}, {'category': 'Food', 'mention': 'равиоли с трюфелями и рикоттой', 'start': '825', 'end': '855', 'sentiment': 'positive'}, {'category': 'Food', 'mention': 'крем-суп из тыквы с пармезаном', 'start': '867', 'end': '897', 'sentiment': 'positive'}, {'category': 'Food', 'mention': 'блюда', 'start': '952', 'end': '957', 'sentiment': 'positive'}, {'category': 'Food', 'mention': 'Вино красное \"домашнее\"', 'start': '970', 'end': '993', 'sentiment': 'neutral'}, {'category': 'Price', 'mention': 'Чек', 'start': '1014', 'end': '1017', 'sentiment': 'negative'}], '3231': [{'category': 'Whole', 'mention': 'ресторане', 'start': '103', 'end': '112', 'sentiment': 'neutral'}, {'category': 'Interior', 'mention': 'украшенный', 'start': '145', 'end': '155', 'sentiment': 'positive'}, {'category': 'Interior', 'mention': 'зал', 'start': '156', 'end': '159', 'sentiment': 'positive'}, {'category': 'Interior', 'mention': 'интерьер', 'start': '168', 'end': '176', 'sentiment': 'positive'}, {'category': 'Service', 'mention': 'персонал', 'start': '195', 'end': '203', 'sentiment': 'positive'}, {'category': 'Service', 'mention': 'Обслуживание', 'start': '207', 'end': '219', 'sentiment': 'positive'}, {'category': 'Service', 'mention': 'официанты', 'start': '281', 'end': '290', 'sentiment': 'positive'}, {'category': 'Service', 'mention': 'официанта', 'start': '419', 'end': '428', 'sentiment': 'positive'}, {'category': 'Service', 'mention': 'обслуживала', 'start': '473', 'end': '484', 'sentiment': 'positive'}], '3647': [{'category': 'Food', 'mention': 'шеф повара', 'start': '45', 'end': '55', 'sentiment': 'positive'}, {'category': 'Food', 'mention': 'салаты', 'start': '68', 'end': '74', 'sentiment': 'positive'}, {'category': 'Food', 'mention': 'горячее', 'start': '77', 'end': '84', 'sentiment': 'positive'}, {'category': 'Food', 'mention': 'Порции', 'start': '86', 'end': '92', 'sentiment': 'positive'}, {'category': 'Food', 'mention': 'пиво', 'start': '142', 'end': '146', 'sentiment': 'positive'}, {'category': 'Price', 'mention': 'цены', 'start': '198', 'end': '202', 'sentiment': 'positive'}, {'category': 'Service', 'mention': 'обслуживание', 'start': '217', 'end': '229', 'sentiment': 'positive'}, {'category': 'Service', 'mention': 'Официантки', 'start': '243', 'end': '253', 'sentiment': 'positive'}, {'category': 'Whole', 'mention': 'ресторане', 'start': '277', 'end': '286', 'sentiment': 'positive'}, {'category': 'Interior', 'mention': 'Интерьер', 'start': '366', 'end': '374', 'sentiment': 'positive'}, {'category': 'Whole', 'mention': 'отдохнули', 'start': '413', 'end': '422', 'sentiment': 'positive'}], '2006': [{'category': 'Whole', 'mention': 'ресторане', 'start': '7', 'end': '16', 'sentiment': 'neutral'}, {'category': 'Service', 'mention': 'обслуживанием', 'start': '96', 'end': '109', 'sentiment': 'positive'}, {'category': 'Food', 'mention': 'приготовленными', 'start': '119', 'end': '134', 'sentiment': 'positive'}, {'category': 'Food', 'mention': 'блюдами', 'start': '135', 'end': '142', 'sentiment': 'positive'}, {'category': 'Whole', 'mention': 'ресторане', 'start': '146', 'end': '155', 'sentiment': 'positive'}, {'category': 'Interior', 'mention': 'атмосфера', 'start': '174', 'end': '183', 'sentiment': 'positive'}, {'category': 'Food', 'mention': 'приготовлен', 'start': '225', 'end': '236', 'sentiment': 'positive'}, {'category': 'Food', 'mention': 'десерт тирамису', 'start': '237', 'end': '252', 'sentiment': 'positive'}, {'category': 'Food', 'mention': 'десерта', 'start': '270', 'end': '277', 'sentiment': 'positive'}, {'category': 'Whole', 'mention': 'ресторане', 'start': '298', 'end': '307', 'sentiment': 'negative'}, {'category': 'Whole', 'mention': 'отдохнувшие', 'start': '347', 'end': '358', 'sentiment': 'positive'}], '36589': [{'category': 'Service', 'mention': 'персоналу', 'start': '57', 'end': '66', 'sentiment': 'positive'}, {'category': 'Service', 'mention': 'обслуживание', 'start': '83', 'end': '95', 'sentiment': 'positive'}, {'category': 'Whole', 'mention': 'Ресторан', 'start': '97', 'end': '105', 'sentiment': 'positive'}, {'category': 'Interior', 'mention': 'вид из окон', 'start': '120', 'end': '131', 'sentiment': 'positive'}, {'category': 'Food', 'mention': 'Еда', 'start': '158', 'end': '161', 'sentiment': 'positive'}, {'category': 'Food', 'mention': 'оформление блюд', 'start': '189', 'end': '204', 'sentiment': 'positive'}, {'category': 'Whole', 'mention': 'ресторанов', 'start': '269', 'end': '279', 'sentiment': 'neutral'}, {'category': 'Whole', 'mention': 'место', 'start': '340', 'end': '345', 'sentiment': 'positive'}], '3875': [{'category': 'Whole', 'mention': 'место', 'start': '13', 'end': '18', 'sentiment': 'positive'}, {'category': 'Interior', 'mention': 'атмосфера', 'start': '27', 'end': '36', 'sentiment': 'positive'}, {'category': 'Interior', 'mention': 'зона для некурящих', 'start': '43', 'end': '61', 'sentiment': 'positive'}, {'category': 'Whole', 'mention': 'заведений', 'start': '144', 'end': '153', 'sentiment': 'positive'}, {'category': 'Food', 'mention': 'кухня', 'start': '164', 'end': '169', 'sentiment': 'positive'}, {'category': 'Service', 'mention': 'обслуживание', 'start': '206', 'end': '218', 'sentiment': 'positive'}, {'category': 'Price', 'mention': 'цене', 'start': '261', 'end': '265', 'sentiment': 'positive'}, {'category': 'Service', 'mention': 'Персонал', 'start': '267', 'end': '275', 'sentiment': 'positive'}, {'category': 'Interior', 'mention': 'большом экране', 'start': '369', 'end': '383', 'sentiment': 'positive'}, {'category': 'Interior', 'mention': 'картинам на стенах', 'start': '416', 'end': '434', 'sentiment': 'positive'}, {'category': 'Interior', 'mention': 'залам', 'start': '463', 'end': '468', 'sentiment': 'positive'}, {'category': 'Food', 'mention': 'суши', 'start': '564', 'end': '568', 'sentiment': 'positive'}, {'category': 'Food', 'mention': 'пива', 'start': '604', 'end': '608', 'sentiment': 'positive'}, {'category': 'Whole', 'mention': 'заведению', 'start': '787', 'end': '796', 'sentiment': 'positive'}, {'category': 'Service', 'mention': 'персоналу', 'start': '799', 'end': '808', 'sentiment': 'positive'}, {'category': 'Whole', 'mention': 'вечер', 'start': '821', 'end': '826', 'sentiment': 'positive'}], '27569': [{'category': 'Whole', 'mention': 'Арагви', 'start': '22', 'end': '28', 'sentiment': 'neutral'}, {'category': 'Service', 'mention': 'столик забронировали', 'start': '67', 'end': '87', 'sentiment': 'neutral'}, {'category': 'Food', 'mention': 'кухня', 'start': '123', 'end': '128', 'sentiment': 'positive'}, {'category': 'Service', 'mention': 'обслуживание', 'start': '132', 'end': '144', 'sentiment': 'positive'}, {'category': 'Interior', 'mention': 'обстановка', 'start': '148', 'end': '158', 'sentiment': 'positive'}, {'category': 'Whole', 'mention': 'ресторан', 'start': '165', 'end': '173', 'sentiment': 'positive'}, {'category': 'Service', 'mention': 'заказали столик', 'start': '303', 'end': '318', 'sentiment': 'neutral'}, {'category': 'Food', 'mention': 'Готовят', 'start': '409', 'end': '416', 'sentiment': 'positive'}, {'category': 'Whole', 'mention': 'Арагви', 'start': '419', 'end': '425', 'sentiment': 'positive'}, {'category': 'Service', 'mention': 'ждать', 'start': '440', 'end': '445', 'sentiment': 'positive'}, {'category': 'Food', 'mention': 'еду', 'start': '446', 'end': '449', 'sentiment': 'neutral'}, {'category': 'Food', 'mention': 'зелень с овощами', 'start': '481', 'end': '497', 'sentiment': 'positive'}, {'category': 'Food', 'mention': 'шашлык', 'start': '547', 'end': '553', 'sentiment': 'positive'}, {'category': 'Food', 'mention': 'телятины', 'start': '587', 'end': '595', 'sentiment': 'positive'}, {'category': 'Food', 'mention': 'свинины', 'start': '608', 'end': '615', 'sentiment': 'positive'}, {'category': 'Food', 'mention': 'чебуреки', 'start': '631', 'end': '639', 'sentiment': 'positive'}, {'category': 'Food', 'mention': 'десертов', 'start': '641', 'end': '649', 'sentiment': 'positive'}, {'category': 'Food', 'mention': 'десерт', 'start': '699', 'end': '705', 'sentiment': 'positive'}, {'category': 'Food', 'mention': 'печёную грушу', 'start': '708', 'end': '721', 'sentiment': 'positive'}, {'category': 'Food', 'mention': 'грузинских вин', 'start': '736', 'end': '750', 'sentiment': 'negative'}, {'category': 'Interior', 'mention': 'Музыка', 'start': '771', 'end': '777', 'sentiment': 'positive'}, {'category': 'Interior', 'mention': 'обстановка', 'start': '801', 'end': '811', 'sentiment': 'positive'}, {'category': 'Whole', 'mention': 'место', 'start': '874', 'end': '879', 'sentiment': 'positive'}, {'category': 'Food', 'mention': 'поесть', 'start': '909', 'end': '915', 'sentiment': 'positive'}, {'category': 'Whole', 'mention': 'Арагви', 'start': '917', 'end': '923', 'sentiment': 'positive'}], '2089': [{'category': 'Food', 'mention': 'Пиво', 'start': '0', 'end': '4', 'sentiment': 'positive'}, {'category': 'Service', 'mention': 'обслуживание', 'start': '28', 'end': '40', 'sentiment': 'negative'}, {'category': 'Food', 'mention': 'тарелку к пиву', 'start': '57', 'end': '71', 'sentiment': 'neutral'}, {'category': 'Food', 'mention': 'пиво', 'start': '79', 'end': '83', 'sentiment': 'neutral'}, {'category': 'Food', 'mention': 'мясо', 'start': '102', 'end': '106', 'sentiment': 'neutral'}, {'category': 'Food', 'mention': 'Тарелку к пиву', 'start': '108', 'end': '122', 'sentiment': 'neutral'}, {'category': 'Service', 'mention': 'принесли', 'start': '123', 'end': '131', 'sentiment': 'negative'}, {'category': 'Food', 'mention': 'пива', 'start': '161', 'end': '165', 'sentiment': 'neutral'}, {'category': 'Whole', 'mention': 'заведение', 'start': '172', 'end': '181', 'sentiment': 'negative'}, {'category': 'Service', 'mention': 'приносить', 'start': '245', 'end': '254', 'sentiment': 'negative'}, {'category': 'Food', 'mention': 'блюда', 'start': '363', 'end': '368', 'sentiment': 'neutral'}, {'category': 'Food', 'mention': 'Мясо', 'start': '386', 'end': '390', 'sentiment': 'neutral'}, {'category': 'Service', 'mention': 'ждали', 'start': '406', 'end': '411', 'sentiment': 'negative'}, {'category': 'Food', 'mention': 'гарнир', 'start': '437', 'end': '443', 'sentiment': 'neutral'}, {'category': 'Food', 'mention': 'мясо', 'start': '462', 'end': '466', 'sentiment': 'neutral'}, {'category': 'Service', 'mention': 'девушка', 'start': '497', 'end': '504', 'sentiment': 'negative'}], '4658': [{'category': 'Whole', 'mention': 'Двух палочках', 'start': '10', 'end': '23', 'sentiment': 'positive'}, {'category': 'Interior', 'mention': 'Интерьер', 'start': '116', 'end': '124', 'sentiment': 'positive'}, {'category': 'Food', 'mention': 'Еда', 'start': '152', 'end': '155', 'sentiment': 'positive'}, {'category': 'Service', 'mention': 'обслуживание', 'start': '158', 'end': '170', 'sentiment': 'positive'}, {'category': 'Price', 'mention': 'цены', 'start': '210', 'end': '214', 'sentiment': 'positive'}, {'category': 'Whole', 'mention': 'ресторан', 'start': '225', 'end': '233', 'sentiment': 'positive'}, {'category': 'Service', 'mention': 'официантам', 'start': '285', 'end': '295', 'sentiment': 'positive'}, {'category': 'Whole', 'mention': 'Две палочки', 'start': '365', 'end': '376', 'sentiment': 'positive'}], '12372': [{'category': 'Interior', 'mention': 'интерьер', 'start': '48', 'end': '56', 'sentiment': 'neutral'}, {'category': 'Interior', 'mention': 'столы', 'start': '113', 'end': '118', 'sentiment': 'positive'}, {'category': 'Food', 'mention': 'кухня', 'start': '140', 'end': '145', 'sentiment': 'positive'}, {'category': 'Food', 'mention': 'шашлык из куриной грудки', 'start': '206', 'end': '230', 'sentiment': 'positive'}, {'category': 'Food', 'mention': 'супы', 'start': '281', 'end': '285', 'sentiment': 'positive'}, {'category': 'Interior', 'mention': 'живая музыка', 'start': '336', 'end': '348', 'sentiment': 'negative'}, {'category': 'Whole', 'mention': 'ресторана', 'start': '473', 'end': '482', 'sentiment': 'positive'}, {'category': 'Price', 'mention': 'цена', 'start': '487', 'end': '491', 'sentiment': 'neutral'}, {'category': 'Price', 'mention': 'цены', 'start': '567', 'end': '571', 'sentiment': 'positive'}], '34334': [{'category': 'Interior', 'mention': 'зал', 'start': '145', 'end': '148', 'sentiment': 'positive'}, {'category': 'Service', 'mention': 'официанты', 'start': '159', 'end': '168', 'sentiment': 'positive'}, {'category': 'Food', 'mention': 'еда', 'start': '178', 'end': '181', 'sentiment': 'positive'}, {'category': 'Service', 'mention': 'персонала', 'start': '226', 'end': '235', 'sentiment': 'positive'}, {'category': 'Whole', 'mention': 'ресторан', 'start': '277', 'end': '285', 'sentiment': 'positive'}, {'category': 'Food', 'mention': 'меню', 'start': '298', 'end': '302', 'sentiment': 'positive'}, {'category': 'Interior', 'mention': 'зал', 'start': '314', 'end': '317', 'sentiment': 'positive'}, {'category': 'Whole', 'mention': 'ресторанах', 'start': '358', 'end': '368', 'sentiment': 'negative'}, {'category': 'Interior', 'mention': 'стены', 'start': '417', 'end': '422', 'sentiment': 'negative'}, {'category': 'Price', 'mention': 'цены', 'start': '489', 'end': '493', 'sentiment': 'positive'}, {'category': 'Food', 'mention': 'торт', 'start': '502', 'end': '506', 'sentiment': 'positive'}, {'category': 'Food', 'mention': 'торт', 'start': '594', 'end': '598', 'sentiment': 'negative'}, {'category': 'Service', 'mention': 'Официанты', 'start': '621', 'end': '630', 'sentiment': 'positive'}, {'category': 'Service', 'mention': 'подходили', 'start': '670', 'end': '679', 'sentiment': 'positive'}, {'category': 'Service', 'mention': 'спрашивали', 'start': '680', 'end': '690', 'sentiment': 'positive'}, {'category': 'Service', 'mention': 'Персонал', 'start': '847', 'end': '855', 'sentiment': 'positive'}, {'category': 'Whole', 'mention': 'ресторанах', 'start': '926', 'end': '936', 'sentiment': 'negative'}, {'category': 'Service', 'mention': 'помогла', 'start': '1000', 'end': '1007', 'sentiment': 'positive'}, {'category': 'Food', 'mention': 'меню', 'start': '1010', 'end': '1014', 'sentiment': 'positive'}, {'category': 'Food', 'mention': 'тортом', 'start': '1027', 'end': '1033', 'sentiment': 'positive'}, {'category': 'Whole', 'mention': 'место', 'start': '1218', 'end': '1223', 'sentiment': 'positive'}], '2364': [{'category': 'Whole', 'mention': 'ресторане \"Долина\"', 'start': '46', 'end': '64', 'sentiment': 'neutral'}, {'category': 'Whole', 'mention': 'Вечер', 'start': '66', 'end': '71', 'sentiment': 'positive'}, {'category': 'Interior', 'mention': 'красиво', 'start': '97', 'end': '104', 'sentiment': 'positive'}, {'category': 'Interior', 'mention': 'оформлены', 'start': '107', 'end': '116', 'sentiment': 'positive'}, {'category': 'Interior', 'mention': 'столы', 'start': '117', 'end': '122', 'sentiment': 'positive'}, {'category': 'Food', 'mention': 'кухня', 'start': '131', 'end': '136', 'sentiment': 'positive'}, {'category': 'Interior', 'mention': 'интерьер', 'start': '148', 'end': '156', 'sentiment': 'positive'}, {'category': 'Interior', 'mention': 'Атмосфера', 'start': '196', 'end': '205', 'sentiment': 'positive'}, {'category': 'Service', 'mention': 'обслуживание', 'start': '246', 'end': '258', 'sentiment': 'positive'}, {'category': 'Service', 'mention': 'официантов', 'start': '259', 'end': '269', 'sentiment': 'positive'}, {'category': 'Whole', 'mention': 'вечер', 'start': '484', 'end': '489', 'sentiment': 'positive'}, {'category': 'Whole', 'mention': 'Заведение', 'start': '491', 'end': '500', 'sentiment': 'positive'}], '3762': [{'category': 'Food', 'mention': 'пиво', 'start': '156', 'end': '160', 'sentiment': 'neutral'}, {'category': 'Food', 'mention': 'шницель', 'start': '181', 'end': '188', 'sentiment': 'positive'}, {'category': 'Food', 'mention': 'мороженое', 'start': '347', 'end': '356', 'sentiment': 'positive'}, {'category': 'Food', 'mention': 'настойку', 'start': '369', 'end': '377', 'sentiment': 'positive'}, {'category': 'Food', 'mention': 'Мороженое', 'start': '467', 'end': '476', 'sentiment': 'positive'}, {'category': 'Whole', 'mention': 'заведение', 'start': '532', 'end': '541', 'sentiment': 'positive'}, {'category': 'Interior', 'mention': 'зале для курящих', 'start': '667', 'end': '683', 'sentiment': 'neutral'}, {'category': 'Service', 'mention': 'официантов', 'start': '738', 'end': '748', 'sentiment': 'negative'}, {'category': 'Service', 'mention': 'девушки', 'start': '756', 'end': '763', 'sentiment': 'negative'}], '15758': [{'category': 'Whole', 'mention': 'заведении', 'start': '6', 'end': '15', 'sentiment': 'neutral'}, {'category': 'Whole', 'mention': 'Ресторану', 'start': '60', 'end': '69', 'sentiment': 'both'}, {'category': 'Whole', 'mention': 'место', 'start': '131', 'end': '136', 'sentiment': 'positive'}, {'category': 'Service', 'mention': 'обслуживание', 'start': '153', 'end': '165', 'sentiment': 'positive'}, {'category': 'Food', 'mention': 'еда', 'start': '177', 'end': '180', 'sentiment': 'positive'}, {'category': 'Food', 'mention': 'салаты', 'start': '209', 'end': '215', 'sentiment': 'positive'}, {'category': 'Food', 'mention': 'горячее', 'start': '218', 'end': '225', 'sentiment': 'positive'}, {'category': 'Food', 'mention': 'стейк из лосося', 'start': '226', 'end': '241', 'sentiment': 'positive'}, {'category': 'Food', 'mention': '\"сытая хавронья\" из свинины', 'start': '264', 'end': '291', 'sentiment': 'positive'}, {'category': 'Service', 'mention': 'Принесли', 'start': '294', 'end': '302', 'sentiment': 'positive'}, {'category': 'Food', 'mention': 'алкоголя', 'start': '320', 'end': '328', 'sentiment': 'negative'}, {'category': 'Food', 'mention': 'пива', 'start': '336', 'end': '340', 'sentiment': 'positive'}, {'category': 'Food', 'mention': 'медовуха', 'start': '389', 'end': '397', 'sentiment': 'positive'}, {'category': 'Food', 'mention': 'разнообразия в меню', 'start': '460', 'end': '479', 'sentiment': 'positive'}], '30368': [{'category': 'Whole', 'mention': 'пабе \"Джон Донн\"', 'start': '93', 'end': '109', 'sentiment': 'neutral'}, {'category': 'Service', 'mention': 'сотрудники', 'start': '176', 'end': '186', 'sentiment': 'positive'}, {'category': 'Service', 'mention': 'здороваются', 'start': '200', 'end': '211', 'sentiment': 'positive'}, {'category': 'Service', 'mention': 'девушка официантка', 'start': '224', 'end': '242', 'sentiment': 'positive'}, {'category': 'Service', 'mention': 'предложила', 'start': '243', 'end': '253', 'sentiment': 'positive'}, {'category': 'Food', 'mention': 'выбор пива', 'start': '359', 'end': '369', 'sentiment': 'positive'}, {'category': 'Food', 'mention': 'Перепробовали', 'start': '557', 'end': '570', 'sentiment': 'positive'}, {'category': 'Food', 'mention': 'пиво', 'start': '607', 'end': '611', 'sentiment': 'positive'}, {'category': 'Food', 'mention': 'Кухня', 'start': '622', 'end': '627', 'sentiment': 'positive'}, {'category': 'Food', 'mention': 'пивная тарелка', 'start': '648', 'end': '662', 'sentiment': 'positive'}, {'category': 'Food', 'mention': 'закуски', 'start': '721', 'end': '728', 'sentiment': 'positive'}, {'category': 'Food', 'mention': 'горячих блюд', 'start': '781', 'end': '793', 'sentiment': 'positive'}, {'category': 'Food', 'mention': 'Фиш & Чипс', 'start': '812', 'end': '822', 'sentiment': 'positive'}, {'category': 'Food', 'mention': 'Стрейк Нью-Йорк', 'start': '824', 'end': '839', 'sentiment': 'positive'}, {'category': 'Food', 'mention': 'десерт', 'start': '903', 'end': '909', 'sentiment': 'neutral'}, {'category': 'Food', 'mention': 'сорбете', 'start': '937', 'end': '944', 'sentiment': 'neutral'}, {'category': 'Interior', 'mention': 'Интерьер', 'start': '1058', 'end': '1066', 'sentiment': 'positive'}, {'category': 'Whole', 'mention': 'паба', 'start': '1102', 'end': '1106', 'sentiment': 'positive'}, {'category': 'Interior', 'mention': 'обстановка', 'start': '1179', 'end': '1189', 'sentiment': 'positive'}], '7053': [{'category': 'Whole', 'mention': '\"Базилик\"', 'start': '8', 'end': '17', 'sentiment': 'neutral'}, {'category': 'Whole', 'mention': 'кафе', 'start': '78', 'end': '82', 'sentiment': 'neutral'}, {'category': 'Interior', 'mention': 'интерьер', 'start': '176', 'end': '184', 'sentiment': 'positive'}, {'category': 'Interior', 'mention': 'музыка', 'start': '186', 'end': '192', 'sentiment': 'positive'}, {'category': 'Food', 'mention': 'еда', 'start': '207', 'end': '210', 'sentiment': 'positive'}, {'category': 'Food', 'mention': 'лимонад \"Базилик\"', 'start': '245', 'end': '262', 'sentiment': 'positive'}, {'category': 'Whole', 'mention': 'кафе', 'start': '307', 'end': '311', 'sentiment': 'positive'}, {'category': 'Service', 'mention': 'Обслуживание', 'start': '386', 'end': '398', 'sentiment': 'positive'}, {'category': 'Service', 'mention': 'официанты', 'start': '430', 'end': '439', 'sentiment': 'positive'}, {'category': 'Whole', 'mention': 'место', 'start': '460', 'end': '465', 'sentiment': 'positive'}, {'category': 'Price', 'mention': 'цене', 'start': '490', 'end': '494', 'sentiment': 'positive'}], '5974': [{'category': 'Interior', 'mention': 'интерьер', 'start': '9', 'end': '17', 'sentiment': 'positive'}, {'category': 'Interior', 'mention': 'атмосфера', 'start': '28', 'end': '37', 'sentiment': 'positive'}, {'category': 'Interior', 'mention': 'живая музыка', 'start': '40', 'end': '52', 'sentiment': 'positive'}, {'category': 'Food', 'mention': 'оформление блюд', 'start': '77', 'end': '92', 'sentiment': 'positive'}, {'category': 'Service', 'mention': 'ждали', 'start': '233', 'end': '238', 'sentiment': 'negative'}, {'category': 'Service', 'mention': 'обслуживание', 'start': '298', 'end': '310', 'sentiment': 'negative'}, {'category': 'Service', 'mention': 'поваров', 'start': '321', 'end': '328', 'sentiment': 'negative'}, {'category': 'Service', 'mention': 'официантов', 'start': '333', 'end': '343', 'sentiment': 'negative'}, {'category': 'Service', 'mention': 'Ждал', 'start': '346', 'end': '350', 'sentiment': 'negative'}, {'category': 'Service', 'mention': 'официантка', 'start': '497', 'end': '507', 'sentiment': 'neutral'}, {'category': 'Price', 'mention': 'счете', 'start': '523', 'end': '528', 'sentiment': 'negative'}, {'category': 'Service', 'mention': 'заказали', 'start': '567', 'end': '575', 'sentiment': 'negative'}, {'category': 'Service', 'mention': 'чеке', 'start': '634', 'end': '638', 'sentiment': 'negative'}, {'category': 'Service', 'mention': 'Счет', 'start': '694', 'end': '698', 'sentiment': 'negative'}, {'category': 'Service', 'mention': 'официантка', 'start': '803', 'end': '813', 'sentiment': 'negative'}, {'category': 'Whole', 'mention': 'Общее мнение', 'start': '847', 'end': '859', 'sentiment': 'both'}, {'category': 'Whole', 'mention': 'места', 'start': '880', 'end': '885', 'sentiment': 'both'}], '2747': [{'category': 'Whole', 'mention': '\"Восточный Экспресс\"', 'start': '140', 'end': '160', 'sentiment': 'positive'}, {'category': 'Whole', 'mention': 'место', 'start': '172', 'end': '177', 'sentiment': 'positive'}, {'category': 'Interior', 'mention': 'обстановке', 'start': '216', 'end': '226', 'sentiment': 'positive'}, {'category': 'Interior', 'mention': 'зале для курящих', 'start': '270', 'end': '286', 'sentiment': 'positive'}, {'category': 'Interior', 'mention': 'диванчики-купе', 'start': '311', 'end': '325', 'sentiment': 'positive'}, {'category': 'Interior', 'mention': 'вентиляция', 'start': '335', 'end': '345', 'sentiment': 'positive'}, {'category': 'Food', 'mention': 'Кухня', 'start': '363', 'end': '368', 'sentiment': 'positive'}, {'category': 'Service', 'mention': 'обслуживание', 'start': '371', 'end': '383', 'sentiment': 'positive'}, {'category': 'Service', 'mention': 'сотрудникам ресторана', 'start': '448', 'end': '469', 'sentiment': 'positive'}, {'category': 'Food', 'mention': 'салат \"Кавказский\"', 'start': '558', 'end': '576', 'sentiment': 'positive'}, {'category': 'Food', 'mention': 'грейпфрута', 'start': '611', 'end': '621', 'sentiment': 'positive'}, {'category': 'Food', 'mention': 'Салат с малосольным лососем', 'start': '623', 'end': '650', 'sentiment': 'positive'}, {'category': 'Food', 'mention': 'Дораду с овощами', 'start': '685', 'end': '701', 'sentiment': 'positive'}, {'category': 'Food', 'mention': 'овощной гарнир', 'start': '730', 'end': '744', 'sentiment': 'positive'}, {'category': 'Food', 'mention': 'Форель, запеченная с овощами', 'start': '746', 'end': '774', 'sentiment': 'positive'}, {'category': 'Food', 'mention': 'соусом из петрушки', 'start': '777', 'end': '795', 'sentiment': 'positive'}, {'category': 'Food', 'mention': 'оформленное', 'start': '824', 'end': '835', 'sentiment': 'positive'}, {'category': 'Food', 'mention': 'блюдо', 'start': '836', 'end': '841', 'sentiment': 'positive'}, {'category': 'Food', 'mention': 'чебуреки', 'start': '866', 'end': '874', 'sentiment': 'neutral'}, {'category': 'Food', 'mention': 'чебурека', 'start': '919', 'end': '927', 'sentiment': 'neutral'}, {'category': 'Food', 'mention': 'соус тар-тар', 'start': '929', 'end': '941', 'sentiment': 'positive'}, {'category': 'Food', 'mention': 'тесто', 'start': '963', 'end': '968', 'sentiment': 'positive'}, {'category': 'Food', 'mention': 'мясо', 'start': '977', 'end': '981', 'sentiment': 'positive'}, {'category': 'Food', 'mention': 'Морс - из натуральной клюквы', 'start': '995', 'end': '1023', 'sentiment': 'positive'}, {'category': 'Food', 'mention': 'десерт', 'start': '1042', 'end': '1048', 'sentiment': 'positive'}, {'category': 'Food', 'mention': 'вишневый штрудель', 'start': '1057', 'end': '1074', 'sentiment': 'positive'}, {'category': 'Food', 'mention': 'вишни', 'start': '1082', 'end': '1087', 'sentiment': 'positive'}, {'category': 'Food', 'mention': 'мороженого', 'start': '1098', 'end': '1108', 'sentiment': 'positive'}, {'category': 'Food', 'mention': 'яблочный пирог', 'start': '1119', 'end': '1133', 'sentiment': 'positive'}, {'category': 'Food', 'mention': 'клубнчный десерт', 'start': '1153', 'end': '1169', 'sentiment': 'positive'}, {'category': 'Food', 'mention': 'панакота с клубничным пюре', 'start': '1181', 'end': '1207', 'sentiment': 'positive'}, {'category': 'Whole', 'mention': 'провели время', 'start': '1247', 'end': '1260', 'sentiment': 'positive'}, {'category': 'Food', 'mention': 'поели', 'start': '1270', 'end': '1275', 'sentiment': 'positive'}, {'category': 'Whole', 'mention': 'ресторане', 'start': '1290', 'end': '1299', 'sentiment': 'positive'}], '36166': [{'category': 'Whole', 'mention': 'ресторан', 'start': '51', 'end': '59', 'sentiment': 'positive'}, {'category': 'Whole', 'mention': 'ресторан', 'start': '144', 'end': '152', 'sentiment': 'positive'}, {'category': 'Food', 'mention': 'Маргарита', 'start': '197', 'end': '206', 'sentiment': 'positive'}, {'category': 'Food', 'mention': 'еда', 'start': '216', 'end': '219', 'sentiment': 'positive'}, {'category': 'Interior', 'mention': 'музыка', 'start': '231', 'end': '237', 'sentiment': 'positive'}, {'category': 'Food', 'mention': 'мексиканкой едой', 'start': '352', 'end': '368', 'sentiment': 'positive'}, {'category': 'Interior', 'mention': 'атмосферой', 'start': '370', 'end': '380', 'sentiment': 'positive'}, {'category': 'Whole', 'mention': 'провести вечер', 'start': '391', 'end': '405', 'sentiment': 'positive'}, {'category': 'Service', 'mention': 'работает', 'start': '443', 'end': '451', 'sentiment': 'positive'}, {'category': 'Whole', 'mention': 'заведений', 'start': '485', 'end': '494', 'sentiment': 'negative'}, {'category': 'Whole', 'mention': 'место', 'start': '505', 'end': '510', 'sentiment': 'positive'}], '33524': [{'category': 'Whole', 'mention': 'место', 'start': '4', 'end': '9', 'sentiment': 'neutral'}, {'category': 'Whole', 'mention': 'место', 'start': '66', 'end': '71', 'sentiment': 'positive'}, {'category': 'Food', 'mention': 'мясе', 'start': '116', 'end': '120', 'sentiment': 'positive'}, {'category': 'Whole', 'mention': 'Абажур', 'start': '144', 'end': '150', 'sentiment': 'positive'}, {'category': 'Food', 'mention': 'Мясо', 'start': '152', 'end': '156', 'sentiment': 'positive'}, {'category': 'Whole', 'mention': 'заведении', 'start': '215', 'end': '224', 'sentiment': 'neutral'}, {'category': 'Food', 'mention': 'покушать', 'start': '237', 'end': '245', 'sentiment': 'positive'}, {'category': 'Food', 'mention': 'мяса', 'start': '246', 'end': '250', 'sentiment': 'positive'}, {'category': 'Food', 'mention': 'кухней', 'start': '271', 'end': '277', 'sentiment': 'positive'}, {'category': 'Whole', 'mention': 'общение', 'start': '310', 'end': '317', 'sentiment': 'positive'}, {'category': 'Service', 'mention': 'официанта', 'start': '318', 'end': '327', 'sentiment': 'positive'}, {'category': 'Food', 'mention': 'Официанты', 'start': '366', 'end': '375', 'sentiment': 'positive'}, {'category': 'Service', 'mention': 'расскажут', 'start': '399', 'end': '408', 'sentiment': 'positive'}, {'category': 'Food', 'mention': 'блюдах', 'start': '416', 'end': '422', 'sentiment': 'neutral'}, {'category': 'Service', 'mention': 'дадут совет', 'start': '424', 'end': '435', 'sentiment': 'positive'}, {'category': 'Food', 'mention': 'состав блюда', 'start': '473', 'end': '485', 'sentiment': 'neutral'}, {'category': 'Service', 'mention': 'люди', 'start': '526', 'end': '530', 'sentiment': 'positive'}, {'category': 'Service', 'mention': 'отношения', 'start': '581', 'end': '590', 'sentiment': 'positive'}, {'category': 'Service', 'mention': 'официантов', 'start': '591', 'end': '601', 'sentiment': 'positive'}, {'category': 'Whole', 'mention': 'зайти', 'start': '616', 'end': '621', 'sentiment': 'positive'}, {'category': 'Food', 'mention': 'Кухней', 'start': '655', 'end': '661', 'sentiment': 'positive'}, {'category': 'Whole', 'mention': 'место', 'start': '741', 'end': '746', 'sentiment': 'positive'}, {'category': 'Food', 'mention': 'утку', 'start': '782', 'end': '786', 'sentiment': 'positive'}, {'category': 'Food', 'mention': 'попробовать', 'start': '799', 'end': '810', 'sentiment': 'positive'}, {'category': 'Service', 'mention': 'повара', 'start': '857', 'end': '863', 'sentiment': 'positive'}, {'category': 'Food', 'mention': 'кофе', 'start': '911', 'end': '915', 'sentiment': 'positive'}, {'category': 'Interior', 'mention': 'Интерьер', 'start': '917', 'end': '925', 'sentiment': 'positive'}, {'category': 'Interior', 'mention': 'освещение', 'start': '936', 'end': '945', 'sentiment': 'positive'}, {'category': 'Interior', 'mention': 'места', 'start': '954', 'end': '959', 'sentiment': 'positive'}, {'category': 'Interior', 'mention': 'музыка', 'start': '969', 'end': '975', 'sentiment': 'positive'}, {'category': 'Whole', 'mention': 'Абажур', 'start': '1025', 'end': '1031', 'sentiment': 'positive'}], '28710': [{'category': 'Whole', 'mention': 'место', 'start': '9', 'end': '14', 'sentiment': 'positive'}, {'category': 'Whole', 'mention': 'Legran', 'start': '171', 'end': '177', 'sentiment': 'positive'}, {'category': 'Whole', 'mention': 'вечер', 'start': '271', 'end': '276', 'sentiment': 'positive'}, {'category': 'Food', 'mention': 'шеф-повару', 'start': '286', 'end': '296', 'sentiment': 'positive'}, {'category': 'Interior', 'mention': 'Интерьер', 'start': '341', 'end': '349', 'sentiment': 'positive'}, {'category': 'Interior', 'mention': 'елочка', 'start': '415', 'end': '421', 'sentiment': 'positive'}, {'category': 'Interior', 'mention': 'фонарики', 'start': '428', 'end': '436', 'sentiment': 'positive'}, {'category': 'Interior', 'mention': 'диваны', 'start': '490', 'end': '496', 'sentiment': 'positive'}, {'category': 'Interior', 'mention': 'свечи', 'start': '497', 'end': '502', 'sentiment': 'positive'}, {'category': 'Interior', 'mention': 'рояль', 'start': '510', 'end': '515', 'sentiment': 'positive'}, {'category': 'Interior', 'mention': 'живая музыка', 'start': '583', 'end': '595', 'sentiment': 'positive'}, {'category': 'Interior', 'mention': 'пианистка', 'start': '597', 'end': '606', 'sentiment': 'positive'}, {'category': 'Interior', 'mention': 'роялем', 'start': '623', 'end': '629', 'sentiment': 'positive'}, {'category': 'Service', 'mention': 'Персонал', 'start': '648', 'end': '656', 'sentiment': 'positive'}, {'category': 'Service', 'mention': 'встретила', 'start': '704', 'end': '713', 'sentiment': 'positive'}, {'category': 'Service', 'mention': 'хостесс', 'start': '726', 'end': '733', 'sentiment': 'positive'}, {'category': 'Whole', 'mention': 'впечатление', 'start': '744', 'end': '755', 'sentiment': 'positive'}, {'category': 'Service', 'mention': 'Официанты', 'start': '810', 'end': '819', 'sentiment': 'positive'}, {'category': 'Whole', 'mention': 'ресторан', 'start': '936', 'end': '944', 'sentiment': 'positive'}], '9837': [{'category': 'Whole', 'mention': 'ресторан', 'start': '18', 'end': '26', 'sentiment': 'positive'}, {'category': 'Food', 'mention': 'кухня', 'start': '81', 'end': '86', 'sentiment': 'positive'}, {'category': 'Food', 'mention': 'порции', 'start': '95', 'end': '101', 'sentiment': 'both'}, {'category': 'Food', 'mention': 'салат', 'start': '126', 'end': '131', 'sentiment': 'neutral'}, {'category': 'Food', 'mention': 'основное блюдо', 'start': '148', 'end': '162', 'sentiment': 'neutral'}, {'category': 'Food', 'mention': 'порций', 'start': '200', 'end': '206', 'sentiment': 'positive'}, {'category': 'Food', 'mention': 'вино', 'start': '236', 'end': '240', 'sentiment': 'positive'}, {'category': 'Interior', 'mention': 'Интерьер', 'start': '242', 'end': '250', 'sentiment': 'positive'}, {'category': 'Interior', 'mention': 'первый зал', 'start': '292', 'end': '302', 'sentiment': 'positive'}, {'category': 'Interior', 'mention': 'интерьеру', 'start': '382', 'end': '391', 'sentiment': 'positive'}, {'category': 'Interior', 'mention': 'таверну', 'start': '402', 'end': '409', 'sentiment': 'positive'}, {'category': 'Service', 'mention': 'Обслуживание', 'start': '411', 'end': '423', 'sentiment': 'positive'}, {'category': 'Service', 'mention': 'официантки', 'start': '460', 'end': '470', 'sentiment': 'positive'}, {'category': 'Interior', 'mention': 'атмосфера', 'start': '514', 'end': '523', 'sentiment': 'positive'}], '9216': [{'category': 'Whole', 'mention': 'ресторан', 'start': '14', 'end': '22', 'sentiment': 'positive'}, {'category': 'Interior', 'mention': 'зал', 'start': '102', 'end': '105', 'sentiment': 'positive'}, {'category': 'Interior', 'mention': 'кондеями', 'start': '108', 'end': '116', 'sentiment': 'positive'}, {'category': 'Interior', 'mention': 'Интерьер', 'start': '117', 'end': '125', 'sentiment': 'positive'}, {'category': 'Service', 'mention': 'обслуживание', 'start': '137', 'end': '149', 'sentiment': 'negative'}, {'category': 'Whole', 'mention': 'ресторан', 'start': '171', 'end': '179', 'sentiment': 'neutral'}, {'category': 'Food', 'mention': 'хлеб', 'start': '425', 'end': '429', 'sentiment': 'neutral'}, {'category': 'Food', 'mention': 'напитки', 'start': '431', 'end': '438', 'sentiment': 'neutral'}, {'category': 'Food', 'mention': 'холодные нарезки', 'start': '441', 'end': '457', 'sentiment': 'neutral'}, {'category': 'Service', 'mention': 'офицанта', 'start': '531', 'end': '539', 'sentiment': 'negative'}, {'category': 'Service', 'mention': 'готовят', 'start': '560', 'end': '567', 'sentiment': 'negative'}, {'category': 'Service', 'mention': 'директору', 'start': '625', 'end': '634', 'sentiment': 'negative'}, {'category': 'Food', 'mention': 'порции', 'start': '783', 'end': '789', 'sentiment': 'negative'}, {'category': 'Food', 'mention': 'еды', 'start': '853', 'end': '856', 'sentiment': 'negative'}, {'category': 'Service', 'mention': 'до заказывать', 'start': '877', 'end': '890', 'sentiment': 'negative'}, {'category': 'Service', 'mention': 'Работал', 'start': '912', 'end': '919', 'sentiment': 'negative'}, {'category': 'Service', 'mention': 'офицант', 'start': '925', 'end': '932', 'sentiment': 'negative'}, {'category': 'Service', 'mention': 'админестратор', 'start': '935', 'end': '948', 'sentiment': 'negative'}], '36321': [{'category': 'Interior', 'mention': 'Обстановка', 'start': '57', 'end': '67', 'sentiment': 'positive'}, {'category': 'Interior', 'mention': 'помещение', 'start': '130', 'end': '139', 'sentiment': 'positive'}, {'category': 'Interior', 'mention': 'Интерьер', 'start': '263', 'end': '271', 'sentiment': 'positive'}, {'category': 'Interior', 'mention': 'живописью', 'start': '325', 'end': '334', 'sentiment': 'positive'}, {'category': 'Food', 'mention': 'Кухня', 'start': '361', 'end': '366', 'sentiment': 'positive'}, {'category': 'Food', 'mention': 'разнообразием', 'start': '417', 'end': '430', 'sentiment': 'positive'}, {'category': 'Food', 'mention': 'вкусом', 'start': '432', 'end': '438', 'sentiment': 'positive'}, {'category': 'Food', 'mention': 'количеством', 'start': '441', 'end': '452', 'sentiment': 'positive'}, {'category': 'Food', 'mention': 'шеф-повар', 'start': '551', 'end': '560', 'sentiment': 'positive'}, {'category': 'Food', 'mention': 'выпекает', 'start': '561', 'end': '569', 'sentiment': 'positive'}, {'category': 'Food', 'mention': 'торты', 'start': '584', 'end': '589', 'sentiment': 'positive'}, {'category': 'Food', 'mention': 'выбора горячего', 'start': '668', 'end': '683', 'sentiment': 'negative'}, {'category': 'Food', 'mention': 'красная рыба', 'start': '685', 'end': '697', 'sentiment': 'neutral'}, {'category': 'Food', 'mention': 'говядина', 'start': '702', 'end': '710', 'sentiment': 'neutral'}, {'category': 'Food', 'mention': 'порции', 'start': '728', 'end': '734', 'sentiment': 'positive'}, {'category': 'Food', 'mention': 'вкуса', 'start': '750', 'end': '755', 'sentiment': 'positive'}, {'category': 'Service', 'mention': 'обслуживали', 'start': '801', 'end': '812', 'sentiment': 'positive'}, {'category': 'Service', 'mention': 'официанта', 'start': '817', 'end': '826', 'sentiment': 'positive'}, {'category': 'Service', 'mention': 'Обслуживание', 'start': '828', 'end': '840', 'sentiment': 'positive'}, {'category': 'Service', 'mention': 'упакованы', 'start': '909', 'end': '918', 'sentiment': 'positive'}, {'category': 'Service', 'mention': 'отданы', 'start': '921', 'end': '927', 'sentiment': 'positive'}, {'category': 'Interior', 'mention': 'место для танцев', 'start': '975', 'end': '991', 'sentiment': 'positive'}, {'category': 'Service', 'mention': 'Официанты', 'start': '993', 'end': '1002', 'sentiment': 'positive'}, {'category': 'Service', 'mention': 'разрешают', 'start': '1011', 'end': '1020', 'sentiment': 'positive'}, {'category': 'Interior', 'mention': 'музыку', 'start': '1037', 'end': '1043', 'sentiment': 'positive'}, {'category': 'Whole', 'mention': 'место', 'start': '1066', 'end': '1071', 'sentiment': 'positive'}], '33598': [{'category': 'Whole', 'mention': 'Палкине', 'start': '43', 'end': '50', 'sentiment': 'neutral'}, {'category': 'Service', 'mention': 'предварительной резервации', 'start': '56', 'end': '82', 'sentiment': 'neutral'}, {'category': 'Interior', 'mention': 'свободный столик', 'start': '104', 'end': '120', 'sentiment': 'positive'}, {'category': 'Whole', 'mention': 'ресторан', 'start': '153', 'end': '161', 'sentiment': 'neutral'}, {'category': 'Interior', 'mention': 'свободные столики', 'start': '163', 'end': '180', 'sentiment': 'both'}, {'category': 'Service', 'mention': 'Встретили', 'start': '204', 'end': '213', 'sentiment': 'positive'}, {'category': 'Service', 'mention': 'Помогли', 'start': '263', 'end': '270', 'sentiment': 'positive'}, {'category': 'Service', 'mention': 'Предложили', 'start': '286', 'end': '296', 'sentiment': 'positive'}, {'category': 'Food', 'mention': 'хлеб', 'start': '297', 'end': '301', 'sentiment': 'neutral'}, {'category': 'Service', 'mention': 'подходил', 'start': '348', 'end': '356', 'sentiment': 'positive'}, {'category': 'Service', 'mention': 'молодой человек', 'start': '357', 'end': '372', 'sentiment': 'positive'}, {'category': 'Service', 'mention': 'предлагал', 'start': '375', 'end': '384', 'sentiment': 'positive'}, {'category': 'Food', 'mention': 'хлеб', 'start': '385', 'end': '389', 'sentiment': 'positive'}, {'category': 'Food', 'mention': 'масла', 'start': '418', 'end': '423', 'sentiment': 'positive'}, {'category': 'Whole', 'mention': 'Вечер', 'start': '425', 'end': '430', 'sentiment': 'positive'}, {'category': 'Whole', 'mention': 'ресторане Палкин', 'start': '433', 'end': '449', 'sentiment': 'positive'}, {'category': 'Interior', 'mention': 'обстановке', 'start': '470', 'end': '480', 'sentiment': 'positive'}, {'category': 'Service', 'mention': 'персоналом', 'start': '516', 'end': '526', 'sentiment': 'positive'}, {'category': 'Service', 'mention': 'Обслуживали', 'start': '528', 'end': '539', 'sentiment': 'positive'}, {'category': 'Food', 'mention': 'Блюда', 'start': '615', 'end': '620', 'sentiment': 'neutral'}, {'category': 'Service', 'mention': 'подавались', 'start': '633', 'end': '643', 'sentiment': 'positive'}, {'category': 'Food', 'mention': 'салаты', 'start': '692', 'end': '698', 'sentiment': 'positive'}, {'category': 'Food', 'mention': 'закуски', 'start': '700', 'end': '707', 'sentiment': 'positive'}, {'category': 'Food', 'mention': 'горячие блюда', 'start': '709', 'end': '722', 'sentiment': 'positive'}, {'category': 'Interior', 'mention': 'шоу', 'start': '758', 'end': '761', 'sentiment': 'positive'}, {'category': 'Food', 'mention': 'приготовлением', 'start': '803', 'end': '817', 'sentiment': 'neutral'}, {'category': 'Food', 'mention': 'десерта', 'start': '830', 'end': '837', 'sentiment': 'positive'}, {'category': 'Service', 'mention': 'персоналу', 'start': '890', 'end': '899', 'sentiment': 'positive'}, {'category': 'Whole', 'mention': 'вечер', 'start': '924', 'end': '929', 'sentiment': 'positive'}], '10825': [{'category': 'Whole', 'mention': 'ресторане', 'start': '47', 'end': '56', 'sentiment': 'neutral'}, {'category': 'Whole', 'mention': 'ресторана', 'start': '95', 'end': '104', 'sentiment': 'positive'}, {'category': 'Interior', 'mention': 'Интерьер', 'start': '126', 'end': '134', 'sentiment': 'positive'}, {'category': 'Service', 'mention': 'встретил', 'start': '167', 'end': '175', 'sentiment': 'positive'}, {'category': 'Service', 'mention': 'молодой человек', 'start': '176', 'end': '191', 'sentiment': 'positive'}, {'category': 'Service', 'mention': 'предложил', 'start': '194', 'end': '203', 'sentiment': 'positive'}, {'category': 'Service', 'mention': 'выбрать', 'start': '204', 'end': '211', 'sentiment': 'positive'}, {'category': 'Interior', 'mention': 'столик', 'start': '230', 'end': '236', 'sentiment': 'positive'}, {'category': 'Service', 'mention': 'предупредил', 'start': '239', 'end': '250', 'sentiment': 'positive'}, {'category': 'Food', 'mention': 'горячее', 'start': '260', 'end': '267', 'sentiment': 'neutral'}, {'category': 'Service', 'mention': 'подождать', 'start': '292', 'end': '301', 'sentiment': 'neutral'}, {'category': 'Service', 'mention': 'предупреждены', 'start': '387', 'end': '400', 'sentiment': 'positive'}, {'category': 'Food', 'mention': 'Качество кухни', 'start': '422', 'end': '436', 'sentiment': 'positive'}, {'category': 'Service', 'mention': 'обслуживание', 'start': '456', 'end': '468', 'sentiment': 'positive'}, {'category': 'Whole', 'mention': 'вечере', 'start': '625', 'end': '631', 'sentiment': 'positive'}], '16151': [{'category': 'Whole', 'mention': 'Ресторан', 'start': '0', 'end': '8', 'sentiment': 'positive'}, {'category': 'Interior', 'mention': 'Интерьер', 'start': '86', 'end': '94', 'sentiment': 'neutral'}, {'category': 'Interior', 'mention': 'столовой', 'start': '186', 'end': '194', 'sentiment': 'negative'}, {'category': 'Interior', 'mention': 'Стулья', 'start': '219', 'end': '225', 'sentiment': 'negative'}, {'category': 'Interior', 'mention': 'столов', 'start': '244', 'end': '250', 'sentiment': 'negative'}, {'category': 'Interior', 'mention': 'второй этаж', 'start': '360', 'end': '371', 'sentiment': 'positive'}, {'category': 'Interior', 'mention': 'Диванчики', 'start': '386', 'end': '395', 'sentiment': 'positive'}, {'category': 'Interior', 'mention': 'свет', 'start': '411', 'end': '415', 'sentiment': 'positive'}, {'category': 'Food', 'mention': 'Меню', 'start': '432', 'end': '436', 'sentiment': 'positive'}, {'category': 'Food', 'mention': 'цезарь с лососем', 'start': '478', 'end': '494', 'sentiment': 'positive'}, {'category': 'Food', 'mention': 'мало соленой рыбой', 'start': '538', 'end': '556', 'sentiment': 'positive'}, {'category': 'Food', 'mention': 'Говядина по-дижонски', 'start': '558', 'end': '578', 'sentiment': 'positive'}, {'category': 'Food', 'mention': 'запеченная', 'start': '609', 'end': '619', 'sentiment': 'positive'}, {'category': 'Food', 'mention': 'сыром', 'start': '624', 'end': '629', 'sentiment': 'positive'}, {'category': 'Food', 'mention': 'помидорами', 'start': '632', 'end': '642', 'sentiment': 'positive'}, {'category': 'Food', 'mention': 'Десерты', 'start': '658', 'end': '665', 'sentiment': 'positive'}, {'category': 'Food', 'mention': 'Фроузен парфе', 'start': '682', 'end': '695', 'sentiment': 'positive'}, {'category': 'Whole', 'mention': 'Обслуживание', 'start': '712', 'end': '724', 'sentiment': 'positive'}, {'category': 'Service', 'mention': 'комплимент', 'start': '819', 'end': '829', 'sentiment': 'positive'}, {'category': 'Price', 'mention': 'Цены', 'start': '847', 'end': '851', 'sentiment': 'negative'}, {'category': 'Whole', 'mention': 'Ресторан', 'start': '872', 'end': '880', 'sentiment': 'positive'}], '21399': [{'category': 'Food', 'mention': 'ужинала', 'start': '22', 'end': '29', 'sentiment': 'positive'}, {'category': 'Whole', 'mention': 'ресторане', 'start': '51', 'end': '60', 'sentiment': 'positive'}, {'category': 'Interior', 'mention': 'Интерьер', 'start': '62', 'end': '70', 'sentiment': 'positive'}, {'category': 'Whole', 'mention': 'ресторан \"Русский Китч\"', 'start': '115', 'end': '138', 'sentiment': 'positive'}, {'category': 'Food', 'mention': 'Кухня', 'start': '140', 'end': '145', 'sentiment': 'positive'}, {'category': 'Food', 'mention': 'суп из печеного чеснока', 'start': '196', 'end': '219', 'sentiment': 'positive'}, {'category': 'Food', 'mention': 'фирменное блюдо', 'start': '302', 'end': '317', 'sentiment': 'positive'}, {'category': 'Service', 'mention': 'шеф-повара', 'start': '321', 'end': '331', 'sentiment': 'positive'}, {'category': 'Food', 'mention': 'суп-пюре из белых грибов', 'start': '349', 'end': '373', 'sentiment': 'positive'}, {'category': 'Food', 'mention': 'салат с креветками', 'start': '386', 'end': '404', 'sentiment': 'positive'}, {'category': 'Service', 'mention': 'обслуживание', 'start': '447', 'end': '459', 'sentiment': 'positive'}, {'category': 'Service', 'mention': 'официанту', 'start': '498', 'end': '507', 'sentiment': 'positive'}], '37070': [{'category': 'Whole', 'mention': 'заведение', 'start': '82', 'end': '91', 'sentiment': 'positive'}, {'category': 'Food', 'mention': 'кухня', 'start': '116', 'end': '121', 'sentiment': 'positive'}, {'category': 'Interior', 'mention': 'интерьер', 'start': '123', 'end': '131', 'sentiment': 'positive'}, {'category': 'Food', 'mention': 'еда', 'start': '132', 'end': '135', 'sentiment': 'positive'}, {'category': 'Price', 'mention': 'чек', 'start': '143', 'end': '146', 'sentiment': 'positive'}, {'category': 'Whole', 'mention': 'место', 'start': '205', 'end': '210', 'sentiment': 'positive'}, {'category': 'Whole', 'mention': 'площадь ресторана', 'start': '224', 'end': '241', 'sentiment': 'negative'}], '15567': [{'category': 'Whole', 'mention': 'ресторане', 'start': '136', 'end': '145', 'sentiment': 'positive'}, {'category': 'Food', 'mention': 'пасту', 'start': '404', 'end': '409', 'sentiment': 'negative'}, {'category': 'Food', 'mention': 'суши', 'start': '412', 'end': '416', 'sentiment': 'negative'}, {'category': 'Food', 'mention': 'Паста', 'start': '418', 'end': '423', 'sentiment': 'negative'}, {'category': 'Food', 'mention': 'макароны', 'start': '455', 'end': '463', 'sentiment': 'negative'}, {'category': 'Food', 'mention': 'соусом', 'start': '477', 'end': '483', 'sentiment': 'negative'}, {'category': 'Food', 'mention': 'суши', 'start': '487', 'end': '491', 'sentiment': 'both'}, {'category': 'Food', 'mention': 'суши', 'start': '495', 'end': '499', 'sentiment': 'both'}, {'category': 'Food', 'mention': 'готовились', 'start': '517', 'end': '527', 'sentiment': 'negative'}, {'category': 'Service', 'mention': 'Официантка', 'start': '609', 'end': '619', 'sentiment': 'negative'}, {'category': 'Interior', 'mention': 'горячие полотенца', 'start': '748', 'end': '765', 'sentiment': 'negative'}, {'category': 'Interior', 'mention': 'интерьер', 'start': '907', 'end': '915', 'sentiment': 'positive'}, {'category': 'Food', 'mention': 'кухня', 'start': '917', 'end': '922', 'sentiment': 'positive'}, {'category': 'Service', 'mention': 'организация работы', 'start': '927', 'end': '945', 'sentiment': 'negative'}, {'category': 'Service', 'mention': 'повар', 'start': '1040', 'end': '1045', 'sentiment': 'negative'}, {'category': 'Service', 'mention': 'обслужить', 'start': '1063', 'end': '1072', 'sentiment': 'negative'}, {'category': 'Service', 'mention': 'девушка официантка', 'start': '1095', 'end': '1113', 'sentiment': 'negative'}, {'category': 'Service', 'mention': 'срок ожидания', 'start': '1172', 'end': '1185', 'sentiment': 'negative'}, {'category': 'Whole', 'mention': 'заведение', 'start': '1220', 'end': '1229', 'sentiment': 'negative'}], '13748': [{'category': 'Food', 'mention': 'Блюда', 'start': '75', 'end': '80', 'sentiment': 'negative'}, {'category': 'Service', 'mention': 'приносят', 'start': '81', 'end': '89', 'sentiment': 'negative'}, {'category': 'Service', 'mention': 'выносят', 'start': '101', 'end': '108', 'sentiment': 'negative'}, {'category': 'Food', 'mention': 'макароны', 'start': '268', 'end': '276', 'sentiment': 'negative'}, {'category': 'Food', 'mention': 'маслом', 'start': '286', 'end': '292', 'sentiment': 'neutral'}, {'category': 'Food', 'mention': 'тертым сыром', 'start': '305', 'end': '317', 'sentiment': 'neutral'}, {'category': 'Food', 'mention': 'пасту', 'start': '342', 'end': '347', 'sentiment': 'negative'}, {'category': 'Service', 'mention': 'профессионалы', 'start': '365', 'end': '378', 'sentiment': 'positive'}, {'category': 'Food', 'mention': 'блюда', 'start': '408', 'end': '413', 'sentiment': 'positive'}, {'category': 'Service', 'mention': 'выносили', 'start': '442', 'end': '450', 'sentiment': 'negative'}, {'category': 'Food', 'mention': 'салаты', 'start': '479', 'end': '485', 'sentiment': 'neutral'}, {'category': 'Food', 'mention': 'горячее', 'start': '489', 'end': '496', 'sentiment': 'neutral'}, {'category': 'Food', 'mention': 'пиццу', 'start': '500', 'end': '505', 'sentiment': 'neutral'}, {'category': 'Service', 'mention': 'официанту', 'start': '526', 'end': '535', 'sentiment': 'negative'}, {'category': 'Food', 'mention': 'блюда', 'start': '694', 'end': '699', 'sentiment': 'negative'}, {'category': 'Service', 'mention': 'Заказывали', 'start': '708', 'end': '718', 'sentiment': 'negative'}, {'category': 'Whole', 'mention': 'настроением', 'start': '819', 'end': '830', 'sentiment': 'negative'}, {'category': 'Service', 'mention': 'обслуживание', 'start': '842', 'end': '854', 'sentiment': 'negative'}, {'category': 'Whole', 'mention': 'места', 'start': '930', 'end': '935', 'sentiment': 'positive'}, {'category': 'Whole', 'mention': 'отдохнуть', 'start': '954', 'end': '963', 'sentiment': 'positive'}, {'category': 'Food', 'mention': 'поесть', 'start': '972', 'end': '978', 'sentiment': 'positive'}, {'category': 'Whole', 'mention': 'провести время', 'start': '989', 'end': '1003', 'sentiment': 'positive'}], '7011': [{'category': 'Whole', 'mention': 'место', 'start': '117', 'end': '122', 'sentiment': 'positive'}, {'category': 'Interior', 'mention': 'интерьер', 'start': '143', 'end': '151', 'sentiment': 'positive'}, {'category': 'Interior', 'mention': 'зал', 'start': '222', 'end': '225', 'sentiment': 'positive'}, {'category': 'Interior', 'mention': 'окна', 'start': '235', 'end': '239', 'sentiment': 'positive'}, {'category': 'Interior', 'mention': 'двор', 'start': '267', 'end': '271', 'sentiment': 'positive'}, {'category': 'Service', 'mention': 'отношение к клиенту', 'start': '302', 'end': '321', 'sentiment': 'positive'}, {'category': 'Food', 'mention': 'кухня', 'start': '377', 'end': '382', 'sentiment': 'positive'}, {'category': 'Food', 'mention': 'Меню', 'start': '384', 'end': '388', 'sentiment': 'positive'}, {'category': 'Food', 'mention': 'теплый салат из говядины', 'start': '494', 'end': '518', 'sentiment': 'positive'}, {'category': 'Food', 'mention': 'баклажаны, запеченные с сыром', 'start': '520', 'end': '549', 'sentiment': 'positive'}, {'category': 'Food', 'mention': 'мясная, сырная, рыбная тарелки', 'start': '551', 'end': '581', 'sentiment': 'positive'}, {'category': 'Food', 'mention': 'мясо и рыба гриль', 'start': '583', 'end': '600', 'sentiment': 'positive'}, {'category': 'Food', 'mention': 'рататуй', 'start': '602', 'end': '609', 'sentiment': 'positive'}, {'category': 'Food', 'mention': 'Цезарь', 'start': '667', 'end': '673', 'sentiment': 'both'}, {'category': 'Food', 'mention': 'десерт', 'start': '692', 'end': '698', 'sentiment': 'positive'}, {'category': 'Food', 'mention': 'блюда', 'start': '739', 'end': '744', 'sentiment': 'positive'}, {'category': 'Food', 'mention': 'оформленные', 'start': '777', 'end': '788', 'sentiment': 'positive'}, {'category': 'Whole', 'mention': 'ресторанах', 'start': '875', 'end': '885', 'sentiment': 'negative'}, {'category': 'Whole', 'mention': '\"Трефо\"', 'start': '994', 'end': '1001', 'sentiment': 'positive'}, {'category': 'Service', 'mention': 'обслуживание', 'start': '1044', 'end': '1056', 'sentiment': 'positive'}, {'category': 'Interior', 'mention': 'оформление зала', 'start': '1060', 'end': '1075', 'sentiment': 'positive'}, {'category': 'Food', 'mention': 'еда', 'start': '1079', 'end': '1082', 'sentiment': 'positive'}, {'category': 'Whole', 'mention': 'ресторану', 'start': '1149', 'end': '1158', 'sentiment': 'positive'}, {'category': 'Whole', 'mention': 'провести время', 'start': '1221', 'end': '1235', 'sentiment': 'positive'}], '34228': [{'category': 'Whole', 'mention': 'впечатлением', 'start': '57', 'end': '69', 'sentiment': 'negative'}, {'category': 'Interior', 'mention': 'зал', 'start': '89', 'end': '92', 'sentiment': 'both'}, {'category': 'Food', 'mention': 'Еда', 'start': '177', 'end': '180', 'sentiment': 'negative'}, {'category': 'Whole', 'mention': 'ХочуХарчо', 'start': '230', 'end': '239', 'sentiment': 'neutral'}, {'category': 'Whole', 'mention': 'Мамалыгах', 'start': '241', 'end': '250', 'sentiment': 'neutral'}, {'category': 'Price', 'mention': 'цене', 'start': '297', 'end': '301', 'sentiment': 'negative'}, {'category': 'Food', 'mention': 'чебурек', 'start': '312', 'end': '319', 'sentiment': 'positive'}, {'category': 'Food', 'mention': 'карпачо сибаса', 'start': '354', 'end': '368', 'sentiment': 'negative'}, {'category': 'Food', 'mention': 'вкус', 'start': '388', 'end': '392', 'sentiment': 'negative'}, {'category': 'Food', 'mention': 'стейк из тунца', 'start': '404', 'end': '418', 'sentiment': 'negative'}, {'category': 'Food', 'mention': 'салат с креветками и крабом', 'start': '456', 'end': '483', 'sentiment': 'negative'}, {'category': 'Food', 'mention': 'шашлык ягненка', 'start': '498', 'end': '512', 'sentiment': 'positive'}, {'category': 'Food', 'mention': 'запеченный сыр', 'start': '527', 'end': '541', 'sentiment': 'negative'}, {'category': 'Food', 'mention': 'шоколадная шкатулка', 'start': '567', 'end': '586', 'sentiment': 'positive'}, {'category': 'Food', 'mention': 'кокосовые шоты', 'start': '611', 'end': '625', 'sentiment': 'positive'}, {'category': 'Service', 'mention': 'Сервис', 'start': '635', 'end': '641', 'sentiment': 'negative'}, {'category': 'Service', 'mention': 'официант', 'start': '662', 'end': '670', 'sentiment': 'negative'}, {'category': 'Service', 'mention': 'подходил', 'start': '671', 'end': '679', 'sentiment': 'negative'}], '19439': [{'category': 'Whole', 'mention': 'Ресторан', 'start': '94', 'end': '102', 'sentiment': 'positive'}, {'category': 'Interior', 'mention': 'Интерьер', 'start': '163', 'end': '171', 'sentiment': 'positive'}, {'category': 'Interior', 'mention': 'Столики', 'start': '220', 'end': '227', 'sentiment': 'positive'}, {'category': 'Service', 'mention': 'Обслуживание', 'start': '386', 'end': '398', 'sentiment': 'positive'}, {'category': 'Service', 'mention': 'Официантов', 'start': '413', 'end': '423', 'sentiment': 'positive'}, {'category': 'Service', 'mention': 'обслуживал', 'start': '446', 'end': '456', 'sentiment': 'positive'}, {'category': 'Service', 'mention': 'молодой человек', 'start': '457', 'end': '472', 'sentiment': 'positive'}, {'category': 'Service', 'mention': 'обслуживал', 'start': '544', 'end': '554', 'sentiment': 'positive'}, {'category': 'Food', 'mention': 'Кухня', 'start': '614', 'end': '619', 'sentiment': 'positive'}, {'category': 'Food', 'mention': 'салаты', 'start': '631', 'end': '637', 'sentiment': 'positive'}, {'category': 'Food', 'mention': 'порции', 'start': '656', 'end': '662', 'sentiment': 'positive'}, {'category': 'Food', 'mention': 'Горячее', 'start': '692', 'end': '699', 'sentiment': 'positive'}, {'category': 'Food', 'mention': 'Медальоны из телятины', 'start': '714', 'end': '735', 'sentiment': 'positive'}, {'category': 'Food', 'mention': 'мясо', 'start': '748', 'end': '752', 'sentiment': 'positive'}, {'category': 'Food', 'mention': 'соус', 'start': '766', 'end': '770', 'sentiment': 'positive'}, {'category': 'Food', 'mention': 'Утка в апельсиновом соусе', 'start': '786', 'end': '811', 'sentiment': 'positive'}, {'category': 'Food', 'mention': 'Десерт', 'start': '835', 'end': '841', 'sentiment': 'positive'}, {'category': 'Food', 'mention': 'бизе со сливками и фруктами', 'start': '843', 'end': '870', 'sentiment': 'positive'}, {'category': 'Food', 'mention': 'бокала коньяка', 'start': '956', 'end': '970', 'sentiment': 'neutral'}, {'category': 'Food', 'mention': 'бокала красного сухого вина', 'start': '983', 'end': '1010', 'sentiment': 'neutral'}, {'category': 'Food', 'mention': 'виски', 'start': '1019', 'end': '1024', 'sentiment': 'neutral'}, {'category': 'Food', 'mention': 'салата', 'start': '1027', 'end': '1033', 'sentiment': 'neutral'}, {'category': 'Food', 'mention': 'горячих блюда', 'start': '1036', 'end': '1049', 'sentiment': 'neutral'}, {'category': 'Food', 'mention': 'десерт', 'start': '1052', 'end': '1058', 'sentiment': 'neutral'}, {'category': 'Food', 'mention': 'эспрессо', 'start': '1061', 'end': '1069', 'sentiment': 'neutral'}, {'category': 'Price', 'mention': 'Результат вместе с чаевыми', 'start': '1070', 'end': '1096', 'sentiment': 'neutral'}, {'category': 'Whole', 'mention': 'Впечатления', 'start': '1104', 'end': '1115', 'sentiment': 'positive'}], '2606': [{'category': 'Whole', 'mention': 'заведения', 'start': '23', 'end': '32', 'sentiment': 'neutral'}, {'category': 'Whole', 'mention': 'Местечко', 'start': '87', 'end': '95', 'sentiment': 'positive'}, {'category': 'Interior', 'mention': 'интерьер', 'start': '104', 'end': '112', 'sentiment': 'positive'}, {'category': 'Food', 'mention': 'кухня', 'start': '151', 'end': '156', 'sentiment': 'positive'}, {'category': 'Service', 'mention': 'официантка', 'start': '201', 'end': '211', 'sentiment': 'positive'}, {'category': 'Service', 'mention': 'принесла меню', 'start': '212', 'end': '225', 'sentiment': 'positive'}, {'category': 'Service', 'mention': 'взять заказ', 'start': '261', 'end': '272', 'sentiment': 'positive'}, {'category': 'Service', 'mention': 'принесла', 'start': '288', 'end': '296', 'sentiment': 'positive'}, {'category': 'Food', 'mention': 'пиво', 'start': '297', 'end': '301', 'sentiment': 'neutral'}, {'category': 'Food', 'mention': 'закуски', 'start': '315', 'end': '322', 'sentiment': 'neutral'}, {'category': 'Service', 'mention': 'официантка', 'start': '364', 'end': '374', 'sentiment': 'negative'}, {'category': 'Service', 'mention': 'ждать', 'start': '462', 'end': '467', 'sentiment': 'negative'}, {'category': 'Service', 'mention': 'посчитали', 'start': '477', 'end': '486', 'sentiment': 'negative'}, {'category': 'Service', 'mention': 'счет', 'start': '502', 'end': '506', 'sentiment': 'negative'}, {'category': 'Service', 'mention': 'официантка', 'start': '559', 'end': '569', 'sentiment': 'negative'}, {'category': 'Service', 'mention': 'разобраться', 'start': '597', 'end': '608', 'sentiment': 'positive'}, {'category': 'Service', 'mention': 'поступила', 'start': '610', 'end': '619', 'sentiment': 'negative'}, {'category': 'Whole', 'mention': 'заведение', 'start': '788', 'end': '797', 'sentiment': 'negative'}], '11058': [{'category': 'Service', 'mention': 'Встречают', 'start': '108', 'end': '117', 'sentiment': 'positive'}, {'category': 'Service', 'mention': 'провожают', 'start': '119', 'end': '128', 'sentiment': 'positive'}, {'category': 'Service', 'mention': 'Улыбаются', 'start': '143', 'end': '152', 'sentiment': 'positive'}, {'category': 'Service', 'mention': 'предлагают попробовать', 'start': '154', 'end': '176', 'sentiment': 'positive'}, {'category': 'Food', 'mention': 'съел', 'start': '206', 'end': '210', 'sentiment': 'neutral'}, {'category': 'Food', 'mention': 'десерт', 'start': '216', 'end': '222', 'sentiment': 'neutral'}, {'category': 'Service', 'mention': 'Рассказывают', 'start': '279', 'end': '291', 'sentiment': 'positive'}, {'category': 'Service', 'mention': 'советуют', 'start': '309', 'end': '317', 'sentiment': 'positive'}, {'category': 'Service', 'mention': 'Приносят', 'start': '353', 'end': '361', 'sentiment': 'positive'}, {'category': 'Service', 'mention': 'уносят', 'start': '362', 'end': '368', 'sentiment': 'positive'}, {'category': 'Service', 'mention': 'сервируют', 'start': '370', 'end': '379', 'sentiment': 'positive'}, {'category': 'Service', 'mention': 'ждали', 'start': '488', 'end': '493', 'sentiment': 'negative'}, {'category': 'Service', 'mention': 'обслуживающая', 'start': '504', 'end': '517', 'sentiment': 'positive'}, {'category': 'Service', 'mention': 'официантка', 'start': '522', 'end': '532', 'sentiment': 'positive'}, {'category': 'Whole', 'mention': 'вечер', 'start': '562', 'end': '567', 'sentiment': 'positive'}, {'category': 'Whole', 'mention': 'Поленте', 'start': '584', 'end': '591', 'sentiment': 'positive'}], '10354': [{'category': 'Whole', 'mention': 'ресторан', 'start': '19', 'end': '27', 'sentiment': 'neutral'}, {'category': 'Whole', 'mention': 'заведение', 'start': '113', 'end': '122', 'sentiment': 'positive'}, {'category': 'Food', 'mention': 'кухней', 'start': '133', 'end': '139', 'sentiment': 'positive'}, {'category': 'Whole', 'mention': '\"Чебурек\"', 'start': '158', 'end': '167', 'sentiment': 'neutral'}, {'category': 'Service', 'mention': 'Администрация', 'start': '229', 'end': '242', 'sentiment': 'positive'}, {'category': 'Service', 'mention': 'предоставила', 'start': '251', 'end': '263', 'sentiment': 'positive'}, {'category': 'Interior', 'mention': 'банкетный зал', 'start': '274', 'end': '287', 'sentiment': 'positive'}, {'category': 'Food', 'mention': 'кальян', 'start': '336', 'end': '342', 'sentiment': 'positive'}, {'category': 'Food', 'mention': 'Кухня', 'start': '378', 'end': '383', 'sentiment': 'positive'}, {'category': 'Service', 'mention': 'обслуживание', 'start': '410', 'end': '422', 'sentiment': 'positive'}, {'category': 'Service', 'mention': 'девушки-официантки', 'start': '429', 'end': '447', 'sentiment': 'positive'}, {'category': 'Service', 'mention': 'администрация', 'start': '501', 'end': '514', 'sentiment': 'positive'}, {'category': 'Price', 'mention': 'скидку', 'start': '553', 'end': '559', 'sentiment': 'positive'}, {'category': 'Whole', 'mention': '\"Чебурек\"', 'start': '614', 'end': '623', 'sentiment': 'positive'}, {'category': 'Price', 'mention': 'цен', 'start': '757', 'end': '760', 'sentiment': 'negative'}, {'category': 'Price', 'mention': 'цены', 'start': '781', 'end': '785', 'sentiment': 'negative'}, {'category': 'Price', 'mention': 'стоимость ужина', 'start': '847', 'end': '862', 'sentiment': 'negative'}, {'category': 'Food', 'mention': 'чебуреки с сыром сулугуни и зеленью', 'start': '990', 'end': '1025', 'sentiment': 'positive'}, {'category': 'Food', 'mention': 'сациви из баклажан', 'start': '1040', 'end': '1058', 'sentiment': 'positive'}, {'category': 'Food', 'mention': 'суп чанахи', 'start': '1060', 'end': '1070', 'sentiment': 'positive'}, {'category': 'Food', 'mention': 'хинкали', 'start': '1084', 'end': '1091', 'sentiment': 'positive'}, {'category': 'Food', 'mention': 'бараньи ножки', 'start': '1109', 'end': '1122', 'sentiment': 'positive'}], '24217': [{'category': 'Whole', 'mention': 'Место', 'start': '0', 'end': '5', 'sentiment': 'positive'}, {'category': 'Interior', 'mention': 'Помещение', 'start': '28', 'end': '37', 'sentiment': 'positive'}, {'category': 'Interior', 'mention': 'некурящая зона', 'start': '63', 'end': '77', 'sentiment': 'positive'}, {'category': 'Interior', 'mention': 'детская комната', 'start': '80', 'end': '95', 'sentiment': 'positive'}, {'category': 'Interior', 'mention': 'столики', 'start': '205', 'end': '212', 'sentiment': 'positive'}, {'category': 'Interior', 'mention': 'плетеными гамаками', 'start': '233', 'end': '251', 'sentiment': 'positive'}, {'category': 'Interior', 'mention': 'танцпол', 'start': '283', 'end': '290', 'sentiment': 'positive'}, {'category': 'Interior', 'mention': 'фотаном', 'start': '299', 'end': '306', 'sentiment': 'positive'}, {'category': 'Interior', 'mention': 'плазменных панелей', 'start': '355', 'end': '373', 'sentiment': 'positive'}, {'category': 'Interior', 'mention': 'диванчики', 'start': '384', 'end': '393', 'sentiment': 'positive'}, {'category': 'Interior', 'mention': 'интерьером', 'start': '425', 'end': '435', 'sentiment': 'positive'}, {'category': 'Interior', 'mention': 'Отделка', 'start': '437', 'end': '444', 'sentiment': 'neutral'}, {'category': 'Interior', 'mention': 'пространство', 'start': '483', 'end': '495', 'sentiment': 'positive'}, {'category': 'Interior', 'mention': 'Гардероб', 'start': '525', 'end': '533', 'sentiment': 'positive'}, {'category': 'Food', 'mention': 'Кухня', 'start': '553', 'end': '558', 'sentiment': 'neutral'}, {'category': 'Food', 'mention': 'порции', 'start': '591', 'end': '597', 'sentiment': 'negative'}, {'category': 'Price', 'mention': 'цены', 'start': '633', 'end': '637', 'sentiment': 'negative'}, {'category': 'Food', 'mention': 'мидий', 'start': '694', 'end': '699', 'sentiment': 'negative'}, {'category': 'Food', 'mention': 'сухарики', 'start': '725', 'end': '733', 'sentiment': 'negative'}, {'category': 'Food', 'mention': 'готовили', 'start': '743', 'end': '751', 'sentiment': 'negative'}, {'category': 'Food', 'mention': 'суши', 'start': '787', 'end': '791', 'sentiment': 'positive'}, {'category': 'Food', 'mention': 'выбор пива', 'start': '820', 'end': '830', 'sentiment': 'negative'}, {'category': 'Food', 'mention': 'пиво', 'start': '835', 'end': '839', 'sentiment': 'positive'}, {'category': 'Food', 'mention': 'выбор алкоголя', 'start': '874', 'end': '888', 'sentiment': 'negative'}, {'category': 'Food', 'mention': 'Коктейли', 'start': '907', 'end': '915', 'sentiment': 'positive'}, {'category': 'Service', 'mention': 'Сервис', 'start': '1002', 'end': '1008', 'sentiment': 'positive'}, {'category': 'Service', 'mention': 'официант', 'start': '1059', 'end': '1067', 'sentiment': 'positive'}, {'category': 'Service', 'mention': 'ждать', 'start': '1068', 'end': '1073', 'sentiment': 'positive'}, {'category': 'Service', 'mention': 'появлялся', 'start': '1101', 'end': '1110', 'sentiment': 'positive'}], '34307': [{'category': 'Whole', 'mention': 'заведении', 'start': '47', 'end': '56', 'sentiment': 'negative'}, {'category': 'Interior', 'mention': 'зале', 'start': '107', 'end': '111', 'sentiment': 'negative'}, {'category': 'Interior', 'mention': 'стол', 'start': '156', 'end': '160', 'sentiment': 'negative'}, {'category': 'Interior', 'mention': 'столы', 'start': '166', 'end': '171', 'sentiment': 'negative'}, {'category': 'Service', 'mention': 'несут заказ', 'start': '275', 'end': '286', 'sentiment': 'negative'}, {'category': 'Food', 'mention': 'горячее', 'start': '422', 'end': '429', 'sentiment': 'neutral'}, {'category': 'Food', 'mention': 'салатики', 'start': '431', 'end': '439', 'sentiment': 'neutral'}, {'category': 'Food', 'mention': 'пиво', 'start': '441', 'end': '445', 'sentiment': 'neutral'}, {'category': 'Food', 'mention': 'закуски к пиву', 'start': '448', 'end': '462', 'sentiment': 'negative'}, {'category': 'Service', 'mention': 'счет', 'start': '584', 'end': '588', 'sentiment': 'negative'}, {'category': 'Food', 'mention': 'Салаты', 'start': '619', 'end': '625', 'sentiment': 'positive'}, {'category': 'Service', 'mention': 'Еду приносят', 'start': '647', 'end': '659', 'sentiment': 'negative'}, {'category': 'Service', 'mention': 'Официанта', 'start': '825', 'end': '834', 'sentiment': 'negative'}, {'category': 'Service', 'mention': 'забирают', 'start': '888', 'end': '896', 'sentiment': 'negative'}, {'category': 'Interior', 'mention': 'зале', 'start': '900', 'end': '904', 'sentiment': 'negative'}, {'category': 'Interior', 'mention': 'музыку', 'start': '919', 'end': '925', 'sentiment': 'negative'}, {'category': 'Whole', 'mention': 'заведение', 'start': '949', 'end': '958', 'sentiment': 'positive'}, {'category': 'Price', 'mention': 'Цены', 'start': '1039', 'end': '1043', 'sentiment': 'negative'}, {'category': 'Service', 'mention': 'обслуживание', 'start': '1065', 'end': '1077', 'sentiment': 'negative'}], '14539': [{'category': 'Food', 'mention': 'перекусить', 'start': '53', 'end': '63', 'sentiment': 'neutral'}, {'category': 'Food', 'mention': 'шашлыки из свинины', 'start': '74', 'end': '92', 'sentiment': 'neutral'}, {'category': 'Food', 'mention': 'овощи на гриле', 'start': '94', 'end': '108', 'sentiment': 'neutral'}, {'category': 'Food', 'mention': 'картофель \"Айдахо\"', 'start': '110', 'end': '128', 'sentiment': 'neutral'}, {'category': 'Food', 'mention': 'домашнему морсу', 'start': '132', 'end': '147', 'sentiment': 'neutral'}, {'category': 'Service', 'mention': 'белого сухого вина', 'start': '173', 'end': '191', 'sentiment': 'neutral'}, {'category': 'Food', 'mention': 'шашлык', 'start': '233', 'end': '239', 'sentiment': 'positive'}, {'category': 'Food', 'mention': 'Овощи на гриле', 'start': '303', 'end': '317', 'sentiment': 'positive'}, {'category': 'Food', 'mention': '\"Айдахо\"', 'start': '320', 'end': '328', 'sentiment': 'positive'}, {'category': 'Food', 'mention': 'кухня', 'start': '361', 'end': '366', 'sentiment': 'positive'}, {'category': 'Interior', 'mention': 'Интерьер', 'start': '377', 'end': '385', 'sentiment': 'neutral'}, {'category': 'Interior', 'mention': 'стены', 'start': '459', 'end': '464', 'sentiment': 'both'}, {'category': 'Service', 'mention': 'Обслуживание', 'start': '545', 'end': '557', 'sentiment': 'positive'}, {'category': 'Service', 'mention': 'официантка', 'start': '603', 'end': '613', 'sentiment': 'negative'}, {'category': 'Service', 'mention': 'принесли', 'start': '655', 'end': '663', 'sentiment': 'negative'}, {'category': 'Service', 'mention': 'официантке', 'start': '759', 'end': '769', 'sentiment': 'negative'}, {'category': 'Service', 'mention': 'смутилась', 'start': '780', 'end': '789', 'sentiment': 'negative'}, {'category': 'Price', 'mention': 'счете', 'start': '831', 'end': '836', 'sentiment': 'negative'}, {'category': 'Service', 'mention': 'Обслуживали', 'start': '926', 'end': '937', 'sentiment': 'positive'}, {'category': 'Service', 'mention': 'девушка', 'start': '942', 'end': '949', 'sentiment': 'positive'}, {'category': 'Service', 'mention': 'молодой человек', 'start': '952', 'end': '967', 'sentiment': 'positive'}, {'category': 'Service', 'mention': 'Ждать заказа', 'start': '998', 'end': '1010', 'sentiment': 'positive'}, {'category': 'Service', 'mention': 'Убирали', 'start': '1030', 'end': '1037', 'sentiment': 'positive'}, {'category': 'Service', 'mention': 'Счет', 'start': '1101', 'end': '1105', 'sentiment': 'neutral'}, {'category': 'Whole', 'mention': 'заведение', 'start': '1158', 'end': '1167', 'sentiment': 'positive'}], '5928': [{'category': 'Whole', 'mention': 'Тан Жен', 'start': '58', 'end': '65', 'sentiment': 'neutral'}, {'category': 'Interior', 'mention': 'Интерьер', 'start': '161', 'end': '169', 'sentiment': 'negative'}, {'category': 'Food', 'mention': 'кухня', 'start': '233', 'end': '238', 'sentiment': 'positive'}, {'category': 'Food', 'mention': 'салат из свиных ушей', 'start': '267', 'end': '287', 'sentiment': 'positive'}, {'category': 'Food', 'mention': 'утку', 'start': '301', 'end': '305', 'sentiment': 'positive'}, {'category': 'Food', 'mention': 'баклажаны', 'start': '308', 'end': '317', 'sentiment': 'positive'}, {'category': 'Food', 'mention': 'лапшу с креветками', 'start': '344', 'end': '362', 'sentiment': 'negative'}, {'category': 'Service', 'mention': 'официантки', 'start': '448', 'end': '458', 'sentiment': 'positive'}, {'category': 'Service', 'mention': 'подскажут', 'start': '486', 'end': '495', 'sentiment': 'positive'}, {'category': 'Service', 'mention': 'посоветуют', 'start': '498', 'end': '508', 'sentiment': 'positive'}, {'category': 'Food', 'mention': 'кухня', 'start': '619', 'end': '624', 'sentiment': 'positive'}, {'category': 'Whole', 'mention': 'провести время', 'start': '721', 'end': '735', 'sentiment': 'positive'}, {'category': 'Price', 'mention': 'бюджетно', 'start': '764', 'end': '772', 'sentiment': 'positive'}, {'category': 'Food', 'mention': 'покушать', 'start': '807', 'end': '815', 'sentiment': 'positive'}, {'category': 'Whole', 'mention': 'Тан Жен', 'start': '826', 'end': '833', 'sentiment': 'positive'}], '32206': [{'category': 'Whole', 'mention': '\"Асахи\"', 'start': '26', 'end': '33', 'sentiment': 'positive'}, {'category': 'Interior', 'mention': 'шторы', 'start': '47', 'end': '52', 'sentiment': 'negative'}, {'category': 'Interior', 'mention': 'Два этажа', 'start': '131', 'end': '140', 'sentiment': 'neutral'}, {'category': 'Interior', 'mention': 'интерьер', 'start': '171', 'end': '179', 'sentiment': 'positive'}, {'category': 'Whole', 'mention': 'место', 'start': '186', 'end': '191', 'sentiment': 'positive'}, {'category': 'Whole', 'mention': 'провести там время', 'start': '229', 'end': '247', 'sentiment': 'positive'}, {'category': 'Whole', 'mention': 'ресторан', 'start': '326', 'end': '334', 'sentiment': 'positive'}, {'category': 'Service', 'mention': 'Обслуживание', 'start': '416', 'end': '428', 'sentiment': 'positive'}, {'category': 'Service', 'mention': 'встречают', 'start': '442', 'end': '451', 'sentiment': 'positive'}, {'category': 'Service', 'mention': 'провожают', 'start': '455', 'end': '464', 'sentiment': 'positive'}, {'category': 'Service', 'mention': 'очередность блюд', 'start': '522', 'end': '538', 'sentiment': 'positive'}, {'category': 'Food', 'mention': 'меню', 'start': '600', 'end': '604', 'sentiment': 'positive'}, {'category': 'Food', 'mention': 'готовят', 'start': '677', 'end': '684', 'sentiment': 'negative'}, {'category': 'Food', 'mention': 'блюда', 'start': '689', 'end': '694', 'sentiment': 'negative'}, {'category': 'Food', 'mention': 'Суши', 'start': '724', 'end': '728', 'sentiment': 'negative'}, {'category': 'Food', 'mention': 'роллы', 'start': '791', 'end': '796', 'sentiment': 'positive'}, {'category': 'Food', 'mention': 'сыр Филадельфия', 'start': '832', 'end': '847', 'sentiment': 'positive'}, {'category': 'Food', 'mention': 'роллы без риса', 'start': '866', 'end': '880', 'sentiment': 'positive'}, {'category': 'Food', 'mention': 'сашими', 'start': '891', 'end': '897', 'sentiment': 'positive'}, {'category': 'Food', 'mention': 'салаты (с лососем, крабом, тунцом)', 'start': '920', 'end': '954', 'sentiment': 'positive'}, {'category': 'Food', 'mention': 'порции салатов', 'start': '956', 'end': '970', 'sentiment': 'positive'}, {'category': 'Food', 'mention': 'лосось терияки', 'start': '1003', 'end': '1017', 'sentiment': 'positive'}, {'category': 'Food', 'mention': 'крабовый суп', 'start': '1098', 'end': '1110', 'sentiment': 'positive'}, {'category': 'Price', 'mention': 'цене', 'start': '1136', 'end': '1140', 'sentiment': 'positive'}, {'category': 'Price', 'mention': 'бесплатно', 'start': '1153', 'end': '1162', 'sentiment': 'positive'}, {'category': 'Whole', 'mention': 'место', 'start': '1204', 'end': '1209', 'sentiment': 'positive'}], '16378': [{'category': 'Food', 'mention': 'Кухня', 'start': '130', 'end': '135', 'sentiment': 'positive'}, {'category': 'Food', 'mention': 'Суп-Харчо', 'start': '138', 'end': '147', 'sentiment': 'positive'}, {'category': 'Food', 'mention': 'шашлыки', 'start': '149', 'end': '156', 'sentiment': 'positive'}, {'category': 'Food', 'mention': 'лепешки', 'start': '218', 'end': '225', 'sentiment': 'positive'}, {'category': 'Food', 'mention': 'вино', 'start': '243', 'end': '247', 'sentiment': 'positive'}, {'category': 'Food', 'mention': 'чай с чабрецом', 'start': '276', 'end': '290', 'sentiment': 'positive'}, {'category': 'Whole', 'mention': 'месте', 'start': '357', 'end': '362', 'sentiment': 'neutral'}, {'category': 'Food', 'mention': 'салат Греческий', 'start': '376', 'end': '391', 'sentiment': 'negative'}, {'category': 'Interior', 'mention': 'Интерьер', 'start': '456', 'end': '464', 'sentiment': 'both'}, {'category': 'Interior', 'mention': 'колонку', 'start': '528', 'end': '535', 'sentiment': 'negative'}, {'category': 'Interior', 'mention': 'света', 'start': '567', 'end': '572', 'sentiment': 'negative'}, {'category': 'Interior', 'mention': 'главном зале', 'start': '575', 'end': '587', 'sentiment': 'negative'}, {'category': 'Interior', 'mention': 'светлый зал', 'start': '640', 'end': '651', 'sentiment': 'positive'}, {'category': 'Interior', 'mention': 'чистоту скатертей', 'start': '714', 'end': '731', 'sentiment': 'both'}, {'category': 'Service', 'mention': 'Обслуживание', 'start': '753', 'end': '765', 'sentiment': 'positive'}, {'category': 'Service', 'mention': 'молодые люди', 'start': '787', 'end': '799', 'sentiment': 'positive'}, {'category': 'Service', 'mention': 'подходят', 'start': '833', 'end': '841', 'sentiment': 'positive'}, {'category': 'Service', 'mention': 'работают', 'start': '843', 'end': '851', 'sentiment': 'positive'}, {'category': 'Whole', 'mention': 'место', 'start': '940', 'end': '945', 'sentiment': 'positive'}, {'category': 'Whole', 'mention': 'заведение', 'start': '1033', 'end': '1042', 'sentiment': 'both'}, {'category': 'Price', 'mention': 'цена', 'start': '1154', 'end': '1158', 'sentiment': 'positive'}], '7193': [{'category': 'Whole', 'mention': 'место', 'start': '19', 'end': '24', 'sentiment': 'positive'}, {'category': 'Food', 'mention': 'перекусить', 'start': '78', 'end': '88', 'sentiment': 'positive'}, {'category': 'Service', 'mention': 'Официанты', 'start': '169', 'end': '178', 'sentiment': 'positive'}, {'category': 'Service', 'mention': 'Официанты', 'start': '256', 'end': '265', 'sentiment': 'positive'}, {'category': 'Service', 'mention': 'работают', 'start': '266', 'end': '274', 'sentiment': 'positive'}, {'category': 'Food', 'mention': 'Еды', 'start': '321', 'end': '324', 'sentiment': 'positive'}, {'category': 'Whole', 'mention': 'место', 'start': '378', 'end': '383', 'sentiment': 'positive'}, {'category': 'Food', 'mention': 'пообедать', 'start': '422', 'end': '431', 'sentiment': 'positive'}], '24713': [{'category': 'Interior', 'mention': 'банкетном зале', 'start': '11', 'end': '25', 'sentiment': 'neutral'}, {'category': 'Interior', 'mention': 'Зал', 'start': '52', 'end': '55', 'sentiment': 'positive'}, {'category': 'Price', 'mention': 'ценовой категории', 'start': '98', 'end': '115', 'sentiment': 'neutral'}, {'category': 'Food', 'mention': 'кол-во закусок', 'start': '159', 'end': '173', 'sentiment': 'negative'}, {'category': 'Food', 'mention': 'Сырная тарелка', 'start': '213', 'end': '227', 'sentiment': 'negative'}, {'category': 'Food', 'mention': 'сыром', 'start': '246', 'end': '251', 'sentiment': 'negative'}, {'category': 'Food', 'mention': 'Фрукты', 'start': '253', 'end': '259', 'sentiment': 'negative'}, {'category': 'Food', 'mention': 'салаты', 'start': '307', 'end': '313', 'sentiment': 'negative'}, {'category': 'Whole', 'mention': 'кафе', 'start': '426', 'end': '430', 'sentiment': 'neutral'}, {'category': 'Food', 'mention': 'Еда', 'start': '448', 'end': '451', 'sentiment': 'positive'}, {'category': 'Food', 'mention': 'готовит', 'start': '502', 'end': '509', 'sentiment': 'negative'}, {'category': 'Food', 'mention': 'Горячее', 'start': '525', 'end': '532', 'sentiment': 'negative'}, {'category': 'Food', 'mention': 'Торт', 'start': '554', 'end': '558', 'sentiment': 'neutral'}, {'category': 'Food', 'mention': 'качество еды', 'start': '611', 'end': '623', 'sentiment': 'negative'}, {'category': 'Service', 'mention': 'Администратор', 'start': '717', 'end': '730', 'sentiment': 'positive'}, {'category': 'Service', 'mention': 'упаковано', 'start': '768', 'end': '777', 'sentiment': 'positive'}, {'category': 'Service', 'mention': 'собрано', 'start': '780', 'end': '787', 'sentiment': 'positive'}, {'category': 'Service', 'mention': 'официанты', 'start': '833', 'end': '842', 'sentiment': 'negative'}, {'category': 'Price', 'mention': 'плату', 'start': '912', 'end': '917', 'sentiment': 'negative'}], '36126': [{'category': 'Whole', 'mention': '\"Старом Пловдиве\"', 'start': '126', 'end': '143', 'sentiment': 'neutral'}, {'category': 'Whole', 'mention': 'посещения', 'start': '222', 'end': '231', 'sentiment': 'positive'}, {'category': 'Whole', 'mention': 'места', 'start': '238', 'end': '243', 'sentiment': 'positive'}, {'category': 'Interior', 'mention': 'помещение', 'start': '357', 'end': '366', 'sentiment': 'positive'}, {'category': 'Interior', 'mention': 'центральном зале', 'start': '376', 'end': '392', 'sentiment': 'positive'}, {'category': 'Food', 'mention': 'кухня', 'start': '410', 'end': '415', 'sentiment': 'positive'}, {'category': 'Interior', 'mention': 'внешний вид стола', 'start': '419', 'end': '436', 'sentiment': 'positive'}, {'category': 'Service', 'mention': 'сотрудники', 'start': '465', 'end': '475', 'sentiment': 'positive'}, {'category': 'Service', 'mention': 'администратор', 'start': '478', 'end': '491', 'sentiment': 'positive'}, {'category': 'Service', 'mention': 'помогла', 'start': '501', 'end': '508', 'sentiment': 'positive'}, {'category': 'Service', 'mention': 'официант', 'start': '544', 'end': '552', 'sentiment': 'positive'}, {'category': 'Service', 'mention': 'работа', 'start': '560', 'end': '566', 'sentiment': 'positive'}, {'category': 'Service', 'mention': 'приносила', 'start': '620', 'end': '629', 'sentiment': 'positive'}, {'category': 'Service', 'mention': 'уносила', 'start': '632', 'end': '639', 'sentiment': 'positive'}, {'category': 'Service', 'mention': 'спрашивала', 'start': '648', 'end': '658', 'sentiment': 'positive'}, {'category': 'Service', 'mention': 'советовала', 'start': '675', 'end': '685', 'sentiment': 'positive'}, {'category': 'Whole', 'mention': 'ресторанах', 'start': '723', 'end': '733', 'sentiment': 'neutral'}, {'category': 'Service', 'mention': 'обслуживание', 'start': '738', 'end': '750', 'sentiment': 'positive'}, {'category': 'Whole', 'mention': 'коллективу', 'start': '786', 'end': '796', 'sentiment': 'positive'}, {'category': 'Whole', 'mention': 'ресторан', 'start': '848', 'end': '856', 'sentiment': 'positive'}], '2468': [{'category': 'Whole', 'mention': 'заведения', 'start': '76', 'end': '85', 'sentiment': 'positive'}, {'category': 'Interior', 'mention': 'интерьер', 'start': '115', 'end': '123', 'sentiment': 'positive'}, {'category': 'Interior', 'mention': 'музыка', 'start': '135', 'end': '141', 'sentiment': 'positive'}, {'category': 'Service', 'mention': 'персонал', 'start': '183', 'end': '191', 'sentiment': 'positive'}, {'category': 'Whole', 'mention': 'ресторанчик', 'start': '393', 'end': '404', 'sentiment': 'positive'}, {'category': 'Interior', 'mention': 'Зал', 'start': '406', 'end': '409', 'sentiment': 'positive'}, {'category': 'Service', 'mention': 'девушка', 'start': '431', 'end': '438', 'sentiment': 'positive'}, {'category': 'Service', 'mention': 'предложила', 'start': '444', 'end': '454', 'sentiment': 'positive'}, {'category': 'Interior', 'mention': 'местечко в углу', 'start': '455', 'end': '470', 'sentiment': 'positive'}, {'category': 'Food', 'mention': 'Блюда', 'start': '505', 'end': '510', 'sentiment': 'positive'}, {'category': 'Food', 'mention': 'приготовленные', 'start': '582', 'end': '596', 'sentiment': 'positive'}, {'category': 'Food', 'mention': 'овощи', 'start': '597', 'end': '602', 'sentiment': 'positive'}, {'category': 'Food', 'mention': 'салаты \"Цезарь\"', 'start': '604', 'end': '619', 'sentiment': 'positive'}, {'category': 'Food', 'mention': 'лосось', 'start': '635', 'end': '641', 'sentiment': 'positive'}, {'category': 'Service', 'mention': 'Официантка', 'start': '663', 'end': '673', 'sentiment': 'positive'}, {'category': 'Service', 'mention': 'следила за столом', 'start': '674', 'end': '691', 'sentiment': 'positive'}, {'category': 'Service', 'mention': 'меняла пепельницу', 'start': '702', 'end': '719', 'sentiment': 'positive'}, {'category': 'Service', 'mention': 'добавляла вина', 'start': '722', 'end': '736', 'sentiment': 'positive'}, {'category': 'Service', 'mention': 'сервис', 'start': '743', 'end': '749', 'sentiment': 'positive'}], '7982': [{'category': 'Service', 'mention': 'директором', 'start': '30', 'end': '40', 'sentiment': 'negative'}, {'category': 'Service', 'mention': 'работу', 'start': '250', 'end': '256', 'sentiment': 'positive'}, {'category': 'Service', 'mention': 'официантов', 'start': '257', 'end': '267', 'sentiment': 'positive'}, {'category': 'Food', 'mention': 'пообедав', 'start': '284', 'end': '292', 'sentiment': 'positive'}, {'category': 'Interior', 'mention': 'музыку', 'start': '402', 'end': '408', 'sentiment': 'negative'}, {'category': 'Food', 'mention': 'еды', 'start': '661', 'end': '664', 'sentiment': 'both'}, {'category': 'Food', 'mention': 'вкус', 'start': '691', 'end': '695', 'sentiment': 'negative'}, {'category': 'Food', 'mention': 'обед', 'start': '709', 'end': '713', 'sentiment': 'positive'}, {'category': 'Food', 'mention': 'пробовали', 'start': '756', 'end': '765', 'sentiment': 'positive'}, {'category': 'Food', 'mention': 'Салаты', 'start': '767', 'end': '773', 'sentiment': 'negative'}, {'category': 'Food', 'mention': 'горячее', 'start': '796', 'end': '803', 'sentiment': 'negative'}, {'category': 'Food', 'mention': 'гарнир', 'start': '834', 'end': '840', 'sentiment': 'negative'}, {'category': 'Food', 'mention': 'рыба', 'start': '850', 'end': '854', 'sentiment': 'negative'}, {'category': 'Food', 'mention': 'курицу', 'start': '883', 'end': '889', 'sentiment': 'negative'}, {'category': 'Food', 'mention': 'мясо', 'start': '899', 'end': '903', 'sentiment': 'negative'}, {'category': 'Food', 'mention': 'еде', 'start': '952', 'end': '955', 'sentiment': 'negative'}, {'category': 'Food', 'mention': 'жюльен', 'start': '1001', 'end': '1007', 'sentiment': 'neutral'}, {'category': 'Food', 'mention': 'блюда', 'start': '1125', 'end': '1130', 'sentiment': 'neutral'}], '13912': [{'category': 'Whole', 'mention': 'ресторане Харбин на Приморской', 'start': '35', 'end': '65', 'sentiment': 'both'}, {'category': 'Whole', 'mention': 'ресторана', 'start': '120', 'end': '129', 'sentiment': 'neutral'}, {'category': 'Whole', 'mention': 'ресторан Харбин на Академической', 'start': '183', 'end': '215', 'sentiment': 'neutral'}, {'category': 'Interior', 'mention': 'залах для курящих и некурящих', 'start': '230', 'end': '259', 'sentiment': 'positive'}, {'category': 'Interior', 'mention': 'зал для некурящих', 'start': '269', 'end': '286', 'sentiment': 'positive'}, {'category': 'Interior', 'mention': 'Харбина на Приморской', 'start': '309', 'end': '330', 'sentiment': 'negative'}, {'category': 'Interior', 'mention': 'расположен', 'start': '332', 'end': '342', 'sentiment': 'positive'}, {'category': 'Interior', 'mention': 'Стулья', 'start': '387', 'end': '393', 'sentiment': 'positive'}, {'category': 'Interior', 'mention': 'зале для некурящих', 'start': '396', 'end': '414', 'sentiment': 'positive'}, {'category': 'Interior', 'mention': 'зала', 'start': '464', 'end': '468', 'sentiment': 'negative'}, {'category': 'Service', 'mention': 'Заказ приняли', 'start': '535', 'end': '548', 'sentiment': 'positive'}, {'category': 'Service', 'mention': 'принесли', 'start': '609', 'end': '617', 'sentiment': 'positive'}, {'category': 'Food', 'mention': 'первое блюдо', 'start': '618', 'end': '630', 'sentiment': 'neutral'}, {'category': 'Service', 'mention': 'заказ', 'start': '656', 'end': '661', 'sentiment': 'positive'}, {'category': 'Food', 'mention': 'Блюда', 'start': '676', 'end': '681', 'sentiment': 'positive'}, {'category': 'Food', 'mention': 'качество приготовления', 'start': '709', 'end': '731', 'sentiment': 'positive'}, {'category': 'Whole', 'mention': 'Харбине на Приморской', 'start': '767', 'end': '788', 'sentiment': 'negative'}, {'category': 'Food', 'mention': 'чае', 'start': '887', 'end': '890', 'sentiment': 'neutral'}, {'category': 'Food', 'mention': 'Выбор', 'start': '892', 'end': '897', 'sentiment': 'both'}, {'category': 'Food', 'mention': 'чай', 'start': '982', 'end': '985', 'sentiment': 'positive'}, {'category': 'Whole', 'mention': 'ресторана на Приморской', 'start': '1017', 'end': '1040', 'sentiment': 'negative'}, {'category': 'Food', 'mention': 'французское красное сухое вино', 'start': '1057', 'end': '1087', 'sentiment': 'positive'}, {'category': 'Service', 'mention': 'обслуживание', 'start': '1101', 'end': '1113', 'sentiment': 'positive'}, {'category': 'Service', 'mention': 'убиралась', 'start': '1150', 'end': '1159', 'sentiment': 'positive'}, {'category': 'Price', 'mention': 'счет', 'start': '1227', 'end': '1231', 'sentiment': 'neutral'}, {'category': 'Whole', 'mention': 'ресторан', 'start': '1275', 'end': '1283', 'sentiment': 'positive'}], '7154': [{'category': 'Whole', 'mention': 'ресторан', 'start': '20', 'end': '28', 'sentiment': 'positive'}, {'category': 'Service', 'mention': 'персонал', 'start': '130', 'end': '138', 'sentiment': 'positive'}, {'category': 'Food', 'mention': 'Готовят', 'start': '197', 'end': '204', 'sentiment': 'positive'}, {'category': 'Food', 'mention': 'мясные салаты', 'start': '233', 'end': '246', 'sentiment': 'positive'}, {'category': 'Food', 'mention': 'пироги', 'start': '249', 'end': '255', 'sentiment': 'positive'}, {'category': 'Food', 'mention': 'вино', 'start': '267', 'end': '271', 'sentiment': 'positive'}, {'category': 'Food', 'mention': 'пиво', 'start': '280', 'end': '284', 'sentiment': 'positive'}, {'category': 'Interior', 'mention': 'музыку', 'start': '346', 'end': '352', 'sentiment': 'positive'}, {'category': 'Whole', 'mention': 'место', 'start': '393', 'end': '398', 'sentiment': 'positive'}], '16676': [{'category': 'Whole', 'mention': 'местечко', 'start': '12', 'end': '20', 'sentiment': 'neutral'}, {'category': 'Food', 'mention': 'поужинать', 'start': '34', 'end': '43', 'sentiment': 'neutral'}, {'category': 'Service', 'mention': 'Встретили', 'start': '45', 'end': '54', 'sentiment': 'positive'}, {'category': 'Service', 'mention': 'девушки', 'start': '67', 'end': '74', 'sentiment': 'positive'}, {'category': 'Interior', 'mention': 'Столик', 'start': '109', 'end': '115', 'sentiment': 'negative'}, {'category': 'Service', 'mention': 'проводили', 'start': '149', 'end': '158', 'sentiment': 'positive'}, {'category': 'Interior', 'mention': 'второй этаж', 'start': '162', 'end': '173', 'sentiment': 'neutral'}, {'category': 'Service', 'mention': 'предложили присесть', 'start': '176', 'end': '195', 'sentiment': 'positive'}, {'category': 'Service', 'mention': 'бронировать столик', 'start': '254', 'end': '272', 'sentiment': 'neutral'}, {'category': 'Service', 'mention': 'Официанты', 'start': '296', 'end': '305', 'sentiment': 'positive'}, {'category': 'Service', 'mention': 'смотрят за посетителями', 'start': '335', 'end': '358', 'sentiment': 'positive'}, {'category': 'Service', 'mention': 'ждать', 'start': '374', 'end': '379', 'sentiment': 'positive'}, {'category': 'Food', 'mention': 'Меню', 'start': '412', 'end': '416', 'sentiment': 'positive'}, {'category': 'Price', 'mention': 'ценам', 'start': '491', 'end': '496', 'sentiment': 'positive'}, {'category': 'Food', 'mention': 'попробовал', 'start': '531', 'end': '541', 'sentiment': 'positive'}, {'category': 'Food', 'mention': 'жареного осьминога', 'start': '542', 'end': '560', 'sentiment': 'positive'}, {'category': 'Interior', 'mention': 'Интерьер', 'start': '613', 'end': '621', 'sentiment': 'positive'}, {'category': 'Interior', 'mention': 'освещения', 'start': '649', 'end': '658', 'sentiment': 'negative'}, {'category': 'Interior', 'mention': 'свечи', 'start': '677', 'end': '682', 'sentiment': 'positive'}, {'category': 'Price', 'mention': 'недорогое', 'start': '773', 'end': '782', 'sentiment': 'positive'}, {'category': 'Whole', 'mention': 'местечко', 'start': '783', 'end': '791', 'sentiment': 'positive'}], '27925': [{'category': 'Whole', 'mention': 'ресторане', 'start': '131', 'end': '140', 'sentiment': 'neutral'}, {'category': 'Service', 'mention': 'Обслуживание', 'start': '142', 'end': '154', 'sentiment': 'positive'}, {'category': 'Service', 'mention': 'метрдотель', 'start': '176', 'end': '186', 'sentiment': 'positive'}, {'category': 'Service', 'mention': 'провёл до столика', 'start': '189', 'end': '206', 'sentiment': 'positive'}, {'category': 'Interior', 'mention': 'уголке', 'start': '252', 'end': '258', 'sentiment': 'positive'}, {'category': 'Interior', 'mention': 'зала', 'start': '276', 'end': '280', 'sentiment': 'positive'}, {'category': 'Interior', 'mention': 'свет', 'start': '295', 'end': '299', 'sentiment': 'positive'}, {'category': 'Service', 'mention': 'заказали', 'start': '517', 'end': '525', 'sentiment': 'neutral'}, {'category': 'Food', 'mention': 'блюд', 'start': '540', 'end': '544', 'sentiment': 'positive'}, {'category': 'Service', 'mention': 'заказала', 'start': '548', 'end': '556', 'sentiment': 'neutral'}, {'category': 'Food', 'mention': 'улитки', 'start': '562', 'end': '568', 'sentiment': 'positive'}, {'category': 'Service', 'mention': 'заказал', 'start': '654', 'end': '661', 'sentiment': 'neutral'}, {'category': 'Food', 'mention': 'блюда из мяса на мангале', 'start': '662', 'end': '686', 'sentiment': 'positive'}, {'category': 'Service', 'mention': 'заказали', 'start': '766', 'end': '774', 'sentiment': 'positive'}, {'category': 'Food', 'mention': 'мяса на мангале', 'start': '793', 'end': '808', 'sentiment': 'positive'}, {'category': 'Interior', 'mention': 'живая музыка', 'start': '882', 'end': '894', 'sentiment': 'positive'}, {'category': 'Interior', 'mention': 'танцев', 'start': '976', 'end': '982', 'sentiment': 'positive'}, {'category': 'Interior', 'mention': 'голос солистки', 'start': '1020', 'end': '1034', 'sentiment': 'positive'}, {'category': 'Whole', 'mention': 'вечером', 'start': '1089', 'end': '1096', 'sentiment': 'positive'}, {'category': 'Whole', 'mention': 'ресторане', 'start': '1104', 'end': '1113', 'sentiment': 'positive'}], '20397': [{'category': 'Whole', 'mention': 'Набережную', 'start': '23', 'end': '33', 'sentiment': 'positive'}, {'category': 'Whole', 'mention': 'проведенным вечером', 'start': '60', 'end': '79', 'sentiment': 'positive'}, {'category': 'Whole', 'mention': 'Ресторан', 'start': '143', 'end': '151', 'sentiment': 'positive'}, {'category': 'Interior', 'mention': 'столики', 'start': '217', 'end': '224', 'sentiment': 'positive'}, {'category': 'Food', 'mention': 'пиво', 'start': '385', 'end': '389', 'sentiment': 'positive'}, {'category': 'Food', 'mention': 'попробовали', 'start': '411', 'end': '422', 'sentiment': 'positive'}, {'category': 'Food', 'mention': 'Малиновое \"Аптекарское\"', 'start': '434', 'end': '457', 'sentiment': 'positive'}, {'category': 'Service', 'mention': 'Обслуживание', 'start': '479', 'end': '491', 'sentiment': 'positive'}, {'category': 'Food', 'mention': 'напитки', 'start': '520', 'end': '527', 'sentiment': 'positive'}, {'category': 'Service', 'mention': 'девушка', 'start': '561', 'end': '568', 'sentiment': 'positive'}, {'category': 'Service', 'mention': 'рассказала', 'start': '582', 'end': '592', 'sentiment': 'positive'}, {'category': 'Service', 'mention': 'советы по меню', 'start': '608', 'end': '622', 'sentiment': 'positive'}, {'category': 'Food', 'mention': 'Салаты', 'start': '686', 'end': '692', 'sentiment': 'positive'}, {'category': 'Food', 'mention': 'свинина с сыром Фета, фисташками и грибным соусом', 'start': '702', 'end': '751', 'sentiment': 'positive'}, {'category': 'Food', 'mention': 'Паста с морепродуктами', 'start': '776', 'end': '798', 'sentiment': 'positive'}, {'category': 'Food', 'mention': 'томатный соус', 'start': '842', 'end': '855', 'sentiment': 'positive'}, {'category': 'Food', 'mention': 'вкус', 'start': '864', 'end': '868', 'sentiment': 'positive'}, {'category': 'Food', 'mention': 'тимьяна', 'start': '878', 'end': '885', 'sentiment': 'positive'}, {'category': 'Food', 'mention': 'меню', 'start': '924', 'end': '928', 'sentiment': 'positive'}, {'category': 'Food', 'mention': 'блюд', 'start': '954', 'end': '958', 'sentiment': 'positive'}, {'category': 'Whole', 'mention': 'Набережную', 'start': '964', 'end': '974', 'sentiment': 'positive'}, {'category': 'Whole', 'mention': 'место', 'start': '1110', 'end': '1115', 'sentiment': 'positive'}], '10798': [{'category': 'Whole', 'mention': 'место', 'start': '68', 'end': '73', 'sentiment': 'positive'}, {'category': 'Whole', 'mention': 'провести время', 'start': '124', 'end': '138', 'sentiment': 'positive'}, {'category': 'Interior', 'mention': 'обстановке', 'start': '155', 'end': '165', 'sentiment': 'positive'}, {'category': 'Interior', 'mention': 'свечи', 'start': '198', 'end': '203', 'sentiment': 'positive'}, {'category': 'Interior', 'mention': 'столике', 'start': '221', 'end': '228', 'sentiment': 'positive'}, {'category': 'Interior', 'mention': 'кресла', 'start': '238', 'end': '244', 'sentiment': 'positive'}, {'category': 'Interior', 'mention': 'свет', 'start': '259', 'end': '263', 'sentiment': 'positive'}, {'category': 'Interior', 'mention': 'музыка', 'start': '265', 'end': '271', 'sentiment': 'positive'}, {'category': 'Interior', 'mention': 'аромат', 'start': '273', 'end': '279', 'sentiment': 'positive'}, {'category': 'Food', 'mention': 'Японская кухня', 'start': '300', 'end': '314', 'sentiment': 'positive'}, {'category': 'Food', 'mention': 'Европейская кухня', 'start': '368', 'end': '385', 'sentiment': 'positive'}, {'category': 'Price', 'mention': 'цены', 'start': '443', 'end': '447', 'sentiment': 'positive'}, {'category': 'Service', 'mention': 'сервис', 'start': '463', 'end': '469', 'sentiment': 'positive'}, {'category': 'Service', 'mention': 'девушки', 'start': '480', 'end': '487', 'sentiment': 'positive'}, {'category': 'Service', 'mention': 'принесли заказ', 'start': '502', 'end': '516', 'sentiment': 'positive'}, {'category': 'Food', 'mention': 'коктели', 'start': '531', 'end': '538', 'sentiment': 'positive'}, {'category': 'Food', 'mention': 'алкоголь', 'start': '541', 'end': '549', 'sentiment': 'positive'}], '6962': [{'category': 'Whole', 'mention': 'ресторан', 'start': '100', 'end': '108', 'sentiment': 'neutral'}, {'category': 'Service', 'mention': 'официант', 'start': '258', 'end': '266', 'sentiment': 'negative'}, {'category': 'Service', 'mention': 'администратор', 'start': '343', 'end': '356', 'sentiment': 'positive'}, {'category': 'Service', 'mention': 'обслужила', 'start': '369', 'end': '378', 'sentiment': 'positive'}, {'category': 'Whole', 'mention': 'ресторанах', 'start': '430', 'end': '440', 'sentiment': 'negative'}, {'category': 'Service', 'mention': 'админы', 'start': '488', 'end': '494', 'sentiment': 'negative'}, {'category': 'Service', 'mention': 'сервис', 'start': '501', 'end': '507', 'sentiment': 'positive'}, {'category': 'Service', 'mention': 'девушке', 'start': '566', 'end': '573', 'sentiment': 'positive'}, {'category': 'Food', 'mention': 'Кухня', 'start': '583', 'end': '588', 'sentiment': 'both'}, {'category': 'Food', 'mention': 'супа', 'start': '601', 'end': '605', 'sentiment': 'both'}, {'category': 'Food', 'mention': 'домашний куриный супчик', 'start': '607', 'end': '630', 'sentiment': 'positive'}, {'category': 'Food', 'mention': 'минестроне', 'start': '639', 'end': '649', 'sentiment': 'both'}, {'category': 'Food', 'mention': 'Салат \"Цезарь\"', 'start': '682', 'end': '696', 'sentiment': 'positive'}, {'category': 'Food', 'mention': 'основных блюд', 'start': '722', 'end': '735', 'sentiment': 'positive'}, {'category': 'Food', 'mention': 'мясное', 'start': '748', 'end': '754', 'sentiment': 'positive'}, {'category': 'Food', 'mention': 'морковь', 'start': '868', 'end': '875', 'sentiment': 'positive'}, {'category': 'Food', 'mention': 'комплимента-апперетива', 'start': '887', 'end': '909', 'sentiment': 'positive'}, {'category': 'Service', 'mention': 'официантами', 'start': '1030', 'end': '1041', 'sentiment': 'negative'}], '28258': [{'category': 'Food', 'mention': 'поужинать', 'start': '16', 'end': '25', 'sentiment': 'neutral'}, {'category': 'Service', 'mention': 'встретил', 'start': '69', 'end': '77', 'sentiment': 'positive'}, {'category': 'Service', 'mention': 'парковщик', 'start': '78', 'end': '87', 'sentiment': 'positive'}, {'category': 'Service', 'mention': 'помог', 'start': '89', 'end': '94', 'sentiment': 'positive'}, {'category': 'Service', 'mention': 'поприветствовал', 'start': '144', 'end': '159', 'sentiment': 'positive'}, {'category': 'Interior', 'mention': 'Интерьер', 'start': '161', 'end': '169', 'sentiment': 'positive'}, {'category': 'Interior', 'mention': 'дизайн', 'start': '208', 'end': '214', 'sentiment': 'positive'}, {'category': 'Service', 'mention': 'обслуживала', 'start': '270', 'end': '281', 'sentiment': 'positive'}, {'category': 'Service', 'mention': 'девушка', 'start': '291', 'end': '298', 'sentiment': 'positive'}, {'category': 'Service', 'mention': 'помогла', 'start': '370', 'end': '377', 'sentiment': 'positive'}, {'category': 'Food', 'mention': 'вареники', 'start': '517', 'end': '525', 'sentiment': 'neutral'}, {'category': 'Food', 'mention': 'суши', 'start': '527', 'end': '531', 'sentiment': 'neutral'}, {'category': 'Food', 'mention': 'вок', 'start': '533', 'end': '536', 'sentiment': 'neutral'}, {'category': 'Food', 'mention': 'пасты', 'start': '538', 'end': '543', 'sentiment': 'neutral'}, {'category': 'Food', 'mention': 'крем суп из белых грибов', 'start': '600', 'end': '624', 'sentiment': 'positive'}, {'category': 'Food', 'mention': 'пенне с уткой', 'start': '645', 'end': '658', 'sentiment': 'positive'}, {'category': 'Food', 'mention': 'Суп', 'start': '670', 'end': '673', 'sentiment': 'positive'}, {'category': 'Food', 'mention': 'паста', 'start': '690', 'end': '695', 'sentiment': 'positive'}, {'category': 'Food', 'mention': 'соуса', 'start': '727', 'end': '732', 'sentiment': 'positive'}, {'category': 'Food', 'mention': 'мясо утки', 'start': '741', 'end': '750', 'sentiment': 'neutral'}, {'category': 'Food', 'mention': 'Пастой', 'start': '752', 'end': '758', 'sentiment': 'positive'}, {'category': 'Food', 'mention': 'салат с говядиной', 'start': '791', 'end': '808', 'sentiment': 'positive'}, {'category': 'Food', 'mention': 'карпаччо', 'start': '811', 'end': '819', 'sentiment': 'positive'}, {'category': 'Price', 'mention': 'цены', 'start': '822', 'end': '826', 'sentiment': 'neutral'}, {'category': 'Whole', 'mention': 'визита', 'start': '870', 'end': '876', 'sentiment': 'positive'}, {'category': 'Food', 'mention': 'поели', 'start': '931', 'end': '936', 'sentiment': 'positive'}, {'category': 'Whole', 'mention': 'ресторан', 'start': '965', 'end': '973', 'sentiment': 'positive'}, {'category': 'Food', 'mention': 'поварам', 'start': '983', 'end': '990', 'sentiment': 'positive'}, {'category': 'Service', 'mention': 'персоналу', 'start': '993', 'end': '1002', 'sentiment': 'positive'}], '33043': [{'category': 'Interior', 'mention': 'Интерьер', 'start': '33', 'end': '41', 'sentiment': 'positive'}, {'category': 'Interior', 'mention': 'музыка', 'start': '63', 'end': '69', 'sentiment': 'positive'}, {'category': 'Service', 'mention': 'девушки', 'start': '85', 'end': '92', 'sentiment': 'positive'}, {'category': 'Food', 'mention': 'еда', 'start': '103', 'end': '106', 'sentiment': 'positive'}, {'category': 'Food', 'mention': 'Рубленные котлетки из лосося и судака с голландским соусом и белой спаржей', 'start': '165', 'end': '239', 'sentiment': 'positive'}, {'category': 'Food', 'mention': 'куриное филе с котлетками из кабачков', 'start': '241', 'end': '278', 'sentiment': 'positive'}, {'category': 'Food', 'mention': 'салат из тунца', 'start': '280', 'end': '294', 'sentiment': 'positive'}, {'category': 'Food', 'mention': 'десерт с бананами', 'start': '296', 'end': '313', 'sentiment': 'positive'}, {'category': 'Food', 'mention': 'блюдо', 'start': '387', 'end': '392', 'sentiment': 'positive'}, {'category': 'Service', 'mention': 'Обслуживание', 'start': '409', 'end': '421', 'sentiment': 'positive'}, {'category': 'Service', 'mention': 'улыбаются', 'start': '478', 'end': '487', 'sentiment': 'positive'}, {'category': 'Service', 'mention': 'девушка хостес', 'start': '561', 'end': '575', 'sentiment': 'positive'}, {'category': 'Interior', 'mention': 'столы', 'start': '621', 'end': '626', 'sentiment': 'negative'}, {'category': 'Service', 'mention': 'нашла', 'start': '677', 'end': '682', 'sentiment': 'positive'}, {'category': 'Interior', 'mention': 'место', 'start': '701', 'end': '706', 'sentiment': 'positive'}, {'category': 'Service', 'mention': 'принес', 'start': '714', 'end': '720', 'sentiment': 'neutral'}, {'category': 'Service', 'mention': 'официант', 'start': '721', 'end': '729', 'sentiment': 'neutral'}, {'category': 'Service', 'mention': 'ждали', 'start': '742', 'end': '747', 'sentiment': 'negative'}, {'category': 'Service', 'mention': 'заказали', 'start': '782', 'end': '790', 'sentiment': 'neutral'}, {'category': 'Service', 'mention': 'заказ', 'start': '792', 'end': '797', 'sentiment': 'positive'}, {'category': 'Service', 'mention': 'принесли', 'start': '798', 'end': '806', 'sentiment': 'positive'}, {'category': 'Food', 'mention': 'приготовили', 'start': '880', 'end': '891', 'sentiment': 'positive'}, {'category': 'Service', 'mention': 'оставил', 'start': '1017', 'end': '1024', 'sentiment': 'negative'}, {'category': 'Whole', 'mention': 'Шатер', 'start': '1318', 'end': '1323', 'sentiment': 'positive'}], '16630': [{'category': 'Interior', 'mention': 'обстановка', 'start': '25', 'end': '35', 'sentiment': 'positive'}, {'category': 'Service', 'mention': 'персонал', 'start': '56', 'end': '64', 'sentiment': 'positive'}, {'category': 'Service', 'mention': 'обслуживание', 'start': '85', 'end': '97', 'sentiment': 'positive'}, {'category': 'Food', 'mention': 'Еда', 'start': '99', 'end': '102', 'sentiment': 'positive'}, {'category': 'Service', 'mention': 'персоналу', 'start': '244', 'end': '253', 'sentiment': 'positive'}, {'category': 'Whole', 'mention': 'ресторан', 'start': '294', 'end': '302', 'sentiment': 'positive'}, {'category': 'Whole', 'mention': 'место', 'start': '315', 'end': '320', 'sentiment': 'positive'}]}\n"
          ]
        }
      ]
    },
    {
      "cell_type": "code",
      "source": [
        "def bio_ing(reviews):\n",
        "    bio_texts = []\n",
        "    for text_id, text in tqdm(reviews.items()):\n",
        "        doc = nlp(text)\n",
        "        bio = []\n",
        "        for token in doc.iter_tokens():\n",
        "            check = 0\n",
        "            for mention in aspects[text_id]:\n",
        "                info = {\n",
        "                    'text': '',\n",
        "                    'pos': '',\n",
        "                    'bio_tag': '',\n",
        "                    'text_id': '',\n",
        "                    'start': '',\n",
        "                    'end': '',\n",
        "                    'sentiment': ''\n",
        "                }\n",
        "                if token.start_char == int(mention['start']) and token.end_char <= int(mention['end']):\n",
        "                    info['bio_tag'] = f\"B-{mention['category']}\"\n",
        "                elif token.start_char > int(mention['start']) and token.end_char <= int(mention['end']):\n",
        "                    info['bio_tag'] = f\"I-{mention['category']}\"\n",
        "                if info['bio_tag'] != '':\n",
        "                    info['text'] = token.text\n",
        "                    info['pos'] = token.words[0].pos if token.words[0].pos is not None else 'PUNKT'\n",
        "                    info['text_id'] = text_id\n",
        "                    info['start'] = token.start_char\n",
        "                    info['end'] = token.end_char\n",
        "                    info['sentiment'] = mention['sentiment']\n",
        "                    bio.append(info)\n",
        "                    check = 1\n",
        "            if check == 0:\n",
        "                bio.append({\n",
        "                    'text': token.text,\n",
        "                    'pos': token.words[0].pos if token.words[0].pos is not None else 'PUNKT',\n",
        "                    'bio_tag': 'O',\n",
        "                    'text_id': text_id,\n",
        "                    'start': token.start_char,\n",
        "                    'end': token.end_char,\n",
        "                    'sentiment': '-'\n",
        "                })\n",
        "        bio_texts.append(bio)\n",
        "    return bio_texts"
      ],
      "metadata": {
        "id": "5WmVi3abKddz"
      },
      "execution_count": null,
      "outputs": []
    },
    {
      "cell_type": "code",
      "source": [
        "bio_reviews = bio_ing(reviews)"
      ],
      "metadata": {
        "colab": {
          "base_uri": "https://localhost:8080/"
        },
        "id": "YUtNQk1a0SU9",
        "outputId": "46ec4aaf-1e9a-46a6-b344-f1a93858498c"
      },
      "execution_count": null,
      "outputs": [
        {
          "output_type": "stream",
          "name": "stderr",
          "text": [
            "100%|██████████| 213/213 [06:03<00:00,  1.71s/it]\n"
          ]
        }
      ]
    },
    {
      "cell_type": "code",
      "source": [
        "train_reviews, test_reviews = train_test_split(bio_reviews)"
      ],
      "metadata": {
        "id": "oJ-Bftoz3EHX"
      },
      "execution_count": null,
      "outputs": []
    },
    {
      "cell_type": "code",
      "source": [
        "def word2features(sent, i):\n",
        "    word = sent[i]['text']\n",
        "    pos_tag = sent[i]['pos']\n",
        "    text_id = sent[i]['text_id']\n",
        "    start_position = sent[i]['start']\n",
        "    end_position = sent[i]['end']\n",
        "    \n",
        "    features = {\n",
        "        'text_id': text_id,\n",
        "        'text': word,\n",
        "        'start_pos': start_position,\n",
        "        'end_pos': end_position,\n",
        "        'word.lower()': word.lower(),\n",
        "        'word[-3:]': word[-3:],\n",
        "        'word[-2:]': word[-2:],\n",
        "        'word.isupper()': word.isupper(),\n",
        "        'word.istitle()': word.istitle(),\n",
        "        'word.isdigit()': word.isdigit(),\n",
        "        'pos_tag': pos_tag,\n",
        "        'pos_tag[:2]': pos_tag[:2],\n",
        "    }\n",
        "    if i > 0:\n",
        "        word1 = sent[i-1]['text']\n",
        "        pos_tag1 = sent[i-1]['pos']\n",
        "        features.update({\n",
        "            '-1:word.lower()': word1.lower(),\n",
        "            '-1:word.istitle()': word1.istitle(),\n",
        "            '-1:word.isupper()': word1.isupper(),\n",
        "            '-1:pos_tag': pos_tag1,\n",
        "            '-1:pos_tag[:2]': pos_tag1[:2],\n",
        "        })\n",
        "    else:\n",
        "        features['BOS'] = True\n",
        "\n",
        "    if i < len(sent)-1:\n",
        "        word1 = sent[i+1]['text']\n",
        "        pos_tag1 = sent[i+1]['pos']\n",
        "        features.update({\n",
        "            '+1:word.lower()': word1.lower(),\n",
        "            '+1:word.istitle()': word1.istitle(),\n",
        "            '+1:word.isupper()': word1.isupper(),\n",
        "            '+1:pos_tag': pos_tag1,\n",
        "            '+1:pos_tag[:2]': pos_tag1[:2],\n",
        "        })\n",
        "    else:\n",
        "        features['EOS'] = True\n",
        "\n",
        "    return features\n",
        "\n",
        "def sent2features(sent):\n",
        "    return [word2features(sent, i) for i in range(len(sent))]\n",
        "\n",
        "def sent2labels(sent):\n",
        "    return [word['bio_tag'] for word in sent]\n",
        "\n",
        "def sent2tokens(sent):\n",
        "    return [word['text'] for word in sent]"
      ],
      "metadata": {
        "id": "HJInfAQJuftX"
      },
      "execution_count": null,
      "outputs": []
    },
    {
      "cell_type": "code",
      "source": [
        "print(train_reviews[0][0])"
      ],
      "metadata": {
        "colab": {
          "base_uri": "https://localhost:8080/"
        },
        "id": "Z9gqK-Fy6JYY",
        "outputId": "5c360dc1-ff6e-4373-9013-4fe51e8632c1"
      },
      "execution_count": null,
      "outputs": [
        {
          "output_type": "stream",
          "name": "stdout",
          "text": [
            "{'text': 'Кухня', 'pos': 'NOUN', 'bio_tag': 'B-Food', 'text_id': '37220', 'start': 0, 'end': 5, 'sentiment': 'positive'}\n"
          ]
        }
      ]
    },
    {
      "cell_type": "code",
      "source": [
        "X_train = [sent2features(text) for text in train_reviews]\n",
        "y_train = [sent2labels(text) for text in train_reviews]\n",
        "\n",
        "X_test = [sent2features(text) for text in test_reviews]\n",
        "y_test = [sent2labels(text) for text in test_reviews]"
      ],
      "metadata": {
        "id": "RQbShFMk4kT6"
      },
      "execution_count": null,
      "outputs": []
    },
    {
      "cell_type": "code",
      "source": [
        "sklearn_crfsuite.CRF._get_param_names()"
      ],
      "metadata": {
        "colab": {
          "base_uri": "https://localhost:8080/"
        },
        "id": "PR6ZRXYHDn-y",
        "outputId": "9641f670-9595-4651-89c9-aa140eacd226"
      },
      "execution_count": null,
      "outputs": [
        {
          "output_type": "execute_result",
          "data": {
            "text/plain": [
              "['algorithm',\n",
              " 'all_possible_states',\n",
              " 'all_possible_transitions',\n",
              " 'averaging',\n",
              " 'c',\n",
              " 'c1',\n",
              " 'c2',\n",
              " 'calibration_candidates',\n",
              " 'calibration_eta',\n",
              " 'calibration_max_trials',\n",
              " 'calibration_rate',\n",
              " 'calibration_samples',\n",
              " 'delta',\n",
              " 'epsilon',\n",
              " 'error_sensitive',\n",
              " 'gamma',\n",
              " 'keep_tempfiles',\n",
              " 'linesearch',\n",
              " 'max_iterations',\n",
              " 'max_linesearch',\n",
              " 'min_freq',\n",
              " 'model_filename',\n",
              " 'num_memories',\n",
              " 'pa_type',\n",
              " 'period',\n",
              " 'trainer_cls',\n",
              " 'variance',\n",
              " 'verbose']"
            ]
          },
          "metadata": {},
          "execution_count": 20
        }
      ]
    },
    {
      "cell_type": "code",
      "source": [
        "crf = sklearn_crfsuite.CRF(algorithm='lbfgs',\n",
        "          c1=0.1,\n",
        "          c2=0.1,\n",
        "          max_iterations=100,\n",
        "          all_possible_transitions=False)"
      ],
      "metadata": {
        "id": "fIOBI0DyB_B_"
      },
      "execution_count": null,
      "outputs": []
    },
    {
      "cell_type": "code",
      "source": [
        "try:\n",
        "    crf.fit(X_train, y_train)\n",
        "except AttributeError:\n",
        "    pass\n",
        "y_pred  = crf.predict(X_test)"
      ],
      "metadata": {
        "id": "RF9Wl1C6B_GP"
      },
      "execution_count": null,
      "outputs": []
    },
    {
      "cell_type": "code",
      "source": [
        "labels = set()\n",
        "for y_big in y_train:\n",
        "  for y_small in y_big:\n",
        "    labels.add(y_small)\n",
        "\n",
        "labels = list(labels)"
      ],
      "metadata": {
        "id": "pi8AmTJHErGE"
      },
      "execution_count": null,
      "outputs": []
    },
    {
      "cell_type": "code",
      "source": [
        "crf_metrics.flat_f1_score(y_test, y_pred, \n",
        "                      average='weighted', labels=labels)"
      ],
      "metadata": {
        "colab": {
          "base_uri": "https://localhost:8080/"
        },
        "id": "Gu6PS7T0HWzE",
        "outputId": "19aeb586-1aa5-4f01-e0b6-2a7cc7aee76f"
      },
      "execution_count": null,
      "outputs": [
        {
          "output_type": "execute_result",
          "data": {
            "text/plain": [
              "0.9222557544526798"
            ]
          },
          "metadata": {},
          "execution_count": 24
        }
      ]
    },
    {
      "cell_type": "code",
      "source": [
        "sorted_labels = sorted(\n",
        "    labels, \n",
        "    key=lambda name: (name[1:], name[0])\n",
        ")\n",
        "print(crf_metrics.flat_classification_report(\n",
        "    y_test, y_pred, labels=sorted_labels, digits=3\n",
        "))"
      ],
      "metadata": {
        "colab": {
          "base_uri": "https://localhost:8080/"
        },
        "id": "b2-lHRApFA0V",
        "outputId": "24031f83-06a4-436e-a5e6-968ec0368b00"
      },
      "execution_count": null,
      "outputs": [
        {
          "output_type": "stream",
          "name": "stdout",
          "text": [
            "              precision    recall  f1-score   support\n",
            "\n",
            "           O      0.947     0.981     0.964      8250\n",
            "      B-Food      0.766     0.648     0.702       358\n",
            "      I-Food      0.763     0.535     0.629       217\n",
            "  B-Interior      0.796     0.517     0.627       143\n",
            "  I-Interior      0.412     0.175     0.246        40\n",
            "     B-Price      0.875     0.519     0.651        27\n",
            "     I-Price      0.000     0.000     0.000        13\n",
            "   B-Service      0.827     0.614     0.704       233\n",
            "   I-Service      0.560     0.359     0.438        39\n",
            "     B-Whole      0.742     0.648     0.692       142\n",
            "     I-Whole      0.464     0.591     0.520        22\n",
            "\n",
            "    accuracy                          0.928      9484\n",
            "   macro avg      0.650     0.508     0.561      9484\n",
            "weighted avg      0.921     0.928     0.922      9484\n",
            "\n"
          ]
        },
        {
          "output_type": "stream",
          "name": "stderr",
          "text": [
            "/usr/local/lib/python3.8/dist-packages/sklearn/metrics/_classification.py:1221: UndefinedMetricWarning: Precision and F-score are ill-defined and being set to 0.0 in labels with no predicted samples. Use `zero_division` parameter to control this behavior.\n",
            "  _warn_prf(average, modifier, msg_start, len(result))\n"
          ]
        }
      ]
    },
    {
      "cell_type": "code",
      "source": [
        "crf_preds = [prediction for prediction in y_pred]\n",
        "true_labels = [true_label for true_label in y_test]"
      ],
      "metadata": {
        "id": "uDqI6HCCNkBE"
      },
      "execution_count": null,
      "outputs": []
    },
    {
      "cell_type": "code",
      "source": [
        "def dev_mark(y_pred, X_test):\n",
        "  dev_return = {\n",
        "      'text_id': [], \n",
        "      'tag': [], \n",
        "      'text': [], \n",
        "      'start': [], \n",
        "      'end': []\n",
        "  }\n",
        "  for num, i in enumerate(y_pred):\n",
        "      for j, tag in enumerate(i):\n",
        "          if tag != 'O' and i[j].startswith('B') and i[j + 1].startswith('I'):\n",
        "              n = j + 1\n",
        "              tokens = []\n",
        "              tokens.append(X_test[num][j]['text'])\n",
        "              start = X_test[num][j]['start_pos']\n",
        "              while i[n].startswith('I'):\n",
        "                  tokens.append(X_test[num][n]['text'])\n",
        "                  n += 1\n",
        "              end = X_test[num][n-1]['end_pos']\n",
        "              t_id = X_test[num][j]['text_id']\n",
        "              tag = i[j].split('-')[1]\n",
        "              dev_return['text_id'].append(t_id)\n",
        "              dev_return['text'].append(' '.join(tokens))\n",
        "              dev_return['tag'].append(tag)\n",
        "              dev_return['start'].append(start)\n",
        "              dev_return['end'].append(end)\n",
        "          elif tag != 'O' and i[j].startswith('B') and not i[j + 1].startswith('I'):\n",
        "              dev_return['text_id'].append(X_test[num][j]['text_id'])\n",
        "              dev_return['tag'].append(i[j].split('-')[1])\n",
        "              dev_return['text'].append(X_test[num][j]['text'])\n",
        "              dev_return['start'].append(X_test[num][j]['start_pos'])\n",
        "              dev_return['end'].append(X_test[num][j]['end_pos'])\n",
        "  df = pd.DataFrame(dev_return)\n",
        "  return df"
      ],
      "metadata": {
        "id": "snVPMw-jNlVV"
      },
      "execution_count": null,
      "outputs": []
    },
    {
      "cell_type": "code",
      "source": [
        "dev_texts = pd.read_csv('dev_reviews.txt', delimiter='\\t', names=['text_id', 'text'])"
      ],
      "metadata": {
        "id": "gOMttaPjSFN5"
      },
      "execution_count": null,
      "outputs": []
    },
    {
      "cell_type": "code",
      "source": [
        "dev_reviews = {}\n",
        "with open('dev_reviews.txt') as f:\n",
        "  for line in f:\n",
        "    line = line.rstrip('\\r\\n').split('\\t')\n",
        "    dev_reviews[line[0]] = line[1]"
      ],
      "metadata": {
        "id": "_m2TLi-ISJcF"
      },
      "execution_count": null,
      "outputs": []
    },
    {
      "cell_type": "code",
      "source": [
        "def get_data(dev_reviews):\n",
        "  all_texts = []\n",
        "  for text_id, text in tqdm(dev_reviews.items()):\n",
        "    tokens = []\n",
        "    processed = nlp(text)\n",
        "    for token in processed.iter_tokens():\n",
        "      parse = morph.parse(token.text)[0]\n",
        "      postag = parse.tag.POS\n",
        "      if postag is None:\n",
        "        postag = 'PUNKT'\n",
        "      tokens.append({'text':token.text, 'pos':postag, 'text_id':text_id,\n",
        "                     'start':token.start_char, 'end':token.end_char})\n",
        "    all_texts.append(tokens)\n",
        "  return all_texts"
      ],
      "metadata": {
        "id": "o7g55XbXSLX2"
      },
      "execution_count": null,
      "outputs": []
    },
    {
      "cell_type": "code",
      "source": [
        "all_texts = get_data(dev_reviews)"
      ],
      "metadata": {
        "colab": {
          "base_uri": "https://localhost:8080/"
        },
        "id": "3wmm--BXSNJa",
        "outputId": "d8ffb259-04ae-4f3f-fb5f-a8729850732d"
      },
      "execution_count": null,
      "outputs": [
        {
          "output_type": "stream",
          "name": "stderr",
          "text": [
            "100%|██████████| 71/71 [01:50<00:00,  1.56s/it]\n"
          ]
        }
      ]
    },
    {
      "cell_type": "code",
      "source": [
        "test_data = [sent2features(text) for text in all_texts]\n",
        "dev_pred = crf.predict(test_data)\n",
        "dev_res = dev_mark(dev_pred, test_data)"
      ],
      "metadata": {
        "id": "hTLKxhlSUktd"
      },
      "execution_count": null,
      "outputs": []
    },
    {
      "cell_type": "code",
      "source": [
        "with open('dev_pred_aspects.txt', 'w') as file:\n",
        "  for text_id, tag, text, start, end in zip(dev_res['text_id'], dev_res['tag'], dev_res['text'], dev_res['start'], dev_res['end']):\n",
        "      print(text_id, tag, text, start, end, sep=\"\\t\", file=file)"
      ],
      "metadata": {
        "id": "oo5VJy2uX6q9"
      },
      "execution_count": null,
      "outputs": []
    },
    {
      "cell_type": "markdown",
      "source": [
        "Получившиеся данные"
      ],
      "metadata": {
        "id": "I2-jCsp8ZSbU"
      }
    },
    {
      "cell_type": "markdown",
      "source": [
        "![mine.jpg](data:image/jpeg;base64,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)"
      ],
      "metadata": {
        "id": "eGVcehtmZCzC"
      }
    },
    {
      "cell_type": "code",
      "source": [
        "import pickle\n",
        "pkl_filename = \"crf_model.pkl\" \n",
        "with open(pkl_filename, 'wb') as file: \n",
        "  pickle.dump(crf, file)"
      ],
      "metadata": {
        "id": "IpDLcJVQdELb"
      },
      "execution_count": null,
      "outputs": []
    },
    {
      "cell_type": "markdown",
      "source": [
        "# Задание 2 (Оценка тональности по аспектам)"
      ],
      "metadata": {
        "id": "RMJDCN90b5jP"
      }
    },
    {
      "cell_type": "code",
      "source": [
        "!python3 -m spacy download ru_core_news_md"
      ],
      "metadata": {
        "colab": {
          "base_uri": "https://localhost:8080/"
        },
        "id": "mzZEP_wvcAGm",
        "outputId": "821faae1-a707-473b-9455-00d5a1b9cbce"
      },
      "execution_count": null,
      "outputs": [
        {
          "output_type": "stream",
          "name": "stdout",
          "text": [
            "/usr/local/lib/python3.8/dist-packages/torch/cuda/__init__.py:497: UserWarning: Can't initialize NVML\n",
            "  warnings.warn(\"Can't initialize NVML\")\n",
            "2022-12-28 08:43:48.457877: E tensorflow/stream_executor/cuda/cuda_driver.cc:271] failed call to cuInit: CUDA_ERROR_NO_DEVICE: no CUDA-capable device is detected\n",
            "Looking in indexes: https://pypi.org/simple, https://us-python.pkg.dev/colab-wheels/public/simple/\n",
            "Collecting ru-core-news-md==3.4.0\n",
            "  Downloading https://github.com/explosion/spacy-models/releases/download/ru_core_news_md-3.4.0/ru_core_news_md-3.4.0-py3-none-any.whl (41.9 MB)\n",
            "\u001b[K     |████████████████████████████████| 41.9 MB 2.1 MB/s \n",
            "\u001b[?25hRequirement already satisfied: spacy<3.5.0,>=3.4.0 in /usr/local/lib/python3.8/dist-packages (from ru-core-news-md==3.4.0) (3.4.4)\n",
            "Requirement already satisfied: pymorphy2>=0.9 in /usr/local/lib/python3.8/dist-packages (from ru-core-news-md==3.4.0) (0.9.1)\n",
            "Requirement already satisfied: docopt>=0.6 in /usr/local/lib/python3.8/dist-packages (from pymorphy2>=0.9->ru-core-news-md==3.4.0) (0.6.2)\n",
            "Requirement already satisfied: pymorphy2-dicts-ru<3.0,>=2.4 in /usr/local/lib/python3.8/dist-packages (from pymorphy2>=0.9->ru-core-news-md==3.4.0) (2.4.417127.4579844)\n",
            "Requirement already satisfied: dawg-python>=0.7.1 in /usr/local/lib/python3.8/dist-packages (from pymorphy2>=0.9->ru-core-news-md==3.4.0) (0.7.2)\n",
            "Requirement already satisfied: tqdm<5.0.0,>=4.38.0 in /usr/local/lib/python3.8/dist-packages (from spacy<3.5.0,>=3.4.0->ru-core-news-md==3.4.0) (4.64.1)\n",
            "Requirement already satisfied: thinc<8.2.0,>=8.1.0 in /usr/local/lib/python3.8/dist-packages (from spacy<3.5.0,>=3.4.0->ru-core-news-md==3.4.0) (8.1.5)\n",
            "Requirement already satisfied: smart-open<7.0.0,>=5.2.1 in /usr/local/lib/python3.8/dist-packages (from spacy<3.5.0,>=3.4.0->ru-core-news-md==3.4.0) (6.3.0)\n",
            "Requirement already satisfied: spacy-legacy<3.1.0,>=3.0.10 in /usr/local/lib/python3.8/dist-packages (from spacy<3.5.0,>=3.4.0->ru-core-news-md==3.4.0) (3.0.10)\n",
            "Requirement already satisfied: wasabi<1.1.0,>=0.9.1 in /usr/local/lib/python3.8/dist-packages (from spacy<3.5.0,>=3.4.0->ru-core-news-md==3.4.0) (0.10.1)\n",
            "Requirement already satisfied: setuptools in /usr/local/lib/python3.8/dist-packages (from spacy<3.5.0,>=3.4.0->ru-core-news-md==3.4.0) (57.4.0)\n",
            "Requirement already satisfied: murmurhash<1.1.0,>=0.28.0 in /usr/local/lib/python3.8/dist-packages (from spacy<3.5.0,>=3.4.0->ru-core-news-md==3.4.0) (1.0.9)\n",
            "Requirement already satisfied: jinja2 in /usr/local/lib/python3.8/dist-packages (from spacy<3.5.0,>=3.4.0->ru-core-news-md==3.4.0) (2.11.3)\n",
            "Requirement already satisfied: packaging>=20.0 in /usr/local/lib/python3.8/dist-packages (from spacy<3.5.0,>=3.4.0->ru-core-news-md==3.4.0) (21.3)\n",
            "Requirement already satisfied: pydantic!=1.8,!=1.8.1,<1.11.0,>=1.7.4 in /usr/local/lib/python3.8/dist-packages (from spacy<3.5.0,>=3.4.0->ru-core-news-md==3.4.0) (1.10.2)\n",
            "Requirement already satisfied: pathy>=0.3.5 in /usr/local/lib/python3.8/dist-packages (from spacy<3.5.0,>=3.4.0->ru-core-news-md==3.4.0) (0.10.1)\n",
            "Requirement already satisfied: requests<3.0.0,>=2.13.0 in /usr/local/lib/python3.8/dist-packages (from spacy<3.5.0,>=3.4.0->ru-core-news-md==3.4.0) (2.23.0)\n",
            "Requirement already satisfied: langcodes<4.0.0,>=3.2.0 in /usr/local/lib/python3.8/dist-packages (from spacy<3.5.0,>=3.4.0->ru-core-news-md==3.4.0) (3.3.0)\n",
            "Requirement already satisfied: preshed<3.1.0,>=3.0.2 in /usr/local/lib/python3.8/dist-packages (from spacy<3.5.0,>=3.4.0->ru-core-news-md==3.4.0) (3.0.8)\n",
            "Requirement already satisfied: typer<0.8.0,>=0.3.0 in /usr/local/lib/python3.8/dist-packages (from spacy<3.5.0,>=3.4.0->ru-core-news-md==3.4.0) (0.7.0)\n",
            "Requirement already satisfied: spacy-loggers<2.0.0,>=1.0.0 in /usr/local/lib/python3.8/dist-packages (from spacy<3.5.0,>=3.4.0->ru-core-news-md==3.4.0) (1.0.4)\n",
            "Requirement already satisfied: catalogue<2.1.0,>=2.0.6 in /usr/local/lib/python3.8/dist-packages (from spacy<3.5.0,>=3.4.0->ru-core-news-md==3.4.0) (2.0.8)\n",
            "Requirement already satisfied: numpy>=1.15.0 in /usr/local/lib/python3.8/dist-packages (from spacy<3.5.0,>=3.4.0->ru-core-news-md==3.4.0) (1.21.6)\n",
            "Requirement already satisfied: srsly<3.0.0,>=2.4.3 in /usr/local/lib/python3.8/dist-packages (from spacy<3.5.0,>=3.4.0->ru-core-news-md==3.4.0) (2.4.5)\n",
            "Requirement already satisfied: cymem<2.1.0,>=2.0.2 in /usr/local/lib/python3.8/dist-packages (from spacy<3.5.0,>=3.4.0->ru-core-news-md==3.4.0) (2.0.7)\n",
            "Requirement already satisfied: pyparsing!=3.0.5,>=2.0.2 in /usr/local/lib/python3.8/dist-packages (from packaging>=20.0->spacy<3.5.0,>=3.4.0->ru-core-news-md==3.4.0) (3.0.9)\n",
            "Requirement already satisfied: typing-extensions>=4.1.0 in /usr/local/lib/python3.8/dist-packages (from pydantic!=1.8,!=1.8.1,<1.11.0,>=1.7.4->spacy<3.5.0,>=3.4.0->ru-core-news-md==3.4.0) (4.4.0)\n",
            "Requirement already satisfied: chardet<4,>=3.0.2 in /usr/local/lib/python3.8/dist-packages (from requests<3.0.0,>=2.13.0->spacy<3.5.0,>=3.4.0->ru-core-news-md==3.4.0) (3.0.4)\n",
            "Requirement already satisfied: idna<3,>=2.5 in /usr/local/lib/python3.8/dist-packages (from requests<3.0.0,>=2.13.0->spacy<3.5.0,>=3.4.0->ru-core-news-md==3.4.0) (2.10)\n",
            "Requirement already satisfied: certifi>=2017.4.17 in /usr/local/lib/python3.8/dist-packages (from requests<3.0.0,>=2.13.0->spacy<3.5.0,>=3.4.0->ru-core-news-md==3.4.0) (2022.12.7)\n",
            "Requirement already satisfied: urllib3!=1.25.0,!=1.25.1,<1.26,>=1.21.1 in /usr/local/lib/python3.8/dist-packages (from requests<3.0.0,>=2.13.0->spacy<3.5.0,>=3.4.0->ru-core-news-md==3.4.0) (1.25.11)\n",
            "Requirement already satisfied: blis<0.8.0,>=0.7.8 in /usr/local/lib/python3.8/dist-packages (from thinc<8.2.0,>=8.1.0->spacy<3.5.0,>=3.4.0->ru-core-news-md==3.4.0) (0.7.9)\n",
            "Requirement already satisfied: confection<1.0.0,>=0.0.1 in /usr/local/lib/python3.8/dist-packages (from thinc<8.2.0,>=8.1.0->spacy<3.5.0,>=3.4.0->ru-core-news-md==3.4.0) (0.0.3)\n",
            "Requirement already satisfied: click<9.0.0,>=7.1.1 in /usr/local/lib/python3.8/dist-packages (from typer<0.8.0,>=0.3.0->spacy<3.5.0,>=3.4.0->ru-core-news-md==3.4.0) (7.1.2)\n",
            "Requirement already satisfied: MarkupSafe>=0.23 in /usr/local/lib/python3.8/dist-packages (from jinja2->spacy<3.5.0,>=3.4.0->ru-core-news-md==3.4.0) (2.0.1)\n",
            "Installing collected packages: ru-core-news-md\n",
            "Successfully installed ru-core-news-md-3.4.0\n",
            "\u001b[38;5;2m✔ Download and installation successful\u001b[0m\n",
            "You can now load the package via spacy.load('ru_core_news_md')\n"
          ]
        }
      ]
    },
    {
      "cell_type": "code",
      "source": [
        "import pandas as pd\n",
        "train_reviews = pd.read_csv('train_reviews.txt', sep='\\t', names=['review_id', 'text'], header=None)\n",
        "train_aspects = pd.read_csv('train_split_aspects.txt', sep='\\t', names=['review_id', 'category', 'span', 'span_start', 'span_end', 'sentiment'], header=None)"
      ],
      "metadata": {
        "id": "QBPeVCVwb5Q3"
      },
      "execution_count": null,
      "outputs": []
    },
    {
      "cell_type": "code",
      "source": [
        "import spacy\n",
        "import re\n",
        "from tqdm.notebook import tqdm\n",
        "tqdm.pandas()\n",
        "\n",
        "def get_dependencies(text, review_id):\n",
        "  all_tokens = []\n",
        "  doc = nlp(text)\n",
        "  for token in doc:\n",
        "    all_tokens.append([review_id, token.text, token.pos_, token.dep_, [child for child in token.children if child.pos_ in ['ADJ', 'NOUN', 'VERB', 'PART']], token.head.text, token.idx, token.idx+len(token.text)]) \n",
        "  global result_spacy\n",
        "  result_spacy.append(all_tokens)\n",
        "\n",
        "result_spacy = []\n",
        "nlp = spacy.load(\"ru_core_news_md\")\n",
        "train_reviews.progress_apply(lambda x: get_dependencies(x['text'], x['review_id']), axis=1)"
      ],
      "metadata": {
        "colab": {
          "base_uri": "https://localhost:8080/",
          "height": 307,
          "referenced_widgets": [
            "418569cfdff847ffaa33114ddd65fbc4",
            "3acae1841ff64fe6ae036e2259fd8fed",
            "ecef51cf841740c2803255dd6dce4378",
            "a070d993ff7045c3aeb04ef3559427d1",
            "611fbc9ca3fb456eb6ff03985cbef822",
            "9784a59ce9f245eba725f6d3e29aaf0d",
            "aca2329bc9164c6f95990619c51d4569",
            "30b1ace0ac044f758f05fba9b95978a0",
            "9734f2f5b75c4e16b49f4ca7eb997ca5",
            "c4730d5509aa4a6eb9aedce025651419",
            "f4a6b9e9067942948f481ba701dcd26c"
          ]
        },
        "id": "6hDtpe9LvnxR",
        "outputId": "2b4fca5f-970b-476d-a0ed-c9da0affc223"
      },
      "execution_count": null,
      "outputs": [
        {
          "output_type": "stream",
          "name": "stderr",
          "text": [
            "/usr/local/lib/python3.8/dist-packages/torch/cuda/__init__.py:497: UserWarning: Can't initialize NVML\n",
            "  warnings.warn(\"Can't initialize NVML\")\n"
          ]
        },
        {
          "output_type": "display_data",
          "data": {
            "text/plain": [
              "  0%|          | 0/284 [00:00<?, ?it/s]"
            ],
            "application/vnd.jupyter.widget-view+json": {
              "version_major": 2,
              "version_minor": 0,
              "model_id": "418569cfdff847ffaa33114ddd65fbc4"
            }
          },
          "metadata": {}
        },
        {
          "output_type": "execute_result",
          "data": {
            "text/plain": [
              "0      None\n",
              "1      None\n",
              "2      None\n",
              "3      None\n",
              "4      None\n",
              "       ... \n",
              "279    None\n",
              "280    None\n",
              "281    None\n",
              "282    None\n",
              "283    None\n",
              "Length: 284, dtype: object"
            ]
          },
          "metadata": {},
          "execution_count": 39
        }
      ]
    },
    {
      "cell_type": "markdown",
      "source": [
        "Сопоставляем по индексам с нашим исходником, собираем импровизированный чанк\n",
        "\n"
      ],
      "metadata": {
        "id": "45DrxtzPRph6"
      }
    },
    {
      "cell_type": "code",
      "source": [
        "def find_for_train(span, start, end, review_id):\n",
        "  s = span\n",
        "  for i in range(0, len(result_spacy)):\n",
        "      for j in range(0, len(result_spacy[i])):\n",
        "        if review_id == result_spacy[i][j][0] and span == result_spacy[i][j][1] and start == result_spacy[i][j][6] and end == result_spacy[i][j][7]:\n",
        "          s = result_spacy[i][j][5] + ' ' + result_spacy[i][j][1]\n",
        "          if type(result_spacy[i][j][4]) == list:\n",
        "            for x in result_spacy[i][j][4]:\n",
        "              s = s + ' ' + x.text\n",
        "          if type(result_spacy[i][j][4]) == str:\n",
        "              s = s + ' ' + result_spacy[i][j][4].text\n",
        "\n",
        "  return s\n",
        "      \n",
        "\n",
        "train_aspects['chunk'] = train_aspects.progress_apply(lambda x: find_for_train(x['span'], x['span_start'], x['span_end'], x['review_id']), axis=1)"
      ],
      "metadata": {
        "colab": {
          "base_uri": "https://localhost:8080/",
          "height": 49,
          "referenced_widgets": [
            "83815cc9ec1b41ed86452c19c779dc93",
            "440ee9efdf0d499fa8644778c93e2f15",
            "b6a578f06bc34104a9c21844b96664ea",
            "3467b2497c854eedb315fdec8993746e",
            "1d98909db6334483b3d00ea731224657",
            "1e6ecebd256d4037b9657f49220c0eba",
            "5b725cd39ca24ce483d2d7c8930c656b",
            "f49ebb36c7464671b90e720fe6643ddc",
            "41a45904d0e9424a97a97dd3731c656d",
            "c2d8c6b375684d0098542eda7f225365",
            "c6b4a5693bb647a9b20a0ccfea8817ac"
          ]
        },
        "id": "BUF3idRnGfRw",
        "outputId": "190c4932-5b58-4997-f15e-9234a7f2be28"
      },
      "execution_count": null,
      "outputs": [
        {
          "output_type": "display_data",
          "data": {
            "text/plain": [
              "  0%|          | 0/3618 [00:00<?, ?it/s]"
            ],
            "application/vnd.jupyter.widget-view+json": {
              "version_major": 2,
              "version_minor": 0,
              "model_id": "83815cc9ec1b41ed86452c19c779dc93"
            }
          },
          "metadata": {}
        }
      ]
    },
    {
      "cell_type": "markdown",
      "source": [
        "# Обучение"
      ],
      "metadata": {
        "id": "qGb5_Id2Rzj6"
      }
    },
    {
      "cell_type": "code",
      "source": [
        "!pip install transformers"
      ],
      "metadata": {
        "colab": {
          "base_uri": "https://localhost:8080/"
        },
        "id": "DtFmVJkBHlgw",
        "outputId": "27a8f3c2-49bd-4855-cb08-9cf0cade1e36"
      },
      "execution_count": null,
      "outputs": [
        {
          "output_type": "stream",
          "name": "stdout",
          "text": [
            "Looking in indexes: https://pypi.org/simple, https://us-python.pkg.dev/colab-wheels/public/simple/\n",
            "Requirement already satisfied: transformers in /usr/local/lib/python3.8/dist-packages (4.25.1)\n",
            "Requirement already satisfied: regex!=2019.12.17 in /usr/local/lib/python3.8/dist-packages (from transformers) (2022.6.2)\n",
            "Requirement already satisfied: huggingface-hub<1.0,>=0.10.0 in /usr/local/lib/python3.8/dist-packages (from transformers) (0.11.1)\n",
            "Requirement already satisfied: pyyaml>=5.1 in /usr/local/lib/python3.8/dist-packages (from transformers) (6.0)\n",
            "Requirement already satisfied: packaging>=20.0 in /usr/local/lib/python3.8/dist-packages (from transformers) (21.3)\n",
            "Requirement already satisfied: filelock in /usr/local/lib/python3.8/dist-packages (from transformers) (3.8.2)\n",
            "Requirement already satisfied: tokenizers!=0.11.3,<0.14,>=0.11.1 in /usr/local/lib/python3.8/dist-packages (from transformers) (0.13.2)\n",
            "Requirement already satisfied: numpy>=1.17 in /usr/local/lib/python3.8/dist-packages (from transformers) (1.21.6)\n",
            "Requirement already satisfied: tqdm>=4.27 in /usr/local/lib/python3.8/dist-packages (from transformers) (4.64.1)\n",
            "Requirement already satisfied: requests in /usr/local/lib/python3.8/dist-packages (from transformers) (2.23.0)\n",
            "Requirement already satisfied: typing-extensions>=3.7.4.3 in /usr/local/lib/python3.8/dist-packages (from huggingface-hub<1.0,>=0.10.0->transformers) (4.4.0)\n",
            "Requirement already satisfied: pyparsing!=3.0.5,>=2.0.2 in /usr/local/lib/python3.8/dist-packages (from packaging>=20.0->transformers) (3.0.9)\n",
            "Requirement already satisfied: chardet<4,>=3.0.2 in /usr/local/lib/python3.8/dist-packages (from requests->transformers) (3.0.4)\n",
            "Requirement already satisfied: urllib3!=1.25.0,!=1.25.1,<1.26,>=1.21.1 in /usr/local/lib/python3.8/dist-packages (from requests->transformers) (1.25.11)\n",
            "Requirement already satisfied: idna<3,>=2.5 in /usr/local/lib/python3.8/dist-packages (from requests->transformers) (2.10)\n",
            "Requirement already satisfied: certifi>=2017.4.17 in /usr/local/lib/python3.8/dist-packages (from requests->transformers) (2022.12.7)\n"
          ]
        }
      ]
    },
    {
      "cell_type": "markdown",
      "source": [
        "Берем несколько моделей для экспериментов"
      ],
      "metadata": {
        "id": "So8RcXwyR464"
      }
    },
    {
      "cell_type": "code",
      "source": [
        "import torch\n",
        "from transformers import AutoTokenizer, AutoModel\n",
        "from sklearn.linear_model import LogisticRegression\n",
        "from sklearn.pipeline import Pipeline\n",
        "from xgboost import XGBClassifier\n",
        "import lightgbm as lgb\n",
        "from sklearn.metrics import classification_report"
      ],
      "metadata": {
        "id": "_RddXIA6347l"
      },
      "execution_count": null,
      "outputs": []
    },
    {
      "cell_type": "code",
      "source": [
        "dev_aspects = pd.read_csv('dev_pred_aspects.txt', sep='\\t', names=['review_id', 'category', 'span', 'span_start', 'span_end', 'sentiment'], header=None)"
      ],
      "metadata": {
        "id": "BIwz_kJB4Aoy"
      },
      "execution_count": null,
      "outputs": []
    },
    {
      "cell_type": "markdown",
      "source": [
        "### Получаем вектора LaBSE"
      ],
      "metadata": {
        "id": "ke8BlYVX5C73"
      }
    },
    {
      "cell_type": "code",
      "source": [
        "def get_embeddings_LaBSE(texts, tokenizer_LaBSE, model_LaBSE):\n",
        "  tokenizer_LaBSE = AutoTokenizer.from_pretrained(\"cointegrated/LaBSE-en-ru\")\n",
        "  model_LaBSE = AutoModel.from_pretrained(\"cointegrated/LaBSE-en-ru\")\n",
        "  encoded_input = tokenizer_LaBSE(texts, padding=True, truncation=True, return_tensors='pt')\n",
        "  with torch.no_grad():\n",
        "      model_output = model_LaBSE(**encoded_input)\n",
        "  embeddings_LaBSE = model_output.pooler_output\n",
        "  embeddings_LaBSE = torch.nn.functional.normalize(embeddings_LaBSE)\n",
        "  return embeddings_LaBSE\n",
        "\n",
        "\n",
        "tokenizer_LaBSE = AutoTokenizer.from_pretrained(\"cointegrated/LaBSE-en-ru\")\n",
        "model_LaBSE = AutoModel.from_pretrained(\"cointegrated/LaBSE-en-ru\")"
      ],
      "metadata": {
        "colab": {
          "base_uri": "https://localhost:8080/",
          "height": 252,
          "referenced_widgets": [
            "29c7574f10b447879f7761e9749b2bc0",
            "b487b17b0e5b4bffba5bd48059cd990e",
            "27b012aff6a94100882749e5b692cc0a",
            "dee1293a0a3b454284389b9705027627",
            "af714a3b6c34499594bb2715084d3db9",
            "a8c9aca1830649f387d573ee9c303ac9",
            "0638ebe399184c129d32b48418eb2076",
            "1ceedccdfac94336a38d5d2305723a32",
            "3b25d01edace4a01a0e7331ce89c009e",
            "db850461861641ae82329e5179194976",
            "711950ee014944489ff14427af0ca2c7",
            "02fdd35541f945bba25519176ff26921",
            "4e7bab7e2e0d49b7a3e72733fd897b2e",
            "203c23ce33134743a3b324cc9bf9a47d",
            "15ff12feb5a545f8a062c478842dc48b",
            "24178d77b1de46f5903b7e99f061f20f",
            "9dc9c300c14d4c92a9c8abd9316448b5",
            "224a3fd5a8364cb2836178264aa85dff",
            "ab584d720c33482cb795ac3ddb14845f",
            "93d26c711708412d87236a051195b4fd",
            "44bb28c6f6894d2ab6913416864dc159",
            "8bce6074c176452ba1a7447f0abc66e5",
            "1c2b48658d6442d18702e84fcb8e6712",
            "2bd61f978f184832a1210db3446e40a2",
            "04dc6193330745269ab7b6346ce759fe",
            "ebdaad68fd8542b2b7e86a7b73526efb",
            "2cf0edb5054448b6a356b3880afe3f1b",
            "1f7d143718d34dc8a003b09fec25485c",
            "22e24224a60943a186ed116959cf63ea",
            "bae0d02f294d497f96cd5ad1285f27bd",
            "feb3275980a744efac0ae0954b450a3a",
            "2e94339d882d494d9225a732f195e516",
            "33354a5ee1ae45b89421819c3932a50f",
            "53f7373e3e754b15b8892dc557ecb16d",
            "4b9fd9be3b054778bb68ebe4570ce60c",
            "faa86cb7f0c1432ab5df4c845904ffc0",
            "a78604620d814725be191290fbdf15d7",
            "506744bea92e47bdad03c6609fdf314c",
            "d1c3d3684f054d68b82b2f92c25800da",
            "2f34372a77ee4923858d5aa22ba2feba",
            "d44f8c81d81148dbbc7869515ce1cf37",
            "c52d032598bd4642b4674ddd1f0bb569",
            "4a4a15b713814d1daa3f0564f07361b8",
            "60cd138f421c4689981eb95a476562a6",
            "f80ee77db05b4ef3ad5a8fb1df6bb6d7",
            "ad259199a7bd4977963503818682d3c4",
            "880369f53dc6437196881da58d68cd7d",
            "69b5b20106254334bf8239166711972a",
            "b8acd67fc89a43cfa87573b5ba98ecd6",
            "136854d05afe4c9ead857420b70a8df6",
            "8f0792d9f4be47b5b1e78e258d391f58",
            "3cc970e5b7d14266b61398cb02845e10",
            "732cace240684f4c9fb6cc07cf2018b5",
            "4b9774b140f74864ad88fbf76f1ad703",
            "fea0ade4cb7c42ada4d4e90fc2d3dd84"
          ]
        },
        "id": "AC1roN4FG8xL",
        "outputId": "47ff766a-d10e-4a6d-c39e-b9438279d0cc"
      },
      "execution_count": null,
      "outputs": [
        {
          "output_type": "display_data",
          "data": {
            "text/plain": [
              "Downloading:   0%|          | 0.00/49.0 [00:00<?, ?B/s]"
            ],
            "application/vnd.jupyter.widget-view+json": {
              "version_major": 2,
              "version_minor": 0,
              "model_id": "29c7574f10b447879f7761e9749b2bc0"
            }
          },
          "metadata": {}
        },
        {
          "output_type": "display_data",
          "data": {
            "text/plain": [
              "Downloading:   0%|          | 0.00/806 [00:00<?, ?B/s]"
            ],
            "application/vnd.jupyter.widget-view+json": {
              "version_major": 2,
              "version_minor": 0,
              "model_id": "02fdd35541f945bba25519176ff26921"
            }
          },
          "metadata": {}
        },
        {
          "output_type": "display_data",
          "data": {
            "text/plain": [
              "Downloading:   0%|          | 0.00/521k [00:00<?, ?B/s]"
            ],
            "application/vnd.jupyter.widget-view+json": {
              "version_major": 2,
              "version_minor": 0,
              "model_id": "1c2b48658d6442d18702e84fcb8e6712"
            }
          },
          "metadata": {}
        },
        {
          "output_type": "display_data",
          "data": {
            "text/plain": [
              "Downloading:   0%|          | 0.00/112 [00:00<?, ?B/s]"
            ],
            "application/vnd.jupyter.widget-view+json": {
              "version_major": 2,
              "version_minor": 0,
              "model_id": "53f7373e3e754b15b8892dc557ecb16d"
            }
          },
          "metadata": {}
        },
        {
          "output_type": "display_data",
          "data": {
            "text/plain": [
              "Downloading:   0%|          | 0.00/516M [00:00<?, ?B/s]"
            ],
            "application/vnd.jupyter.widget-view+json": {
              "version_major": 2,
              "version_minor": 0,
              "model_id": "f80ee77db05b4ef3ad5a8fb1df6bb6d7"
            }
          },
          "metadata": {}
        },
        {
          "output_type": "stream",
          "name": "stderr",
          "text": [
            "Some weights of the model checkpoint at cointegrated/LaBSE-en-ru were not used when initializing BertModel: ['cls.predictions.transform.dense.bias', 'cls.predictions.transform.dense.weight', 'cls.seq_relationship.bias', 'cls.seq_relationship.weight', 'cls.predictions.transform.LayerNorm.weight', 'cls.predictions.transform.LayerNorm.bias', 'cls.predictions.decoder.weight', 'cls.predictions.bias', 'cls.predictions.decoder.bias']\n",
            "- This IS expected if you are initializing BertModel from the checkpoint of a model trained on another task or with another architecture (e.g. initializing a BertForSequenceClassification model from a BertForPreTraining model).\n",
            "- This IS NOT expected if you are initializing BertModel from the checkpoint of a model that you expect to be exactly identical (initializing a BertForSequenceClassification model from a BertForSequenceClassification model).\n"
          ]
        }
      ]
    },
    {
      "cell_type": "markdown",
      "source": [
        "### Получаем вектора для наших собранных чанков\n",
        "\n",
        "Особого различия в зависимости от модели для векторизации не замечено, возьмем LaBSE"
      ],
      "metadata": {
        "id": "TWsetL3vSbPv"
      }
    },
    {
      "cell_type": "code",
      "source": [
        "dev_aspects['chunk'] = dev_aspects.progress_apply(lambda x: find_for_train(x['span'], x['span_start'], x['span_end'], x['review_id']), axis=1)"
      ],
      "metadata": {
        "colab": {
          "base_uri": "https://localhost:8080/",
          "height": 49,
          "referenced_widgets": [
            "734f03f0ba184a08be6d2ab4d0139d2c",
            "f325edaa2c504b85999b76478774b89c",
            "afe681af0f0a47c099709e4927db99e2",
            "9f06d471e8114ba19b3a6871109cd1fa",
            "9a97674fcc36474683db73c45416527b",
            "01076e614e824572abd0a8610921a545",
            "92021c0bd1754b30bc7b04db11d482bf",
            "51b44503e9784e5d89f41c2d88e51f90",
            "2a1232fd0eab4566b1810d7b697d5b38",
            "6b8de1612a3e44ad90525d739419ae0b",
            "e1eda0753ee84183b4add9806b20133f"
          ]
        },
        "id": "bmMlRdUVhlwY",
        "outputId": "ce2d7631-1b0f-434b-f82e-1df0d150f749"
      },
      "execution_count": null,
      "outputs": [
        {
          "output_type": "display_data",
          "data": {
            "text/plain": [
              "  0%|          | 0/963 [00:00<?, ?it/s]"
            ],
            "application/vnd.jupyter.widget-view+json": {
              "version_major": 2,
              "version_minor": 0,
              "model_id": "734f03f0ba184a08be6d2ab4d0139d2c"
            }
          },
          "metadata": {}
        }
      ]
    },
    {
      "cell_type": "code",
      "source": [
        "embeddings_labse_chunk = get_embeddings_LaBSE(list(train_aspects['chunk']), model_LaBSE, tokenizer_LaBSE)\n",
        "embeddings_labse_dev_chunk = get_embeddings_LaBSE(list(dev_aspects['chunk']), model_LaBSE, tokenizer_LaBSE)"
      ],
      "metadata": {
        "id": "09ucR2TUOhle",
        "colab": {
          "base_uri": "https://localhost:8080/"
        },
        "outputId": "e265230a-3593-410c-9a87-62964aba1572"
      },
      "execution_count": null,
      "outputs": [
        {
          "output_type": "stream",
          "name": "stderr",
          "text": [
            "Some weights of the model checkpoint at cointegrated/LaBSE-en-ru were not used when initializing BertModel: ['cls.predictions.transform.dense.bias', 'cls.predictions.transform.dense.weight', 'cls.seq_relationship.bias', 'cls.seq_relationship.weight', 'cls.predictions.transform.LayerNorm.weight', 'cls.predictions.transform.LayerNorm.bias', 'cls.predictions.decoder.weight', 'cls.predictions.bias', 'cls.predictions.decoder.bias']\n",
            "- This IS expected if you are initializing BertModel from the checkpoint of a model trained on another task or with another architecture (e.g. initializing a BertForSequenceClassification model from a BertForPreTraining model).\n",
            "- This IS NOT expected if you are initializing BertModel from the checkpoint of a model that you expect to be exactly identical (initializing a BertForSequenceClassification model from a BertForSequenceClassification model).\n",
            "Some weights of the model checkpoint at cointegrated/LaBSE-en-ru were not used when initializing BertModel: ['cls.predictions.transform.dense.bias', 'cls.predictions.transform.dense.weight', 'cls.seq_relationship.bias', 'cls.seq_relationship.weight', 'cls.predictions.transform.LayerNorm.weight', 'cls.predictions.transform.LayerNorm.bias', 'cls.predictions.decoder.weight', 'cls.predictions.bias', 'cls.predictions.decoder.bias']\n",
            "- This IS expected if you are initializing BertModel from the checkpoint of a model trained on another task or with another architecture (e.g. initializing a BertForSequenceClassification model from a BertForPreTraining model).\n",
            "- This IS NOT expected if you are initializing BertModel from the checkpoint of a model that you expect to be exactly identical (initializing a BertForSequenceClassification model from a BertForSequenceClassification model).\n"
          ]
        }
      ]
    },
    {
      "cell_type": "code",
      "source": [
        "model_xgb = XGBClassifier(max_depth=3, n_estimators=100)\n",
        "model_xgb.fit(embeddings_labse_chunk, list(train_aspects['sentiment']))\n",
        "y_pred = model_xgb.predict(embeddings_labse_dev_chunk)"
      ],
      "metadata": {
        "id": "fv6zm47hO5zx"
      },
      "execution_count": null,
      "outputs": []
    },
    {
      "cell_type": "code",
      "source": [
        "import pickle\n",
        "pkl_filename = \"xgb_labse.pkl\" \n",
        "with open(pkl_filename, 'wb') as file: \n",
        "  pickle.dump(model_xgb, file)"
      ],
      "metadata": {
        "id": "i7Gv6RO1vQF_"
      },
      "execution_count": null,
      "outputs": []
    },
    {
      "cell_type": "markdown",
      "source": [
        "Accuracy наконец-то изменилось в большую сторону, сохраняем"
      ],
      "metadata": {
        "id": "GDd3RJb9Trq3"
      }
    },
    {
      "cell_type": "code",
      "source": [
        "dev_aspects['sentiment'] = y_pred\n",
        "dev_aspects = dev_aspects.drop(columns=['chunk'])\n",
        "dev_aspects.to_csv('dev_pred_aspects.txt', sep = '\\t', index=False, header=False)"
      ],
      "metadata": {
        "id": "4oKnE1uIxZRJ"
      },
      "execution_count": null,
      "outputs": []
    },
    {
      "cell_type": "markdown",
      "source": [
        "#### Предсказываем категории "
      ],
      "metadata": {
        "id": "U9K9SZtlnwEI"
      }
    },
    {
      "cell_type": "code",
      "execution_count": null,
      "metadata": {
        "id": "6lm3xUQHdVAK",
        "colab": {
          "base_uri": "https://localhost:8080/"
        },
        "outputId": "7cb765c5-962a-4107-fedd-7575403490de"
      },
      "outputs": [
        {
          "output_type": "stream",
          "name": "stdout",
          "text": [
            "Looking in indexes: https://pypi.org/simple, https://us-python.pkg.dev/colab-wheels/public/simple/\n",
            "Collecting navec\n",
            "  Downloading navec-0.10.0-py3-none-any.whl (23 kB)\n",
            "Requirement already satisfied: numpy in /usr/local/lib/python3.8/dist-packages (from navec) (1.21.6)\n",
            "Installing collected packages: navec\n",
            "Successfully installed navec-0.10.0\n",
            "--2022-12-28 09:04:26--  https://storage.yandexcloud.net/natasha-navec/packs/navec_hudlit_v1_12B_500K_300d_100q.tar\n",
            "Resolving storage.yandexcloud.net (storage.yandexcloud.net)... 213.180.193.243, 2a02:6b8::1d9\n",
            "Connecting to storage.yandexcloud.net (storage.yandexcloud.net)|213.180.193.243|:443... connected.\n",
            "HTTP request sent, awaiting response... 200 OK\n",
            "Length: 53012480 (51M) [application/x-tar]\n",
            "Saving to: ‘navec_hudlit_v1_12B_500K_300d_100q.tar’\n",
            "\n",
            "navec_hudlit_v1_12B 100%[===================>]  50.56M  18.4MB/s    in 2.7s    \n",
            "\n",
            "2022-12-28 09:04:30 (18.4 MB/s) - ‘navec_hudlit_v1_12B_500K_300d_100q.tar’ saved [53012480/53012480]\n",
            "\n"
          ]
        }
      ],
      "source": [
        "!pip install navec\n",
        "!wget https://storage.yandexcloud.net/natasha-navec/packs/navec_hudlit_v1_12B_500K_300d_100q.tar\n",
        "\n",
        "from navec import Navec\n",
        "from string import punctuation\n",
        "\n",
        "path = 'navec_hudlit_v1_12B_500K_300d_100q.tar'\n",
        "navec = Navec.load(path)\n",
        "\n",
        "cats = ['Whole', 'Interior', 'Service', 'Food', 'Price']"
      ]
    },
    {
      "cell_type": "code",
      "source": [
        "!wget train_aspects.txt https://raw.githubusercontent.com/named-entity/hse-nlp/master/4th_year/Project/train_split_aspects.txt\n",
        "\n",
        "train_aspects = pd.read_csv('train_split_aspects.txt', sep='\\t', names=['review_id', 'category', 'span', 'span_start', 'span_end', 'sentiment'], header=None)"
      ],
      "metadata": {
        "colab": {
          "base_uri": "https://localhost:8080/"
        },
        "id": "PqlRAMpTol3q",
        "outputId": "3305e569-6b37-4eb4-cbf2-f7d96773969d"
      },
      "execution_count": null,
      "outputs": [
        {
          "output_type": "stream",
          "name": "stdout",
          "text": [
            "--2022-12-28 09:04:30--  http://train_aspects.txt/\n",
            "Resolving train_aspects.txt (train_aspects.txt)... failed: Name or service not known.\n",
            "wget: unable to resolve host address ‘train_aspects.txt’\n",
            "--2022-12-28 09:04:30--  https://raw.githubusercontent.com/named-entity/hse-nlp/master/4th_year/Project/train_split_aspects.txt\n",
            "Resolving raw.githubusercontent.com (raw.githubusercontent.com)... 185.199.108.133, 185.199.109.133, 185.199.110.133, ...\n",
            "Connecting to raw.githubusercontent.com (raw.githubusercontent.com)|185.199.108.133|:443... connected.\n",
            "HTTP request sent, awaiting response... 200 OK\n",
            "Length: 170883 (167K) [text/plain]\n",
            "Saving to: ‘train_split_aspects.txt.1’\n",
            "\n",
            "\r          train_spl   0%[                    ]       0  --.-KB/s               \rtrain_split_aspects 100%[===================>] 166.88K  --.-KB/s    in 0.004s  \n",
            "\n",
            "2022-12-28 09:04:31 (44.1 MB/s) - ‘train_split_aspects.txt.1’ saved [170883/170883]\n",
            "\n",
            "FINISHED --2022-12-28 09:04:31--\n",
            "Total wall clock time: 0.1s\n",
            "Downloaded: 1 files, 167K in 0.004s (44.1 MB/s)\n"
          ]
        }
      ]
    },
    {
      "cell_type": "code",
      "source": [
        "cat_words = train_aspects[['category', 'span']]\n",
        "cat_vectors = {}\n",
        "for category in cats:\n",
        "  count_words = 0\n",
        "  subc = cat_words.loc[cat_words['category'] == category]['span'].tolist()\n",
        "  for i in subc:\n",
        "    i = i.translate(str.maketrans('', '', punctuation))\n",
        "    i = i.lower().split()\n",
        "    for ii in i:\n",
        "      if count_words and navec.get(ii) is not None:\n",
        "        cat_vectors[category] += navec[ii]\n",
        "        count_words += 1\n",
        "      elif navec.get(ii) is not None:\n",
        "        cat_vectors[category] = navec[ii]\n",
        "        count_words += 1\n",
        "  cat_vectors[category] = cat_vectors[category] / count_words"
      ],
      "metadata": {
        "id": "f9ZixR_yoHS2"
      },
      "execution_count": null,
      "outputs": []
    },
    {
      "cell_type": "code",
      "source": [
        "from scipy.spatial.distance import cosine\n",
        "from random import choice"
      ],
      "metadata": {
        "id": "ZzPwFC3noHQi"
      },
      "execution_count": null,
      "outputs": []
    },
    {
      "cell_type": "code",
      "source": [
        "def predict_category(spans, random_if_undefined=True):\n",
        "  '''\n",
        "    Predicts list of categories based on list of strings\n",
        "  '''\n",
        "  categories = []\n",
        "  for i in spans:\n",
        "    predicted_category = None\n",
        "    i = i.translate(str.maketrans('', '', punctuation))\n",
        "    i = i.lower().split()\n",
        "    vec = None\n",
        "    count_words = 0\n",
        "    for ii in i:\n",
        "      if not count_words and navec.get(ii) is not None:\n",
        "        vec = navec[ii]\n",
        "        count_words += 1\n",
        "      elif navec.get(ii) is not None:\n",
        "        vec += navec[ii]\n",
        "        count_words += 1\n",
        "    if count_words:\n",
        "      word_vec = vec / count_words\n",
        "      similarity = -1\n",
        "      category = None\n",
        "      for cat, cat_vec in cat_vectors.items():\n",
        "          sim = 1 - cosine(cat_vec, word_vec)\n",
        "          if sim > similarity:\n",
        "            category = cat\n",
        "            similarity = sim\n",
        "    if not category and random_if_undefined:\n",
        "      category = choice(cats)\n",
        "    categories.append(category)\n",
        "\n",
        "  return categories"
      ],
      "metadata": {
        "id": "ID3_gwo9oTq_"
      },
      "execution_count": null,
      "outputs": []
    },
    {
      "cell_type": "code",
      "source": [
        "dev_aspects['predicted_category'] = predict_category(dev_aspects['span'].tolist())"
      ],
      "metadata": {
        "id": "WxeWzSNXoTnn"
      },
      "execution_count": null,
      "outputs": []
    },
    {
      "cell_type": "code",
      "source": [
        "dev_aspects"
      ],
      "metadata": {
        "colab": {
          "base_uri": "https://localhost:8080/",
          "height": 423
        },
        "id": "37nr8v96oybb",
        "outputId": "26661ee3-79df-46e7-f8f2-d4ce0d1612d4"
      },
      "execution_count": null,
      "outputs": [
        {
          "output_type": "execute_result",
          "data": {
            "text/plain": [
              "     review_id  category                             span  span_start  \\\n",
              "0        27375  Interior               ресторанчик месяца          43   \n",
              "1        27375      Food                          закуски         146   \n",
              "2        27375  Interior                        атмосфера         158   \n",
              "3        27375   Service                         персонал         181   \n",
              "4        27375   Service                          девушка         203   \n",
              "..         ...       ...                              ...         ...   \n",
              "958      37428   Service                    обслуживанием         577   \n",
              "959      37428      Food                           кальян         615   \n",
              "960      37428      Food                              еду         663   \n",
              "961      37428      Food  там ничего кроме сырной тарелки         680   \n",
              "962      37428     Whole                             кафе         723   \n",
              "\n",
              "     span_end sentiment predicted_category  \n",
              "0          61  positive              Whole  \n",
              "1         153  positive               Food  \n",
              "2         167  positive           Interior  \n",
              "3         189  positive            Service  \n",
              "4         210  positive            Service  \n",
              "..        ...       ...                ...  \n",
              "958       590  positive            Service  \n",
              "959       621  positive               Food  \n",
              "960       666   neutral               Food  \n",
              "961       711  negative               Food  \n",
              "962       727  positive              Whole  \n",
              "\n",
              "[963 rows x 7 columns]"
            ],
            "text/html": [
              "\n",
              "  <div id=\"df-799b326d-5937-4135-bb69-273249efdab7\">\n",
              "    <div class=\"colab-df-container\">\n",
              "      <div>\n",
              "<style scoped>\n",
              "    .dataframe tbody tr th:only-of-type {\n",
              "        vertical-align: middle;\n",
              "    }\n",
              "\n",
              "    .dataframe tbody tr th {\n",
              "        vertical-align: top;\n",
              "    }\n",
              "\n",
              "    .dataframe thead th {\n",
              "        text-align: right;\n",
              "    }\n",
              "</style>\n",
              "<table border=\"1\" class=\"dataframe\">\n",
              "  <thead>\n",
              "    <tr style=\"text-align: right;\">\n",
              "      <th></th>\n",
              "      <th>review_id</th>\n",
              "      <th>category</th>\n",
              "      <th>span</th>\n",
              "      <th>span_start</th>\n",
              "      <th>span_end</th>\n",
              "      <th>sentiment</th>\n",
              "      <th>predicted_category</th>\n",
              "    </tr>\n",
              "  </thead>\n",
              "  <tbody>\n",
              "    <tr>\n",
              "      <th>0</th>\n",
              "      <td>27375</td>\n",
              "      <td>Interior</td>\n",
              "      <td>ресторанчик месяца</td>\n",
              "      <td>43</td>\n",
              "      <td>61</td>\n",
              "      <td>positive</td>\n",
              "      <td>Whole</td>\n",
              "    </tr>\n",
              "    <tr>\n",
              "      <th>1</th>\n",
              "      <td>27375</td>\n",
              "      <td>Food</td>\n",
              "      <td>закуски</td>\n",
              "      <td>146</td>\n",
              "      <td>153</td>\n",
              "      <td>positive</td>\n",
              "      <td>Food</td>\n",
              "    </tr>\n",
              "    <tr>\n",
              "      <th>2</th>\n",
              "      <td>27375</td>\n",
              "      <td>Interior</td>\n",
              "      <td>атмосфера</td>\n",
              "      <td>158</td>\n",
              "      <td>167</td>\n",
              "      <td>positive</td>\n",
              "      <td>Interior</td>\n",
              "    </tr>\n",
              "    <tr>\n",
              "      <th>3</th>\n",
              "      <td>27375</td>\n",
              "      <td>Service</td>\n",
              "      <td>персонал</td>\n",
              "      <td>181</td>\n",
              "      <td>189</td>\n",
              "      <td>positive</td>\n",
              "      <td>Service</td>\n",
              "    </tr>\n",
              "    <tr>\n",
              "      <th>4</th>\n",
              "      <td>27375</td>\n",
              "      <td>Service</td>\n",
              "      <td>девушка</td>\n",
              "      <td>203</td>\n",
              "      <td>210</td>\n",
              "      <td>positive</td>\n",
              "      <td>Service</td>\n",
              "    </tr>\n",
              "    <tr>\n",
              "      <th>...</th>\n",
              "      <td>...</td>\n",
              "      <td>...</td>\n",
              "      <td>...</td>\n",
              "      <td>...</td>\n",
              "      <td>...</td>\n",
              "      <td>...</td>\n",
              "      <td>...</td>\n",
              "    </tr>\n",
              "    <tr>\n",
              "      <th>958</th>\n",
              "      <td>37428</td>\n",
              "      <td>Service</td>\n",
              "      <td>обслуживанием</td>\n",
              "      <td>577</td>\n",
              "      <td>590</td>\n",
              "      <td>positive</td>\n",
              "      <td>Service</td>\n",
              "    </tr>\n",
              "    <tr>\n",
              "      <th>959</th>\n",
              "      <td>37428</td>\n",
              "      <td>Food</td>\n",
              "      <td>кальян</td>\n",
              "      <td>615</td>\n",
              "      <td>621</td>\n",
              "      <td>positive</td>\n",
              "      <td>Food</td>\n",
              "    </tr>\n",
              "    <tr>\n",
              "      <th>960</th>\n",
              "      <td>37428</td>\n",
              "      <td>Food</td>\n",
              "      <td>еду</td>\n",
              "      <td>663</td>\n",
              "      <td>666</td>\n",
              "      <td>neutral</td>\n",
              "      <td>Food</td>\n",
              "    </tr>\n",
              "    <tr>\n",
              "      <th>961</th>\n",
              "      <td>37428</td>\n",
              "      <td>Food</td>\n",
              "      <td>там ничего кроме сырной тарелки</td>\n",
              "      <td>680</td>\n",
              "      <td>711</td>\n",
              "      <td>negative</td>\n",
              "      <td>Food</td>\n",
              "    </tr>\n",
              "    <tr>\n",
              "      <th>962</th>\n",
              "      <td>37428</td>\n",
              "      <td>Whole</td>\n",
              "      <td>кафе</td>\n",
              "      <td>723</td>\n",
              "      <td>727</td>\n",
              "      <td>positive</td>\n",
              "      <td>Whole</td>\n",
              "    </tr>\n",
              "  </tbody>\n",
              "</table>\n",
              "<p>963 rows × 7 columns</p>\n",
              "</div>\n",
              "      <button class=\"colab-df-convert\" onclick=\"convertToInteractive('df-799b326d-5937-4135-bb69-273249efdab7')\"\n",
              "              title=\"Convert this dataframe to an interactive table.\"\n",
              "              style=\"display:none;\">\n",
              "        \n",
              "  <svg xmlns=\"http://www.w3.org/2000/svg\" height=\"24px\"viewBox=\"0 0 24 24\"\n",
              "       width=\"24px\">\n",
              "    <path d=\"M0 0h24v24H0V0z\" fill=\"none\"/>\n",
              "    <path d=\"M18.56 5.44l.94 2.06.94-2.06 2.06-.94-2.06-.94-.94-2.06-.94 2.06-2.06.94zm-11 1L8.5 8.5l.94-2.06 2.06-.94-2.06-.94L8.5 2.5l-.94 2.06-2.06.94zm10 10l.94 2.06.94-2.06 2.06-.94-2.06-.94-.94-2.06-.94 2.06-2.06.94z\"/><path d=\"M17.41 7.96l-1.37-1.37c-.4-.4-.92-.59-1.43-.59-.52 0-1.04.2-1.43.59L10.3 9.45l-7.72 7.72c-.78.78-.78 2.05 0 2.83L4 21.41c.39.39.9.59 1.41.59.51 0 1.02-.2 1.41-.59l7.78-7.78 2.81-2.81c.8-.78.8-2.07 0-2.86zM5.41 20L4 18.59l7.72-7.72 1.47 1.35L5.41 20z\"/>\n",
              "  </svg>\n",
              "      </button>\n",
              "      \n",
              "  <style>\n",
              "    .colab-df-container {\n",
              "      display:flex;\n",
              "      flex-wrap:wrap;\n",
              "      gap: 12px;\n",
              "    }\n",
              "\n",
              "    .colab-df-convert {\n",
              "      background-color: #E8F0FE;\n",
              "      border: none;\n",
              "      border-radius: 50%;\n",
              "      cursor: pointer;\n",
              "      display: none;\n",
              "      fill: #1967D2;\n",
              "      height: 32px;\n",
              "      padding: 0 0 0 0;\n",
              "      width: 32px;\n",
              "    }\n",
              "\n",
              "    .colab-df-convert:hover {\n",
              "      background-color: #E2EBFA;\n",
              "      box-shadow: 0px 1px 2px rgba(60, 64, 67, 0.3), 0px 1px 3px 1px rgba(60, 64, 67, 0.15);\n",
              "      fill: #174EA6;\n",
              "    }\n",
              "\n",
              "    [theme=dark] .colab-df-convert {\n",
              "      background-color: #3B4455;\n",
              "      fill: #D2E3FC;\n",
              "    }\n",
              "\n",
              "    [theme=dark] .colab-df-convert:hover {\n",
              "      background-color: #434B5C;\n",
              "      box-shadow: 0px 1px 3px 1px rgba(0, 0, 0, 0.15);\n",
              "      filter: drop-shadow(0px 1px 2px rgba(0, 0, 0, 0.3));\n",
              "      fill: #FFFFFF;\n",
              "    }\n",
              "  </style>\n",
              "\n",
              "      <script>\n",
              "        const buttonEl =\n",
              "          document.querySelector('#df-799b326d-5937-4135-bb69-273249efdab7 button.colab-df-convert');\n",
              "        buttonEl.style.display =\n",
              "          google.colab.kernel.accessAllowed ? 'block' : 'none';\n",
              "\n",
              "        async function convertToInteractive(key) {\n",
              "          const element = document.querySelector('#df-799b326d-5937-4135-bb69-273249efdab7');\n",
              "          const dataTable =\n",
              "            await google.colab.kernel.invokeFunction('convertToInteractive',\n",
              "                                                     [key], {});\n",
              "          if (!dataTable) return;\n",
              "\n",
              "          const docLinkHtml = 'Like what you see? Visit the ' +\n",
              "            '<a target=\"_blank\" href=https://colab.research.google.com/notebooks/data_table.ipynb>data table notebook</a>'\n",
              "            + ' to learn more about interactive tables.';\n",
              "          element.innerHTML = '';\n",
              "          dataTable['output_type'] = 'display_data';\n",
              "          await google.colab.output.renderOutput(dataTable, element);\n",
              "          const docLink = document.createElement('div');\n",
              "          docLink.innerHTML = docLinkHtml;\n",
              "          element.appendChild(docLink);\n",
              "        }\n",
              "      </script>\n",
              "    </div>\n",
              "  </div>\n",
              "  "
            ]
          },
          "metadata": {},
          "execution_count": 56
        }
      ]
    },
    {
      "cell_type": "code",
      "source": [
        "print('accuracy of category prediction:')\n",
        "sum(1 for x,y in zip(dev_aspects['category'].tolist(),dev_aspects['predicted_category'].tolist()) if x == y) / float(len(dev_aspects['category'].tolist()))"
      ],
      "metadata": {
        "colab": {
          "base_uri": "https://localhost:8080/"
        },
        "id": "gsRbmqZ5urf-",
        "outputId": "e1902a9d-5d95-4565-d227-93d6ed5b0bc6"
      },
      "execution_count": null,
      "outputs": [
        {
          "output_type": "stream",
          "name": "stdout",
          "text": [
            "accuracy of category prediction:\n"
          ]
        },
        {
          "output_type": "execute_result",
          "data": {
            "text/plain": [
              "0.8566978193146417"
            ]
          },
          "metadata": {},
          "execution_count": 57
        }
      ]
    },
    {
      "cell_type": "code",
      "source": [
        "from collections import Counter"
      ],
      "metadata": {
        "id": "1Q8JeGHUdas0"
      },
      "execution_count": null,
      "outputs": []
    },
    {
      "cell_type": "code",
      "source": [
        "def get_overall_tone(final_df, arbitrary_if_uncertain=False):\n",
        "\n",
        "  cumulative_tone = pd.DataFrame(columns=['review_id', 'category', 'sentiment'])\n",
        "  \n",
        "  prev_review = 0\n",
        "  cur_cats = {cat:False for cat in cats}\n",
        "  for i in dev_aspects.groupby(['review_id', 'category'])['sentiment']:\n",
        "    row = i[0]\n",
        "    cur_review = row[0]\n",
        "    contenders = Counter(i[1]).most_common(2)\n",
        "    if prev_review != cur_review and prev_review:\n",
        "      # print(prev_review, cur_review, cur_cats)\n",
        "      for cat, val in cur_cats.items():\n",
        "        if val is False:\n",
        "          cumulative_tone.loc[len(cumulative_tone)] = [prev_review, cat, 'absence']\n",
        "      cur_cats = {cat:False for cat in cats}\n",
        "    if len(contenders) == 1 or arbitrary_if_uncertain:\n",
        "      cumulative_tone.loc[len(cumulative_tone)] = list(row) + [contenders[0][0]]\n",
        "    else:\n",
        "      cumulative_tone.loc[len(cumulative_tone)] = list(row) + ['both']\n",
        "    prev_review = cur_review\n",
        "    cur_cats[row[1]] = True\n",
        "\n",
        "  return cumulative_tone"
      ],
      "metadata": {
        "id": "l6Dd4TrIpaf-"
      },
      "execution_count": null,
      "outputs": []
    },
    {
      "cell_type": "code",
      "source": [
        "get_overall_tone(dev_aspects)"
      ],
      "metadata": {
        "colab": {
          "base_uri": "https://localhost:8080/",
          "height": 423
        },
        "id": "TUXbCt2fpcKf",
        "outputId": "f8809e1b-784f-4dc6-f902-f09ccbce1927"
      },
      "execution_count": null,
      "outputs": [
        {
          "output_type": "execute_result",
          "data": {
            "text/plain": [
              "    review_id  category  sentiment\n",
              "0         280      Food   positive\n",
              "1         280  Interior   positive\n",
              "2         280   Service   positive\n",
              "3         280     Whole  uncertain\n",
              "4         343      Food  uncertain\n",
              "..        ...       ...        ...\n",
              "279     38299     Whole   positive\n",
              "280     38772      Food   positive\n",
              "281     38772  Interior   positive\n",
              "282     38772   Service  uncertain\n",
              "283     38772     Whole  uncertain\n",
              "\n",
              "[284 rows x 3 columns]"
            ],
            "text/html": [
              "\n",
              "  <div id=\"df-0eb0b09c-8c49-4e3e-9229-c1ca2e2053b6\">\n",
              "    <div class=\"colab-df-container\">\n",
              "      <div>\n",
              "<style scoped>\n",
              "    .dataframe tbody tr th:only-of-type {\n",
              "        vertical-align: middle;\n",
              "    }\n",
              "\n",
              "    .dataframe tbody tr th {\n",
              "        vertical-align: top;\n",
              "    }\n",
              "\n",
              "    .dataframe thead th {\n",
              "        text-align: right;\n",
              "    }\n",
              "</style>\n",
              "<table border=\"1\" class=\"dataframe\">\n",
              "  <thead>\n",
              "    <tr style=\"text-align: right;\">\n",
              "      <th></th>\n",
              "      <th>review_id</th>\n",
              "      <th>category</th>\n",
              "      <th>sentiment</th>\n",
              "    </tr>\n",
              "  </thead>\n",
              "  <tbody>\n",
              "    <tr>\n",
              "      <th>0</th>\n",
              "      <td>280</td>\n",
              "      <td>Food</td>\n",
              "      <td>positive</td>\n",
              "    </tr>\n",
              "    <tr>\n",
              "      <th>1</th>\n",
              "      <td>280</td>\n",
              "      <td>Interior</td>\n",
              "      <td>positive</td>\n",
              "    </tr>\n",
              "    <tr>\n",
              "      <th>2</th>\n",
              "      <td>280</td>\n",
              "      <td>Service</td>\n",
              "      <td>positive</td>\n",
              "    </tr>\n",
              "    <tr>\n",
              "      <th>3</th>\n",
              "      <td>280</td>\n",
              "      <td>Whole</td>\n",
              "      <td>uncertain</td>\n",
              "    </tr>\n",
              "    <tr>\n",
              "      <th>4</th>\n",
              "      <td>343</td>\n",
              "      <td>Food</td>\n",
              "      <td>uncertain</td>\n",
              "    </tr>\n",
              "    <tr>\n",
              "      <th>...</th>\n",
              "      <td>...</td>\n",
              "      <td>...</td>\n",
              "      <td>...</td>\n",
              "    </tr>\n",
              "    <tr>\n",
              "      <th>279</th>\n",
              "      <td>38299</td>\n",
              "      <td>Whole</td>\n",
              "      <td>positive</td>\n",
              "    </tr>\n",
              "    <tr>\n",
              "      <th>280</th>\n",
              "      <td>38772</td>\n",
              "      <td>Food</td>\n",
              "      <td>positive</td>\n",
              "    </tr>\n",
              "    <tr>\n",
              "      <th>281</th>\n",
              "      <td>38772</td>\n",
              "      <td>Interior</td>\n",
              "      <td>positive</td>\n",
              "    </tr>\n",
              "    <tr>\n",
              "      <th>282</th>\n",
              "      <td>38772</td>\n",
              "      <td>Service</td>\n",
              "      <td>uncertain</td>\n",
              "    </tr>\n",
              "    <tr>\n",
              "      <th>283</th>\n",
              "      <td>38772</td>\n",
              "      <td>Whole</td>\n",
              "      <td>uncertain</td>\n",
              "    </tr>\n",
              "  </tbody>\n",
              "</table>\n",
              "<p>284 rows × 3 columns</p>\n",
              "</div>\n",
              "      <button class=\"colab-df-convert\" onclick=\"convertToInteractive('df-0eb0b09c-8c49-4e3e-9229-c1ca2e2053b6')\"\n",
              "              title=\"Convert this dataframe to an interactive table.\"\n",
              "              style=\"display:none;\">\n",
              "        \n",
              "  <svg xmlns=\"http://www.w3.org/2000/svg\" height=\"24px\"viewBox=\"0 0 24 24\"\n",
              "       width=\"24px\">\n",
              "    <path d=\"M0 0h24v24H0V0z\" fill=\"none\"/>\n",
              "    <path d=\"M18.56 5.44l.94 2.06.94-2.06 2.06-.94-2.06-.94-.94-2.06-.94 2.06-2.06.94zm-11 1L8.5 8.5l.94-2.06 2.06-.94-2.06-.94L8.5 2.5l-.94 2.06-2.06.94zm10 10l.94 2.06.94-2.06 2.06-.94-2.06-.94-.94-2.06-.94 2.06-2.06.94z\"/><path d=\"M17.41 7.96l-1.37-1.37c-.4-.4-.92-.59-1.43-.59-.52 0-1.04.2-1.43.59L10.3 9.45l-7.72 7.72c-.78.78-.78 2.05 0 2.83L4 21.41c.39.39.9.59 1.41.59.51 0 1.02-.2 1.41-.59l7.78-7.78 2.81-2.81c.8-.78.8-2.07 0-2.86zM5.41 20L4 18.59l7.72-7.72 1.47 1.35L5.41 20z\"/>\n",
              "  </svg>\n",
              "      </button>\n",
              "      \n",
              "  <style>\n",
              "    .colab-df-container {\n",
              "      display:flex;\n",
              "      flex-wrap:wrap;\n",
              "      gap: 12px;\n",
              "    }\n",
              "\n",
              "    .colab-df-convert {\n",
              "      background-color: #E8F0FE;\n",
              "      border: none;\n",
              "      border-radius: 50%;\n",
              "      cursor: pointer;\n",
              "      display: none;\n",
              "      fill: #1967D2;\n",
              "      height: 32px;\n",
              "      padding: 0 0 0 0;\n",
              "      width: 32px;\n",
              "    }\n",
              "\n",
              "    .colab-df-convert:hover {\n",
              "      background-color: #E2EBFA;\n",
              "      box-shadow: 0px 1px 2px rgba(60, 64, 67, 0.3), 0px 1px 3px 1px rgba(60, 64, 67, 0.15);\n",
              "      fill: #174EA6;\n",
              "    }\n",
              "\n",
              "    [theme=dark] .colab-df-convert {\n",
              "      background-color: #3B4455;\n",
              "      fill: #D2E3FC;\n",
              "    }\n",
              "\n",
              "    [theme=dark] .colab-df-convert:hover {\n",
              "      background-color: #434B5C;\n",
              "      box-shadow: 0px 1px 3px 1px rgba(0, 0, 0, 0.15);\n",
              "      filter: drop-shadow(0px 1px 2px rgba(0, 0, 0, 0.3));\n",
              "      fill: #FFFFFF;\n",
              "    }\n",
              "  </style>\n",
              "\n",
              "      <script>\n",
              "        const buttonEl =\n",
              "          document.querySelector('#df-0eb0b09c-8c49-4e3e-9229-c1ca2e2053b6 button.colab-df-convert');\n",
              "        buttonEl.style.display =\n",
              "          google.colab.kernel.accessAllowed ? 'block' : 'none';\n",
              "\n",
              "        async function convertToInteractive(key) {\n",
              "          const element = document.querySelector('#df-0eb0b09c-8c49-4e3e-9229-c1ca2e2053b6');\n",
              "          const dataTable =\n",
              "            await google.colab.kernel.invokeFunction('convertToInteractive',\n",
              "                                                     [key], {});\n",
              "          if (!dataTable) return;\n",
              "\n",
              "          const docLinkHtml = 'Like what you see? Visit the ' +\n",
              "            '<a target=\"_blank\" href=https://colab.research.google.com/notebooks/data_table.ipynb>data table notebook</a>'\n",
              "            + ' to learn more about interactive tables.';\n",
              "          element.innerHTML = '';\n",
              "          dataTable['output_type'] = 'display_data';\n",
              "          await google.colab.output.renderOutput(dataTable, element);\n",
              "          const docLink = document.createElement('div');\n",
              "          docLink.innerHTML = docLinkHtml;\n",
              "          element.appendChild(docLink);\n",
              "        }\n",
              "      </script>\n",
              "    </div>\n",
              "  </div>\n",
              "  "
            ]
          },
          "metadata": {},
          "execution_count": 60
        }
      ]
    },
    {
      "cell_type": "code",
      "source": [
        "out = get_overall_tone(dev_aspects)"
      ],
      "metadata": {
        "id": "EjHWcMQk-_TE"
      },
      "execution_count": null,
      "outputs": []
    },
    {
      "cell_type": "code",
      "source": [
        "out.to_csv('dev_pred_categories.txt', sep='\\t', header=False, index=False)"
      ],
      "metadata": {
        "id": "0OcTJEMz-4ux"
      },
      "execution_count": null,
      "outputs": []
    }
  ]
}